{
 "cells": [
  {
   "cell_type": "markdown",
   "metadata": {},
   "source": [
    "# <center> Microlocal analysis of the convolutional ReLU layers in LPD </center>"
   ]
  },
  {
   "cell_type": "markdown",
   "metadata": {},
   "source": [
    "## Utilitary libraries"
   ]
  },
  {
   "cell_type": "code",
   "execution_count": 1,
   "metadata": {},
   "outputs": [],
   "source": [
    "%matplotlib inline\n",
    "import os\n",
    "os.environ[\"CUDA_VISIBLE_DEVICES\"]=\"0\""
   ]
  },
  {
   "cell_type": "code",
   "execution_count": 2,
   "metadata": {},
   "outputs": [],
   "source": [
    "import sys\n",
    "sys.path.append(\"../../WF_inpaint/\")"
   ]
  },
  {
   "cell_type": "code",
   "execution_count": 3,
   "metadata": {},
   "outputs": [
    {
     "name": "stderr",
     "output_type": "stream",
     "text": [
      "../../WF_inpaint/data/data_factory.py:7: UserWarning: \n",
      "This call to matplotlib.use() has no effect because the backend has already\n",
      "been chosen; matplotlib.use() must be called *before* pylab, matplotlib.pyplot,\n",
      "or matplotlib.backends is imported for the first time.\n",
      "\n",
      "The backend was *originally* set to 'module://ipykernel.pylab.backend_inline' by the following code:\n",
      "  File \"/homes/extern/andrade/store/miniconda3/envs/tf_gpu/lib/python3.6/runpy.py\", line 193, in _run_module_as_main\n",
      "    \"__main__\", mod_spec)\n",
      "  File \"/homes/extern/andrade/store/miniconda3/envs/tf_gpu/lib/python3.6/runpy.py\", line 85, in _run_code\n",
      "    exec(code, run_globals)\n",
      "  File \"/homes/extern/andrade/store/miniconda3/envs/tf_gpu/lib/python3.6/site-packages/ipykernel_launcher.py\", line 16, in <module>\n",
      "    app.launch_new_instance()\n",
      "  File \"/homes/extern/andrade/store/miniconda3/envs/tf_gpu/lib/python3.6/site-packages/traitlets/config/application.py\", line 658, in launch_instance\n",
      "    app.start()\n",
      "  File \"/homes/extern/andrade/store/miniconda3/envs/tf_gpu/lib/python3.6/site-packages/ipykernel/kernelapp.py\", line 505, in start\n",
      "    self.io_loop.start()\n",
      "  File \"/homes/extern/andrade/store/miniconda3/envs/tf_gpu/lib/python3.6/site-packages/tornado/platform/asyncio.py\", line 132, in start\n",
      "    self.asyncio_loop.run_forever()\n",
      "  File \"/homes/extern/andrade/store/miniconda3/envs/tf_gpu/lib/python3.6/asyncio/base_events.py\", line 438, in run_forever\n",
      "    self._run_once()\n",
      "  File \"/homes/extern/andrade/store/miniconda3/envs/tf_gpu/lib/python3.6/asyncio/base_events.py\", line 1451, in _run_once\n",
      "    handle._run()\n",
      "  File \"/homes/extern/andrade/store/miniconda3/envs/tf_gpu/lib/python3.6/asyncio/events.py\", line 145, in _run\n",
      "    self._callback(*self._args)\n",
      "  File \"/homes/extern/andrade/store/miniconda3/envs/tf_gpu/lib/python3.6/site-packages/tornado/ioloop.py\", line 758, in _run_callback\n",
      "    ret = callback()\n",
      "  File \"/homes/extern/andrade/store/miniconda3/envs/tf_gpu/lib/python3.6/site-packages/tornado/stack_context.py\", line 300, in null_wrapper\n",
      "    return fn(*args, **kwargs)\n",
      "  File \"/homes/extern/andrade/store/miniconda3/envs/tf_gpu/lib/python3.6/site-packages/tornado/gen.py\", line 1233, in inner\n",
      "    self.run()\n",
      "  File \"/homes/extern/andrade/store/miniconda3/envs/tf_gpu/lib/python3.6/site-packages/tornado/gen.py\", line 1147, in run\n",
      "    yielded = self.gen.send(value)\n",
      "  File \"/homes/extern/andrade/store/miniconda3/envs/tf_gpu/lib/python3.6/site-packages/ipykernel/kernelbase.py\", line 357, in process_one\n",
      "    yield gen.maybe_future(dispatch(*args))\n",
      "  File \"/homes/extern/andrade/store/miniconda3/envs/tf_gpu/lib/python3.6/site-packages/tornado/gen.py\", line 326, in wrapper\n",
      "    yielded = next(result)\n",
      "  File \"/homes/extern/andrade/store/miniconda3/envs/tf_gpu/lib/python3.6/site-packages/ipykernel/kernelbase.py\", line 267, in dispatch_shell\n",
      "    yield gen.maybe_future(handler(stream, idents, msg))\n",
      "  File \"/homes/extern/andrade/store/miniconda3/envs/tf_gpu/lib/python3.6/site-packages/tornado/gen.py\", line 326, in wrapper\n",
      "    yielded = next(result)\n",
      "  File \"/homes/extern/andrade/store/miniconda3/envs/tf_gpu/lib/python3.6/site-packages/ipykernel/kernelbase.py\", line 534, in execute_request\n",
      "    user_expressions, allow_stdin,\n",
      "  File \"/homes/extern/andrade/store/miniconda3/envs/tf_gpu/lib/python3.6/site-packages/tornado/gen.py\", line 326, in wrapper\n",
      "    yielded = next(result)\n",
      "  File \"/homes/extern/andrade/store/miniconda3/envs/tf_gpu/lib/python3.6/site-packages/ipykernel/ipkernel.py\", line 294, in do_execute\n",
      "    res = shell.run_cell(code, store_history=store_history, silent=silent)\n",
      "  File \"/homes/extern/andrade/store/miniconda3/envs/tf_gpu/lib/python3.6/site-packages/ipykernel/zmqshell.py\", line 536, in run_cell\n",
      "    return super(ZMQInteractiveShell, self).run_cell(*args, **kwargs)\n",
      "  File \"/homes/extern/andrade/store/miniconda3/envs/tf_gpu/lib/python3.6/site-packages/IPython/core/interactiveshell.py\", line 2823, in run_cell\n",
      "    self.events.trigger('post_run_cell', result)\n",
      "  File \"/homes/extern/andrade/store/miniconda3/envs/tf_gpu/lib/python3.6/site-packages/IPython/core/events.py\", line 88, in trigger\n",
      "    func(*args, **kwargs)\n",
      "  File \"/homes/extern/andrade/store/miniconda3/envs/tf_gpu/lib/python3.6/site-packages/ipykernel/pylab/backend_inline.py\", line 164, in configure_once\n",
      "    activate_matplotlib(backend)\n",
      "  File \"/homes/extern/andrade/store/miniconda3/envs/tf_gpu/lib/python3.6/site-packages/IPython/core/pylabtools.py\", line 314, in activate_matplotlib\n",
      "    matplotlib.pyplot.switch_backend(backend)\n",
      "  File \"/homes/extern/andrade/store/miniconda3/envs/tf_gpu/lib/python3.6/site-packages/matplotlib/pyplot.py\", line 231, in switch_backend\n",
      "    matplotlib.use(newbackend, warn=False, force=True)\n",
      "  File \"/homes/extern/andrade/store/miniconda3/envs/tf_gpu/lib/python3.6/site-packages/matplotlib/__init__.py\", line 1410, in use\n",
      "    reload(sys.modules['matplotlib.backends'])\n",
      "  File \"/homes/extern/andrade/store/miniconda3/envs/tf_gpu/lib/python3.6/importlib/__init__.py\", line 166, in reload\n",
      "    _bootstrap._exec(spec, module)\n",
      "  File \"/homes/extern/andrade/store/miniconda3/envs/tf_gpu/lib/python3.6/site-packages/matplotlib/backends/__init__.py\", line 16, in <module>\n",
      "    line for line in traceback.format_stack()\n",
      "\n",
      "\n",
      "  matplotlib.use('Agg')\n",
      "../../WF_inpaint/ellipse/ellipseWF_factory.py:9: UserWarning: \n",
      "This call to matplotlib.use() has no effect because the backend has already\n",
      "been chosen; matplotlib.use() must be called *before* pylab, matplotlib.pyplot,\n",
      "or matplotlib.backends is imported for the first time.\n",
      "\n",
      "The backend was *originally* set to 'module://ipykernel.pylab.backend_inline' by the following code:\n",
      "  File \"/homes/extern/andrade/store/miniconda3/envs/tf_gpu/lib/python3.6/runpy.py\", line 193, in _run_module_as_main\n",
      "    \"__main__\", mod_spec)\n",
      "  File \"/homes/extern/andrade/store/miniconda3/envs/tf_gpu/lib/python3.6/runpy.py\", line 85, in _run_code\n",
      "    exec(code, run_globals)\n",
      "  File \"/homes/extern/andrade/store/miniconda3/envs/tf_gpu/lib/python3.6/site-packages/ipykernel_launcher.py\", line 16, in <module>\n",
      "    app.launch_new_instance()\n",
      "  File \"/homes/extern/andrade/store/miniconda3/envs/tf_gpu/lib/python3.6/site-packages/traitlets/config/application.py\", line 658, in launch_instance\n",
      "    app.start()\n",
      "  File \"/homes/extern/andrade/store/miniconda3/envs/tf_gpu/lib/python3.6/site-packages/ipykernel/kernelapp.py\", line 505, in start\n",
      "    self.io_loop.start()\n",
      "  File \"/homes/extern/andrade/store/miniconda3/envs/tf_gpu/lib/python3.6/site-packages/tornado/platform/asyncio.py\", line 132, in start\n",
      "    self.asyncio_loop.run_forever()\n",
      "  File \"/homes/extern/andrade/store/miniconda3/envs/tf_gpu/lib/python3.6/asyncio/base_events.py\", line 438, in run_forever\n",
      "    self._run_once()\n",
      "  File \"/homes/extern/andrade/store/miniconda3/envs/tf_gpu/lib/python3.6/asyncio/base_events.py\", line 1451, in _run_once\n",
      "    handle._run()\n",
      "  File \"/homes/extern/andrade/store/miniconda3/envs/tf_gpu/lib/python3.6/asyncio/events.py\", line 145, in _run\n",
      "    self._callback(*self._args)\n",
      "  File \"/homes/extern/andrade/store/miniconda3/envs/tf_gpu/lib/python3.6/site-packages/tornado/ioloop.py\", line 758, in _run_callback\n",
      "    ret = callback()\n",
      "  File \"/homes/extern/andrade/store/miniconda3/envs/tf_gpu/lib/python3.6/site-packages/tornado/stack_context.py\", line 300, in null_wrapper\n",
      "    return fn(*args, **kwargs)\n",
      "  File \"/homes/extern/andrade/store/miniconda3/envs/tf_gpu/lib/python3.6/site-packages/tornado/gen.py\", line 1233, in inner\n",
      "    self.run()\n",
      "  File \"/homes/extern/andrade/store/miniconda3/envs/tf_gpu/lib/python3.6/site-packages/tornado/gen.py\", line 1147, in run\n",
      "    yielded = self.gen.send(value)\n",
      "  File \"/homes/extern/andrade/store/miniconda3/envs/tf_gpu/lib/python3.6/site-packages/ipykernel/kernelbase.py\", line 357, in process_one\n",
      "    yield gen.maybe_future(dispatch(*args))\n",
      "  File \"/homes/extern/andrade/store/miniconda3/envs/tf_gpu/lib/python3.6/site-packages/tornado/gen.py\", line 326, in wrapper\n",
      "    yielded = next(result)\n",
      "  File \"/homes/extern/andrade/store/miniconda3/envs/tf_gpu/lib/python3.6/site-packages/ipykernel/kernelbase.py\", line 267, in dispatch_shell\n",
      "    yield gen.maybe_future(handler(stream, idents, msg))\n",
      "  File \"/homes/extern/andrade/store/miniconda3/envs/tf_gpu/lib/python3.6/site-packages/tornado/gen.py\", line 326, in wrapper\n",
      "    yielded = next(result)\n",
      "  File \"/homes/extern/andrade/store/miniconda3/envs/tf_gpu/lib/python3.6/site-packages/ipykernel/kernelbase.py\", line 534, in execute_request\n",
      "    user_expressions, allow_stdin,\n",
      "  File \"/homes/extern/andrade/store/miniconda3/envs/tf_gpu/lib/python3.6/site-packages/tornado/gen.py\", line 326, in wrapper\n",
      "    yielded = next(result)\n",
      "  File \"/homes/extern/andrade/store/miniconda3/envs/tf_gpu/lib/python3.6/site-packages/ipykernel/ipkernel.py\", line 294, in do_execute\n",
      "    res = shell.run_cell(code, store_history=store_history, silent=silent)\n",
      "  File \"/homes/extern/andrade/store/miniconda3/envs/tf_gpu/lib/python3.6/site-packages/ipykernel/zmqshell.py\", line 536, in run_cell\n",
      "    return super(ZMQInteractiveShell, self).run_cell(*args, **kwargs)\n",
      "  File \"/homes/extern/andrade/store/miniconda3/envs/tf_gpu/lib/python3.6/site-packages/IPython/core/interactiveshell.py\", line 2823, in run_cell\n",
      "    self.events.trigger('post_run_cell', result)\n",
      "  File \"/homes/extern/andrade/store/miniconda3/envs/tf_gpu/lib/python3.6/site-packages/IPython/core/events.py\", line 88, in trigger\n",
      "    func(*args, **kwargs)\n",
      "  File \"/homes/extern/andrade/store/miniconda3/envs/tf_gpu/lib/python3.6/site-packages/ipykernel/pylab/backend_inline.py\", line 164, in configure_once\n",
      "    activate_matplotlib(backend)\n",
      "  File \"/homes/extern/andrade/store/miniconda3/envs/tf_gpu/lib/python3.6/site-packages/IPython/core/pylabtools.py\", line 314, in activate_matplotlib\n",
      "    matplotlib.pyplot.switch_backend(backend)\n",
      "  File \"/homes/extern/andrade/store/miniconda3/envs/tf_gpu/lib/python3.6/site-packages/matplotlib/pyplot.py\", line 231, in switch_backend\n",
      "    matplotlib.use(newbackend, warn=False, force=True)\n",
      "  File \"/homes/extern/andrade/store/miniconda3/envs/tf_gpu/lib/python3.6/site-packages/matplotlib/__init__.py\", line 1410, in use\n",
      "    reload(sys.modules['matplotlib.backends'])\n",
      "  File \"/homes/extern/andrade/store/miniconda3/envs/tf_gpu/lib/python3.6/importlib/__init__.py\", line 166, in reload\n",
      "    _bootstrap._exec(spec, module)\n",
      "  File \"/homes/extern/andrade/store/miniconda3/envs/tf_gpu/lib/python3.6/site-packages/matplotlib/backends/__init__.py\", line 16, in <module>\n",
      "    line for line in traceback.format_stack()\n",
      "\n",
      "\n",
      "  matplotlib.use('Agg')\n"
     ]
    },
    {
     "name": "stderr",
     "output_type": "stream",
     "text": [
      "../../WF_inpaint/realphantom/realphantomWF_factory.py:9: UserWarning: \n",
      "This call to matplotlib.use() has no effect because the backend has already\n",
      "been chosen; matplotlib.use() must be called *before* pylab, matplotlib.pyplot,\n",
      "or matplotlib.backends is imported for the first time.\n",
      "\n",
      "The backend was *originally* set to 'module://ipykernel.pylab.backend_inline' by the following code:\n",
      "  File \"/homes/extern/andrade/store/miniconda3/envs/tf_gpu/lib/python3.6/runpy.py\", line 193, in _run_module_as_main\n",
      "    \"__main__\", mod_spec)\n",
      "  File \"/homes/extern/andrade/store/miniconda3/envs/tf_gpu/lib/python3.6/runpy.py\", line 85, in _run_code\n",
      "    exec(code, run_globals)\n",
      "  File \"/homes/extern/andrade/store/miniconda3/envs/tf_gpu/lib/python3.6/site-packages/ipykernel_launcher.py\", line 16, in <module>\n",
      "    app.launch_new_instance()\n",
      "  File \"/homes/extern/andrade/store/miniconda3/envs/tf_gpu/lib/python3.6/site-packages/traitlets/config/application.py\", line 658, in launch_instance\n",
      "    app.start()\n",
      "  File \"/homes/extern/andrade/store/miniconda3/envs/tf_gpu/lib/python3.6/site-packages/ipykernel/kernelapp.py\", line 505, in start\n",
      "    self.io_loop.start()\n",
      "  File \"/homes/extern/andrade/store/miniconda3/envs/tf_gpu/lib/python3.6/site-packages/tornado/platform/asyncio.py\", line 132, in start\n",
      "    self.asyncio_loop.run_forever()\n",
      "  File \"/homes/extern/andrade/store/miniconda3/envs/tf_gpu/lib/python3.6/asyncio/base_events.py\", line 438, in run_forever\n",
      "    self._run_once()\n",
      "  File \"/homes/extern/andrade/store/miniconda3/envs/tf_gpu/lib/python3.6/asyncio/base_events.py\", line 1451, in _run_once\n",
      "    handle._run()\n",
      "  File \"/homes/extern/andrade/store/miniconda3/envs/tf_gpu/lib/python3.6/asyncio/events.py\", line 145, in _run\n",
      "    self._callback(*self._args)\n",
      "  File \"/homes/extern/andrade/store/miniconda3/envs/tf_gpu/lib/python3.6/site-packages/tornado/ioloop.py\", line 758, in _run_callback\n",
      "    ret = callback()\n",
      "  File \"/homes/extern/andrade/store/miniconda3/envs/tf_gpu/lib/python3.6/site-packages/tornado/stack_context.py\", line 300, in null_wrapper\n",
      "    return fn(*args, **kwargs)\n",
      "  File \"/homes/extern/andrade/store/miniconda3/envs/tf_gpu/lib/python3.6/site-packages/tornado/gen.py\", line 1233, in inner\n",
      "    self.run()\n",
      "  File \"/homes/extern/andrade/store/miniconda3/envs/tf_gpu/lib/python3.6/site-packages/tornado/gen.py\", line 1147, in run\n",
      "    yielded = self.gen.send(value)\n",
      "  File \"/homes/extern/andrade/store/miniconda3/envs/tf_gpu/lib/python3.6/site-packages/ipykernel/kernelbase.py\", line 357, in process_one\n",
      "    yield gen.maybe_future(dispatch(*args))\n",
      "  File \"/homes/extern/andrade/store/miniconda3/envs/tf_gpu/lib/python3.6/site-packages/tornado/gen.py\", line 326, in wrapper\n",
      "    yielded = next(result)\n",
      "  File \"/homes/extern/andrade/store/miniconda3/envs/tf_gpu/lib/python3.6/site-packages/ipykernel/kernelbase.py\", line 267, in dispatch_shell\n",
      "    yield gen.maybe_future(handler(stream, idents, msg))\n",
      "  File \"/homes/extern/andrade/store/miniconda3/envs/tf_gpu/lib/python3.6/site-packages/tornado/gen.py\", line 326, in wrapper\n",
      "    yielded = next(result)\n",
      "  File \"/homes/extern/andrade/store/miniconda3/envs/tf_gpu/lib/python3.6/site-packages/ipykernel/kernelbase.py\", line 534, in execute_request\n",
      "    user_expressions, allow_stdin,\n",
      "  File \"/homes/extern/andrade/store/miniconda3/envs/tf_gpu/lib/python3.6/site-packages/tornado/gen.py\", line 326, in wrapper\n",
      "    yielded = next(result)\n",
      "  File \"/homes/extern/andrade/store/miniconda3/envs/tf_gpu/lib/python3.6/site-packages/ipykernel/ipkernel.py\", line 294, in do_execute\n",
      "    res = shell.run_cell(code, store_history=store_history, silent=silent)\n",
      "  File \"/homes/extern/andrade/store/miniconda3/envs/tf_gpu/lib/python3.6/site-packages/ipykernel/zmqshell.py\", line 536, in run_cell\n",
      "    return super(ZMQInteractiveShell, self).run_cell(*args, **kwargs)\n",
      "  File \"/homes/extern/andrade/store/miniconda3/envs/tf_gpu/lib/python3.6/site-packages/IPython/core/interactiveshell.py\", line 2823, in run_cell\n",
      "    self.events.trigger('post_run_cell', result)\n",
      "  File \"/homes/extern/andrade/store/miniconda3/envs/tf_gpu/lib/python3.6/site-packages/IPython/core/events.py\", line 88, in trigger\n",
      "    func(*args, **kwargs)\n",
      "  File \"/homes/extern/andrade/store/miniconda3/envs/tf_gpu/lib/python3.6/site-packages/ipykernel/pylab/backend_inline.py\", line 164, in configure_once\n",
      "    activate_matplotlib(backend)\n",
      "  File \"/homes/extern/andrade/store/miniconda3/envs/tf_gpu/lib/python3.6/site-packages/IPython/core/pylabtools.py\", line 314, in activate_matplotlib\n",
      "    matplotlib.pyplot.switch_backend(backend)\n",
      "  File \"/homes/extern/andrade/store/miniconda3/envs/tf_gpu/lib/python3.6/site-packages/matplotlib/pyplot.py\", line 231, in switch_backend\n",
      "    matplotlib.use(newbackend, warn=False, force=True)\n",
      "  File \"/homes/extern/andrade/store/miniconda3/envs/tf_gpu/lib/python3.6/site-packages/matplotlib/__init__.py\", line 1410, in use\n",
      "    reload(sys.modules['matplotlib.backends'])\n",
      "  File \"/homes/extern/andrade/store/miniconda3/envs/tf_gpu/lib/python3.6/importlib/__init__.py\", line 166, in reload\n",
      "    _bootstrap._exec(spec, module)\n",
      "  File \"/homes/extern/andrade/store/miniconda3/envs/tf_gpu/lib/python3.6/site-packages/matplotlib/backends/__init__.py\", line 16, in <module>\n",
      "    line for line in traceback.format_stack()\n",
      "\n",
      "\n",
      "  matplotlib.use('Agg')\n"
     ]
    }
   ],
   "source": [
    "# Import the needed modules\n",
    "from data.data_factory import random_realphantom\n",
    "from ellipse.ellipseWF_factory import plot_WF, WFupdate, WFupdate_sino\n",
    "\n",
    "import matplotlib.pyplot as plt\n",
    "import numpy.random as rnd\n",
    "import numpy as np\n",
    "import odl\n",
    "import matplotlib.pyplot as plt"
   ]
  },
  {
   "cell_type": "code",
   "execution_count": 4,
   "metadata": {},
   "outputs": [
    {
     "name": "stdout",
     "output_type": "stream",
     "text": [
      "Warning, GPU setup must happen before importing ASTRA\n",
      "Picking GPU 0\n"
     ]
    }
   ],
   "source": [
    "import os\n",
    "import adler\n",
    "adler.util.gpu.setup_one_gpu(0)"
   ]
  },
  {
   "cell_type": "code",
   "execution_count": 5,
   "metadata": {},
   "outputs": [],
   "source": [
    "from adler.odl.phantom import random_phantom\n",
    "from adler.tensorflow import prelu, cosine_decay"
   ]
  },
  {
   "cell_type": "code",
   "execution_count": 6,
   "metadata": {},
   "outputs": [],
   "source": [
    "import tensorflow as tf\n",
    "import numpy as np\n",
    "import odl\n",
    "import odl.contrib.tensorflow"
   ]
  },
  {
   "cell_type": "code",
   "execution_count": 7,
   "metadata": {},
   "outputs": [],
   "source": [
    "np.random.seed(0)\n",
    "#name = os.path.splitext(os.path.basename(__file__))[0]\n",
    "name = os.path.splitext(os.getcwd())[0]+'/checkpoints'"
   ]
  },
  {
   "cell_type": "code",
   "execution_count": 8,
   "metadata": {},
   "outputs": [],
   "source": [
    "sess = tf.InteractiveSession()"
   ]
  },
  {
   "cell_type": "markdown",
   "metadata": {},
   "source": [
    "## Radon transform"
   ]
  },
  {
   "cell_type": "code",
   "execution_count": 9,
   "metadata": {},
   "outputs": [],
   "source": [
    "size = 256\n",
    "lowd = 40"
   ]
  },
  {
   "cell_type": "code",
   "execution_count": 10,
   "metadata": {},
   "outputs": [],
   "source": [
    "from ray_transform.canon_relation import (point_img2sino, class_img2sino, CanRel_img2sino, \n",
    "                                         point_sino2img, CanRel_sino2img)"
   ]
  },
  {
   "cell_type": "code",
   "execution_count": 11,
   "metadata": {},
   "outputs": [],
   "source": [
    "# Create ODL data structures\n",
    "space = odl.uniform_discr([-int(size/2), -int(size/2)], [int(size/2), int(size/2)], [size, size],\n",
    "                          dtype='float32')"
   ]
  },
  {
   "cell_type": "code",
   "execution_count": 12,
   "metadata": {},
   "outputs": [],
   "source": [
    "# Full dose radon transform\n",
    "geometry = odl.tomo.parallel_beam_geometry(space, num_angles=180)\n",
    "operator = odl.tomo.RayTransform(space, geometry)\n",
    "opnorm = odl.power_method_opnorm(operator)\n",
    "operator = (1 / opnorm) * operator"
   ]
  },
  {
   "cell_type": "code",
   "execution_count": 13,
   "metadata": {},
   "outputs": [],
   "source": [
    "# Low dose radon transform\n",
    "geometry_lowd = odl.tomo.parallel_beam_geometry(space, num_angles=lowd)\n",
    "operator_lowd = odl.tomo.RayTransform(space, geometry_lowd)\n",
    "opnorm_lowd = odl.power_method_opnorm(operator_lowd)\n",
    "operator_lowd = (1 / opnorm_lowd) * operator_lowd"
   ]
  },
  {
   "cell_type": "markdown",
   "metadata": {},
   "source": [
    "## Data generator for CT recon"
   ]
  },
  {
   "cell_type": "code",
   "execution_count": 14,
   "metadata": {},
   "outputs": [],
   "source": [
    "size = 256\n",
    "nClasses = 180\n",
    "lowd = 40\n",
    "nRegions = np.random.randint(5,10)\n",
    "npoints_max = np.random.randint(8,15)"
   ]
  },
  {
   "cell_type": "code",
   "execution_count": 15,
   "metadata": {},
   "outputs": [],
   "source": [
    "batch_size = 5\n",
    "n_iter = 10\n",
    "n_primal = 5\n",
    "n_dual = 5"
   ]
  },
  {
   "cell_type": "code",
   "execution_count": 16,
   "metadata": {},
   "outputs": [],
   "source": [
    "def generate_data_CT(validation=False):\n",
    "    \"\"\"Generate a set of random data.\"\"\"\n",
    "    if validation:\n",
    "        n_generate = 1\n",
    "    else: \n",
    "        n_generate = batch_size\n",
    "\n",
    "    y_arr = np.empty((n_generate, operator_lowd.range.shape[0], operator_lowd.range.shape[1], 1), dtype='float32')\n",
    "    x_true_arr = np.empty((n_generate, space.shape[0], space.shape[1], 1), dtype='float32')\n",
    "\n",
    "    for i in range(n_generate):\n",
    "        if validation:\n",
    "            phantom = odl.phantom.shepp_logan(space, True)\n",
    "        else:\n",
    "            phantom, _, _,  _ = random_realphantom(size, nRegions, npoints_max, nClasses)\n",
    "        data = operator_lowd(phantom)\n",
    "        noisy_data = data + odl.phantom.white_noise(operator_lowd.range) * np.mean(np.abs(data)) * 0.05\n",
    "\n",
    "        x_true_arr[i, ..., 0] = phantom\n",
    "        y_arr[i, ..., 0] = noisy_data\n",
    "\n",
    "    return y_arr, x_true_arr"
   ]
  },
  {
   "cell_type": "code",
   "execution_count": 17,
   "metadata": {},
   "outputs": [],
   "source": [
    "y_arr, x_true_arr = generate_data_CT()"
   ]
  },
  {
   "cell_type": "code",
   "execution_count": 18,
   "metadata": {},
   "outputs": [
    {
     "data": {
      "text/plain": [
       "<matplotlib.image.AxesImage at 0x2acadfdd3cf8>"
      ]
     },
     "execution_count": 18,
     "metadata": {},
     "output_type": "execute_result"
    },
    {
     "data": {
      "image/png": "[encoded data removed]",
      "text/plain": [
       "<Figure size 432x432 with 1 Axes>"
      ]
     },
     "metadata": {
      "needs_background": "light"
     },
     "output_type": "display_data"
    }
   ],
   "source": [
    "plt.figure(figsize = (6,6))\n",
    "plt.axis(\"off\")\n",
    "plt.imshow(y_arr[0,:,:,0], cmap=\"gray\")"
   ]
  },
  {
   "cell_type": "code",
   "execution_count": 19,
   "metadata": {},
   "outputs": [
    {
     "data": {
      "text/plain": [
       "<matplotlib.image.AxesImage at 0x2acadfe35f60>"
      ]
     },
     "execution_count": 19,
     "metadata": {},
     "output_type": "execute_result"
    },
    {
     "data": {
      "image/png": "[encoded data removed]",
      "text/plain": [
       "<Figure size 432x432 with 1 Axes>"
      ]
     },
     "metadata": {
      "needs_background": "light"
     },
     "output_type": "display_data"
    }
   ],
   "source": [
    "plt.figure(figsize = (6,6))\n",
    "plt.axis(\"off\")\n",
    "plt.imshow(x_true_arr[0,:,:,0], cmap=\"gray\")"
   ]
  },
  {
   "cell_type": "markdown",
   "metadata": {},
   "source": [
    "## Evaluate primal dual"
   ]
  },
  {
   "cell_type": "code",
   "execution_count": 20,
   "metadata": {},
   "outputs": [],
   "source": [
    "# Create tensorflow layer from odl operator\n",
    "odl_op_layer = odl.contrib.tensorflow.as_tensorflow_layer(operator_lowd,\n",
    "                                                          'RayTransform')\n",
    "odl_op_layer_adjoint = odl.contrib.tensorflow.as_tensorflow_layer(operator_lowd.adjoint,\n",
    "                                                                  'RayTransformAdjoint')"
   ]
  },
  {
   "cell_type": "code",
   "execution_count": 21,
   "metadata": {},
   "outputs": [],
   "source": [
    "with tf.name_scope('placeholders'):\n",
    "    x_true = tf.placeholder(tf.float32, shape=[None, size, size, 1], name=\"x_true\")\n",
    "    y_rt = tf.placeholder(tf.float32, shape=[None, operator_lowd.range.shape[0], operator_lowd.range.shape[1], 1], name=\"y_rt\")\n",
    "    is_training = tf.placeholder(tf.bool, shape=(), name='is_training')"
   ]
  },
  {
   "cell_type": "code",
   "execution_count": 22,
   "metadata": {},
   "outputs": [],
   "source": [
    "def apply_conv(x, filters=32):\n",
    "    return tf.layers.conv2d(x, filters=filters, kernel_size=3, padding='SAME',\n",
    "                            kernel_initializer=tf.contrib.layers.xavier_initializer(), use_bias=False)"
   ]
  },
  {
   "cell_type": "code",
   "execution_count": 23,
   "metadata": {},
   "outputs": [],
   "source": [
    "primal_values = []\n",
    "dual_values = []"
   ]
  },
  {
   "cell_type": "code",
   "execution_count": 24,
   "metadata": {},
   "outputs": [],
   "source": [
    "relu = tf.nn.relu"
   ]
  },
  {
   "cell_type": "code",
   "execution_count": 25,
   "metadata": {},
   "outputs": [],
   "source": [
    "with tf.name_scope('tomography'):\n",
    "    with tf.name_scope('initial_values'):\n",
    "        primal = tf.concat([tf.zeros_like(x_true)] * n_primal, axis=-1)\n",
    "        dual = tf.concat([tf.zeros_like(y_rt)] * n_dual, axis=-1)\n",
    "\n",
    "    for i in range(n_iter):\n",
    "        with tf.variable_scope('dual_iterate_{}'.format(i)):\n",
    "            evalop = odl_op_layer(primal[..., 1:2])\n",
    "            update = tf.concat([dual, evalop, y_rt], axis=-1)\n",
    "\n",
    "            #update = prelu(apply_conv(update), name='prelu_1')\n",
    "            #update = prelu(apply_conv(update), name='prelu_2')\n",
    "            update = relu(apply_conv(update), name='relu_1')\n",
    "            update = relu(apply_conv(update), name='relu_2')            \n",
    "            update = apply_conv(update, filters=n_dual)\n",
    "            dual = dual + update\n",
    "\n",
    "        with tf.variable_scope('primal_iterate_{}'.format(i)):\n",
    "            evalop = odl_op_layer_adjoint(dual[..., 0:1])\n",
    "            update = tf.concat([primal, evalop], axis=-1)\n",
    "\n",
    "            update = relu(apply_conv(update), name='relu_1')\n",
    "            update = relu(apply_conv(update), name='relu_2')\n",
    "            update = apply_conv(update, filters=n_primal)\n",
    "            primal = primal + update\n",
    "        \n",
    "        primal_values.append(primal)\n",
    "        dual_values.append(dual)\n",
    "\n",
    "    x_result = primal[..., 0:1]"
   ]
  },
  {
   "cell_type": "code",
   "execution_count": 26,
   "metadata": {},
   "outputs": [],
   "source": [
    "# Initialize all TF variables\n",
    "sess.run(tf.global_variables_initializer())"
   ]
  },
  {
   "cell_type": "code",
   "execution_count": 27,
   "metadata": {},
   "outputs": [],
   "source": [
    "ckp_name = name+'_lpd_nobias/checkpoints'"
   ]
  },
  {
   "cell_type": "code",
   "execution_count": 28,
   "metadata": {},
   "outputs": [
    {
     "data": {
      "text/plain": [
       "'/store/kepler/datastore/andrade/GitHub_repos/Joint_CTWF_Recon/Microcanonical_NN/Tensorflow_microlocal/checkpoints_lpd_nobias/checkpoints.ckpt'"
      ]
     },
     "execution_count": 28,
     "metadata": {},
     "output_type": "execute_result"
    }
   ],
   "source": [
    "adler.tensorflow.util.default_checkpoint_path(ckp_name)"
   ]
  },
  {
   "cell_type": "code",
   "execution_count": 29,
   "metadata": {},
   "outputs": [
    {
     "name": "stdout",
     "output_type": "stream",
     "text": [
      "INFO:tensorflow:Restoring parameters from /store/kepler/datastore/andrade/GitHub_repos/Joint_CTWF_Recon/Microcanonical_NN/Tensorflow_microlocal/checkpoints_lpd_nobias/checkpoints.ckpt\n"
     ]
    }
   ],
   "source": [
    "# Add op to save and restore\n",
    "saver = tf.train.Saver()\n",
    "\n",
    "if 1:\n",
    "    saver.restore(sess,\n",
    "                  adler.tensorflow.util.default_checkpoint_path(ckp_name))"
   ]
  },
  {
   "cell_type": "code",
   "execution_count": 30,
   "metadata": {},
   "outputs": [],
   "source": [
    "# Generate validation data\n",
    "y_arr_validate, x_true_arr_validate = generate_data_CT(validation=True)\n",
    "\n",
    "primal_values_result, dual_values_result = sess.run([primal_values, dual_values],\n",
    "                      feed_dict={x_true: x_true_arr_validate,\n",
    "                                 y_rt: y_arr_validate,\n",
    "                                 is_training: False})"
   ]
  },
  {
   "cell_type": "code",
   "execution_count": 31,
   "metadata": {},
   "outputs": [
    {
     "name": "stdout",
     "output_type": "stream",
     "text": [
      "0.986987719406\n",
      "34.1344250283\n"
     ]
    },
    {
     "name": "stderr",
     "output_type": "stream",
     "text": [
      "/homes/extern/andrade/store/miniconda3/envs/tf_gpu/lib/python3.6/site-packages/ipykernel_launcher.py:5: UserWarning: DEPRECATED: skimage.measure.compare_ssim has been moved to skimage.metrics.structural_similarity. It will be removed from skimage.measure in version 0.18.\n",
      "  \"\"\"\n",
      "/homes/extern/andrade/store/miniconda3/envs/tf_gpu/lib/python3.6/site-packages/ipykernel_launcher.py:6: UserWarning: DEPRECATED: skimage.measure.compare_psnr has been moved to skimage.metrics.peak_signal_noise_ratio. It will be removed from skimage.measure in version 0.18.\n",
      "  \n"
     ]
    }
   ],
   "source": [
    "import matplotlib.pyplot as plt\n",
    "from skimage.measure import compare_ssim as ssim\n",
    "from skimage.measure import compare_psnr as psnr\n",
    "\n",
    "print(ssim(primal_values_result[-1][0, ..., 0], x_true_arr_validate[0, ..., 0]))\n",
    "print(psnr(primal_values_result[-1][0, ..., 0], x_true_arr_validate[0, ..., 0], data_range=1))"
   ]
  },
  {
   "cell_type": "code",
   "execution_count": 32,
   "metadata": {},
   "outputs": [
    {
     "data": {
      "text/plain": [
       "(-0.5, 364.5, 39.5, -0.5)"
      ]
     },
     "execution_count": 32,
     "metadata": {},
     "output_type": "execute_result"
    },
    {
     "data": {
      "image/png": "[encoded data removed]",
      "text/plain": [
       "<Figure size 432x432 with 1 Axes>"
      ]
     },
     "metadata": {
      "needs_background": "light"
     },
     "output_type": "display_data"
    }
   ],
   "source": [
    "plt.figure(figsize=(6,6))\n",
    "plt.imshow(dual_values_result[3][0, ..., 0])\n",
    "plt.axis('off')"
   ]
  },
  {
   "cell_type": "code",
   "execution_count": 33,
   "metadata": {},
   "outputs": [
    {
     "data": {
      "text/plain": [
       "(-0.5, 255.5, 255.5, -0.5)"
      ]
     },
     "execution_count": 33,
     "metadata": {},
     "output_type": "execute_result"
    },
    {
     "data": {
      "image/png": "[encoded data removed]",
      "text/plain": [
       "<Figure size 432x432 with 1 Axes>"
      ]
     },
     "metadata": {
      "needs_background": "light"
     },
     "output_type": "display_data"
    }
   ],
   "source": [
    "plt.figure(figsize=(6,6))\n",
    "plt.imshow(primal_values_result[9][0, ..., 0])\n",
    "plt.axis('off')"
   ]
  },
  {
   "cell_type": "markdown",
   "metadata": {},
   "source": [
    "## In this case we have 10 LPD conv_ResNet subnetworks representing each Dual/Primal step"
   ]
  },
  {
   "cell_type": "code",
   "execution_count": 34,
   "metadata": {},
   "outputs": [
    {
     "data": {
      "text/plain": [
       "[<tf.Variable 'dual_iterate_0/conv2d/kernel:0' shape=(3, 3, 7, 32) dtype=float32_ref>,\n",
       " <tf.Variable 'dual_iterate_0/conv2d_1/kernel:0' shape=(3, 3, 32, 32) dtype=float32_ref>,\n",
       " <tf.Variable 'dual_iterate_0/conv2d_2/kernel:0' shape=(3, 3, 32, 5) dtype=float32_ref>,\n",
       " <tf.Variable 'primal_iterate_0/conv2d/kernel:0' shape=(3, 3, 6, 32) dtype=float32_ref>,\n",
       " <tf.Variable 'primal_iterate_0/conv2d_1/kernel:0' shape=(3, 3, 32, 32) dtype=float32_ref>,\n",
       " <tf.Variable 'primal_iterate_0/conv2d_2/kernel:0' shape=(3, 3, 32, 5) dtype=float32_ref>,\n",
       " <tf.Variable 'dual_iterate_1/conv2d/kernel:0' shape=(3, 3, 7, 32) dtype=float32_ref>,\n",
       " <tf.Variable 'dual_iterate_1/conv2d_1/kernel:0' shape=(3, 3, 32, 32) dtype=float32_ref>,\n",
       " <tf.Variable 'dual_iterate_1/conv2d_2/kernel:0' shape=(3, 3, 32, 5) dtype=float32_ref>,\n",
       " <tf.Variable 'primal_iterate_1/conv2d/kernel:0' shape=(3, 3, 6, 32) dtype=float32_ref>,\n",
       " <tf.Variable 'primal_iterate_1/conv2d_1/kernel:0' shape=(3, 3, 32, 32) dtype=float32_ref>,\n",
       " <tf.Variable 'primal_iterate_1/conv2d_2/kernel:0' shape=(3, 3, 32, 5) dtype=float32_ref>,\n",
       " <tf.Variable 'dual_iterate_2/conv2d/kernel:0' shape=(3, 3, 7, 32) dtype=float32_ref>,\n",
       " <tf.Variable 'dual_iterate_2/conv2d_1/kernel:0' shape=(3, 3, 32, 32) dtype=float32_ref>,\n",
       " <tf.Variable 'dual_iterate_2/conv2d_2/kernel:0' shape=(3, 3, 32, 5) dtype=float32_ref>,\n",
       " <tf.Variable 'primal_iterate_2/conv2d/kernel:0' shape=(3, 3, 6, 32) dtype=float32_ref>,\n",
       " <tf.Variable 'primal_iterate_2/conv2d_1/kernel:0' shape=(3, 3, 32, 32) dtype=float32_ref>,\n",
       " <tf.Variable 'primal_iterate_2/conv2d_2/kernel:0' shape=(3, 3, 32, 5) dtype=float32_ref>,\n",
       " <tf.Variable 'dual_iterate_3/conv2d/kernel:0' shape=(3, 3, 7, 32) dtype=float32_ref>,\n",
       " <tf.Variable 'dual_iterate_3/conv2d_1/kernel:0' shape=(3, 3, 32, 32) dtype=float32_ref>,\n",
       " <tf.Variable 'dual_iterate_3/conv2d_2/kernel:0' shape=(3, 3, 32, 5) dtype=float32_ref>,\n",
       " <tf.Variable 'primal_iterate_3/conv2d/kernel:0' shape=(3, 3, 6, 32) dtype=float32_ref>,\n",
       " <tf.Variable 'primal_iterate_3/conv2d_1/kernel:0' shape=(3, 3, 32, 32) dtype=float32_ref>,\n",
       " <tf.Variable 'primal_iterate_3/conv2d_2/kernel:0' shape=(3, 3, 32, 5) dtype=float32_ref>,\n",
       " <tf.Variable 'dual_iterate_4/conv2d/kernel:0' shape=(3, 3, 7, 32) dtype=float32_ref>,\n",
       " <tf.Variable 'dual_iterate_4/conv2d_1/kernel:0' shape=(3, 3, 32, 32) dtype=float32_ref>,\n",
       " <tf.Variable 'dual_iterate_4/conv2d_2/kernel:0' shape=(3, 3, 32, 5) dtype=float32_ref>,\n",
       " <tf.Variable 'primal_iterate_4/conv2d/kernel:0' shape=(3, 3, 6, 32) dtype=float32_ref>,\n",
       " <tf.Variable 'primal_iterate_4/conv2d_1/kernel:0' shape=(3, 3, 32, 32) dtype=float32_ref>,\n",
       " <tf.Variable 'primal_iterate_4/conv2d_2/kernel:0' shape=(3, 3, 32, 5) dtype=float32_ref>,\n",
       " <tf.Variable 'dual_iterate_5/conv2d/kernel:0' shape=(3, 3, 7, 32) dtype=float32_ref>,\n",
       " <tf.Variable 'dual_iterate_5/conv2d_1/kernel:0' shape=(3, 3, 32, 32) dtype=float32_ref>,\n",
       " <tf.Variable 'dual_iterate_5/conv2d_2/kernel:0' shape=(3, 3, 32, 5) dtype=float32_ref>,\n",
       " <tf.Variable 'primal_iterate_5/conv2d/kernel:0' shape=(3, 3, 6, 32) dtype=float32_ref>,\n",
       " <tf.Variable 'primal_iterate_5/conv2d_1/kernel:0' shape=(3, 3, 32, 32) dtype=float32_ref>,\n",
       " <tf.Variable 'primal_iterate_5/conv2d_2/kernel:0' shape=(3, 3, 32, 5) dtype=float32_ref>,\n",
       " <tf.Variable 'dual_iterate_6/conv2d/kernel:0' shape=(3, 3, 7, 32) dtype=float32_ref>,\n",
       " <tf.Variable 'dual_iterate_6/conv2d_1/kernel:0' shape=(3, 3, 32, 32) dtype=float32_ref>,\n",
       " <tf.Variable 'dual_iterate_6/conv2d_2/kernel:0' shape=(3, 3, 32, 5) dtype=float32_ref>,\n",
       " <tf.Variable 'primal_iterate_6/conv2d/kernel:0' shape=(3, 3, 6, 32) dtype=float32_ref>,\n",
       " <tf.Variable 'primal_iterate_6/conv2d_1/kernel:0' shape=(3, 3, 32, 32) dtype=float32_ref>,\n",
       " <tf.Variable 'primal_iterate_6/conv2d_2/kernel:0' shape=(3, 3, 32, 5) dtype=float32_ref>,\n",
       " <tf.Variable 'dual_iterate_7/conv2d/kernel:0' shape=(3, 3, 7, 32) dtype=float32_ref>,\n",
       " <tf.Variable 'dual_iterate_7/conv2d_1/kernel:0' shape=(3, 3, 32, 32) dtype=float32_ref>,\n",
       " <tf.Variable 'dual_iterate_7/conv2d_2/kernel:0' shape=(3, 3, 32, 5) dtype=float32_ref>,\n",
       " <tf.Variable 'primal_iterate_7/conv2d/kernel:0' shape=(3, 3, 6, 32) dtype=float32_ref>,\n",
       " <tf.Variable 'primal_iterate_7/conv2d_1/kernel:0' shape=(3, 3, 32, 32) dtype=float32_ref>,\n",
       " <tf.Variable 'primal_iterate_7/conv2d_2/kernel:0' shape=(3, 3, 32, 5) dtype=float32_ref>,\n",
       " <tf.Variable 'dual_iterate_8/conv2d/kernel:0' shape=(3, 3, 7, 32) dtype=float32_ref>,\n",
       " <tf.Variable 'dual_iterate_8/conv2d_1/kernel:0' shape=(3, 3, 32, 32) dtype=float32_ref>,\n",
       " <tf.Variable 'dual_iterate_8/conv2d_2/kernel:0' shape=(3, 3, 32, 5) dtype=float32_ref>,\n",
       " <tf.Variable 'primal_iterate_8/conv2d/kernel:0' shape=(3, 3, 6, 32) dtype=float32_ref>,\n",
       " <tf.Variable 'primal_iterate_8/conv2d_1/kernel:0' shape=(3, 3, 32, 32) dtype=float32_ref>,\n",
       " <tf.Variable 'primal_iterate_8/conv2d_2/kernel:0' shape=(3, 3, 32, 5) dtype=float32_ref>,\n",
       " <tf.Variable 'dual_iterate_9/conv2d/kernel:0' shape=(3, 3, 7, 32) dtype=float32_ref>,\n",
       " <tf.Variable 'dual_iterate_9/conv2d_1/kernel:0' shape=(3, 3, 32, 32) dtype=float32_ref>,\n",
       " <tf.Variable 'dual_iterate_9/conv2d_2/kernel:0' shape=(3, 3, 32, 5) dtype=float32_ref>,\n",
       " <tf.Variable 'primal_iterate_9/conv2d/kernel:0' shape=(3, 3, 6, 32) dtype=float32_ref>,\n",
       " <tf.Variable 'primal_iterate_9/conv2d_1/kernel:0' shape=(3, 3, 32, 32) dtype=float32_ref>,\n",
       " <tf.Variable 'primal_iterate_9/conv2d_2/kernel:0' shape=(3, 3, 32, 5) dtype=float32_ref>]"
      ]
     },
     "execution_count": 34,
     "metadata": {},
     "output_type": "execute_result"
    }
   ],
   "source": [
    "tf.global_variables()"
   ]
  },
  {
   "cell_type": "code",
   "execution_count": 35,
   "metadata": {},
   "outputs": [],
   "source": [
    "# Get access to the graph\n",
    "gr = tf.get_default_graph()"
   ]
  },
  {
   "cell_type": "code",
   "execution_count": 36,
   "metadata": {},
   "outputs": [],
   "source": [
    "names_variables = [variable.name for variable in tf.global_variables()]"
   ]
  },
  {
   "cell_type": "markdown",
   "metadata": {},
   "source": [
    "## Singularity propagation along the LPD iterations"
   ]
  },
  {
   "cell_type": "markdown",
   "metadata": {},
   "source": [
    "### Generate data with wavefront set"
   ]
  },
  {
   "cell_type": "code",
   "execution_count": 37,
   "metadata": {},
   "outputs": [],
   "source": [
    "size = 256\n",
    "nClasses = 180\n",
    "lowd = 40"
   ]
  },
  {
   "cell_type": "markdown",
   "metadata": {},
   "source": [
    "### Phantom sinogram"
   ]
  },
  {
   "cell_type": "code",
   "execution_count": 38,
   "metadata": {},
   "outputs": [],
   "source": [
    "nRegions = np.random.randint(5,10)\n",
    "npoints_max = np.random.randint(8,15)\n",
    "realphantom, WFpoints, WFclasses,  WFimage = random_realphantom(size, nRegions, npoints_max, nClasses)\n",
    "\n",
    "# Compute low dose WF image\n",
    "angles_lowd = np.array([i for i in range(0,180,int(180/lowd))])\n",
    "# Extracting the wavefront set orientations in the low dose\n",
    "angles_gt = (np.array(WFclasses).astype(int)[:,0]-1)\n",
    "angles_gt_lowd = np.array([angle in angles_lowd for angle in angles_gt])\n",
    "# Generating the new WFpoints and classes\n",
    "WFpoints_lowd = WFpoints[angles_gt_lowd]\n",
    "WFclasses_lowd = list(np.array(WFclasses)[angles_gt_lowd])\n",
    "# Generating the low dose WFimage\n",
    "WFimage_lowd = np.zeros([size,size])\n",
    "WFimage_lowd = WFupdate(WFpoints_lowd, WFclasses_lowd, WFimage_lowd)"
   ]
  },
  {
   "cell_type": "code",
   "execution_count": 39,
   "metadata": {},
   "outputs": [
    {
     "data": {
      "text/plain": [
       "<matplotlib.image.AxesImage at 0x2ac994b40eb8>"
      ]
     },
     "execution_count": 39,
     "metadata": {},
     "output_type": "execute_result"
    },
    {
     "data": {
      "image/png": "[encoded data removed]",
      "text/plain": [
       "<Figure size 432x432 with 1 Axes>"
      ]
     },
     "metadata": {
      "needs_background": "light"
     },
     "output_type": "display_data"
    }
   ],
   "source": [
    "plt.figure(figsize = (6,6))\n",
    "plt.axis(\"off\")\n",
    "plt.imshow(realphantom, cmap=\"gray\")"
   ]
  },
  {
   "cell_type": "code",
   "execution_count": 40,
   "metadata": {},
   "outputs": [
    {
     "data": {
      "text/plain": [
       "<matplotlib.image.AxesImage at 0x2ac994c8b5f8>"
      ]
     },
     "execution_count": 40,
     "metadata": {},
     "output_type": "execute_result"
    },
    {
     "data": {
      "image/png": "[encoded data removed]",
      "text/plain": [
       "<Figure size 432x432 with 1 Axes>"
      ]
     },
     "metadata": {
      "needs_background": "light"
     },
     "output_type": "display_data"
    }
   ],
   "source": [
    "plt.figure(figsize = (6,6))\n",
    "plt.axis(\"off\")\n",
    "plot_WF(WFimage)"
   ]
  },
  {
   "cell_type": "code",
   "execution_count": 41,
   "metadata": {},
   "outputs": [
    {
     "data": {
      "text/plain": [
       "<matplotlib.image.AxesImage at 0x2aca57e37c88>"
      ]
     },
     "execution_count": 41,
     "metadata": {},
     "output_type": "execute_result"
    },
    {
     "data": {
      "image/png": "[encoded data removed]",
      "text/plain": [
       "<Figure size 432x432 with 1 Axes>"
      ]
     },
     "metadata": {
      "needs_background": "light"
     },
     "output_type": "display_data"
    }
   ],
   "source": [
    "plt.figure(figsize = (6,6))\n",
    "plt.axis(\"off\")\n",
    "plot_WF(WFimage_lowd)"
   ]
  },
  {
   "cell_type": "code",
   "execution_count": 42,
   "metadata": {},
   "outputs": [],
   "source": [
    "# Full dose sinogram\n",
    "sinogram = np.array(operator(space.element(realphantom)))\n",
    "sinogram_shape = sinogram.shape\n",
    "WFpoints_sino, WFclasses_sino = CanRel_img2sino(WFpoints, WFclasses, size, sinogram_shape, num_angles = 180)\n",
    "WFimage_sino = np.zeros(sinogram.shape)\n",
    "WFimage_sino = WFupdate_sino(WFpoints_sino, WFclasses_sino, WFimage_sino)"
   ]
  },
  {
   "cell_type": "code",
   "execution_count": 43,
   "metadata": {},
   "outputs": [],
   "source": [
    "# Low dose sinogram\n",
    "sinogram_lowd= np.array(operator_lowd(space.element(realphantom)))\n",
    "sinogram_shape_lowd = sinogram_lowd.shape\n",
    "WFpoints_sino_lowd, WFclasses_sino_lowd = CanRel_img2sino(WFpoints_lowd, WFclasses_lowd, size, sinogram_shape_lowd, num_angles = 180)\n",
    "WFpoints_sino_lowd[:,1] = lowd* WFpoints_sino_lowd[:,1]/180\n",
    "WFimage_sino_lowd = np.zeros(sinogram_lowd.shape)\n",
    "WFimage_sino_lowd = WFupdate_sino(WFpoints_sino_lowd, WFclasses_sino_lowd, WFimage_sino_lowd)"
   ]
  },
  {
   "cell_type": "code",
   "execution_count": 44,
   "metadata": {},
   "outputs": [
    {
     "data": {
      "text/plain": [
       "<matplotlib.image.AxesImage at 0x2acbdc800518>"
      ]
     },
     "execution_count": 44,
     "metadata": {},
     "output_type": "execute_result"
    },
    {
     "data": {
      "image/png": "[encoded data removed]",
      "text/plain": [
       "<Figure size 432x432 with 1 Axes>"
      ]
     },
     "metadata": {
      "needs_background": "light"
     },
     "output_type": "display_data"
    }
   ],
   "source": [
    "plt.figure(figsize = (6,6))\n",
    "plt.axis(\"off\")\n",
    "plt.imshow(sinogram , cmap=\"gray\")"
   ]
  },
  {
   "cell_type": "code",
   "execution_count": 45,
   "metadata": {},
   "outputs": [
    {
     "data": {
      "text/plain": [
       "<matplotlib.image.AxesImage at 0x2acbdc849ba8>"
      ]
     },
     "execution_count": 45,
     "metadata": {},
     "output_type": "execute_result"
    },
    {
     "data": {
      "image/png": "[encoded data removed]",
      "text/plain": [
       "<Figure size 432x432 with 1 Axes>"
      ]
     },
     "metadata": {
      "needs_background": "light"
     },
     "output_type": "display_data"
    }
   ],
   "source": [
    "plt.figure(figsize = (6,6))\n",
    "plt.axis(\"off\")\n",
    "plot_WF((180*WFimage_sino)%180)"
   ]
  },
  {
   "cell_type": "code",
   "execution_count": 46,
   "metadata": {},
   "outputs": [
    {
     "data": {
      "text/plain": [
       "<matplotlib.image.AxesImage at 0x2acbdd7812e8>"
      ]
     },
     "execution_count": 46,
     "metadata": {},
     "output_type": "execute_result"
    },
    {
     "data": {
      "image/png": "[encoded data removed]",
      "text/plain": [
       "<Figure size 432x432 with 1 Axes>"
      ]
     },
     "metadata": {
      "needs_background": "light"
     },
     "output_type": "display_data"
    }
   ],
   "source": [
    "plt.figure(figsize = (6,6))\n",
    "plt.axis(\"off\")\n",
    "plt.imshow(sinogram_lowd , cmap=\"gray\")"
   ]
  },
  {
   "cell_type": "code",
   "execution_count": 47,
   "metadata": {},
   "outputs": [
    {
     "data": {
      "text/plain": [
       "<matplotlib.image.AxesImage at 0x2acc16a12198>"
      ]
     },
     "execution_count": 47,
     "metadata": {},
     "output_type": "execute_result"
    },
    {
     "data": {
      "image/png": "[encoded data removed]",
      "text/plain": [
       "<Figure size 432x432 with 1 Axes>"
      ]
     },
     "metadata": {
      "needs_background": "light"
     },
     "output_type": "display_data"
    }
   ],
   "source": [
    "plt.figure(figsize = (6,6))\n",
    "plt.axis(\"off\")\n",
    "plot_WF((100*WFimage_sino_lowd)%180)"
   ]
  },
  {
   "cell_type": "markdown",
   "metadata": {},
   "source": [
    "### Evaluation of that image in the layers"
   ]
  },
  {
   "cell_type": "code",
   "execution_count": 48,
   "metadata": {},
   "outputs": [
    {
     "data": {
      "text/plain": [
       "[<tf.Variable 'dual_iterate_0/conv2d/kernel:0' shape=(3, 3, 7, 32) dtype=float32_ref>,\n",
       " <tf.Variable 'dual_iterate_0/conv2d_1/kernel:0' shape=(3, 3, 32, 32) dtype=float32_ref>,\n",
       " <tf.Variable 'dual_iterate_0/conv2d_2/kernel:0' shape=(3, 3, 32, 5) dtype=float32_ref>,\n",
       " <tf.Variable 'primal_iterate_0/conv2d/kernel:0' shape=(3, 3, 6, 32) dtype=float32_ref>,\n",
       " <tf.Variable 'primal_iterate_0/conv2d_1/kernel:0' shape=(3, 3, 32, 32) dtype=float32_ref>,\n",
       " <tf.Variable 'primal_iterate_0/conv2d_2/kernel:0' shape=(3, 3, 32, 5) dtype=float32_ref>,\n",
       " <tf.Variable 'dual_iterate_1/conv2d/kernel:0' shape=(3, 3, 7, 32) dtype=float32_ref>,\n",
       " <tf.Variable 'dual_iterate_1/conv2d_1/kernel:0' shape=(3, 3, 32, 32) dtype=float32_ref>,\n",
       " <tf.Variable 'dual_iterate_1/conv2d_2/kernel:0' shape=(3, 3, 32, 5) dtype=float32_ref>,\n",
       " <tf.Variable 'primal_iterate_1/conv2d/kernel:0' shape=(3, 3, 6, 32) dtype=float32_ref>,\n",
       " <tf.Variable 'primal_iterate_1/conv2d_1/kernel:0' shape=(3, 3, 32, 32) dtype=float32_ref>,\n",
       " <tf.Variable 'primal_iterate_1/conv2d_2/kernel:0' shape=(3, 3, 32, 5) dtype=float32_ref>,\n",
       " <tf.Variable 'dual_iterate_2/conv2d/kernel:0' shape=(3, 3, 7, 32) dtype=float32_ref>,\n",
       " <tf.Variable 'dual_iterate_2/conv2d_1/kernel:0' shape=(3, 3, 32, 32) dtype=float32_ref>,\n",
       " <tf.Variable 'dual_iterate_2/conv2d_2/kernel:0' shape=(3, 3, 32, 5) dtype=float32_ref>,\n",
       " <tf.Variable 'primal_iterate_2/conv2d/kernel:0' shape=(3, 3, 6, 32) dtype=float32_ref>,\n",
       " <tf.Variable 'primal_iterate_2/conv2d_1/kernel:0' shape=(3, 3, 32, 32) dtype=float32_ref>,\n",
       " <tf.Variable 'primal_iterate_2/conv2d_2/kernel:0' shape=(3, 3, 32, 5) dtype=float32_ref>,\n",
       " <tf.Variable 'dual_iterate_3/conv2d/kernel:0' shape=(3, 3, 7, 32) dtype=float32_ref>,\n",
       " <tf.Variable 'dual_iterate_3/conv2d_1/kernel:0' shape=(3, 3, 32, 32) dtype=float32_ref>,\n",
       " <tf.Variable 'dual_iterate_3/conv2d_2/kernel:0' shape=(3, 3, 32, 5) dtype=float32_ref>,\n",
       " <tf.Variable 'primal_iterate_3/conv2d/kernel:0' shape=(3, 3, 6, 32) dtype=float32_ref>,\n",
       " <tf.Variable 'primal_iterate_3/conv2d_1/kernel:0' shape=(3, 3, 32, 32) dtype=float32_ref>,\n",
       " <tf.Variable 'primal_iterate_3/conv2d_2/kernel:0' shape=(3, 3, 32, 5) dtype=float32_ref>,\n",
       " <tf.Variable 'dual_iterate_4/conv2d/kernel:0' shape=(3, 3, 7, 32) dtype=float32_ref>,\n",
       " <tf.Variable 'dual_iterate_4/conv2d_1/kernel:0' shape=(3, 3, 32, 32) dtype=float32_ref>,\n",
       " <tf.Variable 'dual_iterate_4/conv2d_2/kernel:0' shape=(3, 3, 32, 5) dtype=float32_ref>,\n",
       " <tf.Variable 'primal_iterate_4/conv2d/kernel:0' shape=(3, 3, 6, 32) dtype=float32_ref>,\n",
       " <tf.Variable 'primal_iterate_4/conv2d_1/kernel:0' shape=(3, 3, 32, 32) dtype=float32_ref>,\n",
       " <tf.Variable 'primal_iterate_4/conv2d_2/kernel:0' shape=(3, 3, 32, 5) dtype=float32_ref>,\n",
       " <tf.Variable 'dual_iterate_5/conv2d/kernel:0' shape=(3, 3, 7, 32) dtype=float32_ref>,\n",
       " <tf.Variable 'dual_iterate_5/conv2d_1/kernel:0' shape=(3, 3, 32, 32) dtype=float32_ref>,\n",
       " <tf.Variable 'dual_iterate_5/conv2d_2/kernel:0' shape=(3, 3, 32, 5) dtype=float32_ref>,\n",
       " <tf.Variable 'primal_iterate_5/conv2d/kernel:0' shape=(3, 3, 6, 32) dtype=float32_ref>,\n",
       " <tf.Variable 'primal_iterate_5/conv2d_1/kernel:0' shape=(3, 3, 32, 32) dtype=float32_ref>,\n",
       " <tf.Variable 'primal_iterate_5/conv2d_2/kernel:0' shape=(3, 3, 32, 5) dtype=float32_ref>,\n",
       " <tf.Variable 'dual_iterate_6/conv2d/kernel:0' shape=(3, 3, 7, 32) dtype=float32_ref>,\n",
       " <tf.Variable 'dual_iterate_6/conv2d_1/kernel:0' shape=(3, 3, 32, 32) dtype=float32_ref>,\n",
       " <tf.Variable 'dual_iterate_6/conv2d_2/kernel:0' shape=(3, 3, 32, 5) dtype=float32_ref>,\n",
       " <tf.Variable 'primal_iterate_6/conv2d/kernel:0' shape=(3, 3, 6, 32) dtype=float32_ref>,\n",
       " <tf.Variable 'primal_iterate_6/conv2d_1/kernel:0' shape=(3, 3, 32, 32) dtype=float32_ref>,\n",
       " <tf.Variable 'primal_iterate_6/conv2d_2/kernel:0' shape=(3, 3, 32, 5) dtype=float32_ref>,\n",
       " <tf.Variable 'dual_iterate_7/conv2d/kernel:0' shape=(3, 3, 7, 32) dtype=float32_ref>,\n",
       " <tf.Variable 'dual_iterate_7/conv2d_1/kernel:0' shape=(3, 3, 32, 32) dtype=float32_ref>,\n",
       " <tf.Variable 'dual_iterate_7/conv2d_2/kernel:0' shape=(3, 3, 32, 5) dtype=float32_ref>,\n",
       " <tf.Variable 'primal_iterate_7/conv2d/kernel:0' shape=(3, 3, 6, 32) dtype=float32_ref>,\n",
       " <tf.Variable 'primal_iterate_7/conv2d_1/kernel:0' shape=(3, 3, 32, 32) dtype=float32_ref>,\n",
       " <tf.Variable 'primal_iterate_7/conv2d_2/kernel:0' shape=(3, 3, 32, 5) dtype=float32_ref>,\n",
       " <tf.Variable 'dual_iterate_8/conv2d/kernel:0' shape=(3, 3, 7, 32) dtype=float32_ref>,\n",
       " <tf.Variable 'dual_iterate_8/conv2d_1/kernel:0' shape=(3, 3, 32, 32) dtype=float32_ref>,\n",
       " <tf.Variable 'dual_iterate_8/conv2d_2/kernel:0' shape=(3, 3, 32, 5) dtype=float32_ref>,\n",
       " <tf.Variable 'primal_iterate_8/conv2d/kernel:0' shape=(3, 3, 6, 32) dtype=float32_ref>,\n",
       " <tf.Variable 'primal_iterate_8/conv2d_1/kernel:0' shape=(3, 3, 32, 32) dtype=float32_ref>,\n",
       " <tf.Variable 'primal_iterate_8/conv2d_2/kernel:0' shape=(3, 3, 32, 5) dtype=float32_ref>,\n",
       " <tf.Variable 'dual_iterate_9/conv2d/kernel:0' shape=(3, 3, 7, 32) dtype=float32_ref>,\n",
       " <tf.Variable 'dual_iterate_9/conv2d_1/kernel:0' shape=(3, 3, 32, 32) dtype=float32_ref>,\n",
       " <tf.Variable 'dual_iterate_9/conv2d_2/kernel:0' shape=(3, 3, 32, 5) dtype=float32_ref>,\n",
       " <tf.Variable 'primal_iterate_9/conv2d/kernel:0' shape=(3, 3, 6, 32) dtype=float32_ref>,\n",
       " <tf.Variable 'primal_iterate_9/conv2d_1/kernel:0' shape=(3, 3, 32, 32) dtype=float32_ref>,\n",
       " <tf.Variable 'primal_iterate_9/conv2d_2/kernel:0' shape=(3, 3, 32, 5) dtype=float32_ref>]"
      ]
     },
     "execution_count": 48,
     "metadata": {},
     "output_type": "execute_result"
    }
   ],
   "source": [
    "tf.global_variables()"
   ]
  },
  {
   "cell_type": "code",
   "execution_count": 49,
   "metadata": {},
   "outputs": [],
   "source": [
    "iterate = 0\n",
    "conv_layer = 0\n",
    "dual = True"
   ]
  },
  {
   "cell_type": "code",
   "execution_count": 50,
   "metadata": {},
   "outputs": [],
   "source": [
    "if dual== True:\n",
    "    ld = 'dual'\n",
    "    shape = operator_lowd.range.shape\n",
    "else:\n",
    "    ld = 'primal'\n",
    "    shape = operator_lowd.domain.shape"
   ]
  },
  {
   "cell_type": "code",
   "execution_count": 51,
   "metadata": {},
   "outputs": [],
   "source": [
    "if conv_layer == 0:\n",
    "    conv_name = '/conv2d/'\n",
    "else:\n",
    "    conv_name = '/conv2d_'+str(conv_layer)+'/'"
   ]
  },
  {
   "cell_type": "code",
   "execution_count": 55,
   "metadata": {},
   "outputs": [],
   "source": [
    "name_kernel = (ld+'_iterate_'+str(iterate)+conv_name+'kernel:0')\n",
    "#name_bias = (ld+'_iterate_'+str(iterate)+conv_name+'bias:0')"
   ]
  },
  {
   "cell_type": "code",
   "execution_count": 56,
   "metadata": {},
   "outputs": [],
   "source": [
    "kernels = gr.get_tensor_by_name(name_kernel)\n",
    "#bias = gr.get_tensor_by_name(name_bias)"
   ]
  },
  {
   "cell_type": "markdown",
   "metadata": {},
   "source": [
    "### Evaluating the layer"
   ]
  },
  {
   "cell_type": "code",
   "execution_count": 57,
   "metadata": {},
   "outputs": [],
   "source": [
    "sinogram_lowd_tf = tf.constant(sinogram_lowd[np.newaxis, :,:, np.newaxis],\n",
    "                              dtype = tf.float32)\n",
    "realphantom_tf = tf.constant(realphantom[np.newaxis, :,:, np.newaxis],\n",
    "                              dtype = tf.float32);"
   ]
  },
  {
   "cell_type": "code",
   "execution_count": 58,
   "metadata": {},
   "outputs": [],
   "source": [
    "x_true = realphantom_tf \n",
    "y_rt = sinogr1am_lowd_tf;"
   ]
  },
  {
   "cell_type": "code",
   "execution_count": 59,
   "metadata": {},
   "outputs": [],
   "source": [
    "primal = tf.concat([tf.zeros_like(x_true)] * n_primal, axis=-1)\n",
    "dual = tf.concat([tf.zeros_like(y_rt)] * n_dual, axis=-1)"
   ]
  },
  {
   "cell_type": "code",
   "execution_count": 60,
   "metadata": {},
   "outputs": [],
   "source": [
    "evalop = odl_op_layer(primal[..., 1:2])"
   ]
  },
  {
   "cell_type": "code",
   "execution_count": 61,
   "metadata": {},
   "outputs": [],
   "source": [
    "update = tf.concat([dual, evalop, y_rt], axis=-1)"
   ]
  },
  {
   "cell_type": "code",
   "execution_count": 62,
   "metadata": {},
   "outputs": [],
   "source": [
    "conv_kernel_1 = tf.nn.conv2d(update, kernels, [1, 1, 1, 1], padding='SAME')\n",
    "#conv_bias_1 = tf.nn.bias_add(conv_kernel_1, bias)\n",
    "conv_relu_1 = relu(conv_kernel_1)"
   ]
  },
  {
   "cell_type": "code",
   "execution_count": 63,
   "metadata": {
    "scrolled": false
   },
   "outputs": [
    {
     "data": {
      "text/plain": [
       "<matplotlib.image.AxesImage at 0x2acc16adac50>"
      ]
     },
     "execution_count": 63,
     "metadata": {},
     "output_type": "execute_result"
    },
    {
     "data": {
      "image/png": "[encoded data removed]",
      "text/plain": [
       "<Figure size 432x432 with 1 Axes>"
      ]
     },
     "metadata": {
      "needs_background": "light"
     },
     "output_type": "display_data"
    }
   ],
   "source": [
    "plt.figure(figsize = (6,6))\n",
    "plt.axis(\"off\")\n",
    "plt.imshow(update.eval()[0,:,:,6], cmap = \"gray\")"
   ]
  },
  {
   "cell_type": "code",
   "execution_count": 64,
   "metadata": {
    "scrolled": true
   },
   "outputs": [
    {
     "data": {
      "text/plain": [
       "<matplotlib.image.AxesImage at 0x2acc16b26c88>"
      ]
     },
     "execution_count": 64,
     "metadata": {},
     "output_type": "execute_result"
    },
    {
     "data": {
      "image/png": "[encoded data removed]",
      "text/plain": [
       "<Figure size 432x432 with 1 Axes>"
      ]
     },
     "metadata": {
      "needs_background": "light"
     },
     "output_type": "display_data"
    }
   ],
   "source": [
    "plt.figure(figsize = (6,6))\n",
    "plt.axis(\"off\")\n",
    "plt.imshow(conv_kernel_1.eval()[0,:,:,6], cmap = \"gray\")"
   ]
  },
  {
   "cell_type": "code",
   "execution_count": 67,
   "metadata": {},
   "outputs": [
    {
     "data": {
      "text/plain": [
       "<matplotlib.image.AxesImage at 0x2acc16c00fd0>"
      ]
     },
     "execution_count": 67,
     "metadata": {},
     "output_type": "execute_result"
    },
    {
     "data": {
      "image/png": "[encoded data removed]",
      "text/plain": [
       "<Figure size 432x432 with 1 Axes>"
      ]
     },
     "metadata": {
      "needs_background": "light"
     },
     "output_type": "display_data"
    }
   ],
   "source": [
    "plt.figure(figsize = (6,6))\n",
    "plt.axis(\"off\")\n",
    "plt.imshow(conv_relu_1.eval()[0,:,:,6], cmap = \"gray\")"
   ]
  },
  {
   "cell_type": "markdown",
   "metadata": {},
   "source": [
    "## Analysis of wavefront set of the ReLU layer in the dual steps                                                         "
   ]
  },
  {
   "cell_type": "markdown",
   "metadata": {},
   "source": [
    "The convolutional neural networks will preserve the singularities wherever the symbol is not zero. In most of the cases everywhere. \n",
    "\n",
    "The ReLU layer will delete certain singularities according with the analysis in the script. "
   ]
  },
  {
   "cell_type": "markdown",
   "metadata": {},
   "source": [
    "Let $f$ be the biased output of the convolutional layer, the ReLU activation function is applied on $f$."
   ]
  },
  {
   "cell_type": "code",
   "execution_count": 68,
   "metadata": {},
   "outputs": [],
   "source": [
    "f = conv_kernel_1.eval()"
   ]
  },
  {
   "cell_type": "code",
   "execution_count": 69,
   "metadata": {},
   "outputs": [
    {
     "data": {
      "text/plain": [
       "<matplotlib.image.AxesImage at 0x2acc16c4ae80>"
      ]
     },
     "execution_count": 69,
     "metadata": {},
     "output_type": "execute_result"
    },
    {
     "data": {
      "image/png": "[encoded data removed]",
      "text/plain": [
       "<Figure size 432x432 with 1 Axes>"
      ]
     },
     "metadata": {
      "needs_background": "light"
     },
     "output_type": "display_data"
    }
   ],
   "source": [
    "plt.figure(figsize = (6,6))\n",
    "plt.axis(\"off\")\n",
    "plt.imshow(f[0,:,:,6], cmap = \"gray\")"
   ]
  },
  {
   "cell_type": "markdown",
   "metadata": {},
   "source": [
    "Since $\\text{ReLU}(f) = H(f) f$, we need to compute first the wavefront set $WF(H(f))$. "
   ]
  },
  {
   "cell_type": "markdown",
   "metadata": {},
   "source": [
    "### Computing $WF(H(f))$"
   ]
  },
  {
   "cell_type": "markdown",
   "metadata": {},
   "source": [
    "The ReLU function can be seen as the multiplication $\\text{ReLU}(y) = H(y) y$, therefore $\\text{ReLU}(f)(x)=H(f(x))f(x)$ where\n",
    "\n",
    "$$\n",
    "H(f(x)) = \n",
    "\\begin{cases}\n",
    "f(x) & \\text{ if } f(x)>0 \\\\\n",
    "0 & \\text{ if } f(x) \\leq 0\n",
    "\\end{cases}\n",
    "$$"
   ]
  },
  {
   "cell_type": "code",
   "execution_count": 70,
   "metadata": {},
   "outputs": [],
   "source": [
    "Hf = np.heaviside(f,0)"
   ]
  },
  {
   "cell_type": "code",
   "execution_count": 71,
   "metadata": {},
   "outputs": [
    {
     "data": {
      "text/plain": [
       "<matplotlib.image.AxesImage at 0x2acc16c97dd8>"
      ]
     },
     "execution_count": 71,
     "metadata": {},
     "output_type": "execute_result"
    },
    {
     "data": {
      "image/png": "[encoded data removed]",
      "text/plain": [
       "<Figure size 432x432 with 1 Axes>"
      ]
     },
     "metadata": {
      "needs_background": "light"
     },
     "output_type": "display_data"
    }
   ],
   "source": [
    "plt.figure(figsize = (6,6))\n",
    "plt.axis(\"off\")\n",
    "plt.imshow(Hf[0,:,:,6], cmap = \"gray\")"
   ]
  },
  {
   "cell_type": "markdown",
   "metadata": {},
   "source": [
    "As we explained in the script, we can compute the wavefront set of $H(f)$ using the gradient. \n",
    "\n",
    "We know that the weak gradient of $H(f)$ is given by the relation\n",
    "$$\n",
    "\\int_{\\mathbb{R}^2}\\nabla H(f)(x)\\cdot \\varphi (x)dx = -\\oint_{\\partial \\Omega} \\varphi(x)\\cdot n_{\\partial\\Omega}(x)dS(x)\n",
    "$$\n",
    "\n",
    "where $n_{\\partial\\Omega}(x)$ is the outward normal to the boundary surface $\\partial\\Omega$, where $\\Omega= \\text{supp}_+(f)$ (the non-negative support)."
   ]
  },
  {
   "cell_type": "markdown",
   "metadata": {},
   "source": [
    "Now, the $f$ has 32 channels and is also batched, we can apply our analysis to each channel individually and batch element. We compute the gradient with the same operator than in the differential approximation of the convolutional operation."
   ]
  },
  {
   "cell_type": "code",
   "execution_count": 72,
   "metadata": {},
   "outputs": [],
   "source": [
    "# Channels where Hf is non zero\n",
    "channels_nonzero = np.where(Hf!=0)[3]"
   ]
  },
  {
   "cell_type": "code",
   "execution_count": 73,
   "metadata": {},
   "outputs": [],
   "source": [
    "from scipy import ndimage"
   ]
  },
  {
   "cell_type": "code",
   "execution_count": 74,
   "metadata": {},
   "outputs": [],
   "source": [
    "# Function that computes the gradient for each channel\n",
    "def grad_channel_batch(f):\n",
    "    fxs = np.zeros(f.shape)\n",
    "    fys = fxs.copy(f.shape)\n",
    "    for batch in range(fxs.shape[0]):\n",
    "        for channel in range(fxs.shape[3]):\n",
    "            fi = f[batch,:,:,channel]\n",
    "            fxs[batch,:,:,channel] = ndimage.sobel(fi, axis= 0, mode='constant')\n",
    "            fys[batch,:,:,channel] = ndimage.sobel(fi, axis= 1, mode='constant')\n",
    "    return fxs, fys"
   ]
  },
  {
   "cell_type": "code",
   "execution_count": 75,
   "metadata": {},
   "outputs": [],
   "source": [
    "# Compute WF set from gradient\n",
    "def WF_grad(fx,fy):\n",
    "    WFset = np.zeros(fx.shape)\n",
    "    for i in range(fx.shape[0]):\n",
    "        for j in range(fx.shape[1]):\n",
    "            if fx[i,j] == 0:\n",
    "                WFset[i,j] = 0\n",
    "            else:\n",
    "                WFset[i,j] = 180*np.arctan(fy[i,j]/fx[i,j])/(2*np.pi)\n",
    "    return WFimage"
   ]
  },
  {
   "cell_type": "code",
   "execution_count": 154,
   "metadata": {},
   "outputs": [],
   "source": [
    "# Compute WF set from gradient for mutiple channels\n",
    "def WF_grad_channel_batch(fxs, fys):\n",
    "    WFset = np.zeros(fxs.shape)\n",
    "    for batch in range(fxs.shape[0]):\n",
    "        for channel in range(fxs.shape[3]):\n",
    "            fx = fxs[batch,:,:,channel]\n",
    "            fy = fys[batch,:,:,channel]\n",
    "            WFset[batch,:,:,channel] = WF_grad(fx,fy)\n",
    "    return WFset"
   ]
  },
  {
   "cell_type": "code",
   "execution_count": 152,
   "metadata": {},
   "outputs": [
    {
     "name": "stderr",
     "output_type": "stream",
     "text": [
      "/homes/extern/andrade/store/miniconda3/envs/tf_gpu/lib/python3.6/site-packages/ipykernel_launcher.py:4: DeprecationWarning: Non-string object detected for the array ordering. Please pass in 'C', 'F', 'A', or 'K' instead\n",
      "  after removing the cwd from sys.path.\n"
     ]
    }
   ],
   "source": [
    "fxs, fys = grad_channel_batch(Hf)"
   ]
  },
  {
   "cell_type": "code",
   "execution_count": 77,
   "metadata": {},
   "outputs": [],
   "source": [
    "batch = 0\n",
    "channel = channels_nonzero[2]\n",
    "fi = f[batch,:,:,channel]\n",
    "Hfi =  Hf[batch,:,:,channel]\n",
    "fx = fxs[batch,:,:,channel]\n",
    "fy = fys[batch,:,:,channel]\n",
    "edges = np.hypot(fx,fy)\n",
    "WFimage = WF_grad(fx,fy)"
   ]
  },
  {
   "cell_type": "code",
   "execution_count": 78,
   "metadata": {},
   "outputs": [
    {
     "data": {
      "text/plain": [
       "<matplotlib.image.AxesImage at 0x2acc16ce4dd8>"
      ]
     },
     "execution_count": 78,
     "metadata": {},
     "output_type": "execute_result"
    },
    {
     "data": {
      "image/png": "[encoded data removed]",
      "text/plain": [
       "<Figure size 432x432 with 1 Axes>"
      ]
     },
     "metadata": {
      "needs_background": "light"
     },
     "output_type": "display_data"
    }
   ],
   "source": [
    "plt.figure(figsize = (6,6))\n",
    "plt.axis(\"off\")\n",
    "plt.imshow(fi, cmap = \"gray\")"
   ]
  },
  {
   "cell_type": "code",
   "execution_count": 79,
   "metadata": {},
   "outputs": [
    {
     "data": {
      "text/plain": [
       "<matplotlib.image.AxesImage at 0x2acc16d2fcc0>"
      ]
     },
     "execution_count": 79,
     "metadata": {},
     "output_type": "execute_result"
    },
    {
     "data": {
      "image/png": "[encoded data removed]",
      "text/plain": [
       "<Figure size 432x432 with 1 Axes>"
      ]
     },
     "metadata": {
      "needs_background": "light"
     },
     "output_type": "display_data"
    }
   ],
   "source": [
    "plt.figure(figsize = (6,6))\n",
    "plt.axis(\"off\")\n",
    "plt.imshow(Hfi, cmap = \"gray\")"
   ]
  },
  {
   "cell_type": "markdown",
   "metadata": {},
   "source": [
    "### The singular support and wavefront set will be"
   ]
  },
  {
   "cell_type": "code",
   "execution_count": 80,
   "metadata": {},
   "outputs": [
    {
     "data": {
      "text/plain": [
       "<matplotlib.image.AxesImage at 0x2acc16d79ba8>"
      ]
     },
     "execution_count": 80,
     "metadata": {},
     "output_type": "execute_result"
    },
    {
     "data": {
      "image/png": "[encoded data removed]",
      "text/plain": [
       "<Figure size 432x432 with 1 Axes>"
      ]
     },
     "metadata": {
      "needs_background": "light"
     },
     "output_type": "display_data"
    }
   ],
   "source": [
    "plt.figure(figsize = (6,6))\n",
    "plt.axis(\"off\")\n",
    "plt.imshow(edges, cmap=\"gray\")"
   ]
  },
  {
   "cell_type": "code",
   "execution_count": 81,
   "metadata": {},
   "outputs": [
    {
     "data": {
      "text/plain": [
       "<matplotlib.image.AxesImage at 0x2acc16dc4978>"
      ]
     },
     "execution_count": 81,
     "metadata": {},
     "output_type": "execute_result"
    },
    {
     "data": {
      "image/png": "[encoded data removed]",
      "text/plain": [
       "<Figure size 432x432 with 1 Axes>"
      ]
     },
     "metadata": {
      "needs_background": "light"
     },
     "output_type": "display_data"
    }
   ],
   "source": [
    "plt.figure(figsize = (6,6))\n",
    "plt.axis(\"off\")\n",
    "plot_WF(WFimage)"
   ]
  },
  {
   "cell_type": "markdown",
   "metadata": {},
   "source": [
    "### Computing $WF(\\text{ReLU}(f))$"
   ]
  },
  {
   "cell_type": "code",
   "execution_count": 82,
   "metadata": {},
   "outputs": [],
   "source": [
    "def ReLU(x):\n",
    "    return np.array([max(xi,0) for xi in x])"
   ]
  },
  {
   "cell_type": "code",
   "execution_count": 83,
   "metadata": {},
   "outputs": [],
   "source": [
    "def ReLU2(f):\n",
    "    ReLUf=np.zeros(f.shape);\n",
    "    for i in range(f.shape[0]):\n",
    "        for j in range(f.shape[1]):\n",
    "            ReLUf[i,j] = max(f[i,j],0)\n",
    "    return ReLUf"
   ]
  },
  {
   "cell_type": "code",
   "execution_count": 84,
   "metadata": {},
   "outputs": [],
   "source": [
    "def ReLU2_channel_batch(f):\n",
    "    ReLUfs = np.zeros(f.shape)\n",
    "    for batch in range(fxs.shape[0]):\n",
    "        for channel in range(fxs.shape[3]):\n",
    "            fi = f[batch,:,:,channel]\n",
    "            ReLUfs[batch,:,:,channel] = ReLU2(fi);\n",
    "    return ReLUfs"
   ]
  },
  {
   "cell_type": "code",
   "execution_count": 85,
   "metadata": {},
   "outputs": [],
   "source": [
    "ReLUfs = ReLU2_channel_batch(f)"
   ]
  },
  {
   "cell_type": "code",
   "execution_count": 86,
   "metadata": {},
   "outputs": [],
   "source": [
    "batch = 0\n",
    "channel = channels_nonzero[2]\n",
    "fi = f[batch,:,:,channel]\n",
    "ReLUfi =  ReLUfs[batch,:,:,channel]"
   ]
  },
  {
   "cell_type": "code",
   "execution_count": 87,
   "metadata": {},
   "outputs": [
    {
     "data": {
      "text/plain": [
       "<matplotlib.image.AxesImage at 0x2acc16e15f28>"
      ]
     },
     "execution_count": 87,
     "metadata": {},
     "output_type": "execute_result"
    },
    {
     "data": {
      "image/png": "[encoded data removed]",
      "text/plain": [
       "<Figure size 432x432 with 1 Axes>"
      ]
     },
     "metadata": {
      "needs_background": "light"
     },
     "output_type": "display_data"
    }
   ],
   "source": [
    "plt.figure(figsize = (6,6))\n",
    "plt.axis(\"off\")\n",
    "plt.imshow(fi, cmap = \"gray\")"
   ]
  },
  {
   "cell_type": "code",
   "execution_count": 88,
   "metadata": {},
   "outputs": [
    {
     "data": {
      "text/plain": [
       "<matplotlib.image.AxesImage at 0x2acc16e5cbe0>"
      ]
     },
     "execution_count": 88,
     "metadata": {},
     "output_type": "execute_result"
    },
    {
     "data": {
      "image/png": "[encoded data removed]",
      "text/plain": [
       "<Figure size 432x432 with 1 Axes>"
      ]
     },
     "metadata": {
      "needs_background": "light"
     },
     "output_type": "display_data"
    }
   ],
   "source": [
    "plt.figure(figsize = (6,6))\n",
    "plt.axis(\"off\")\n",
    "plt.imshow(ReLUfi, cmap = \"gray\")"
   ]
  },
  {
   "cell_type": "code",
   "execution_count": 89,
   "metadata": {},
   "outputs": [
    {
     "name": "stderr",
     "output_type": "stream",
     "text": [
      "/homes/extern/andrade/store/miniconda3/envs/tf_gpu/lib/python3.6/site-packages/ipykernel_launcher.py:4: DeprecationWarning: Non-string object detected for the array ordering. Please pass in 'C', 'F', 'A', or 'K' instead\n",
      "  after removing the cwd from sys.path.\n"
     ]
    }
   ],
   "source": [
    "fxs, fys = grad_channel_batch(Hf)\n",
    "WFimage_Hf = WF_grad(fx,fy)"
   ]
  },
  {
   "cell_type": "markdown",
   "metadata": {},
   "source": [
    "The Wavefront set $WF(\\text{ReLU}(f))$ will be the sum of the wavefront sets $WF(f)$ and $WF(H(f))$ without the regular points of each."
   ]
  },
  {
   "cell_type": "code",
   "execution_count": 90,
   "metadata": {},
   "outputs": [],
   "source": [
    "WFimage_f = WFimage_sino_lowd;"
   ]
  },
  {
   "cell_type": "code",
   "execution_count": 91,
   "metadata": {},
   "outputs": [],
   "source": [
    "WFimage_ReLUf = (WFimage_Hf+WFimage_f)%180"
   ]
  },
  {
   "cell_type": "code",
   "execution_count": 92,
   "metadata": {},
   "outputs": [
    {
     "data": {
      "text/plain": [
       "<matplotlib.image.AxesImage at 0x2acc16ea9a58>"
      ]
     },
     "execution_count": 92,
     "metadata": {},
     "output_type": "execute_result"
    },
    {
     "data": {
      "image/png": "[encoded data removed]",
      "text/plain": [
       "<Figure size 432x432 with 1 Axes>"
      ]
     },
     "metadata": {
      "needs_background": "light"
     },
     "output_type": "display_data"
    }
   ],
   "source": [
    "plt.figure(figsize = (6,6))\n",
    "plt.axis(\"off\")\n",
    "plot_WF(WFimage_ReLUf)"
   ]
  },
  {
   "cell_type": "markdown",
   "metadata": {},
   "source": [
    "## Analysis of wavefront set of the ReLU layer in the primal step"
   ]
  },
  {
   "cell_type": "markdown",
   "metadata": {},
   "source": [
    "Extracting the convolutional kernel and bias"
   ]
  },
  {
   "cell_type": "code",
   "execution_count": 93,
   "metadata": {},
   "outputs": [],
   "source": [
    "iterate = 0\n",
    "conv_layer = 0\n",
    "dual = False"
   ]
  },
  {
   "cell_type": "code",
   "execution_count": 94,
   "metadata": {},
   "outputs": [],
   "source": [
    "if dual== True:\n",
    "    ld = 'dual'\n",
    "    shape = operator_lowd.range.shape\n",
    "else:\n",
    "    ld = 'primal'\n",
    "    shape = operator_lowd.domain.shape"
   ]
  },
  {
   "cell_type": "code",
   "execution_count": 95,
   "metadata": {},
   "outputs": [],
   "source": [
    "if conv_layer == 0:\n",
    "    conv_name = '/conv2d/'\n",
    "else:\n",
    "    conv_name = '/conv2d_'+str(conv_layer)+'/'"
   ]
  },
  {
   "cell_type": "code",
   "execution_count": 99,
   "metadata": {},
   "outputs": [],
   "source": [
    "name_kernel = (ld+'_iterate_'+str(iterate)+conv_name+'kernel:0')\n",
    "#name_bias = (ld+'_iterate_'+str(iterate)+conv_name+'bias:0')"
   ]
  },
  {
   "cell_type": "code",
   "execution_count": 100,
   "metadata": {},
   "outputs": [],
   "source": [
    "kernels = gr.get_tensor_by_name(name_kernel)\n",
    "#bias = gr.get_tensor_by_name(name_bias)"
   ]
  },
  {
   "cell_type": "code",
   "execution_count": 101,
   "metadata": {},
   "outputs": [
    {
     "data": {
      "text/plain": [
       "'primal_iterate_0/conv2d/kernel:0'"
      ]
     },
     "execution_count": 101,
     "metadata": {},
     "output_type": "execute_result"
    }
   ],
   "source": [
    "name_kernel"
   ]
  },
  {
   "cell_type": "code",
   "execution_count": 102,
   "metadata": {},
   "outputs": [],
   "source": [
    "evalop = odl_op_layer_adjoint(y_rt)"
   ]
  },
  {
   "cell_type": "code",
   "execution_count": 103,
   "metadata": {},
   "outputs": [
    {
     "data": {
      "text/plain": [
       "<matplotlib.image.AxesImage at 0x2acc16f03ef0>"
      ]
     },
     "execution_count": 103,
     "metadata": {},
     "output_type": "execute_result"
    },
    {
     "data": {
      "image/png": "[encoded data removed]",
      "text/plain": [
       "<Figure size 432x432 with 1 Axes>"
      ]
     },
     "metadata": {
      "needs_background": "light"
     },
     "output_type": "display_data"
    }
   ],
   "source": [
    "plt.figure(figsize = (6,6))\n",
    "plt.axis(\"off\")\n",
    "plt.imshow(realphantom, cmap=\"gray\")"
   ]
  },
  {
   "cell_type": "code",
   "execution_count": 104,
   "metadata": {},
   "outputs": [
    {
     "data": {
      "text/plain": [
       "<matplotlib.image.AxesImage at 0x2acc16f557f0>"
      ]
     },
     "execution_count": 104,
     "metadata": {},
     "output_type": "execute_result"
    },
    {
     "data": {
      "image/png": "[encoded data removed]",
      "text/plain": [
       "<Figure size 432x432 with 1 Axes>"
      ]
     },
     "metadata": {
      "needs_background": "light"
     },
     "output_type": "display_data"
    }
   ],
   "source": [
    "plt.figure(figsize = (6,6))\n",
    "plt.axis(\"off\")\n",
    "plt.imshow(evalop.eval()[0,:,:,0], cmap = \"gray\")"
   ]
  },
  {
   "cell_type": "code",
   "execution_count": 105,
   "metadata": {},
   "outputs": [],
   "source": [
    "update = tf.concat([primal, evalop], axis=-1)"
   ]
  },
  {
   "cell_type": "code",
   "execution_count": 106,
   "metadata": {},
   "outputs": [],
   "source": [
    "conv_kernel_1 = tf.nn.conv2d(update, kernels, [1, 1, 1, 1], padding='SAME')\n",
    "#conv_bias_1 = tf.nn.bias_add(conv_kernel_1, bias)\n",
    "conv_relu_1 = relu(conv_kernel_1)"
   ]
  },
  {
   "cell_type": "code",
   "execution_count": 107,
   "metadata": {},
   "outputs": [
    {
     "data": {
      "text/plain": [
       "(1, 256, 256, 6)"
      ]
     },
     "execution_count": 107,
     "metadata": {},
     "output_type": "execute_result"
    }
   ],
   "source": [
    "update.eval().shape"
   ]
  },
  {
   "cell_type": "code",
   "execution_count": 108,
   "metadata": {
    "scrolled": false
   },
   "outputs": [
    {
     "data": {
      "text/plain": [
       "<matplotlib.image.AxesImage at 0x2acc16fad358>"
      ]
     },
     "execution_count": 108,
     "metadata": {},
     "output_type": "execute_result"
    },
    {
     "data": {
      "image/png": "[encoded data removed]",
      "text/plain": [
       "<Figure size 432x432 with 1 Axes>"
      ]
     },
     "metadata": {
      "needs_background": "light"
     },
     "output_type": "display_data"
    }
   ],
   "source": [
    "plt.figure(figsize = (6,6))\n",
    "plt.axis(\"off\")\n",
    "plt.imshow(update.eval()[0,:,:,5], cmap = \"gray\")"
   ]
  },
  {
   "cell_type": "code",
   "execution_count": 109,
   "metadata": {
    "scrolled": true
   },
   "outputs": [
    {
     "data": {
      "text/plain": [
       "<matplotlib.image.AxesImage at 0x2acc16ffb9e8>"
      ]
     },
     "execution_count": 109,
     "metadata": {},
     "output_type": "execute_result"
    },
    {
     "data": {
      "image/png": "[encoded data removed]",
      "text/plain": [
       "<Figure size 432x432 with 1 Axes>"
      ]
     },
     "metadata": {
      "needs_background": "light"
     },
     "output_type": "display_data"
    }
   ],
   "source": [
    "plt.figure(figsize = (6,6))\n",
    "plt.axis(\"off\")\n",
    "plt.imshow(conv_kernel_1.eval()[0,:,:,5], cmap = \"gray\")"
   ]
  },
  {
   "cell_type": "code",
   "execution_count": 111,
   "metadata": {},
   "outputs": [
    {
     "data": {
      "text/plain": [
       "<matplotlib.image.AxesImage at 0x2acc170935f8>"
      ]
     },
     "execution_count": 111,
     "metadata": {},
     "output_type": "execute_result"
    },
    {
     "data": {
      "image/png": "[encoded data removed]",
      "text/plain": [
       "<Figure size 432x432 with 1 Axes>"
      ]
     },
     "metadata": {
      "needs_background": "light"
     },
     "output_type": "display_data"
    }
   ],
   "source": [
    "plt.figure(figsize = (6,6))\n",
    "plt.axis(\"off\")\n",
    "plt.imshow(conv_relu_1.eval()[0,:,:,5], cmap = \"gray\")"
   ]
  },
  {
   "cell_type": "code",
   "execution_count": 113,
   "metadata": {},
   "outputs": [],
   "source": [
    "f = conv_relu_1.eval()"
   ]
  },
  {
   "cell_type": "code",
   "execution_count": 114,
   "metadata": {},
   "outputs": [],
   "source": [
    "Hf = np.heaviside(f,0)\n",
    "ReLUfs = ReLU2_channel_batch(f)\n",
    "channels_nonzero = np.where(Hf!=0)[3]"
   ]
  },
  {
   "cell_type": "code",
   "execution_count": 115,
   "metadata": {},
   "outputs": [
    {
     "name": "stderr",
     "output_type": "stream",
     "text": [
      "/homes/extern/andrade/store/miniconda3/envs/tf_gpu/lib/python3.6/site-packages/ipykernel_launcher.py:4: DeprecationWarning: Non-string object detected for the array ordering. Please pass in 'C', 'F', 'A', or 'K' instead\n",
      "  after removing the cwd from sys.path.\n"
     ]
    }
   ],
   "source": [
    "fxs, fys = grad_channel_batch(Hf)"
   ]
  },
  {
   "cell_type": "code",
   "execution_count": 116,
   "metadata": {},
   "outputs": [],
   "source": [
    "batch = 0\n",
    "channel = channels_nonzero[2]\n",
    "fi = f[batch,:,:,channel]\n",
    "Hfi =  Hf[batch,:,:,channel]\n",
    "ReLUfi = ReLUfs[batch,:,:,channel]\n",
    "fx = fxs[batch,:,:,channel]\n",
    "fy = fys[batch,:,:,channel]\n",
    "edges = np.hypot(fx,fy)\n",
    "WFimage_Hf = WF_grad(fx,fy)"
   ]
  },
  {
   "cell_type": "code",
   "execution_count": 117,
   "metadata": {},
   "outputs": [
    {
     "data": {
      "text/plain": [
       "<matplotlib.image.AxesImage at 0x2acc170dfcf8>"
      ]
     },
     "execution_count": 117,
     "metadata": {},
     "output_type": "execute_result"
    },
    {
     "data": {
      "image/png": "[encoded data removed]",
      "text/plain": [
       "<Figure size 432x432 with 1 Axes>"
      ]
     },
     "metadata": {
      "needs_background": "light"
     },
     "output_type": "display_data"
    }
   ],
   "source": [
    "plt.figure(figsize = (6,6))\n",
    "plt.axis(\"off\")\n",
    "plt.imshow(fi, cmap = \"gray\")"
   ]
  },
  {
   "cell_type": "code",
   "execution_count": 118,
   "metadata": {},
   "outputs": [
    {
     "data": {
      "text/plain": [
       "<matplotlib.image.AxesImage at 0x2acc1705b1d0>"
      ]
     },
     "execution_count": 118,
     "metadata": {},
     "output_type": "execute_result"
    },
    {
     "data": {
      "image/png": "[encoded data removed]",
      "text/plain": [
       "<Figure size 432x432 with 1 Axes>"
      ]
     },
     "metadata": {
      "needs_background": "light"
     },
     "output_type": "display_data"
    }
   ],
   "source": [
    "plt.figure(figsize = (6,6))\n",
    "plt.axis(\"off\")\n",
    "plt.imshow(Hfi, cmap = \"gray\")"
   ]
  },
  {
   "cell_type": "code",
   "execution_count": 119,
   "metadata": {},
   "outputs": [
    {
     "data": {
      "text/plain": [
       "<matplotlib.image.AxesImage at 0x2ac99299e908>"
      ]
     },
     "execution_count": 119,
     "metadata": {},
     "output_type": "execute_result"
    },
    {
     "data": {
      "image/png": "[encoded data removed]",
      "text/plain": [
       "<Figure size 432x432 with 1 Axes>"
      ]
     },
     "metadata": {
      "needs_background": "light"
     },
     "output_type": "display_data"
    }
   ],
   "source": [
    "plt.figure(figsize = (6,6))\n",
    "plt.axis(\"off\")\n",
    "plt.imshow(ReLUfi, cmap = \"gray\")"
   ]
  },
  {
   "cell_type": "code",
   "execution_count": 120,
   "metadata": {},
   "outputs": [],
   "source": [
    "WFimage_f = WFimage_lowd"
   ]
  },
  {
   "cell_type": "code",
   "execution_count": 121,
   "metadata": {},
   "outputs": [],
   "source": [
    "WFimage_ReLUf = (WFimage_Hf+WFimage_f)%180"
   ]
  },
  {
   "cell_type": "code",
   "execution_count": 122,
   "metadata": {},
   "outputs": [
    {
     "data": {
      "text/plain": [
       "<matplotlib.image.AxesImage at 0x2acadfeba400>"
      ]
     },
     "execution_count": 122,
     "metadata": {},
     "output_type": "execute_result"
    },
    {
     "data": {
      "image/png": "[encoded data removed]",
      "text/plain": [
       "<Figure size 432x432 with 1 Axes>"
      ]
     },
     "metadata": {
      "needs_background": "light"
     },
     "output_type": "display_data"
    }
   ],
   "source": [
    "plt.figure(figsize = (6,6))\n",
    "plt.axis(\"off\")\n",
    "plot_WF(WFimage_ReLUf)"
   ]
  },
  {
   "cell_type": "markdown",
   "metadata": {},
   "source": [
    "### Functional approach"
   ]
  },
  {
   "cell_type": "code",
   "execution_count": 183,
   "metadata": {},
   "outputs": [],
   "source": [
    "## Defining intial values\n",
    "\n",
    "# Initial values of the recon and data\n",
    "x_true = realphantom_tf \n",
    "y_rt = sinogram_lowd_tf;\n",
    "\n",
    "# Initial value of the primal, dual, update, evalop\n",
    "primal = tf.concat([tf.zeros_like(x_true)] * n_primal, axis=-1)\n",
    "dual = tf.concat([tf.zeros_like(y_rt)] * n_dual, axis=-1)\n",
    "evalop = odl_op_layer(primal[..., 1:2])\n",
    "update = tf.concat([dual, evalop, y_rt], axis=-1)\n",
    "\n",
    "# Initial value of WFset\n",
    "WFset = WFimage_sino_lowd"
   ]
  },
  {
   "cell_type": "code",
   "execution_count": 125,
   "metadata": {},
   "outputs": [],
   "source": [
    "iterate = 0\n",
    "conv_layer = 0\n",
    "dual = True"
   ]
  },
  {
   "cell_type": "code",
   "execution_count": 126,
   "metadata": {},
   "outputs": [],
   "source": [
    "## Defining shape and name of the layer\n",
    "if dual== True:\n",
    "    ld = 'dual'\n",
    "    shape = operator_lowd.range.shape\n",
    "else:\n",
    "    ld = 'primal'\n",
    "    shape = operator_lowd.domain.shape\n",
    "    \n",
    "if conv_layer == 0:\n",
    "    conv_name = '/conv2d/'\n",
    "else:\n",
    "    conv_name = '/conv2d_'+str(conv_layer)+'/'\n",
    "    \n",
    "# Defining name of the kernel\n",
    "name_kernel = (ld+'_iterate_'+str(iterate)+conv_name+'kernel:0')\n",
    "\n",
    "# Load the kernels value\n",
    "kernels = gr.get_tensor_by_name(name_kernel)"
   ]
  },
  {
   "cell_type": "code",
   "execution_count": 127,
   "metadata": {},
   "outputs": [],
   "source": [
    "# Apply the convolutional layer to the update\n",
    "conv_kernel_1 = tf.nn.conv2d(update, kernels, [1, 1, 1, 1], padding='SAME')\n",
    "conv_relu_1 = relu(conv_kernel_1)"
   ]
  },
  {
   "cell_type": "code",
   "execution_count": 139,
   "metadata": {},
   "outputs": [],
   "source": [
    "# Evaluate convolutional kernel\n",
    "f = conv_kernel_1.eval()\n",
    "\n",
    "# Apply heaviside function\n",
    "Hf = np.heaviside(f,0)"
   ]
  },
  {
   "cell_type": "code",
   "execution_count": 155,
   "metadata": {},
   "outputs": [
    {
     "name": "stderr",
     "output_type": "stream",
     "text": [
      "/homes/extern/andrade/store/miniconda3/envs/tf_gpu/lib/python3.6/site-packages/ipykernel_launcher.py:4: DeprecationWarning: Non-string object detected for the array ordering. Please pass in 'C', 'F', 'A', or 'K' instead\n",
      "  after removing the cwd from sys.path.\n"
     ]
    }
   ],
   "source": [
    "# Apply ReLU output for each batch and channel\n",
    "ReLUfs = ReLU2_channel_batch(f)\n",
    "\n",
    "# Computing the Heavisde part of the Wavefrontset \n",
    "fxs, fys = grad_channel_batch(Hf)\n",
    "WFset_Hf = WF_grad_channel_batch(fxs, fys)"
   ]
  },
  {
   "cell_type": "code",
   "execution_count": 187,
   "metadata": {},
   "outputs": [],
   "source": [
    "# Wavefront set of the convolutional output\n",
    "WFset_f = WFset;\n",
    "n_batch = WFset_Hf.shape[0]\n",
    "n_channels =  WFset_Hf.shape[3]\n",
    "WFset_f = np.repeat(WFset_f[np.newaxis,:,:],n_batch, axis=0)\n",
    "WFset_f = np.repeat(WFset_f[:,:,:, np.newaxis],n_channels, axis=3)"
   ]
  },
  {
   "cell_type": "code",
   "execution_count": 188,
   "metadata": {},
   "outputs": [],
   "source": [
    "# Computing the Wavefrnt set of the ReLU layer\n",
    "WFset_ReLUf = (WFset_Hf+WFset_f)%180"
   ]
  },
  {
   "cell_type": "code",
   "execution_count": 191,
   "metadata": {},
   "outputs": [
    {
     "data": {
      "text/plain": [
       "<matplotlib.image.AxesImage at 0x2acc174d4080>"
      ]
     },
     "execution_count": 191,
     "metadata": {},
     "output_type": "execute_result"
    },
    {
     "data": {
      "image/png": "[encoded data removed]",
      "text/plain": [
       "<Figure size 432x432 with 1 Axes>"
      ]
     },
     "metadata": {
      "needs_background": "light"
     },
     "output_type": "display_data"
    }
   ],
   "source": [
    "plt.figure(figsize = (6,6))\n",
    "plt.axis(\"off\")\n",
    "plot_WF(WFset_ReLUf[0,:,:,0])"
   ]
  },
  {
   "cell_type": "markdown",
   "metadata": {},
   "source": [
    "## Function"
   ]
  },
  {
   "cell_type": "code",
   "execution_count": 194,
   "metadata": {},
   "outputs": [],
   "source": [
    "iterate = 0\n",
    "conv_layer = 0\n",
    "dual = True\n",
    "update = update\n",
    "radon = operator_lowd\n",
    "n_batch = WFset_Hf.shape[0]\n",
    "n_channels =  32\n",
    "WFset_f = np.repeat(WFset[np.newaxis,:,:],n_batch, axis=0)\n",
    "WFset_f = np.repeat(WFset_f[:,:,:, np.newaxis],n_channels, axis=3)"
   ]
  },
  {
   "cell_type": "code",
   "execution_count": 195,
   "metadata": {},
   "outputs": [],
   "source": [
    "def ReLU_microlocal(update, radon, WFset_f, iterate, conv_layer, dual):\n",
    "    ## Defining shape and name of the layer\n",
    "    if dual== True:\n",
    "        ld = 'dual'\n",
    "        shape = radon.range.shape\n",
    "    else:\n",
    "        ld = 'primal'\n",
    "        shape = radon.domain.shape\n",
    "\n",
    "    if conv_layer == 0:\n",
    "        conv_name = '/conv2d/'\n",
    "    else:\n",
    "        conv_name = '/conv2d_'+str(conv_layer)+'/'\n",
    "\n",
    "    # Defining name of the kernel\n",
    "    name_kernel = (ld+'_iterate_'+str(iterate)+conv_name+'kernel:0')\n",
    "\n",
    "    # Load the kernels value\n",
    "    kernels = gr.get_tensor_by_name(name_kernel)\n",
    "    \n",
    "    # Apply the convolutional layer to the update\n",
    "    conv_kernel_1 = tf.nn.conv2d(update, kernels, [1, 1, 1, 1], padding='SAME')\n",
    "    conv_relu_1 = relu(conv_kernel_1)\n",
    "    # Evaluate convolutional kernel\n",
    "    f = conv_kernel_1.eval()\n",
    "\n",
    "    # Apply heaviside function\n",
    "    Hf = np.heaviside(f,0)\n",
    "    \n",
    "    # Apply ReLU output for each batch and channel\n",
    "    ReLUfs = ReLU2_channel_batch(f)\n",
    "\n",
    "    # Computing the Heavisde part of the Wavefrontset \n",
    "    fxs, fys = grad_channel_batch(Hf)\n",
    "    WFset_Hf = WF_grad_channel_batch(fxs, fys)\n",
    "    \n",
    "    # Computing the Wavefrnt set of the ReLU layer\n",
    "    WFset_ReLUf = (WFset_Hf+WFset_f)%180\n",
    "    \n",
    "    return WFset_ReLUf"
   ]
  },
  {
   "cell_type": "code",
   "execution_count": 199,
   "metadata": {},
   "outputs": [
    {
     "name": "stderr",
     "output_type": "stream",
     "text": [
      "/homes/extern/andrade/store/miniconda3/envs/tf_gpu/lib/python3.6/site-packages/ipykernel_launcher.py:4: DeprecationWarning: Non-string object detected for the array ordering. Please pass in 'C', 'F', 'A', or 'K' instead\n",
      "  after removing the cwd from sys.path.\n"
     ]
    }
   ],
   "source": [
    "WFset_ReLUf = ReLU_microlocal(update, radon, WFset_f, iterate, conv_layer, dual)"
   ]
  },
  {
   "cell_type": "code",
   "execution_count": 200,
   "metadata": {},
   "outputs": [
    {
     "data": {
      "text/plain": [
       "<matplotlib.image.AxesImage at 0x2acc1783ecf8>"
      ]
     },
     "execution_count": 200,
     "metadata": {},
     "output_type": "execute_result"
    },
    {
     "data": {
      "image/png": "[encoded data removed]",
      "text/plain": [
       "<Figure size 432x432 with 1 Axes>"
      ]
     },
     "metadata": {
      "needs_background": "light"
     },
     "output_type": "display_data"
    }
   ],
   "source": [
    "plt.figure(figsize = (6,6))\n",
    "plt.axis(\"off\")\n",
    "plot_WF(WFset_ReLUf[0,:,:,0])"
   ]
  },
  {
   "cell_type": "code",
   "execution_count": null,
   "metadata": {},
   "outputs": [],
   "source": []
  }
 ],
 "metadata": {
  "@webio": {
   "lastCommId": null,
   "lastKernelId": null
  },
  "kernelspec": {
   "display_name": "Python 3",
   "language": "python",
   "name": "python3"
  },
  "language_info": {
   "codemirror_mode": {
    "name": "ipython",
    "version": 3
   },
   "file_extension": ".py",
   "mimetype": "text/x-python",
   "name": "python",
   "nbconvert_exporter": "python",
   "pygments_lexer": "ipython3",
   "version": "3.6.8"
  }
 },
 "nbformat": 4,
 "nbformat_minor": 2
}
