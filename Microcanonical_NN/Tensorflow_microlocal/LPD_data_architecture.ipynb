{
 "cells": [
  {
   "cell_type": "markdown",
   "metadata": {},
   "source": [
    "# <center> Learned primal dual data architecture </center>"
   ]
  },
  {
   "cell_type": "markdown",
   "metadata": {},
   "source": [
    "In this notebook we present how to generate the data and the architecture for our problem of microlocal analysis of the learned primal dual"
   ]
  },
  {
   "cell_type": "markdown",
   "metadata": {},
   "source": [
    "## Utilitary libraries"
   ]
  },
  {
   "cell_type": "code",
   "execution_count": 1,
   "metadata": {},
   "outputs": [],
   "source": [
    "%matplotlib inline\n",
    "import os\n",
    "os.environ[\"CUDA_VISIBLE_DEVICES\"]=\"0\""
   ]
  },
  {
   "cell_type": "code",
   "execution_count": 2,
   "metadata": {},
   "outputs": [
    {
     "name": "stdout",
     "output_type": "stream",
     "text": [
      "Picking GPU 0\n"
     ]
    }
   ],
   "source": [
    "import os\n",
    "import adler\n",
    "adler.util.gpu.setup_one_gpu(0)"
   ]
  },
  {
   "cell_type": "code",
   "execution_count": 3,
   "metadata": {},
   "outputs": [],
   "source": [
    "from adler.odl.phantom import random_phantom\n",
    "from adler.tensorflow import prelu, cosine_decay"
   ]
  },
  {
   "cell_type": "code",
   "execution_count": 4,
   "metadata": {},
   "outputs": [],
   "source": [
    "import tensorflow as tf\n",
    "import numpy as np\n",
    "import odl\n",
    "import odl.contrib.tensorflow"
   ]
  },
  {
   "cell_type": "code",
   "execution_count": 5,
   "metadata": {},
   "outputs": [],
   "source": [
    "np.random.seed(0)\n",
    "#name = os.path.splitext(os.path.basename(__file__))[0]\n",
    "name = os.path.splitext(os.getcwd())[0]+'/checkpoints'"
   ]
  },
  {
   "cell_type": "code",
   "execution_count": 6,
   "metadata": {},
   "outputs": [
    {
     "name": "stdout",
     "output_type": "stream",
     "text": [
      "Creation of the directory /store/kepler/datastore/andrade/GitHub_repos/Joint_CTWF_Recon/Microcanonical_NN/Tensorflow_microlocal/checkpoints failed\n"
     ]
    }
   ],
   "source": [
    "# Creating checkpoints directory\n",
    "try:\n",
    "    os.mkdir(name)\n",
    "except OSError:\n",
    "    print (\"Creation of the directory %s failed\" % name)\n",
    "else:\n",
    "    print (\"Successfully created the directory %s \" % name)"
   ]
  },
  {
   "cell_type": "code",
   "execution_count": 7,
   "metadata": {},
   "outputs": [],
   "source": [
    "sess = tf.InteractiveSession()"
   ]
  },
  {
   "cell_type": "markdown",
   "metadata": {},
   "source": [
    "## Loading data"
   ]
  },
  {
   "cell_type": "code",
   "execution_count": 8,
   "metadata": {},
   "outputs": [],
   "source": [
    "import sys\n",
    "sys.path.append(\"../../WF_inpaint/\")"
   ]
  },
  {
   "cell_type": "code",
   "execution_count": 30,
   "metadata": {},
   "outputs": [],
   "source": [
    "# Import the needed modules\n",
    "from data.data_factory import random_realphantom\n",
    "from ellipse.ellipseWF_factory import plot_WF, WFupdate, WFupdate_sino\n",
    "\n",
    "import matplotlib.pyplot as plt\n",
    "import numpy.random as rnd\n",
    "import numpy as np\n",
    "import odl\n",
    "import matplotlib.pyplot as plt"
   ]
  },
  {
   "cell_type": "markdown",
   "metadata": {},
   "source": [
    "### Real phantom with WFset generation full and low dose"
   ]
  },
  {
   "cell_type": "code",
   "execution_count": 31,
   "metadata": {},
   "outputs": [],
   "source": [
    "size = 256\n",
    "nClasses = 180\n",
    "lowd = 40"
   ]
  },
  {
   "cell_type": "code",
   "execution_count": 32,
   "metadata": {},
   "outputs": [],
   "source": [
    "nRegions = np.random.randint(5,10)\n",
    "npoints_max = np.random.randint(8,15)\n",
    "realphantom, WFpoints, WFclasses,  WFimage = random_realphantom(size, nRegions, npoints_max, nClasses)\n",
    "\n",
    "# Compute low dose WF image\n",
    "angles_lowd = np.array([i for i in range(0,180,int(180/lowd))])\n",
    "# Extracting the wavefront set orientations in the low dose\n",
    "angles_gt = (np.array(WFclasses).astype(int)[:,0]-1)\n",
    "angles_gt_lowd = np.array([angle in angles_lowd for angle in angles_gt])\n",
    "# Generating the new WFpoints and classes\n",
    "WFpoints_lowd = WFpoints[angles_gt_lowd]\n",
    "WFclasses_lowd = list(np.array(WFclasses)[angles_gt_lowd])\n",
    "# Generating the low dose WFimage\n",
    "WFimage_lowd = np.zeros([size,size])\n",
    "WFimage_lowd = WFupdate(WFpoints_lowd, WFclasses_lowd, WFimage_lowd)"
   ]
  },
  {
   "cell_type": "code",
   "execution_count": 33,
   "metadata": {},
   "outputs": [
    {
     "data": {
      "text/plain": [
       "<matplotlib.image.AxesImage at 0x2ae701458cc0>"
      ]
     },
     "execution_count": 33,
     "metadata": {},
     "output_type": "execute_result"
    },
    {
     "data": {
      "image/png": "[encoded data removed]",
      "text/plain": [
       "<Figure size 432x432 with 1 Axes>"
      ]
     },
     "metadata": {
      "needs_background": "light"
     },
     "output_type": "display_data"
    }
   ],
   "source": [
    "plt.figure(figsize = (6,6))\n",
    "plt.axis(\"off\")\n",
    "plt.imshow(realphantom, cmap=\"gray\")"
   ]
  },
  {
   "cell_type": "code",
   "execution_count": 1,
   "metadata": {},
   "outputs": [
    {
     "ename": "NameError",
     "evalue": "name 'plt' is not defined",
     "output_type": "error",
     "traceback": [
      "\u001b[0;31m-----------------------------------------------------------------\u001b[0m",
      "\u001b[0;31mNameError\u001b[0m                       Traceback (most recent call last)",
      "\u001b[0;32m<ipython-input-1-e6fb207c2a1d>\u001b[0m in \u001b[0;36m<module>\u001b[0;34m\u001b[0m\n\u001b[1;32m      1\u001b[0m \u001b[0;31m#### plt.figure(figsize = (6,6))\u001b[0m\u001b[0;34m\u001b[0m\u001b[0;34m\u001b[0m\u001b[0;34m\u001b[0m\u001b[0m\n\u001b[0;32m----> 2\u001b[0;31m \u001b[0mplt\u001b[0m\u001b[0;34m.\u001b[0m\u001b[0maxis\u001b[0m\u001b[0;34m(\u001b[0m\u001b[0;34m\"off\"\u001b[0m\u001b[0;34m)\u001b[0m\u001b[0;34m\u001b[0m\u001b[0;34m\u001b[0m\u001b[0m\n\u001b[0m\u001b[1;32m      3\u001b[0m \u001b[0mplot_WF\u001b[0m\u001b[0;34m(\u001b[0m\u001b[0mWFimage\u001b[0m\u001b[0;34m)\u001b[0m\u001b[0;34m\u001b[0m\u001b[0;34m\u001b[0m\u001b[0m\n",
      "\u001b[0;31mNameError\u001b[0m: name 'plt' is not defined"
     ]
    }
   ],
   "source": [
    "#### plt.figure(figsize = (6,6))\n",
    "plt.axis(\"off\")\n",
    "plot_WF(WFimage)"
   ]
  },
  {
   "cell_type": "code",
   "execution_count": 35,
   "metadata": {},
   "outputs": [
    {
     "data": {
      "text/plain": [
       "<matplotlib.image.AxesImage at 0x2ae703a67978>"
      ]
     },
     "execution_count": 35,
     "metadata": {},
     "output_type": "execute_result"
    },
    {
     "data": {
      "image/png": "[encoded data removed]",
      "text/plain": [
       "<Figure size 432x432 with 1 Axes>"
      ]
     },
     "metadata": {
      "needs_background": "light"
     },
     "output_type": "display_data"
    }
   ],
   "source": [
    "plt.figure(figsize = (6,6))\n",
    "plt.axis(\"off\")\n",
    "plot_WF(WFimage_lowd)"
   ]
  },
  {
   "cell_type": "markdown",
   "metadata": {},
   "source": [
    "### Sinogram of real phantom with WFset generation with full and lowd"
   ]
  },
  {
   "cell_type": "code",
   "execution_count": 36,
   "metadata": {},
   "outputs": [],
   "source": [
    "from ray_transform.canon_relation import (point_img2sino, class_img2sino, CanRel_img2sino, \n",
    "                                         point_sino2img, CanRel_sino2img)"
   ]
  },
  {
   "cell_type": "code",
   "execution_count": 37,
   "metadata": {},
   "outputs": [],
   "source": [
    "# Create ODL data structures\n",
    "space = odl.uniform_discr([-int(size/2), -int(size/2)], [int(size/2), int(size/2)], [size, size],\n",
    "                          dtype='float32')"
   ]
  },
  {
   "cell_type": "code",
   "execution_count": 38,
   "metadata": {},
   "outputs": [],
   "source": [
    "# Full dose radon transform\n",
    "geometry = odl.tomo.parallel_beam_geometry(space, num_angles=180)\n",
    "operator = odl.tomo.RayTransform(space, geometry)\n",
    "opnorm = odl.power_method_opnorm(operator)\n",
    "operator = (1 / opnorm) * operator"
   ]
  },
  {
   "cell_type": "code",
   "execution_count": 39,
   "metadata": {},
   "outputs": [],
   "source": [
    "# Low dose radon transform\n",
    "geometry_lowd = odl.tomo.parallel_beam_geometry(space, num_angles=lowd)\n",
    "operator_lowd = odl.tomo.RayTransform(space, geometry_lowd)\n",
    "opnorm_lowd = odl.power_method_opnorm(operator_lowd)\n",
    "operator_lowd = (1 / opnorm_lowd) * operator_lowd"
   ]
  },
  {
   "cell_type": "code",
   "execution_count": 40,
   "metadata": {},
   "outputs": [],
   "source": [
    "# Full dose sinogram\n",
    "sinogram = np.array(operator(space.element(realphantom)))\n",
    "sinogram_shape = sinogram.shape\n",
    "WFpoints_sino, WFclasses_sino = CanRel_img2sino(WFpoints, WFclasses, size, sinogram_shape, num_angles = 180)\n",
    "WFimage_sino = np.zeros(sinogram.shape)\n",
    "WFimage_sino = WFupdate_sino(WFpoints_sino, WFclasses_sino, WFimage_sino)"
   ]
  },
  {
   "cell_type": "code",
   "execution_count": 41,
   "metadata": {},
   "outputs": [],
   "source": [
    "# Low dose sinogram\n",
    "sinogram_lowd= np.array(operator_lowd(space.element(realphantom)))\n",
    "sinogram_shape_lowd = sinogram_lowd.shape\n",
    "WFpoints_sino_lowd, WFclasses_sino_lowd = CanRel_img2sino(WFpoints_lowd, WFclasses_lowd, size, sinogram_shape_lowd, num_angles = 180)\n",
    "WFpoints_sino_lowd[:,1] = lowd* WFpoints_sino_lowd[:,1]/180\n",
    "WFimage_sino_lowd = np.zeros(sinogram_lowd.shape)\n",
    "WFimage_sino_lowd = WFupdate_sino(WFpoints_sino_lowd, WFclasses_sino_lowd, WFimage_sino_lowd)"
   ]
  },
  {
   "cell_type": "code",
   "execution_count": 42,
   "metadata": {},
   "outputs": [
    {
     "data": {
      "text/plain": [
       "<matplotlib.image.AxesImage at 0x2ae703b05080>"
      ]
     },
     "execution_count": 42,
     "metadata": {},
     "output_type": "execute_result"
    },
    {
     "data": {
      "image/png": "[encoded data removed]",
      "text/plain": [
       "<Figure size 432x432 with 1 Axes>"
      ]
     },
     "metadata": {
      "needs_background": "light"
     },
     "output_type": "display_data"
    }
   ],
   "source": [
    "plt.figure(figsize = (6,6))\n",
    "plt.axis(\"off\")\n",
    "plt.imshow(sinogram , cmap=\"gray\")"
   ]
  },
  {
   "cell_type": "code",
   "execution_count": 43,
   "metadata": {},
   "outputs": [
    {
     "data": {
      "text/plain": [
       "<matplotlib.image.AxesImage at 0x2ae703b48358>"
      ]
     },
     "execution_count": 43,
     "metadata": {},
     "output_type": "execute_result"
    },
    {
     "data": {
      "image/png": "[encoded data removed]",
      "text/plain": [
       "<Figure size 432x432 with 1 Axes>"
      ]
     },
     "metadata": {
      "needs_background": "light"
     },
     "output_type": "display_data"
    }
   ],
   "source": [
    "plt.figure(figsize = (6,6))\n",
    "plt.axis(\"off\")\n",
    "plot_WF(WFimage_sino)"
   ]
  },
  {
   "cell_type": "code",
   "execution_count": 44,
   "metadata": {},
   "outputs": [
    {
     "data": {
      "text/plain": [
       "<matplotlib.image.AxesImage at 0x2ae703b8ab38>"
      ]
     },
     "execution_count": 44,
     "metadata": {},
     "output_type": "execute_result"
    },
    {
     "data": {
      "image/png": "[encoded data removed]",
      "text/plain": [
       "<Figure size 432x432 with 1 Axes>"
      ]
     },
     "metadata": {
      "needs_background": "light"
     },
     "output_type": "display_data"
    }
   ],
   "source": [
    "plt.figure(figsize = (6,6))\n",
    "plt.axis(\"off\")\n",
    "plt.imshow(sinogram_lowd , cmap=\"gray\")"
   ]
  },
  {
   "cell_type": "code",
   "execution_count": 45,
   "metadata": {},
   "outputs": [
    {
     "data": {
      "text/plain": [
       "<matplotlib.image.AxesImage at 0x2ae703bc6908>"
      ]
     },
     "execution_count": 45,
     "metadata": {},
     "output_type": "execute_result"
    },
    {
     "data": {
      "image/png": "[encoded data removed]",
      "text/plain": [
       "<Figure size 432x432 with 1 Axes>"
      ]
     },
     "metadata": {
      "needs_background": "light"
     },
     "output_type": "display_data"
    }
   ],
   "source": [
    "plt.figure(figsize = (6,6))\n",
    "plt.axis(\"off\")\n",
    "plot_WF(WFimage_sino_lowd)"
   ]
  },
  {
   "cell_type": "markdown",
   "metadata": {},
   "source": [
    "### Canonical relation full and low dose sinogram"
   ]
  },
  {
   "cell_type": "code",
   "execution_count": 46,
   "metadata": {},
   "outputs": [],
   "source": [
    "# Full dose\n",
    "WFpoints_canon, WFclasses_canon = CanRel_sino2img(WFpoints_sino, WFclasses_sino, size, sinogram_shape, num_angles=180)\n",
    "WFimage_canon = np.zeros([size,size])\n",
    "WFimage_canon = WFupdate(WFpoints_canon, WFclasses_canon, WFimage_canon)"
   ]
  },
  {
   "cell_type": "code",
   "execution_count": 47,
   "metadata": {},
   "outputs": [
    {
     "data": {
      "text/plain": [
       "<matplotlib.image.AxesImage at 0x2ae703c4b828>"
      ]
     },
     "execution_count": 47,
     "metadata": {},
     "output_type": "execute_result"
    },
    {
     "data": {
      "image/png": "[encoded data removed]",
      "text/plain": [
       "<Figure size 432x432 with 1 Axes>"
      ]
     },
     "metadata": {
      "needs_background": "light"
     },
     "output_type": "display_data"
    }
   ],
   "source": [
    "plt.figure(figsize = (6,6))\n",
    "plt.axis(\"off\")\n",
    "plot_WF(WFimage_canon)"
   ]
  },
  {
   "cell_type": "code",
   "execution_count": 48,
   "metadata": {},
   "outputs": [],
   "source": [
    "# Low dose\n",
    "## Upscaling WFpoints_sino_lowd\n",
    "WFpoints_sino_lowd_up = WFpoints_sino_lowd.copy()\n",
    "WFpoints_sino_lowd_up[:,1] = WFpoints_sino_lowd_up[:,1]*180/lowd\n",
    "WFclasses_sino_lowd_up = WFclasses_sino_lowd"
   ]
  },
  {
   "cell_type": "code",
   "execution_count": 49,
   "metadata": {},
   "outputs": [],
   "source": [
    "WFpoints_canon_lowd, WFclasses_canon_lowd = CanRel_sino2img(WFpoints_sino_lowd_up, WFclasses_sino_lowd_up, size, (180,sinogram_shape[1]) , num_angles = lowd)\n",
    "WFimage_canon_lowd = np.zeros([size,size])\n",
    "WFimage_canon_lowd = WFupdate(WFpoints_canon_lowd, WFclasses_canon_lowd, WFimage_canon_lowd)"
   ]
  },
  {
   "cell_type": "code",
   "execution_count": 50,
   "metadata": {},
   "outputs": [
    {
     "data": {
      "text/plain": [
       "<matplotlib.image.AxesImage at 0x2ae7037d8e48>"
      ]
     },
     "execution_count": 50,
     "metadata": {},
     "output_type": "execute_result"
    },
    {
     "data": {
      "image/png": "[encoded data removed]",
      "text/plain": [
       "<Figure size 432x432 with 1 Axes>"
      ]
     },
     "metadata": {
      "needs_background": "light"
     },
     "output_type": "display_data"
    }
   ],
   "source": [
    "plt.figure(figsize = (6,6))\n",
    "plt.axis(\"off\")\n",
    "plot_WF(WFimage_canon_lowd)"
   ]
  },
  {
   "cell_type": "markdown",
   "metadata": {},
   "source": [
    "## Data generator for CT recon"
   ]
  },
  {
   "cell_type": "code",
   "execution_count": 51,
   "metadata": {},
   "outputs": [],
   "source": [
    "size = 256\n",
    "nClasses = 180\n",
    "lowd = 40\n",
    "nRegions = np.random.randint(5,10)\n",
    "npoints_max = np.random.randint(8,15)"
   ]
  },
  {
   "cell_type": "code",
   "execution_count": 52,
   "metadata": {},
   "outputs": [],
   "source": [
    "batch_size = 5\n",
    "n_iter = 10\n",
    "n_primal = 5\n",
    "n_dual = 5"
   ]
  },
  {
   "cell_type": "code",
   "execution_count": 53,
   "metadata": {},
   "outputs": [],
   "source": [
    "def generate_data_CT(validation=False):\n",
    "    \"\"\"Generate a set of random data.\"\"\"\n",
    "    if validation:\n",
    "        n_generate = 1\n",
    "    else: \n",
    "        n_generate = batch_size\n",
    "\n",
    "    y_arr = np.empty((n_generate, operator_lowd.range.shape[0], operator_lowd.range.shape[1], 1), dtype='float32')\n",
    "    x_true_arr = np.empty((n_generate, space.shape[0], space.shape[1], 1), dtype='float32')\n",
    "\n",
    "    for i in range(n_generate):\n",
    "        if validation:\n",
    "            phantom = odl.phantom.shepp_logan(space, True)\n",
    "        else:\n",
    "            phantom, _, _,  _ = random_realphantom(size, nRegions, npoints_max, nClasses)\n",
    "        data = operator_lowd(phantom)\n",
    "        noisy_data = data + odl.phantom.white_noise(operator_lowd.range) * np.mean(np.abs(data)) * 0.05\n",
    "\n",
    "        x_true_arr[i, ..., 0] = phantom\n",
    "        y_arr[i, ..., 0] = noisy_data\n",
    "\n",
    "    return y_arr, x_true_arr"
   ]
  },
  {
   "cell_type": "code",
   "execution_count": 54,
   "metadata": {},
   "outputs": [],
   "source": [
    "y_arr, x_true_arr = generate_data_CT()"
   ]
  },
  {
   "cell_type": "code",
   "execution_count": 55,
   "metadata": {},
   "outputs": [
    {
     "data": {
      "text/plain": [
       "<matplotlib.image.AxesImage at 0x2ae724188dd8>"
      ]
     },
     "execution_count": 55,
     "metadata": {},
     "output_type": "execute_result"
    },
    {
     "data": {
      "image/png": "[encoded data removed]",
      "text/plain": [
       "<Figure size 432x432 with 1 Axes>"
      ]
     },
     "metadata": {
      "needs_background": "light"
     },
     "output_type": "display_data"
    }
   ],
   "source": [
    "plt.figure(figsize = (6,6))\n",
    "plt.axis(\"off\")\n",
    "plt.imshow(y_arr[0,:,:,0], cmap=\"gray\")"
   ]
  },
  {
   "cell_type": "code",
   "execution_count": 56,
   "metadata": {},
   "outputs": [
    {
     "data": {
      "text/plain": [
       "<matplotlib.image.AxesImage at 0x2ae7241cf048>"
      ]
     },
     "execution_count": 56,
     "metadata": {},
     "output_type": "execute_result"
    },
    {
     "data": {
      "image/png": "[encoded data removed]",
      "text/plain": [
       "<Figure size 432x432 with 1 Axes>"
      ]
     },
     "metadata": {
      "needs_background": "light"
     },
     "output_type": "display_data"
    }
   ],
   "source": [
    "plt.figure(figsize = (6,6))\n",
    "plt.axis(\"off\")\n",
    "plt.imshow(x_true_arr[0,:,:,0], cmap=\"gray\")"
   ]
  },
  {
   "cell_type": "markdown",
   "metadata": {},
   "source": [
    "## Learned primal dual model"
   ]
  },
  {
   "cell_type": "code",
   "execution_count": 57,
   "metadata": {},
   "outputs": [],
   "source": [
    "# Create tensorflow layer from odl operator\n",
    "odl_op_layer = odl.contrib.tensorflow.as_tensorflow_layer(operator_lowd,\n",
    "                                                          'RayTransform')\n",
    "odl_op_layer_adjoint = odl.contrib.tensorflow.as_tensorflow_layer(operator_lowd.adjoint,\n",
    "                                                                  'RayTransformAdjoint')"
   ]
  },
  {
   "cell_type": "code",
   "execution_count": 58,
   "metadata": {},
   "outputs": [],
   "source": [
    "with tf.name_scope('placeholders'):\n",
    "    x_true = tf.placeholder(tf.float32, shape=[None, size, size, 1], name=\"x_true\")\n",
    "    y_rt = tf.placeholder(tf.float32, shape=[None, operator_lowd.range.shape[0], operator_lowd.range.shape[1], 1], name=\"y_rt\")\n",
    "    is_training = tf.placeholder(tf.bool, shape=(), name='is_training')"
   ]
  },
  {
   "cell_type": "code",
   "execution_count": 59,
   "metadata": {},
   "outputs": [],
   "source": [
    "def apply_conv(x, filters=32):\n",
    "    return tf.layers.conv2d(x, filters=filters, kernel_size=3, padding='SAME',\n",
    "                            kernel_initializer=tf.contrib.layers.xavier_initializer(), use_bias=False)"
   ]
  },
  {
   "cell_type": "code",
   "execution_count": 60,
   "metadata": {},
   "outputs": [],
   "source": [
    "relu = tf.nn.relu"
   ]
  },
  {
   "cell_type": "code",
   "execution_count": 61,
   "metadata": {},
   "outputs": [],
   "source": [
    "with tf.name_scope('tomography'):\n",
    "    with tf.name_scope('initial_values'):\n",
    "        primal = tf.concat([tf.zeros_like(x_true)] * n_primal, axis=-1)\n",
    "        dual = tf.concat([tf.zeros_like(y_rt)] * n_dual, axis=-1)\n",
    "\n",
    "    for i in range(n_iter):\n",
    "        with tf.variable_scope('dual_iterate_{}'.format(i)):\n",
    "            evalop = odl_op_layer(primal[..., 1:2])\n",
    "            update = tf.concat([dual, evalop, y_rt], axis=-1)\n",
    "\n",
    "            #update = prelu(apply_conv(update), name='prelu_1')\n",
    "            #update = prelu(apply_conv(update), name='prelu_2')\n",
    "            update = relu(apply_conv(update), name='relu_1')\n",
    "            update = relu(apply_conv(update), name='relu_2')            \n",
    "            update = apply_conv(update, filters=n_dual)\n",
    "            dual = dual + update\n",
    "\n",
    "        with tf.variable_scope('primal_iterate_{}'.format(i)):\n",
    "            evalop = odl_op_layer_adjoint(dual[..., 0:1])\n",
    "            update = tf.concat([primal, evalop], axis=-1)\n",
    "\n",
    "            update = relu(apply_conv(update), name='relu_1')\n",
    "            update = relu(apply_conv(update), name='relu_2')\n",
    "            update = apply_conv(update, filters=n_primal)\n",
    "            primal = primal + update\n",
    "\n",
    "    x_result = primal[..., 0:1]"
   ]
  },
  {
   "cell_type": "code",
   "execution_count": 62,
   "metadata": {},
   "outputs": [],
   "source": [
    "with tf.name_scope('loss'):\n",
    "    residual = x_result - x_true\n",
    "    squared_error = residual ** 2\n",
    "    loss = tf.reduce_mean(squared_error)"
   ]
  },
  {
   "cell_type": "code",
   "execution_count": 63,
   "metadata": {},
   "outputs": [],
   "source": [
    "with tf.name_scope('optimizer'):\n",
    "    # Learning rate\n",
    "    global_step = tf.Variable(0, trainable=False)\n",
    "    maximum_steps = 100001\n",
    "    starter_learning_rate = 1e-3\n",
    "    learning_rate = cosine_decay(starter_learning_rate,\n",
    "                                 global_step,\n",
    "                                 maximum_steps,\n",
    "                                 name='learning_rate')\n",
    "\n",
    "    update_ops = tf.get_collection(tf.GraphKeys.UPDATE_OPS)\n",
    "    with tf.control_dependencies(update_ops):\n",
    "        opt_func = tf.train.AdamOptimizer(learning_rate=learning_rate,\n",
    "                                          beta2=0.99)\n",
    "\n",
    "        tvars = tf.trainable_variables()\n",
    "        grads, _ = tf.clip_by_global_norm(tf.gradients(loss, tvars), 1)\n",
    "        optimizer = opt_func.apply_gradients(zip(grads, tvars),\n",
    "                                             global_step=global_step)"
   ]
  },
  {
   "cell_type": "code",
   "execution_count": 64,
   "metadata": {},
   "outputs": [],
   "source": [
    "ckp_name = name+'_lpd_nobias/checkpoints'"
   ]
  },
  {
   "cell_type": "code",
   "execution_count": null,
   "metadata": {},
   "outputs": [],
   "source": [
    "# Summaries\n",
    "# tensorboard --logdir=...\n",
    "\n",
    "with tf.name_scope('summaries'):\n",
    "    tf.summary.scalar('loss', loss)\n",
    "    tf.summary.scalar('psnr', -10 * tf.log(loss) / tf.log(10.0))\n",
    "\n",
    "    tf.summary.image('x_result', x_result)\n",
    "    tf.summary.image('x_true', x_true)\n",
    "    tf.summary.image('squared_error', squared_error)\n",
    "    tf.summary.image('residual', residual)\n",
    "\n",
    "    merged_summary = tf.summary.merge_all()\n",
    "    test_summary_writer = tf.summary.FileWriter(adler.tensorflow.util.default_tensorboard_dir(ckp_name) + '/test',\n",
    "                                                sess.graph)\n",
    "    train_summary_writer = tf.summary.FileWriter(adler.tensorflow.util.default_tensorboard_dir(ckp_name) + '/train')"
   ]
  },
  {
   "cell_type": "code",
   "execution_count": null,
   "metadata": {},
   "outputs": [],
   "source": [
    "# Initialize all TF variables\n",
    "sess.run(tf.global_variables_initializer())"
   ]
  },
  {
   "cell_type": "code",
   "execution_count": null,
   "metadata": {},
   "outputs": [],
   "source": [
    "# Generate validation data\n",
    "y_arr_validate, x_true_arr_validate = generate_data_CT(validation=True)"
   ]
  },
  {
   "cell_type": "code",
   "execution_count": null,
   "metadata": {},
   "outputs": [],
   "source": [
    "# Add op to save and restore\n",
    "saver = tf.train.Saver()"
   ]
  },
  {
   "cell_type": "code",
   "execution_count": null,
   "metadata": {},
   "outputs": [
    {
     "name": "stdout",
     "output_type": "stream",
     "text": [
      "iter=11, loss=0.03880983591079712\n",
      "iter=21, loss=0.032682470977306366\n",
      "iter=31, loss=0.02472984977066517\n",
      "iter=41, loss=0.024265125393867493\n",
      "iter=51, loss=0.021204113960266113\n",
      "iter=61, loss=0.021739430725574493\n",
      "iter=71, loss=0.02425554022192955\n",
      "iter=81, loss=0.02190171182155609\n",
      "iter=91, loss=0.01942433789372444\n",
      "iter=101, loss=0.01774424873292446\n",
      "iter=111, loss=0.015685444697737694\n",
      "iter=121, loss=0.01444657426327467\n",
      "iter=131, loss=0.020650601014494896\n",
      "iter=141, loss=0.022354185581207275\n",
      "iter=151, loss=0.022090813145041466\n",
      "iter=161, loss=0.021189039573073387\n",
      "iter=171, loss=0.017325516790151596\n",
      "iter=181, loss=0.015275553800165653\n",
      "iter=191, loss=0.013817238621413708\n",
      "iter=201, loss=0.01275877095758915\n",
      "iter=211, loss=0.012106236070394516\n",
      "iter=221, loss=0.015374008566141129\n",
      "iter=231, loss=0.01760164275765419\n",
      "iter=241, loss=0.016707176342606544\n",
      "iter=251, loss=0.01593160256743431\n",
      "iter=261, loss=0.015446792356669903\n",
      "iter=271, loss=0.016181491315364838\n",
      "iter=281, loss=0.017050616443157196\n",
      "iter=291, loss=0.014957655221223831\n",
      "iter=301, loss=0.013155722990632057\n",
      "iter=311, loss=0.011072831228375435\n",
      "iter=321, loss=0.010685832239687443\n",
      "iter=331, loss=0.009679784998297691\n",
      "iter=341, loss=0.009455598890781403\n",
      "iter=351, loss=0.009472055360674858\n",
      "iter=361, loss=0.008783627301454544\n",
      "iter=371, loss=0.00852457620203495\n",
      "iter=381, loss=0.008640093728899956\n",
      "iter=391, loss=0.008478589355945587\n",
      "iter=401, loss=0.007889790460467339\n",
      "iter=411, loss=0.007598510943353176\n",
      "iter=421, loss=0.007290159352123737\n",
      "iter=431, loss=0.007022721227258444\n",
      "iter=441, loss=0.00704540079459548\n",
      "iter=451, loss=0.006955503020435572\n",
      "iter=461, loss=0.006693846546113491\n",
      "iter=471, loss=0.01236716192215681\n",
      "iter=481, loss=0.010186854749917984\n",
      "iter=491, loss=0.00875895656645298\n",
      "iter=501, loss=0.007733544800430536\n",
      "iter=511, loss=0.007466044742614031\n",
      "iter=521, loss=0.0070879277773201466\n",
      "iter=531, loss=0.006662936881184578\n",
      "iter=541, loss=0.006969607900828123\n",
      "iter=551, loss=0.007252483628690243\n",
      "iter=561, loss=0.006912901997566223\n",
      "iter=571, loss=0.00694967620074749\n",
      "iter=581, loss=0.0065762861631810665\n",
      "iter=591, loss=0.006329035852104425\n",
      "iter=601, loss=0.006259559653699398\n",
      "iter=611, loss=0.006181634496897459\n",
      "iter=621, loss=0.005686239339411259\n",
      "iter=631, loss=0.00547315739095211\n",
      "iter=641, loss=0.005335648078471422\n",
      "iter=651, loss=0.00520988367497921\n",
      "iter=661, loss=0.005211180076003075\n",
      "iter=671, loss=0.00600608391687274\n",
      "iter=681, loss=0.006115799304097891\n",
      "iter=691, loss=0.00634471420198679\n",
      "iter=701, loss=0.00599721958860755\n",
      "iter=711, loss=0.005594666115939617\n",
      "iter=721, loss=0.005688784644007683\n",
      "iter=731, loss=0.005720322020351887\n",
      "iter=741, loss=0.005476454738527536\n",
      "iter=751, loss=0.00578755047172308\n",
      "iter=761, loss=0.005188837181776762\n",
      "iter=771, loss=0.005491791758686304\n",
      "iter=781, loss=0.005321916192770004\n",
      "iter=791, loss=0.005238349549472332\n",
      "iter=801, loss=0.005369177553802729\n",
      "iter=811, loss=0.0053796409629285336\n",
      "iter=821, loss=0.005371915176510811\n",
      "iter=831, loss=0.004998473450541496\n",
      "iter=841, loss=0.004585692659020424\n",
      "iter=851, loss=0.005018024239689112\n",
      "iter=861, loss=0.005758322775363922\n",
      "iter=871, loss=0.005444695241749287\n",
      "iter=881, loss=0.006673825904726982\n",
      "iter=891, loss=0.008744673803448677\n",
      "iter=901, loss=0.00757742952555418\n",
      "iter=911, loss=0.009547768160700798\n",
      "iter=921, loss=0.009959149174392223\n",
      "iter=931, loss=0.009253723546862602\n",
      "iter=941, loss=0.007928991690278053\n",
      "iter=951, loss=0.007073723711073399\n",
      "iter=961, loss=0.006413350813090801\n",
      "iter=971, loss=0.006285661831498146\n",
      "iter=981, loss=0.005860538221895695\n",
      "iter=991, loss=0.005714464467018843\n",
      "iter=1001, loss=0.005754928104579449\n",
      "iter=1011, loss=0.0051406193524599075\n",
      "iter=1021, loss=0.0051589906215667725\n",
      "iter=1031, loss=0.005150605924427509\n",
      "iter=1041, loss=0.004895978607237339\n",
      "iter=1051, loss=0.005021647550165653\n",
      "iter=1061, loss=0.004759395960718393\n",
      "iter=1071, loss=0.004776020999997854\n",
      "iter=1081, loss=0.00459040654823184\n",
      "iter=1091, loss=0.004392256960272789\n",
      "iter=1101, loss=0.004460051190108061\n",
      "iter=1111, loss=0.0046338606625795364\n",
      "iter=1121, loss=0.004501343239098787\n",
      "iter=1131, loss=0.004587357863783836\n",
      "iter=1141, loss=0.004742439370602369\n",
      "iter=1151, loss=0.004831599071621895\n",
      "iter=1161, loss=0.0049866680055856705\n",
      "iter=1171, loss=0.0050451187416911125\n",
      "iter=1181, loss=0.005061285570263863\n",
      "iter=1191, loss=0.004744258709251881\n",
      "iter=1201, loss=0.004446587059646845\n",
      "iter=1211, loss=0.005010188091546297\n",
      "iter=1221, loss=0.005017013289034367\n",
      "iter=1231, loss=0.004471750929951668\n",
      "iter=1241, loss=0.005790466442704201\n",
      "iter=1251, loss=0.005915271118283272\n",
      "iter=1261, loss=0.005744931288063526\n",
      "iter=1271, loss=0.005621492862701416\n",
      "iter=1281, loss=0.005228545982390642\n",
      "iter=1291, loss=0.005002092570066452\n",
      "iter=1301, loss=0.00467678252607584\n",
      "iter=1311, loss=0.005213742144405842\n",
      "iter=1321, loss=0.004486320540308952\n",
      "iter=1331, loss=0.004225618205964565\n",
      "iter=1341, loss=0.004591292701661587\n",
      "iter=1351, loss=0.004706579726189375\n",
      "iter=1361, loss=0.0049707163125276566\n",
      "iter=1371, loss=0.00784437358379364\n",
      "iter=1381, loss=0.005912185180932283\n",
      "iter=1391, loss=0.005086882971227169\n",
      "iter=1401, loss=0.004934630356729031\n",
      "iter=1411, loss=0.004403103608638048\n",
      "iter=1421, loss=0.00523039698600769\n",
      "iter=1431, loss=0.004452818538993597\n",
      "iter=1441, loss=0.004191565327346325\n",
      "iter=1451, loss=0.004873194731771946\n",
      "iter=1461, loss=0.004547534976154566\n",
      "iter=1471, loss=0.004544105380773544\n",
      "iter=1481, loss=0.004226401448249817\n",
      "iter=1491, loss=0.004315969068557024\n",
      "iter=1501, loss=0.00435132160782814\n",
      "iter=1511, loss=0.0039320094510912895\n",
      "iter=1521, loss=0.0040261223912239075\n",
      "iter=1531, loss=0.003894991474226117\n",
      "iter=1541, loss=0.004151437431573868\n",
      "iter=1551, loss=0.003991430625319481\n",
      "iter=1561, loss=0.003440310014411807\n",
      "iter=1571, loss=0.003793533658608794\n",
      "iter=1581, loss=0.0032813875004649162\n",
      "iter=1591, loss=0.003351694904267788\n",
      "iter=1601, loss=0.0034917495213449\n",
      "iter=1611, loss=0.0032760808244347572\n",
      "iter=1621, loss=0.003672241233289242\n",
      "iter=1631, loss=0.0037872204557061195\n",
      "iter=1641, loss=0.004035360179841518\n",
      "iter=1651, loss=0.0037923140916973352\n",
      "iter=1661, loss=0.0030785580165684223\n"
     ]
    }
   ],
   "source": [
    "# Train the network\n",
    "for i in range(0, maximum_steps):\n",
    "    if i%10 == 0:\n",
    "        y_arr, x_true_arr = generate_data_CT()\n",
    "\n",
    "    _, merged_summary_result_train, global_step_result = sess.run([optimizer, merged_summary, global_step],\n",
    "                              feed_dict={x_true: x_true_arr,\n",
    "                                         y_rt: y_arr,\n",
    "                                         is_training: True})\n",
    "    \n",
    "    if i>0 and i%10 == 0:\n",
    "        loss_result, merged_summary_result, global_step_result = sess.run([loss, merged_summary, global_step],\n",
    "                              feed_dict={x_true: x_true_arr_validate,\n",
    "                                         y_rt: y_arr_validate,\n",
    "                                         is_training: False})\n",
    "\n",
    "        train_summary_writer.add_summary(merged_summary_result_train, global_step_result)\n",
    "        test_summary_writer.add_summary(merged_summary_result, global_step_result)\n",
    "\n",
    "        print('iter={}, loss={}'.format(global_step_result, loss_result))\n",
    "\n",
    "    if i>0 and i%1000 == 0:\n",
    "        saver.save(sess,\n",
    "                   adler.tensorflow.util.default_checkpoint_path(ckp_name))"
   ]
  },
  {
   "cell_type": "code",
   "execution_count": null,
   "metadata": {},
   "outputs": [],
   "source": [
    "iterate = 0\n",
    "conv_layer = 0\n",
    "dual = False"
   ]
  },
  {
   "cell_type": "code",
   "execution_count": null,
   "metadata": {},
   "outputs": [],
   "source": [
    "if dual== True:\n",
    "    ld = 'dual'\n",
    "    shape = operator_lowd.range.shape\n",
    "else:\n",
    "    ld = 'primal'\n",
    "    shape = operator_lowd.domain.shape"
   ]
  },
  {
   "cell_type": "code",
   "execution_count": null,
   "metadata": {},
   "outputs": [],
   "source": [
    "if conv_layer == 0:\n",
    "    conv_name = '/conv2d/'\n",
    "else:\n",
    "    conv_name = '/conv2d_'+str(conv_layer)+'/'"
   ]
  },
  {
   "cell_type": "code",
   "execution_count": null,
   "metadata": {},
   "outputs": [],
   "source": [
    "name_kernel = (ld+'_iterate_'+str(iterate)+conv_name+'kernel:0')\n",
    "name_bias = (ld+'_iterate_'+str(iterate)+conv_name+'bias:0')"
   ]
  },
  {
   "cell_type": "code",
   "execution_count": null,
   "metadata": {},
   "outputs": [],
   "source": [
    "kernels = gr.get_tensor_by_name(name_kernel)\n",
    "bias = gr.get_tensor_by_name(name_bias)"
   ]
  },
  {
   "cell_type": "code",
   "execution_count": null,
   "metadata": {},
   "outputs": [],
   "source": [
    "x_true = realphantom_tf \n",
    "y_rt = sinogram_lowd_tf;"
   ]
  },
  {
   "cell_type": "code",
   "execution_count": null,
   "metadata": {},
   "outputs": [],
   "source": [
    "primal_values_result, dual_values_result = sess.run([primal_values, dual_values],\n",
    "                      feed_dict={x_true: x_true,\n",
    "                                 y_rt: y_rt,\n",
    "                                 is_training: False})"
   ]
  },
  {
   "cell_type": "code",
   "execution_count": null,
   "metadata": {},
   "outputs": [],
   "source": []
  }
 ],
 "metadata": {
  "@webio": {
   "lastCommId": null,
   "lastKernelId": null
  },
  "kernelspec": {
   "display_name": "Python 3",
   "language": "python",
   "name": "python3"
  },
  "language_info": {
   "codemirror_mode": {
    "name": "ipython",
    "version": 3
   },
   "file_extension": ".py",
   "mimetype": "text/x-python",
   "name": "python",
   "nbconvert_exporter": "python",
   "pygments_lexer": "ipython3",
   "version": "3.6.8"
  }
 },
 "nbformat": 4,
 "nbformat_minor": 2
}
