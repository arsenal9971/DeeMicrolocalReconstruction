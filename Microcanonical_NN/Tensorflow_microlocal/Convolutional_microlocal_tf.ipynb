{
 "cells": [
  {
   "cell_type": "markdown",
   "metadata": {},
   "source": [
    "# <center> Microlocal analysis of the convolutional layers in LPD</center>"
   ]
  },
  {
   "cell_type": "markdown",
   "metadata": {},
   "source": [
    "## Utilitary libraries"
   ]
  },
  {
   "cell_type": "code",
   "execution_count": 1,
   "metadata": {},
   "outputs": [],
   "source": [
    "%matplotlib inline\n",
    "import os\n",
    "os.environ[\"CUDA_VISIBLE_DEVICES\"]=\"0\""
   ]
  },
  {
   "cell_type": "code",
   "execution_count": 2,
   "metadata": {},
   "outputs": [],
   "source": [
    "import sys\n",
    "sys.path.append(\"../../WF_inpaint/\")"
   ]
  },
  {
   "cell_type": "code",
   "execution_count": 3,
   "metadata": {},
   "outputs": [
    {
     "name": "stderr",
     "output_type": "stream",
     "text": [
      "../../WF_inpaint/data/data_factory.py:7: UserWarning: \n",
      "This call to matplotlib.use() has no effect because the backend has already\n",
      "been chosen; matplotlib.use() must be called *before* pylab, matplotlib.pyplot,\n",
      "or matplotlib.backends is imported for the first time.\n",
      "\n",
      "The backend was *originally* set to 'module://ipykernel.pylab.backend_inline' by the following code:\n",
      "  File \"/homes/extern/andrade/store/miniconda3/envs/tf_gpu/lib/python3.6/runpy.py\", line 193, in _run_module_as_main\n",
      "    \"__main__\", mod_spec)\n",
      "  File \"/homes/extern/andrade/store/miniconda3/envs/tf_gpu/lib/python3.6/runpy.py\", line 85, in _run_code\n",
      "    exec(code, run_globals)\n",
      "  File \"/homes/extern/andrade/store/miniconda3/envs/tf_gpu/lib/python3.6/site-packages/ipykernel_launcher.py\", line 16, in <module>\n",
      "    app.launch_new_instance()\n",
      "  File \"/homes/extern/andrade/store/miniconda3/envs/tf_gpu/lib/python3.6/site-packages/traitlets/config/application.py\", line 658, in launch_instance\n",
      "    app.start()\n",
      "  File \"/homes/extern/andrade/store/miniconda3/envs/tf_gpu/lib/python3.6/site-packages/ipykernel/kernelapp.py\", line 505, in start\n",
      "    self.io_loop.start()\n",
      "  File \"/homes/extern/andrade/store/miniconda3/envs/tf_gpu/lib/python3.6/site-packages/tornado/platform/asyncio.py\", line 132, in start\n",
      "    self.asyncio_loop.run_forever()\n",
      "  File \"/homes/extern/andrade/store/miniconda3/envs/tf_gpu/lib/python3.6/asyncio/base_events.py\", line 438, in run_forever\n",
      "    self._run_once()\n",
      "  File \"/homes/extern/andrade/store/miniconda3/envs/tf_gpu/lib/python3.6/asyncio/base_events.py\", line 1451, in _run_once\n",
      "    handle._run()\n",
      "  File \"/homes/extern/andrade/store/miniconda3/envs/tf_gpu/lib/python3.6/asyncio/events.py\", line 145, in _run\n",
      "    self._callback(*self._args)\n",
      "  File \"/homes/extern/andrade/store/miniconda3/envs/tf_gpu/lib/python3.6/site-packages/tornado/ioloop.py\", line 758, in _run_callback\n",
      "    ret = callback()\n",
      "  File \"/homes/extern/andrade/store/miniconda3/envs/tf_gpu/lib/python3.6/site-packages/tornado/stack_context.py\", line 300, in null_wrapper\n",
      "    return fn(*args, **kwargs)\n",
      "  File \"/homes/extern/andrade/store/miniconda3/envs/tf_gpu/lib/python3.6/site-packages/tornado/gen.py\", line 1233, in inner\n",
      "    self.run()\n",
      "  File \"/homes/extern/andrade/store/miniconda3/envs/tf_gpu/lib/python3.6/site-packages/tornado/gen.py\", line 1147, in run\n",
      "    yielded = self.gen.send(value)\n",
      "  File \"/homes/extern/andrade/store/miniconda3/envs/tf_gpu/lib/python3.6/site-packages/ipykernel/kernelbase.py\", line 357, in process_one\n",
      "    yield gen.maybe_future(dispatch(*args))\n",
      "  File \"/homes/extern/andrade/store/miniconda3/envs/tf_gpu/lib/python3.6/site-packages/tornado/gen.py\", line 326, in wrapper\n",
      "    yielded = next(result)\n",
      "  File \"/homes/extern/andrade/store/miniconda3/envs/tf_gpu/lib/python3.6/site-packages/ipykernel/kernelbase.py\", line 267, in dispatch_shell\n",
      "    yield gen.maybe_future(handler(stream, idents, msg))\n",
      "  File \"/homes/extern/andrade/store/miniconda3/envs/tf_gpu/lib/python3.6/site-packages/tornado/gen.py\", line 326, in wrapper\n",
      "    yielded = next(result)\n",
      "  File \"/homes/extern/andrade/store/miniconda3/envs/tf_gpu/lib/python3.6/site-packages/ipykernel/kernelbase.py\", line 534, in execute_request\n",
      "    user_expressions, allow_stdin,\n",
      "  File \"/homes/extern/andrade/store/miniconda3/envs/tf_gpu/lib/python3.6/site-packages/tornado/gen.py\", line 326, in wrapper\n",
      "    yielded = next(result)\n",
      "  File \"/homes/extern/andrade/store/miniconda3/envs/tf_gpu/lib/python3.6/site-packages/ipykernel/ipkernel.py\", line 294, in do_execute\n",
      "    res = shell.run_cell(code, store_history=store_history, silent=silent)\n",
      "  File \"/homes/extern/andrade/store/miniconda3/envs/tf_gpu/lib/python3.6/site-packages/ipykernel/zmqshell.py\", line 536, in run_cell\n",
      "    return super(ZMQInteractiveShell, self).run_cell(*args, **kwargs)\n",
      "  File \"/homes/extern/andrade/store/miniconda3/envs/tf_gpu/lib/python3.6/site-packages/IPython/core/interactiveshell.py\", line 2823, in run_cell\n",
      "    self.events.trigger('post_run_cell', result)\n",
      "  File \"/homes/extern/andrade/store/miniconda3/envs/tf_gpu/lib/python3.6/site-packages/IPython/core/events.py\", line 88, in trigger\n",
      "    func(*args, **kwargs)\n",
      "  File \"/homes/extern/andrade/store/miniconda3/envs/tf_gpu/lib/python3.6/site-packages/ipykernel/pylab/backend_inline.py\", line 164, in configure_once\n",
      "    activate_matplotlib(backend)\n",
      "  File \"/homes/extern/andrade/store/miniconda3/envs/tf_gpu/lib/python3.6/site-packages/IPython/core/pylabtools.py\", line 314, in activate_matplotlib\n",
      "    matplotlib.pyplot.switch_backend(backend)\n",
      "  File \"/homes/extern/andrade/store/miniconda3/envs/tf_gpu/lib/python3.6/site-packages/matplotlib/pyplot.py\", line 231, in switch_backend\n",
      "    matplotlib.use(newbackend, warn=False, force=True)\n",
      "  File \"/homes/extern/andrade/store/miniconda3/envs/tf_gpu/lib/python3.6/site-packages/matplotlib/__init__.py\", line 1410, in use\n",
      "    reload(sys.modules['matplotlib.backends'])\n",
      "  File \"/homes/extern/andrade/store/miniconda3/envs/tf_gpu/lib/python3.6/importlib/__init__.py\", line 166, in reload\n",
      "    _bootstrap._exec(spec, module)\n",
      "  File \"/homes/extern/andrade/store/miniconda3/envs/tf_gpu/lib/python3.6/site-packages/matplotlib/backends/__init__.py\", line 16, in <module>\n",
      "    line for line in traceback.format_stack()\n",
      "\n",
      "\n",
      "  matplotlib.use('Agg')\n",
      "../../WF_inpaint/ellipse/ellipseWF_factory.py:9: UserWarning: \n",
      "This call to matplotlib.use() has no effect because the backend has already\n",
      "been chosen; matplotlib.use() must be called *before* pylab, matplotlib.pyplot,\n",
      "or matplotlib.backends is imported for the first time.\n",
      "\n",
      "The backend was *originally* set to 'module://ipykernel.pylab.backend_inline' by the following code:\n",
      "  File \"/homes/extern/andrade/store/miniconda3/envs/tf_gpu/lib/python3.6/runpy.py\", line 193, in _run_module_as_main\n",
      "    \"__main__\", mod_spec)\n",
      "  File \"/homes/extern/andrade/store/miniconda3/envs/tf_gpu/lib/python3.6/runpy.py\", line 85, in _run_code\n",
      "    exec(code, run_globals)\n",
      "  File \"/homes/extern/andrade/store/miniconda3/envs/tf_gpu/lib/python3.6/site-packages/ipykernel_launcher.py\", line 16, in <module>\n",
      "    app.launch_new_instance()\n",
      "  File \"/homes/extern/andrade/store/miniconda3/envs/tf_gpu/lib/python3.6/site-packages/traitlets/config/application.py\", line 658, in launch_instance\n",
      "    app.start()\n",
      "  File \"/homes/extern/andrade/store/miniconda3/envs/tf_gpu/lib/python3.6/site-packages/ipykernel/kernelapp.py\", line 505, in start\n",
      "    self.io_loop.start()\n",
      "  File \"/homes/extern/andrade/store/miniconda3/envs/tf_gpu/lib/python3.6/site-packages/tornado/platform/asyncio.py\", line 132, in start\n",
      "    self.asyncio_loop.run_forever()\n",
      "  File \"/homes/extern/andrade/store/miniconda3/envs/tf_gpu/lib/python3.6/asyncio/base_events.py\", line 438, in run_forever\n",
      "    self._run_once()\n",
      "  File \"/homes/extern/andrade/store/miniconda3/envs/tf_gpu/lib/python3.6/asyncio/base_events.py\", line 1451, in _run_once\n",
      "    handle._run()\n",
      "  File \"/homes/extern/andrade/store/miniconda3/envs/tf_gpu/lib/python3.6/asyncio/events.py\", line 145, in _run\n",
      "    self._callback(*self._args)\n",
      "  File \"/homes/extern/andrade/store/miniconda3/envs/tf_gpu/lib/python3.6/site-packages/tornado/ioloop.py\", line 758, in _run_callback\n",
      "    ret = callback()\n",
      "  File \"/homes/extern/andrade/store/miniconda3/envs/tf_gpu/lib/python3.6/site-packages/tornado/stack_context.py\", line 300, in null_wrapper\n",
      "    return fn(*args, **kwargs)\n",
      "  File \"/homes/extern/andrade/store/miniconda3/envs/tf_gpu/lib/python3.6/site-packages/tornado/gen.py\", line 1233, in inner\n",
      "    self.run()\n",
      "  File \"/homes/extern/andrade/store/miniconda3/envs/tf_gpu/lib/python3.6/site-packages/tornado/gen.py\", line 1147, in run\n",
      "    yielded = self.gen.send(value)\n",
      "  File \"/homes/extern/andrade/store/miniconda3/envs/tf_gpu/lib/python3.6/site-packages/ipykernel/kernelbase.py\", line 357, in process_one\n",
      "    yield gen.maybe_future(dispatch(*args))\n",
      "  File \"/homes/extern/andrade/store/miniconda3/envs/tf_gpu/lib/python3.6/site-packages/tornado/gen.py\", line 326, in wrapper\n",
      "    yielded = next(result)\n",
      "  File \"/homes/extern/andrade/store/miniconda3/envs/tf_gpu/lib/python3.6/site-packages/ipykernel/kernelbase.py\", line 267, in dispatch_shell\n",
      "    yield gen.maybe_future(handler(stream, idents, msg))\n",
      "  File \"/homes/extern/andrade/store/miniconda3/envs/tf_gpu/lib/python3.6/site-packages/tornado/gen.py\", line 326, in wrapper\n",
      "    yielded = next(result)\n",
      "  File \"/homes/extern/andrade/store/miniconda3/envs/tf_gpu/lib/python3.6/site-packages/ipykernel/kernelbase.py\", line 534, in execute_request\n",
      "    user_expressions, allow_stdin,\n",
      "  File \"/homes/extern/andrade/store/miniconda3/envs/tf_gpu/lib/python3.6/site-packages/tornado/gen.py\", line 326, in wrapper\n",
      "    yielded = next(result)\n",
      "  File \"/homes/extern/andrade/store/miniconda3/envs/tf_gpu/lib/python3.6/site-packages/ipykernel/ipkernel.py\", line 294, in do_execute\n",
      "    res = shell.run_cell(code, store_history=store_history, silent=silent)\n",
      "  File \"/homes/extern/andrade/store/miniconda3/envs/tf_gpu/lib/python3.6/site-packages/ipykernel/zmqshell.py\", line 536, in run_cell\n",
      "    return super(ZMQInteractiveShell, self).run_cell(*args, **kwargs)\n",
      "  File \"/homes/extern/andrade/store/miniconda3/envs/tf_gpu/lib/python3.6/site-packages/IPython/core/interactiveshell.py\", line 2823, in run_cell\n",
      "    self.events.trigger('post_run_cell', result)\n",
      "  File \"/homes/extern/andrade/store/miniconda3/envs/tf_gpu/lib/python3.6/site-packages/IPython/core/events.py\", line 88, in trigger\n",
      "    func(*args, **kwargs)\n",
      "  File \"/homes/extern/andrade/store/miniconda3/envs/tf_gpu/lib/python3.6/site-packages/ipykernel/pylab/backend_inline.py\", line 164, in configure_once\n",
      "    activate_matplotlib(backend)\n",
      "  File \"/homes/extern/andrade/store/miniconda3/envs/tf_gpu/lib/python3.6/site-packages/IPython/core/pylabtools.py\", line 314, in activate_matplotlib\n",
      "    matplotlib.pyplot.switch_backend(backend)\n",
      "  File \"/homes/extern/andrade/store/miniconda3/envs/tf_gpu/lib/python3.6/site-packages/matplotlib/pyplot.py\", line 231, in switch_backend\n",
      "    matplotlib.use(newbackend, warn=False, force=True)\n",
      "  File \"/homes/extern/andrade/store/miniconda3/envs/tf_gpu/lib/python3.6/site-packages/matplotlib/__init__.py\", line 1410, in use\n",
      "    reload(sys.modules['matplotlib.backends'])\n",
      "  File \"/homes/extern/andrade/store/miniconda3/envs/tf_gpu/lib/python3.6/importlib/__init__.py\", line 166, in reload\n",
      "    _bootstrap._exec(spec, module)\n",
      "  File \"/homes/extern/andrade/store/miniconda3/envs/tf_gpu/lib/python3.6/site-packages/matplotlib/backends/__init__.py\", line 16, in <module>\n",
      "    line for line in traceback.format_stack()\n",
      "\n",
      "\n",
      "  matplotlib.use('Agg')\n"
     ]
    },
    {
     "name": "stderr",
     "output_type": "stream",
     "text": [
      "../../WF_inpaint/realphantom/realphantomWF_factory.py:9: UserWarning: \n",
      "This call to matplotlib.use() has no effect because the backend has already\n",
      "been chosen; matplotlib.use() must be called *before* pylab, matplotlib.pyplot,\n",
      "or matplotlib.backends is imported for the first time.\n",
      "\n",
      "The backend was *originally* set to 'module://ipykernel.pylab.backend_inline' by the following code:\n",
      "  File \"/homes/extern/andrade/store/miniconda3/envs/tf_gpu/lib/python3.6/runpy.py\", line 193, in _run_module_as_main\n",
      "    \"__main__\", mod_spec)\n",
      "  File \"/homes/extern/andrade/store/miniconda3/envs/tf_gpu/lib/python3.6/runpy.py\", line 85, in _run_code\n",
      "    exec(code, run_globals)\n",
      "  File \"/homes/extern/andrade/store/miniconda3/envs/tf_gpu/lib/python3.6/site-packages/ipykernel_launcher.py\", line 16, in <module>\n",
      "    app.launch_new_instance()\n",
      "  File \"/homes/extern/andrade/store/miniconda3/envs/tf_gpu/lib/python3.6/site-packages/traitlets/config/application.py\", line 658, in launch_instance\n",
      "    app.start()\n",
      "  File \"/homes/extern/andrade/store/miniconda3/envs/tf_gpu/lib/python3.6/site-packages/ipykernel/kernelapp.py\", line 505, in start\n",
      "    self.io_loop.start()\n",
      "  File \"/homes/extern/andrade/store/miniconda3/envs/tf_gpu/lib/python3.6/site-packages/tornado/platform/asyncio.py\", line 132, in start\n",
      "    self.asyncio_loop.run_forever()\n",
      "  File \"/homes/extern/andrade/store/miniconda3/envs/tf_gpu/lib/python3.6/asyncio/base_events.py\", line 438, in run_forever\n",
      "    self._run_once()\n",
      "  File \"/homes/extern/andrade/store/miniconda3/envs/tf_gpu/lib/python3.6/asyncio/base_events.py\", line 1451, in _run_once\n",
      "    handle._run()\n",
      "  File \"/homes/extern/andrade/store/miniconda3/envs/tf_gpu/lib/python3.6/asyncio/events.py\", line 145, in _run\n",
      "    self._callback(*self._args)\n",
      "  File \"/homes/extern/andrade/store/miniconda3/envs/tf_gpu/lib/python3.6/site-packages/tornado/ioloop.py\", line 758, in _run_callback\n",
      "    ret = callback()\n",
      "  File \"/homes/extern/andrade/store/miniconda3/envs/tf_gpu/lib/python3.6/site-packages/tornado/stack_context.py\", line 300, in null_wrapper\n",
      "    return fn(*args, **kwargs)\n",
      "  File \"/homes/extern/andrade/store/miniconda3/envs/tf_gpu/lib/python3.6/site-packages/tornado/gen.py\", line 1233, in inner\n",
      "    self.run()\n",
      "  File \"/homes/extern/andrade/store/miniconda3/envs/tf_gpu/lib/python3.6/site-packages/tornado/gen.py\", line 1147, in run\n",
      "    yielded = self.gen.send(value)\n",
      "  File \"/homes/extern/andrade/store/miniconda3/envs/tf_gpu/lib/python3.6/site-packages/ipykernel/kernelbase.py\", line 357, in process_one\n",
      "    yield gen.maybe_future(dispatch(*args))\n",
      "  File \"/homes/extern/andrade/store/miniconda3/envs/tf_gpu/lib/python3.6/site-packages/tornado/gen.py\", line 326, in wrapper\n",
      "    yielded = next(result)\n",
      "  File \"/homes/extern/andrade/store/miniconda3/envs/tf_gpu/lib/python3.6/site-packages/ipykernel/kernelbase.py\", line 267, in dispatch_shell\n",
      "    yield gen.maybe_future(handler(stream, idents, msg))\n",
      "  File \"/homes/extern/andrade/store/miniconda3/envs/tf_gpu/lib/python3.6/site-packages/tornado/gen.py\", line 326, in wrapper\n",
      "    yielded = next(result)\n",
      "  File \"/homes/extern/andrade/store/miniconda3/envs/tf_gpu/lib/python3.6/site-packages/ipykernel/kernelbase.py\", line 534, in execute_request\n",
      "    user_expressions, allow_stdin,\n",
      "  File \"/homes/extern/andrade/store/miniconda3/envs/tf_gpu/lib/python3.6/site-packages/tornado/gen.py\", line 326, in wrapper\n",
      "    yielded = next(result)\n",
      "  File \"/homes/extern/andrade/store/miniconda3/envs/tf_gpu/lib/python3.6/site-packages/ipykernel/ipkernel.py\", line 294, in do_execute\n",
      "    res = shell.run_cell(code, store_history=store_history, silent=silent)\n",
      "  File \"/homes/extern/andrade/store/miniconda3/envs/tf_gpu/lib/python3.6/site-packages/ipykernel/zmqshell.py\", line 536, in run_cell\n",
      "    return super(ZMQInteractiveShell, self).run_cell(*args, **kwargs)\n",
      "  File \"/homes/extern/andrade/store/miniconda3/envs/tf_gpu/lib/python3.6/site-packages/IPython/core/interactiveshell.py\", line 2823, in run_cell\n",
      "    self.events.trigger('post_run_cell', result)\n",
      "  File \"/homes/extern/andrade/store/miniconda3/envs/tf_gpu/lib/python3.6/site-packages/IPython/core/events.py\", line 88, in trigger\n",
      "    func(*args, **kwargs)\n",
      "  File \"/homes/extern/andrade/store/miniconda3/envs/tf_gpu/lib/python3.6/site-packages/ipykernel/pylab/backend_inline.py\", line 164, in configure_once\n",
      "    activate_matplotlib(backend)\n",
      "  File \"/homes/extern/andrade/store/miniconda3/envs/tf_gpu/lib/python3.6/site-packages/IPython/core/pylabtools.py\", line 314, in activate_matplotlib\n",
      "    matplotlib.pyplot.switch_backend(backend)\n",
      "  File \"/homes/extern/andrade/store/miniconda3/envs/tf_gpu/lib/python3.6/site-packages/matplotlib/pyplot.py\", line 231, in switch_backend\n",
      "    matplotlib.use(newbackend, warn=False, force=True)\n",
      "  File \"/homes/extern/andrade/store/miniconda3/envs/tf_gpu/lib/python3.6/site-packages/matplotlib/__init__.py\", line 1410, in use\n",
      "    reload(sys.modules['matplotlib.backends'])\n",
      "  File \"/homes/extern/andrade/store/miniconda3/envs/tf_gpu/lib/python3.6/importlib/__init__.py\", line 166, in reload\n",
      "    _bootstrap._exec(spec, module)\n",
      "  File \"/homes/extern/andrade/store/miniconda3/envs/tf_gpu/lib/python3.6/site-packages/matplotlib/backends/__init__.py\", line 16, in <module>\n",
      "    line for line in traceback.format_stack()\n",
      "\n",
      "\n",
      "  matplotlib.use('Agg')\n"
     ]
    }
   ],
   "source": [
    "# Import the needed modules\n",
    "from data.data_factory import random_realphantom\n",
    "from ellipse.ellipseWF_factory import plot_WF, WFupdate, WFupdate_sino\n",
    "\n",
    "import matplotlib.pyplot as plt\n",
    "import numpy.random as rnd\n",
    "import numpy as np\n",
    "import odl\n",
    "import matplotlib.pyplot as plt"
   ]
  },
  {
   "cell_type": "code",
   "execution_count": 4,
   "metadata": {},
   "outputs": [
    {
     "name": "stdout",
     "output_type": "stream",
     "text": [
      "Warning, GPU setup must happen before importing ASTRA\n",
      "Picking GPU 0\n"
     ]
    }
   ],
   "source": [
    "import os\n",
    "import adler\n",
    "adler.util.gpu.setup_one_gpu(0)"
   ]
  },
  {
   "cell_type": "code",
   "execution_count": 5,
   "metadata": {},
   "outputs": [],
   "source": [
    "from adler.odl.phantom import random_phantom\n",
    "from adler.tensorflow import prelu, cosine_decay"
   ]
  },
  {
   "cell_type": "code",
   "execution_count": 6,
   "metadata": {},
   "outputs": [],
   "source": [
    "import tensorflow as tf\n",
    "import numpy as np\n",
    "import odl\n",
    "import odl.contrib.tensorflow"
   ]
  },
  {
   "cell_type": "code",
   "execution_count": 7,
   "metadata": {},
   "outputs": [],
   "source": [
    "np.random.seed(0)\n",
    "#name = os.path.splitext(os.path.basename(__file__))[0]\n",
    "name = os.path.splitext(os.getcwd())[0]+'/checkpoints'"
   ]
  },
  {
   "cell_type": "code",
   "execution_count": 8,
   "metadata": {},
   "outputs": [],
   "source": [
    "sess = tf.InteractiveSession()"
   ]
  },
  {
   "cell_type": "markdown",
   "metadata": {},
   "source": [
    "## Radon transform"
   ]
  },
  {
   "cell_type": "code",
   "execution_count": 9,
   "metadata": {},
   "outputs": [],
   "source": [
    "size = 256\n",
    "lowd = 40"
   ]
  },
  {
   "cell_type": "code",
   "execution_count": 10,
   "metadata": {},
   "outputs": [],
   "source": [
    "from ray_transform.canon_relation import (point_img2sino, class_img2sino, CanRel_img2sino, \n",
    "                                         point_sino2img, CanRel_sino2img)"
   ]
  },
  {
   "cell_type": "code",
   "execution_count": 11,
   "metadata": {},
   "outputs": [],
   "source": [
    "# Create ODL data structures\n",
    "space = odl.uniform_discr([-int(size/2), -int(size/2)], [int(size/2), int(size/2)], [size, size],\n",
    "                          dtype='float32')"
   ]
  },
  {
   "cell_type": "code",
   "execution_count": 12,
   "metadata": {},
   "outputs": [],
   "source": [
    "# Full dose radon transform\n",
    "geometry = odl.tomo.parallel_beam_geometry(space, num_angles=180)\n",
    "operator = odl.tomo.RayTransform(space, geometry)\n",
    "opnorm = odl.power_method_opnorm(operator)\n",
    "operator = (1 / opnorm) * operator"
   ]
  },
  {
   "cell_type": "code",
   "execution_count": 13,
   "metadata": {},
   "outputs": [],
   "source": [
    "# Low dose radon transform\n",
    "geometry_lowd = odl.tomo.parallel_beam_geometry(space, num_angles=lowd)\n",
    "operator_lowd = odl.tomo.RayTransform(space, geometry_lowd)\n",
    "opnorm_lowd = odl.power_method_opnorm(operator_lowd)\n",
    "operator_lowd = (1 / opnorm_lowd) * operator_lowd"
   ]
  },
  {
   "cell_type": "markdown",
   "metadata": {},
   "source": [
    "## Data generator for CT recon"
   ]
  },
  {
   "cell_type": "code",
   "execution_count": 14,
   "metadata": {},
   "outputs": [],
   "source": [
    "size = 256\n",
    "nClasses = 180\n",
    "lowd = 40\n",
    "nRegions = np.random.randint(5,10)\n",
    "npoints_max = np.random.randint(8,15)"
   ]
  },
  {
   "cell_type": "code",
   "execution_count": 15,
   "metadata": {},
   "outputs": [],
   "source": [
    "batch_size = 5\n",
    "n_iter = 10\n",
    "n_primal = 5\n",
    "n_dual = 5"
   ]
  },
  {
   "cell_type": "code",
   "execution_count": 16,
   "metadata": {},
   "outputs": [],
   "source": [
    "def generate_data_CT(validation=False):\n",
    "    \"\"\"Generate a set of random data.\"\"\"\n",
    "    if validation:\n",
    "        n_generate = 1\n",
    "    else: \n",
    "        n_generate = batch_size\n",
    "\n",
    "    y_arr = np.empty((n_generate, operator_lowd.range.shape[0], operator_lowd.range.shape[1], 1), dtype='float32')\n",
    "    x_true_arr = np.empty((n_generate, space.shape[0], space.shape[1], 1), dtype='float32')\n",
    "\n",
    "    for i in range(n_generate):\n",
    "        if validation:\n",
    "            phantom = odl.phantom.shepp_logan(space, True)\n",
    "        else:\n",
    "            phantom, _, _,  _ = random_realphantom(size, nRegions, npoints_max, nClasses)\n",
    "        data = operator_lowd(phantom)\n",
    "        noisy_data = data + odl.phantom.white_noise(operator_lowd.range) * np.mean(np.abs(data)) * 0.05\n",
    "\n",
    "        x_true_arr[i, ..., 0] = phantom\n",
    "        y_arr[i, ..., 0] = noisy_data\n",
    "\n",
    "    return y_arr, x_true_arr"
   ]
  },
  {
   "cell_type": "code",
   "execution_count": 17,
   "metadata": {},
   "outputs": [],
   "source": [
    "y_arr, x_true_arr = generate_data_CT()"
   ]
  },
  {
   "cell_type": "code",
   "execution_count": 18,
   "metadata": {},
   "outputs": [
    {
     "data": {
      "text/plain": [
       "<matplotlib.image.AxesImage at 0x2b5c3be1b588>"
      ]
     },
     "execution_count": 18,
     "metadata": {},
     "output_type": "execute_result"
    },
    {
     "data": {
      "image/png": "[encoded data removed]",
      "text/plain": [
       "<Figure size 432x432 with 1 Axes>"
      ]
     },
     "metadata": {
      "needs_background": "light"
     },
     "output_type": "display_data"
    }
   ],
   "source": [
    "plt.figure(figsize = (6,6))\n",
    "plt.axis(\"off\")\n",
    "plt.imshow(y_arr[0,:,:,0], cmap=\"gray\")"
   ]
  },
  {
   "cell_type": "code",
   "execution_count": 19,
   "metadata": {},
   "outputs": [
    {
     "data": {
      "text/plain": [
       "<matplotlib.image.AxesImage at 0x2b5c3be7a9b0>"
      ]
     },
     "execution_count": 19,
     "metadata": {},
     "output_type": "execute_result"
    },
    {
     "data": {
      "image/png": "[encoded data removed]",
      "text/plain": [
       "<Figure size 432x432 with 1 Axes>"
      ]
     },
     "metadata": {
      "needs_background": "light"
     },
     "output_type": "display_data"
    }
   ],
   "source": [
    "plt.figure(figsize = (6,6))\n",
    "plt.axis(\"off\")\n",
    "plt.imshow(x_true_arr[0,:,:,0], cmap=\"gray\")"
   ]
  },
  {
   "cell_type": "markdown",
   "metadata": {},
   "source": [
    "## Evaluate primal dual"
   ]
  },
  {
   "cell_type": "code",
   "execution_count": 20,
   "metadata": {},
   "outputs": [],
   "source": [
    "# Create tensorflow layer from odl operator\n",
    "odl_op_layer = odl.contrib.tensorflow.as_tensorflow_layer(operator_lowd,\n",
    "                                                          'RayTransform')\n",
    "odl_op_layer_adjoint = odl.contrib.tensorflow.as_tensorflow_layer(operator_lowd.adjoint,\n",
    "                                                                  'RayTransformAdjoint')"
   ]
  },
  {
   "cell_type": "code",
   "execution_count": 21,
   "metadata": {},
   "outputs": [],
   "source": [
    "with tf.name_scope('placeholders'):\n",
    "    x_true = tf.placeholder(tf.float32, shape=[None, size, size, 1], name=\"x_true\")\n",
    "    y_rt = tf.placeholder(tf.float32, shape=[None, operator_lowd.range.shape[0], operator_lowd.range.shape[1], 1], name=\"y_rt\")\n",
    "    is_training = tf.placeholder(tf.bool, shape=(), name='is_training')"
   ]
  },
  {
   "cell_type": "code",
   "execution_count": 22,
   "metadata": {},
   "outputs": [],
   "source": [
    "def apply_conv(x, filters=32):\n",
    "    return tf.layers.conv2d(x, filters=filters, kernel_size=3, padding='SAME',\n",
    "                            kernel_initializer=tf.contrib.layers.xavier_initializer(), use_bias=False)"
   ]
  },
  {
   "cell_type": "code",
   "execution_count": 23,
   "metadata": {},
   "outputs": [],
   "source": [
    "relu = tf.nn.relu"
   ]
  },
  {
   "cell_type": "code",
   "execution_count": 24,
   "metadata": {},
   "outputs": [],
   "source": [
    "primal_values = []\n",
    "dual_values = []"
   ]
  },
  {
   "cell_type": "code",
   "execution_count": 25,
   "metadata": {},
   "outputs": [],
   "source": [
    "with tf.name_scope('tomography'):\n",
    "    with tf.name_scope('initial_values'):\n",
    "        primal = tf.concat([tf.zeros_like(x_true)] * n_primal, axis=-1)\n",
    "        dual = tf.concat([tf.zeros_like(y_rt)] * n_dual, axis=-1)\n",
    "\n",
    "    for i in range(n_iter):\n",
    "        with tf.variable_scope('dual_iterate_{}'.format(i)):\n",
    "            evalop = odl_op_layer(primal[..., 1:2])\n",
    "            update = tf.concat([dual, evalop, y_rt], axis=-1)\n",
    "\n",
    "            #update = prelu(apply_conv(update), name='prelu_1')\n",
    "            #update = prelu(apply_conv(update), name='prelu_2')\n",
    "            update = relu(apply_conv(update), name='relu_1')\n",
    "            update = relu(apply_conv(update), name='relu_2')            \n",
    "            update = apply_conv(update, filters=n_dual)\n",
    "            dual = dual + update\n",
    "\n",
    "        with tf.variable_scope('primal_iterate_{}'.format(i)):\n",
    "            evalop = odl_op_layer_adjoint(dual[..., 0:1])\n",
    "            update = tf.concat([primal, evalop], axis=-1)\n",
    "\n",
    "            update = relu(apply_conv(update), name='relu_1')\n",
    "            update = relu(apply_conv(update), name='relu_2')\n",
    "            update = apply_conv(update, filters=n_primal)\n",
    "            primal = primal + update\n",
    "        \n",
    "        primal_values.append(primal)\n",
    "        dual_values.append(dual)\n",
    "\n",
    "    x_result = primal[..., 0:1]"
   ]
  },
  {
   "cell_type": "code",
   "execution_count": 26,
   "metadata": {},
   "outputs": [],
   "source": [
    "# Initialize all TF variables\n",
    "sess.run(tf.global_variables_initializer())"
   ]
  },
  {
   "cell_type": "code",
   "execution_count": 27,
   "metadata": {},
   "outputs": [],
   "source": [
    "ckp_name = name+'_lpd_nobias/checkpoints'"
   ]
  },
  {
   "cell_type": "code",
   "execution_count": 28,
   "metadata": {},
   "outputs": [
    {
     "data": {
      "text/plain": [
       "'/store/kepler/datastore/andrade/GitHub_repos/Joint_CTWF_Recon/Microcanonical_NN/Tensorflow_microlocal/checkpoints_lpd_nobias/checkpoints.ckpt'"
      ]
     },
     "execution_count": 28,
     "metadata": {},
     "output_type": "execute_result"
    }
   ],
   "source": [
    "adler.tensorflow.util.default_checkpoint_path(ckp_name)"
   ]
  },
  {
   "cell_type": "code",
   "execution_count": 29,
   "metadata": {},
   "outputs": [
    {
     "name": "stdout",
     "output_type": "stream",
     "text": [
      "INFO:tensorflow:Restoring parameters from /store/kepler/datastore/andrade/GitHub_repos/Joint_CTWF_Recon/Microcanonical_NN/Tensorflow_microlocal/checkpoints_lpd_nobias/checkpoints.ckpt\n"
     ]
    }
   ],
   "source": [
    "# Add op to save and restore\n",
    "saver = tf.train.Saver()\n",
    "\n",
    "if 1:\n",
    "    saver.restore(sess,\n",
    "                  adler.tensorflow.util.default_checkpoint_path(ckp_name))"
   ]
  },
  {
   "cell_type": "code",
   "execution_count": 30,
   "metadata": {},
   "outputs": [],
   "source": [
    "# Generate validation data\n",
    "y_arr_validate, x_true_arr_validate = generate_data_CT(validation=True)\n",
    "\n",
    "primal_values_result, dual_values_result = sess.run([primal_values, dual_values],\n",
    "                      feed_dict={x_true: x_true_arr_validate,\n",
    "                                 y_rt: y_arr_validate,\n",
    "                                 is_training: False})"
   ]
  },
  {
   "cell_type": "code",
   "execution_count": 31,
   "metadata": {},
   "outputs": [
    {
     "name": "stdout",
     "output_type": "stream",
     "text": [
      "0.986987719406\n",
      "34.1344250283\n"
     ]
    },
    {
     "name": "stderr",
     "output_type": "stream",
     "text": [
      "/homes/extern/andrade/store/miniconda3/envs/tf_gpu/lib/python3.6/site-packages/ipykernel_launcher.py:5: UserWarning: DEPRECATED: skimage.measure.compare_ssim has been moved to skimage.metrics.structural_similarity. It will be removed from skimage.measure in version 0.18.\n",
      "  \"\"\"\n",
      "/homes/extern/andrade/store/miniconda3/envs/tf_gpu/lib/python3.6/site-packages/ipykernel_launcher.py:6: UserWarning: DEPRECATED: skimage.measure.compare_psnr has been moved to skimage.metrics.peak_signal_noise_ratio. It will be removed from skimage.measure in version 0.18.\n",
      "  \n"
     ]
    }
   ],
   "source": [
    "import matplotlib.pyplot as plt\n",
    "from skimage.measure import compare_ssim as ssim\n",
    "from skimage.measure import compare_psnr as psnr\n",
    "\n",
    "print(ssim(primal_values_result[-1][0, ..., 0], x_true_arr_validate[0, ..., 0]))\n",
    "print(psnr(primal_values_result[-1][0, ..., 0], x_true_arr_validate[0, ..., 0], data_range=1))"
   ]
  },
  {
   "cell_type": "markdown",
   "metadata": {},
   "source": [
    "## Taking a look on the different layers"
   ]
  },
  {
   "cell_type": "code",
   "execution_count": 32,
   "metadata": {},
   "outputs": [
    {
     "data": {
      "text/plain": [
       "(-0.5, 364.5, 39.5, -0.5)"
      ]
     },
     "execution_count": 32,
     "metadata": {},
     "output_type": "execute_result"
    },
    {
     "data": {
      "image/png": "[encoded data removed]",
      "text/plain": [
       "<Figure size 432x432 with 1 Axes>"
      ]
     },
     "metadata": {
      "needs_background": "light"
     },
     "output_type": "display_data"
    }
   ],
   "source": [
    "plt.figure(figsize=(6,6))\n",
    "plt.imshow(dual_values_result[3][0, ..., 0])\n",
    "plt.axis('off')"
   ]
  },
  {
   "cell_type": "code",
   "execution_count": 33,
   "metadata": {},
   "outputs": [
    {
     "data": {
      "text/plain": [
       "(-0.5, 255.5, 255.5, -0.5)"
      ]
     },
     "execution_count": 33,
     "metadata": {},
     "output_type": "execute_result"
    },
    {
     "data": {
      "image/png": "[encoded data removed]",
      "text/plain": [
       "<Figure size 432x432 with 1 Axes>"
      ]
     },
     "metadata": {
      "needs_background": "light"
     },
     "output_type": "display_data"
    }
   ],
   "source": [
    "plt.figure(figsize=(6,6))\n",
    "plt.imshow(primal_values_result[9][0, ..., 0])\n",
    "plt.axis('off')"
   ]
  },
  {
   "cell_type": "code",
   "execution_count": 34,
   "metadata": {},
   "outputs": [
    {
     "data": {
      "text/plain": [
       "(-0.5, 255.5, 255.5, -0.5)"
      ]
     },
     "execution_count": 34,
     "metadata": {},
     "output_type": "execute_result"
    },
    {
     "data": {
      "image/png": "[encoded data removed]",
      "text/plain": [
       "<Figure size 432x432 with 1 Axes>"
      ]
     },
     "metadata": {
      "needs_background": "light"
     },
     "output_type": "display_data"
    }
   ],
   "source": [
    "plt.figure(figsize=(6,6))\n",
    "plt.imshow(x_true_arr_validate[0, ..., 0])\n",
    "plt.axis('off')"
   ]
  },
  {
   "cell_type": "markdown",
   "metadata": {},
   "source": [
    "## In this case we have 10 LPD conv_ResNet subnetworks representing each Dual/Primal step"
   ]
  },
  {
   "cell_type": "markdown",
   "metadata": {},
   "source": [
    "List of variables"
   ]
  },
  {
   "cell_type": "code",
   "execution_count": 35,
   "metadata": {},
   "outputs": [
    {
     "data": {
      "text/plain": [
       "[<tf.Variable 'dual_iterate_0/conv2d/kernel:0' shape=(3, 3, 7, 32) dtype=float32_ref>,\n",
       " <tf.Variable 'dual_iterate_0/conv2d_1/kernel:0' shape=(3, 3, 32, 32) dtype=float32_ref>,\n",
       " <tf.Variable 'dual_iterate_0/conv2d_2/kernel:0' shape=(3, 3, 32, 5) dtype=float32_ref>,\n",
       " <tf.Variable 'primal_iterate_0/conv2d/kernel:0' shape=(3, 3, 6, 32) dtype=float32_ref>,\n",
       " <tf.Variable 'primal_iterate_0/conv2d_1/kernel:0' shape=(3, 3, 32, 32) dtype=float32_ref>,\n",
       " <tf.Variable 'primal_iterate_0/conv2d_2/kernel:0' shape=(3, 3, 32, 5) dtype=float32_ref>,\n",
       " <tf.Variable 'dual_iterate_1/conv2d/kernel:0' shape=(3, 3, 7, 32) dtype=float32_ref>,\n",
       " <tf.Variable 'dual_iterate_1/conv2d_1/kernel:0' shape=(3, 3, 32, 32) dtype=float32_ref>,\n",
       " <tf.Variable 'dual_iterate_1/conv2d_2/kernel:0' shape=(3, 3, 32, 5) dtype=float32_ref>,\n",
       " <tf.Variable 'primal_iterate_1/conv2d/kernel:0' shape=(3, 3, 6, 32) dtype=float32_ref>,\n",
       " <tf.Variable 'primal_iterate_1/conv2d_1/kernel:0' shape=(3, 3, 32, 32) dtype=float32_ref>,\n",
       " <tf.Variable 'primal_iterate_1/conv2d_2/kernel:0' shape=(3, 3, 32, 5) dtype=float32_ref>,\n",
       " <tf.Variable 'dual_iterate_2/conv2d/kernel:0' shape=(3, 3, 7, 32) dtype=float32_ref>,\n",
       " <tf.Variable 'dual_iterate_2/conv2d_1/kernel:0' shape=(3, 3, 32, 32) dtype=float32_ref>,\n",
       " <tf.Variable 'dual_iterate_2/conv2d_2/kernel:0' shape=(3, 3, 32, 5) dtype=float32_ref>,\n",
       " <tf.Variable 'primal_iterate_2/conv2d/kernel:0' shape=(3, 3, 6, 32) dtype=float32_ref>,\n",
       " <tf.Variable 'primal_iterate_2/conv2d_1/kernel:0' shape=(3, 3, 32, 32) dtype=float32_ref>,\n",
       " <tf.Variable 'primal_iterate_2/conv2d_2/kernel:0' shape=(3, 3, 32, 5) dtype=float32_ref>,\n",
       " <tf.Variable 'dual_iterate_3/conv2d/kernel:0' shape=(3, 3, 7, 32) dtype=float32_ref>,\n",
       " <tf.Variable 'dual_iterate_3/conv2d_1/kernel:0' shape=(3, 3, 32, 32) dtype=float32_ref>,\n",
       " <tf.Variable 'dual_iterate_3/conv2d_2/kernel:0' shape=(3, 3, 32, 5) dtype=float32_ref>,\n",
       " <tf.Variable 'primal_iterate_3/conv2d/kernel:0' shape=(3, 3, 6, 32) dtype=float32_ref>,\n",
       " <tf.Variable 'primal_iterate_3/conv2d_1/kernel:0' shape=(3, 3, 32, 32) dtype=float32_ref>,\n",
       " <tf.Variable 'primal_iterate_3/conv2d_2/kernel:0' shape=(3, 3, 32, 5) dtype=float32_ref>,\n",
       " <tf.Variable 'dual_iterate_4/conv2d/kernel:0' shape=(3, 3, 7, 32) dtype=float32_ref>,\n",
       " <tf.Variable 'dual_iterate_4/conv2d_1/kernel:0' shape=(3, 3, 32, 32) dtype=float32_ref>,\n",
       " <tf.Variable 'dual_iterate_4/conv2d_2/kernel:0' shape=(3, 3, 32, 5) dtype=float32_ref>,\n",
       " <tf.Variable 'primal_iterate_4/conv2d/kernel:0' shape=(3, 3, 6, 32) dtype=float32_ref>,\n",
       " <tf.Variable 'primal_iterate_4/conv2d_1/kernel:0' shape=(3, 3, 32, 32) dtype=float32_ref>,\n",
       " <tf.Variable 'primal_iterate_4/conv2d_2/kernel:0' shape=(3, 3, 32, 5) dtype=float32_ref>,\n",
       " <tf.Variable 'dual_iterate_5/conv2d/kernel:0' shape=(3, 3, 7, 32) dtype=float32_ref>,\n",
       " <tf.Variable 'dual_iterate_5/conv2d_1/kernel:0' shape=(3, 3, 32, 32) dtype=float32_ref>,\n",
       " <tf.Variable 'dual_iterate_5/conv2d_2/kernel:0' shape=(3, 3, 32, 5) dtype=float32_ref>,\n",
       " <tf.Variable 'primal_iterate_5/conv2d/kernel:0' shape=(3, 3, 6, 32) dtype=float32_ref>,\n",
       " <tf.Variable 'primal_iterate_5/conv2d_1/kernel:0' shape=(3, 3, 32, 32) dtype=float32_ref>,\n",
       " <tf.Variable 'primal_iterate_5/conv2d_2/kernel:0' shape=(3, 3, 32, 5) dtype=float32_ref>,\n",
       " <tf.Variable 'dual_iterate_6/conv2d/kernel:0' shape=(3, 3, 7, 32) dtype=float32_ref>,\n",
       " <tf.Variable 'dual_iterate_6/conv2d_1/kernel:0' shape=(3, 3, 32, 32) dtype=float32_ref>,\n",
       " <tf.Variable 'dual_iterate_6/conv2d_2/kernel:0' shape=(3, 3, 32, 5) dtype=float32_ref>,\n",
       " <tf.Variable 'primal_iterate_6/conv2d/kernel:0' shape=(3, 3, 6, 32) dtype=float32_ref>,\n",
       " <tf.Variable 'primal_iterate_6/conv2d_1/kernel:0' shape=(3, 3, 32, 32) dtype=float32_ref>,\n",
       " <tf.Variable 'primal_iterate_6/conv2d_2/kernel:0' shape=(3, 3, 32, 5) dtype=float32_ref>,\n",
       " <tf.Variable 'dual_iterate_7/conv2d/kernel:0' shape=(3, 3, 7, 32) dtype=float32_ref>,\n",
       " <tf.Variable 'dual_iterate_7/conv2d_1/kernel:0' shape=(3, 3, 32, 32) dtype=float32_ref>,\n",
       " <tf.Variable 'dual_iterate_7/conv2d_2/kernel:0' shape=(3, 3, 32, 5) dtype=float32_ref>,\n",
       " <tf.Variable 'primal_iterate_7/conv2d/kernel:0' shape=(3, 3, 6, 32) dtype=float32_ref>,\n",
       " <tf.Variable 'primal_iterate_7/conv2d_1/kernel:0' shape=(3, 3, 32, 32) dtype=float32_ref>,\n",
       " <tf.Variable 'primal_iterate_7/conv2d_2/kernel:0' shape=(3, 3, 32, 5) dtype=float32_ref>,\n",
       " <tf.Variable 'dual_iterate_8/conv2d/kernel:0' shape=(3, 3, 7, 32) dtype=float32_ref>,\n",
       " <tf.Variable 'dual_iterate_8/conv2d_1/kernel:0' shape=(3, 3, 32, 32) dtype=float32_ref>,\n",
       " <tf.Variable 'dual_iterate_8/conv2d_2/kernel:0' shape=(3, 3, 32, 5) dtype=float32_ref>,\n",
       " <tf.Variable 'primal_iterate_8/conv2d/kernel:0' shape=(3, 3, 6, 32) dtype=float32_ref>,\n",
       " <tf.Variable 'primal_iterate_8/conv2d_1/kernel:0' shape=(3, 3, 32, 32) dtype=float32_ref>,\n",
       " <tf.Variable 'primal_iterate_8/conv2d_2/kernel:0' shape=(3, 3, 32, 5) dtype=float32_ref>,\n",
       " <tf.Variable 'dual_iterate_9/conv2d/kernel:0' shape=(3, 3, 7, 32) dtype=float32_ref>,\n",
       " <tf.Variable 'dual_iterate_9/conv2d_1/kernel:0' shape=(3, 3, 32, 32) dtype=float32_ref>,\n",
       " <tf.Variable 'dual_iterate_9/conv2d_2/kernel:0' shape=(3, 3, 32, 5) dtype=float32_ref>,\n",
       " <tf.Variable 'primal_iterate_9/conv2d/kernel:0' shape=(3, 3, 6, 32) dtype=float32_ref>,\n",
       " <tf.Variable 'primal_iterate_9/conv2d_1/kernel:0' shape=(3, 3, 32, 32) dtype=float32_ref>,\n",
       " <tf.Variable 'primal_iterate_9/conv2d_2/kernel:0' shape=(3, 3, 32, 5) dtype=float32_ref>]"
      ]
     },
     "execution_count": 35,
     "metadata": {},
     "output_type": "execute_result"
    }
   ],
   "source": [
    "tf.global_variables()"
   ]
  },
  {
   "cell_type": "code",
   "execution_count": 36,
   "metadata": {},
   "outputs": [],
   "source": [
    "# Get access to the graph\n",
    "gr = tf.get_default_graph()"
   ]
  },
  {
   "cell_type": "markdown",
   "metadata": {},
   "source": [
    "First kernels in the dual step"
   ]
  },
  {
   "cell_type": "code",
   "execution_count": 37,
   "metadata": {},
   "outputs": [],
   "source": [
    "kernels = gr.get_tensor_by_name('dual_iterate_0/conv2d/kernel:0').eval()"
   ]
  },
  {
   "cell_type": "code",
   "execution_count": 38,
   "metadata": {},
   "outputs": [
    {
     "data": {
      "text/plain": [
       "(3, 3, 7, 32)"
      ]
     },
     "execution_count": 38,
     "metadata": {},
     "output_type": "execute_result"
    }
   ],
   "source": [
    "# The first convolutional layer is a concatenation of 7 convolutional layers, for the input values\n",
    "# each one with 32 kernels\n",
    "kernels.shape"
   ]
  },
  {
   "cell_type": "code",
   "execution_count": 39,
   "metadata": {},
   "outputs": [],
   "source": [
    "# The first kernel\n",
    "n_dual_value = 0\n",
    "channel = 0\n",
    "kernel= kernels[:,:,n_dual_value,channel]"
   ]
  },
  {
   "cell_type": "code",
   "execution_count": 40,
   "metadata": {},
   "outputs": [
    {
     "data": {
      "text/plain": [
       "<matplotlib.image.AxesImage at 0x2b5abcc73550>"
      ]
     },
     "execution_count": 40,
     "metadata": {},
     "output_type": "execute_result"
    },
    {
     "data": {
      "image/png": "[encoded data removed]",
      "text/plain": [
       "<Figure size 432x432 with 1 Axes>"
      ]
     },
     "metadata": {
      "needs_background": "light"
     },
     "output_type": "display_data"
    }
   ],
   "source": [
    "plt.figure(figsize = (6,6))\n",
    "plt.axis(\"off\")\n",
    "plt.imshow(kernel)"
   ]
  },
  {
   "cell_type": "markdown",
   "metadata": {},
   "source": [
    "### Approximation of the kernel with finite differences"
   ]
  },
  {
   "cell_type": "markdown",
   "metadata": {},
   "source": [
    "### Finite differences matrices"
   ]
  },
  {
   "cell_type": "code",
   "execution_count": 41,
   "metadata": {},
   "outputs": [],
   "source": [
    "D_11 = np.array([[0,0,0],[0, 1, 0], [0 , 0 , 0]])\n",
    "D_12 = np.array([[0,1,0],[0, 0, 0], [0 , -1 , 0]])\n",
    "D_21 = np.array([[0,0,0],[1, 0, -1], [0 , 0 , 0]])\n",
    "D_22 = np.array([[1,0,-1],[0, 0, 0], [-1 , 0 , 1]])\n",
    "D_13 = np.array([[0,-1,0],[0, 2, 0], [0 , -1 , 0]])\n",
    "D_31 = np.array([[0,0,0],[1, -2, 1], [0 , 0 , 0]])\n",
    "D_23 = np.array([[1,-2,1],[0, 0, 0], [-1 , 2 , -1]])\n",
    "D_32 = np.array([[1,0,-1],[-2, 0, 2], [1 , 0 , -1]])\n",
    "D_33 = np.array([[-1,2,-1],[2, -4, 2], [-1 , 2 , -1]])"
   ]
  },
  {
   "cell_type": "code",
   "execution_count": 42,
   "metadata": {},
   "outputs": [],
   "source": [
    "D = [D_11, D_12, D_13, D_21, D_22, D_23, D_31, D_32, D_33]"
   ]
  },
  {
   "cell_type": "markdown",
   "metadata": {},
   "source": [
    "### Change of variable"
   ]
  },
  {
   "cell_type": "code",
   "execution_count": 43,
   "metadata": {},
   "outputs": [],
   "source": [
    "# Let us define the matrix for the change of coordinates\n",
    "A = np.array([\n",
    "    [0, 0, 0,  0, 1, 1, 0, 1, -1],\n",
    "    [0, 1, -1, 0, 0, -2, 0, 0, 2],\n",
    "    [0, 0, 0, 0, -1, 1, 0, -1, -1],\n",
    "    [0, 0, 0, 1, 0, 0, 1, -2, 2],\n",
    "    [1, 0, 2, 0, 0, 0, -2, 0, -4],\n",
    "    [0, 0, 0, -1, 0, 0, 1, 2, 2],\n",
    "    [0, 0, 0, 0, -1, -1, 0, 1, -1],\n",
    "    [0, -1, -1, 0, 0, 2, 0, 0, 2],\n",
    "    [0, 0, 0, 0, 1, -1, 0, -1, -1]\n",
    "])"
   ]
  },
  {
   "cell_type": "code",
   "execution_count": 44,
   "metadata": {},
   "outputs": [],
   "source": [
    "# Inverse\n",
    "Ainv = np.linalg.inv(A)"
   ]
  },
  {
   "cell_type": "markdown",
   "metadata": {},
   "source": [
    "### Coefficients"
   ]
  },
  {
   "cell_type": "code",
   "execution_count": 45,
   "metadata": {},
   "outputs": [],
   "source": [
    "# Let us compute the flatten version of beta\n",
    "Bflat = Ainv.dot(kernel.flatten())"
   ]
  },
  {
   "cell_type": "code",
   "execution_count": 46,
   "metadata": {},
   "outputs": [],
   "source": [
    "B = Bflat.reshape(3,3);"
   ]
  },
  {
   "cell_type": "code",
   "execution_count": 47,
   "metadata": {},
   "outputs": [
    {
     "data": {
      "text/plain": [
       "<matplotlib.image.AxesImage at 0x2b5abcccb9e8>"
      ]
     },
     "execution_count": 47,
     "metadata": {},
     "output_type": "execute_result"
    },
    {
     "data": {
      "image/png": "[encoded data removed]",
      "text/plain": [
       "<Figure size 432x432 with 1 Axes>"
      ]
     },
     "metadata": {
      "needs_background": "light"
     },
     "output_type": "display_data"
    }
   ],
   "source": [
    "plt.figure(figsize = (6,6))\n",
    "plt.axis(\"off\")\n",
    "plt.imshow(B)"
   ]
  },
  {
   "cell_type": "markdown",
   "metadata": {},
   "source": [
    "### Reconstruction"
   ]
  },
  {
   "cell_type": "code",
   "execution_count": 48,
   "metadata": {},
   "outputs": [],
   "source": [
    "kernel_recon = sum([Bflat[i]*D[i] for i in range(len(D))])"
   ]
  },
  {
   "cell_type": "code",
   "execution_count": 49,
   "metadata": {},
   "outputs": [
    {
     "data": {
      "text/plain": [
       "<matplotlib.image.AxesImage at 0x2b5c03e18e10>"
      ]
     },
     "execution_count": 49,
     "metadata": {},
     "output_type": "execute_result"
    },
    {
     "data": {
      "image/png": "[encoded data removed]",
      "text/plain": [
       "<Figure size 432x432 with 1 Axes>"
      ]
     },
     "metadata": {
      "needs_background": "light"
     },
     "output_type": "display_data"
    }
   ],
   "source": [
    "plt.figure(figsize = (6,6))\n",
    "plt.axis(\"off\")\n",
    "plt.imshow(kernel_recon)"
   ]
  },
  {
   "cell_type": "code",
   "execution_count": 50,
   "metadata": {},
   "outputs": [
    {
     "data": {
      "text/plain": [
       "<matplotlib.image.AxesImage at 0x2b5cbbf9c080>"
      ]
     },
     "execution_count": 50,
     "metadata": {},
     "output_type": "execute_result"
    },
    {
     "data": {
      "image/png": "[encoded data removed]",
      "text/plain": [
       "<Figure size 432x432 with 1 Axes>"
      ]
     },
     "metadata": {
      "needs_background": "light"
     },
     "output_type": "display_data"
    }
   ],
   "source": [
    "plt.figure(figsize = (6,6))\n",
    "plt.axis(\"off\")\n",
    "plt.imshow(kernel)"
   ]
  },
  {
   "cell_type": "markdown",
   "metadata": {},
   "source": [
    "### See if it gets the same values in the convolution"
   ]
  },
  {
   "cell_type": "code",
   "execution_count": 51,
   "metadata": {},
   "outputs": [],
   "source": [
    "y_arr, x_true_arr = generate_data_CT()"
   ]
  },
  {
   "cell_type": "code",
   "execution_count": 52,
   "metadata": {},
   "outputs": [],
   "source": [
    "kernel_tf = gr.get_tensor_by_name('dual_iterate_0/conv2d/kernel:0')[:,:,n_dual_value,channel:channel+1,np.newaxis]"
   ]
  },
  {
   "cell_type": "code",
   "execution_count": null,
   "metadata": {},
   "outputs": [],
   "source": []
  },
  {
   "cell_type": "code",
   "execution_count": 53,
   "metadata": {},
   "outputs": [],
   "source": [
    "inp = tf.constant(x_true_arr[0:1], dtype = tf.float32)"
   ]
  },
  {
   "cell_type": "code",
   "execution_count": 54,
   "metadata": {},
   "outputs": [],
   "source": [
    "# Compute the result in tensorflow\n",
    "tf_conv_out = tf.nn.conv2d(inp, kernel_tf,strides=[1, 1, 1, 1],padding='SAME').eval()[0,:,:,0]"
   ]
  },
  {
   "cell_type": "code",
   "execution_count": 55,
   "metadata": {},
   "outputs": [],
   "source": [
    "from scipy.signal import convolve2d"
   ]
  },
  {
   "cell_type": "code",
   "execution_count": 56,
   "metadata": {},
   "outputs": [],
   "source": [
    "scipy_conv_out = convolve2d(x_true_arr[0,:,:,0], kernel)"
   ]
  },
  {
   "cell_type": "code",
   "execution_count": 57,
   "metadata": {},
   "outputs": [
    {
     "data": {
      "text/plain": [
       "<matplotlib.image.AxesImage at 0x2b5cfd9b22b0>"
      ]
     },
     "execution_count": 57,
     "metadata": {},
     "output_type": "execute_result"
    },
    {
     "data": {
      "image/png": "[encoded data removed]",
      "text/plain": [
       "<Figure size 432x432 with 1 Axes>"
      ]
     },
     "metadata": {
      "needs_background": "light"
     },
     "output_type": "display_data"
    }
   ],
   "source": [
    "plt.figure(figsize = (6,6))\n",
    "plt.axis(\"off\")\n",
    "plt.imshow(scipy_conv_out, cmap=\"gray\")"
   ]
  },
  {
   "cell_type": "code",
   "execution_count": 58,
   "metadata": {},
   "outputs": [
    {
     "data": {
      "text/plain": [
       "<matplotlib.image.AxesImage at 0x2b5cfd9eebe0>"
      ]
     },
     "execution_count": 58,
     "metadata": {},
     "output_type": "execute_result"
    },
    {
     "data": {
      "image/png": "[encoded data removed]",
      "text/plain": [
       "<Figure size 432x432 with 1 Axes>"
      ]
     },
     "metadata": {
      "needs_background": "light"
     },
     "output_type": "display_data"
    }
   ],
   "source": [
    "plt.figure(figsize = (6,6))\n",
    "plt.axis(\"off\")\n",
    "plt.imshow(tf_conv_out, cmap=\"gray\")"
   ]
  },
  {
   "cell_type": "markdown",
   "metadata": {},
   "source": [
    "### Evaluate the ellipticity"
   ]
  },
  {
   "cell_type": "code",
   "execution_count": 59,
   "metadata": {},
   "outputs": [
    {
     "data": {
      "text/plain": [
       "[<matplotlib.lines.Line2D at 0x2b5cfda3b198>]"
      ]
     },
     "execution_count": 59,
     "metadata": {},
     "output_type": "execute_result"
    },
    {
     "data": {
      "image/png": "[encoded data removed]",
      "text/plain": [
       "<Figure size 432x288 with 1 Axes>"
      ]
     },
     "metadata": {
      "needs_background": "light"
     },
     "output_type": "display_data"
    }
   ],
   "source": [
    "plt.plot(Bflat)"
   ]
  },
  {
   "cell_type": "code",
   "execution_count": 60,
   "metadata": {},
   "outputs": [],
   "source": [
    "def pT(B, Xi): \n",
    "    p = (B[0,0]+B[0,1]*Xi[1]+B[1,0]*Xi[0]+B[1,1]*Xi[0]*Xi[1]+\n",
    "        B[0,2]*Xi[1]**2+B[2,0]*Xi[1]**2+B[1,2]*Xi[0]*Xi[1]**2+\n",
    "        B[2,1]*Xi[1]*Xi[0]**2+B[2,2]*(Xi[1]**2)*Xi[0]**2)\n",
    "    return p"
   ]
  },
  {
   "cell_type": "code",
   "execution_count": 61,
   "metadata": {},
   "outputs": [],
   "source": [
    "ellipt = np.array([pT(B,np.array([xi,yi])) for xi in range(size) for yi in range(size)]).reshape(size,size);"
   ]
  },
  {
   "cell_type": "code",
   "execution_count": 62,
   "metadata": {},
   "outputs": [
    {
     "data": {
      "text/plain": [
       "0.015727244317531586"
      ]
     },
     "execution_count": 62,
     "metadata": {},
     "output_type": "execute_result"
    }
   ],
   "source": [
    "# The kernel is elliptic\n",
    "np.min(np.abs(ellipt))"
   ]
  },
  {
   "cell_type": "code",
   "execution_count": 63,
   "metadata": {},
   "outputs": [
    {
     "data": {
      "text/plain": [
       "<matplotlib.image.AxesImage at 0x2b5cfda96828>"
      ]
     },
     "execution_count": 63,
     "metadata": {},
     "output_type": "execute_result"
    },
    {
     "data": {
      "image/png": "[encoded data removed]",
      "text/plain": [
       "<Figure size 432x288 with 1 Axes>"
      ]
     },
     "metadata": {
      "needs_background": "light"
     },
     "output_type": "display_data"
    }
   ],
   "source": [
    "# Notice that the symbol acting on the fourier domain is killing the high frequencies\n",
    "# meaning is smoothing out tha array\n",
    "plt.imshow(ellipt)"
   ]
  },
  {
   "cell_type": "markdown",
   "metadata": {},
   "source": [
    "### We can create a function that evaluates each convolutional layer and finds its ellipticity"
   ]
  },
  {
   "cell_type": "code",
   "execution_count": 64,
   "metadata": {},
   "outputs": [],
   "source": [
    "names_variables = [variable.name for variable in tf.global_variables()]"
   ]
  },
  {
   "cell_type": "code",
   "execution_count": 65,
   "metadata": {},
   "outputs": [],
   "source": [
    "# Convolutional variables\n",
    "conv_variable = list(np.array(names_variables)[(list(map(lambda string: \"conv\" in string,names_variables)))])"
   ]
  },
  {
   "cell_type": "code",
   "execution_count": 66,
   "metadata": {},
   "outputs": [],
   "source": [
    "name_layer = conv_variable[0]"
   ]
  },
  {
   "cell_type": "code",
   "execution_count": 67,
   "metadata": {},
   "outputs": [],
   "source": [
    "# Getting kernels\n",
    "kernels = gr.get_tensor_by_name(name_layer).eval()"
   ]
  },
  {
   "cell_type": "code",
   "execution_count": 68,
   "metadata": {},
   "outputs": [],
   "source": [
    "# Let us define the matrix for the change of coordinates\n",
    "A = np.array([\n",
    "    [0, 0, 0,  0, 1, 1, 0, 1, -1],\n",
    "    [0, 1, -1, 0, 0, -2, 0, 0, 2],\n",
    "    [0, 0, 0, 0, -1, 1, 0, -1, -1],\n",
    "    [0, 0, 0, 1, 0, 0, 1, -2, 2],\n",
    "    [1, 0, 2, 0, 0, 0, -2, 0, -4],\n",
    "    [0, 0, 0, -1, 0, 0, 1, 2, 2],\n",
    "    [0, 0, 0, 0, -1, -1, 0, 1, -1],\n",
    "    [0, -1, -1, 0, 0, 2, 0, 0, 2],\n",
    "    [0, 0, 0, 0, 1, -1, 0, -1, -1]\n",
    "])"
   ]
  },
  {
   "cell_type": "code",
   "execution_count": 69,
   "metadata": {},
   "outputs": [],
   "source": [
    "def pT(B, Xi): \n",
    "    p = (B[0,0]+B[0,1]*Xi[1]+B[1,0]*Xi[0]+B[1,1]*Xi[0]*Xi[1]+\n",
    "        B[0,2]*Xi[1]**2+B[2,0]*Xi[1]**2+B[1,2]*Xi[0]*Xi[1]**2+\n",
    "        B[2,1]*Xi[1]*Xi[0]**2+B[2,2]*(Xi[1]**2)*Xi[0]**2)\n",
    "    return p"
   ]
  },
  {
   "cell_type": "code",
   "execution_count": 70,
   "metadata": {},
   "outputs": [],
   "source": [
    "Ainv_tf = tf.constant(Ainv, dtype = tf.float32)"
   ]
  },
  {
   "cell_type": "markdown",
   "metadata": {},
   "source": [
    "Function that computes the ellipticity of the layer as the mean of the minimum values of the symbol in the corresponding (dual/primal) grid. We should implement this directly on tensorflow\n"
   ]
  },
  {
   "cell_type": "code",
   "execution_count": 71,
   "metadata": {},
   "outputs": [],
   "source": [
    "def ellipt_layer_numpy(name_layer, Ainv):\n",
    "    if \"dual\" in name_layer:\n",
    "        shape = operator_lowd.range.shape\n",
    "    else: \n",
    "        shape = operator_lowd.domain.shape\n",
    "    kernels = gr.get_tensor_by_name(name_layer).eval()\n",
    "    ellipts = []\n",
    "    for n_value in range(kernels.shape[2]):\n",
    "        for channel in range(kernels.shape[3]):\n",
    "            kernel= kernels[:,:,n_value,channel]\n",
    "            Bflat = Ainv.dot(kernel.flatten())\n",
    "            B = Bflat.reshape(3,3);\n",
    "            ellipts.append(np.min(np.abs(np.array([pT(B,np.array([xi,yi])) \n",
    "                                             for xi in range(shape[0]) for yi in \n",
    "                                             range(shape[1])]))));\n",
    "    return np.mean(ellipts)"
   ]
  },
  {
   "cell_type": "code",
   "execution_count": 100,
   "metadata": {},
   "outputs": [],
   "source": [
    "def ellipt_layer_tf(name_layer, Ainv_tf):\n",
    "    if \"dual\" in name_layer:\n",
    "        shape = operator_lowd.range.shape\n",
    "    else: \n",
    "        shape = operator_lowd.domain.shape\n",
    "    kernels = tf.transpose(gr.get_tensor_by_name(name_layer),[2,0,1,3])\n",
    "    kernels_shape = kernels.shape\n",
    "    kernels = tf.reshape(kernels, [kernels_shape[0],kernels_shape[1]*kernels_shape[2], kernels_shape[3]])\n",
    "    Bflats = tf.tensordot(Ainv_tf,kernels, axes = [0,1])\n",
    "    Bs = tf.reshape(Bflats,[3,3,kernels_shape[0], kernels_shape[3]]).eval()\n",
    "    ellipts = []\n",
    "    ellipts = []\n",
    "    for n_value in range(Bs.shape[2]):\n",
    "        for channel in range(Bs.shape[3]):\n",
    "            B = Bs[:,:, n_value, channel]\n",
    "            ellipts.append(np.min(np.abs(np.array([pT(B,np.array([xi,yi])) \n",
    "                                             for xi in range(shape[0]) for yi in \n",
    "                                             range(shape[1])]))));    \n",
    "        return np.mean(ellipts)"
   ]
  },
  {
   "cell_type": "code",
   "execution_count": 101,
   "metadata": {},
   "outputs": [],
   "source": [
    "import time"
   ]
  },
  {
   "cell_type": "code",
   "execution_count": 102,
   "metadata": {},
   "outputs": [],
   "source": [
    "t = time.time()\n",
    "ellipt_layer_numpy(name_layer, Ainv)\n",
    "ellapsed_numpy = time.time()-t"
   ]
  },
  {
   "cell_type": "code",
   "execution_count": 104,
   "metadata": {},
   "outputs": [],
   "source": [
    "t = time.time()\n",
    "ellipt_layer_tf(name_layer, Ainv_tf)\n",
    "ellapsed_tf = time.time()-t"
   ]
  },
  {
   "cell_type": "code",
   "execution_count": 105,
   "metadata": {},
   "outputs": [
    {
     "data": {
      "text/plain": [
       "(18.209158658981323, 11.597294807434082)"
      ]
     },
     "execution_count": 105,
     "metadata": {},
     "output_type": "execute_result"
    }
   ],
   "source": [
    "ellapsed_numpy, ellapsed_tf"
   ]
  }
 ],
 "metadata": {
  "@webio": {
   "lastCommId": null,
   "lastKernelId": null
  },
  "kernelspec": {
   "display_name": "Python 3",
   "language": "python",
   "name": "python3"
  },
  "language_info": {
   "codemirror_mode": {
    "name": "ipython",
    "version": 3
   },
   "file_extension": ".py",
   "mimetype": "text/x-python",
   "name": "python",
   "nbconvert_exporter": "python",
   "pygments_lexer": "ipython3",
   "version": "3.6.8"
  }
 },
 "nbformat": 4,
 "nbformat_minor": 2
}
