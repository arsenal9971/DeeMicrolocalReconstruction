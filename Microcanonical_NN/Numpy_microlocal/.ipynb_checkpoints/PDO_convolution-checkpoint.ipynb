{
 "cells": [
  {
   "cell_type": "markdown",
   "metadata": {},
   "source": [
    "# <center> PDO convolution</center>"
   ]
  },
  {
   "cell_type": "markdown",
   "metadata": {},
   "source": [
    "In this notebook we analyse the way a convolutional operator correspond to Partial Differential Operators"
   ]
  },
  {
   "cell_type": "code",
   "execution_count": 1,
   "metadata": {},
   "outputs": [],
   "source": [
    "import sys\n",
    "sys.path.append(\"../WF_inpaint/\")"
   ]
  },
  {
   "cell_type": "markdown",
   "metadata": {},
   "source": [
    "## Load data"
   ]
  },
  {
   "cell_type": "code",
   "execution_count": 9,
   "metadata": {},
   "outputs": [],
   "source": [
    "import numpy as np\n",
    "import matplotlib.pyplot as plt\n",
    "%matplotlib inline\n",
    "import numpy.random as rnd\n",
    "from ellipse.ellipseWF_factory import random_ellipse, _ellipses_parameters, _ellipse_grad_gen, _ellipse_gen, plot_WF"
   ]
  },
  {
   "cell_type": "code",
   "execution_count": 10,
   "metadata": {},
   "outputs": [],
   "source": [
    "size = 256\n",
    "dirBias = 60"
   ]
  },
  {
   "cell_type": "code",
   "execution_count": 11,
   "metadata": {},
   "outputs": [],
   "source": [
    "center = [size/2,size/2]\n",
    "width = 50\n",
    "height = 70\n",
    "angle = 15\n",
    "opacity = 1\n",
    "grad_level = rnd.uniform(-2,2)\n",
    "if grad_level <= 0:\n",
    "    f = 1-_ellipse_gen(center, width, height, angle, size, opacity)\n",
    "else:\n",
    "    f = 1-_ellipse_grad_gen(center, width, height, angle, size, opacity, grad_level)"
   ]
  },
  {
   "cell_type": "code",
   "execution_count": 12,
   "metadata": {},
   "outputs": [
    {
     "data": {
      "text/plain": [
       "<matplotlib.image.AxesImage at 0x2b51d800ca58>"
      ]
     },
     "execution_count": 12,
     "metadata": {},
     "output_type": "execute_result"
    },
    {
     "data": {
      "image/png": "[encoded data removed]",
      "text/plain": [
       "<Figure size 432x432 with 1 Axes>"
      ]
     },
     "metadata": {
      "needs_background": "light"
     },
     "output_type": "display_data"
    }
   ],
   "source": [
    "plt.figure(figsize = (6,6))\n",
    "plt.axis(\"off\")\n",
    "plt.imshow(f, cmap=\"gray\")"
   ]
  },
  {
   "cell_type": "markdown",
   "metadata": {},
   "source": [
    "## Zeroth order matrix"
   ]
  },
  {
   "cell_type": "code",
   "execution_count": 139,
   "metadata": {},
   "outputs": [],
   "source": [
    "## Let us compute the convolution\n",
    "from scipy.signal import convolve2d"
   ]
  },
  {
   "cell_type": "markdown",
   "metadata": {},
   "source": [
    "The zeroth derivative is given my the matrix:\n",
    "\n",
    "$$\n",
    "\\Delta_{11}= \\begin{bmatrix} 0 & 0 & 0 \\\\ 0 & 1 & 0 \\\\ 0 & 0 & 0 \\end{bmatrix}\n",
    "$$"
   ]
  },
  {
   "cell_type": "code",
   "execution_count": 173,
   "metadata": {},
   "outputs": [],
   "source": [
    "# Let us define the kernels remember in numpy arrays the order of dimension is opossite\n",
    "D_11 = np.array([[0,0,0],[0, 1, 0], [0 , 0 , 0]])"
   ]
  },
  {
   "cell_type": "code",
   "execution_count": 174,
   "metadata": {},
   "outputs": [],
   "source": [
    "f_11 = convolve2d(f, D_11)"
   ]
  },
  {
   "cell_type": "code",
   "execution_count": 175,
   "metadata": {},
   "outputs": [
    {
     "data": {
      "text/plain": [
       "<matplotlib.image.AxesImage at 0x2b525bb935f8>"
      ]
     },
     "execution_count": 175,
     "metadata": {},
     "output_type": "execute_result"
    },
    {
     "data": {
      "image/png": "[encoded data removed]",
      "text/plain": [
       "<Figure size 432x432 with 1 Axes>"
      ]
     },
     "metadata": {
      "needs_background": "light"
     },
     "output_type": "display_data"
    }
   ],
   "source": [
    "plt.figure(figsize = (6,6))\n",
    "plt.axis(\"off\")\n",
    "plt.imshow(f_11, cmap=\"gray\")"
   ]
  },
  {
   "cell_type": "markdown",
   "metadata": {},
   "source": [
    "## First order matrices"
   ]
  },
  {
   "cell_type": "markdown",
   "metadata": {},
   "source": [
    "### First order derivative with numpy gradient"
   ]
  },
  {
   "cell_type": "code",
   "execution_count": 268,
   "metadata": {},
   "outputs": [],
   "source": [
    "f_grad = np.gradient(f)"
   ]
  },
  {
   "cell_type": "code",
   "execution_count": 269,
   "metadata": {},
   "outputs": [
    {
     "data": {
      "text/plain": [
       "<matplotlib.image.AxesImage at 0x2b525cb2a0f0>"
      ]
     },
     "execution_count": 269,
     "metadata": {},
     "output_type": "execute_result"
    },
    {
     "data": {
      "image/png": "[encoded data removed]",
      "text/plain": [
       "<Figure size 432x432 with 1 Axes>"
      ]
     },
     "metadata": {
      "needs_background": "light"
     },
     "output_type": "display_data"
    }
   ],
   "source": [
    "# D_y\n",
    "plt.figure(figsize = (6,6))\n",
    "plt.axis(\"off\")\n",
    "plt.imshow(f_grad[0], cmap=\"gray\")"
   ]
  },
  {
   "cell_type": "code",
   "execution_count": 270,
   "metadata": {},
   "outputs": [
    {
     "data": {
      "text/plain": [
       "<matplotlib.image.AxesImage at 0x2b525cb73860>"
      ]
     },
     "execution_count": 270,
     "metadata": {},
     "output_type": "execute_result"
    },
    {
     "data": {
      "image/png": "[encoded data removed]",
      "text/plain": [
       "<Figure size 432x432 with 1 Axes>"
      ]
     },
     "metadata": {
      "needs_background": "light"
     },
     "output_type": "display_data"
    }
   ],
   "source": [
    "# D_x\n",
    "plt.figure(figsize = (6,6))\n",
    "plt.axis(\"off\")\n",
    "plt.imshow(f_grad[1], cmap=\"gray\")"
   ]
  },
  {
   "cell_type": "markdown",
   "metadata": {},
   "source": [
    "### First order derivative with  first order finite difference matrices"
   ]
  },
  {
   "cell_type": "markdown",
   "metadata": {},
   "source": [
    "The first order derivation is done by using the convolutional kernels \n",
    "\n",
    "$$\n",
    "\\Delta_{12} = \\begin{bmatrix} 0 & 1 & 0 \\\\ 0 & 0 & 0 \\\\ 0 & -1 & 0 \\end{bmatrix} \\quad \\text{,} \\quad\n",
    "\\Delta_{21}= \\begin{bmatrix} 0 & 0 & 0 \\\\ 1 & 0 & -1 \\\\ 0 & 0 & 0 \\end{bmatrix} \n",
    "$$\n",
    "\n",
    "where the finite difference gradient of the function f will be given by the convolution with those kernels:\n",
    "\n",
    "$$ \n",
    "\\partial_x f = \\Delta_{12}\\ast f \\quad \\text{,} \\quad \\partial_y f = \\Delta_{21} \\ast f\n",
    "$$"
   ]
  },
  {
   "cell_type": "code",
   "execution_count": 293,
   "metadata": {},
   "outputs": [],
   "source": [
    "# Let us define the kernels remember in numpy arrays the order of dimension is opossite\n",
    "D_12 = np.array([[0,1,0],[0, 0, 0], [0 , -1 , 0]])\n",
    "D_21 = np.array([[0,0,0],[1, 0, -1], [0 , 0 , 0]])"
   ]
  },
  {
   "cell_type": "code",
   "execution_count": 294,
   "metadata": {},
   "outputs": [],
   "source": [
    "f_12 = convolve2d(f, D_12)\n",
    "f_21 = convolve2d(f, D_21)"
   ]
  },
  {
   "cell_type": "code",
   "execution_count": 295,
   "metadata": {},
   "outputs": [
    {
     "data": {
      "text/plain": [
       "<matplotlib.image.AxesImage at 0x2b525cee97b8>"
      ]
     },
     "execution_count": 295,
     "metadata": {},
     "output_type": "execute_result"
    },
    {
     "data": {
      "image/png": "[encoded data removed]",
      "text/plain": [
       "<Figure size 432x432 with 1 Axes>"
      ]
     },
     "metadata": {
      "needs_background": "light"
     },
     "output_type": "display_data"
    }
   ],
   "source": [
    "# D_y\n",
    "plt.figure(figsize = (6,6))\n",
    "plt.axis(\"off\")\n",
    "plt.imshow(f_12, cmap=\"gray\")"
   ]
  },
  {
   "cell_type": "code",
   "execution_count": 296,
   "metadata": {},
   "outputs": [
    {
     "data": {
      "text/plain": [
       "<matplotlib.image.AxesImage at 0x2b525cf34eb8>"
      ]
     },
     "execution_count": 296,
     "metadata": {},
     "output_type": "execute_result"
    },
    {
     "data": {
      "image/png": "[encoded data removed]",
      "text/plain": [
       "<Figure size 432x432 with 1 Axes>"
      ]
     },
     "metadata": {
      "needs_background": "light"
     },
     "output_type": "display_data"
    }
   ],
   "source": [
    "# D_x\n",
    "plt.figure(figsize = (6,6))\n",
    "plt.axis(\"off\")\n",
    "plt.imshow(f_21, cmap=\"gray\")"
   ]
  },
  {
   "cell_type": "code",
   "execution_count": 297,
   "metadata": {},
   "outputs": [
    {
     "name": "stderr",
     "output_type": "stream",
     "text": [
      "/homes/extern/andrade/store/miniconda3/envs/tf_gpu/lib/python3.6/site-packages/ipykernel_launcher.py:7: RuntimeWarning: invalid value encountered in double_scalars\n",
      "  import sys\n",
      "/homes/extern/andrade/store/miniconda3/envs/tf_gpu/lib/python3.6/site-packages/ipykernel_launcher.py:7: RuntimeWarning: divide by zero encountered in double_scalars\n",
      "  import sys\n"
     ]
    }
   ],
   "source": [
    "WFimage = np.zeros(f.shape)\n",
    "for i in range(f.shape[0]):\n",
    "    for j in range(f.shape[1]):\n",
    "        if fx[i,j] == 0:\n",
    "            WFimage[i,j] = 0\n",
    "        else:\n",
    "            WFimage[i,j] = 180*np.arctan(f_21[i,j]/f_12[i,j])/(np.pi)"
   ]
  },
  {
   "cell_type": "code",
   "execution_count": 298,
   "metadata": {},
   "outputs": [
    {
     "data": {
      "text/plain": [
       "<matplotlib.image.AxesImage at 0x2b525cf8c4e0>"
      ]
     },
     "execution_count": 298,
     "metadata": {},
     "output_type": "execute_result"
    },
    {
     "data": {
      "image/png": "[encoded data removed]",
      "text/plain": [
       "<Figure size 432x432 with 1 Axes>"
      ]
     },
     "metadata": {
      "needs_background": "light"
     },
     "output_type": "display_data"
    }
   ],
   "source": [
    "plt.figure(figsize = (6,6))\n",
    "plt.axis(\"off\")\n",
    "plot_WF(WFimage)"
   ]
  },
  {
   "cell_type": "markdown",
   "metadata": {},
   "source": [
    "## Second order matrices"
   ]
  },
  {
   "cell_type": "markdown",
   "metadata": {},
   "source": [
    "### Second order derivatives with gradient function"
   ]
  },
  {
   "cell_type": "code",
   "execution_count": 283,
   "metadata": {},
   "outputs": [],
   "source": [
    "def hessian(x):\n",
    "    \"\"\"\n",
    "    Calculate the hessian matrix with finite differences\n",
    "    Parameters:\n",
    "       - x : ndarray\n",
    "    Returns:\n",
    "       an array of shape (x.dim, x.ndim) + x.shape\n",
    "       where the array[i, j, ...] corresponds to the second derivative x_ij\n",
    "    \"\"\"\n",
    "    x_grad = np.gradient(x) \n",
    "    hessian = np.empty((x.ndim, x.ndim) + x.shape, dtype=x.dtype) \n",
    "    for k, grad_k in enumerate(x_grad):\n",
    "        # iterate over dimensions\n",
    "        # apply gradient again to every component of the first derivative.\n",
    "        tmp_grad = np.gradient(grad_k) \n",
    "        for l, grad_kl in enumerate(tmp_grad):\n",
    "            hessian[k, l, :, :] = grad_kl\n",
    "    return hessian"
   ]
  },
  {
   "cell_type": "code",
   "execution_count": 299,
   "metadata": {},
   "outputs": [
    {
     "data": {
      "text/plain": [
       "<matplotlib.image.AxesImage at 0x2b525cfd6eb8>"
      ]
     },
     "execution_count": 299,
     "metadata": {},
     "output_type": "execute_result"
    },
    {
     "data": {
      "image/png": "[encoded data removed]",
      "text/plain": [
       "<Figure size 432x432 with 1 Axes>"
      ]
     },
     "metadata": {
      "needs_background": "light"
     },
     "output_type": "display_data"
    }
   ],
   "source": [
    "## D_y^2\n",
    "plt.figure(figsize = (6,6))\n",
    "plt.axis(\"off\")\n",
    "plt.imshow(hessian(f)[0,0,:,:], cmap=\"gray\")"
   ]
  },
  {
   "cell_type": "markdown",
   "metadata": {},
   "source": [
    "### Second order derivative with finite differences matrices"
   ]
  },
  {
   "cell_type": "markdown",
   "metadata": {},
   "source": [
    "The second order derivation is done by using the convolutional kernels \n",
    "\n",
    "$$\n",
    "\\Delta_{22} = \\begin{bmatrix} 1 & 0 & -1 \\\\ 0 & 0 & 0 \\\\ -1 & 0 & 1 \\end{bmatrix} \\quad \\text{,} \\quad\n",
    "\\Delta_{13}= \\begin{bmatrix} 0 & -1 & 0 \\\\ 0 & 2 & 0 \\\\ 0 & -1 & 0 \\end{bmatrix}  \\quad \\text{,} \\quad\n",
    "\\Delta_{31}= \\begin{bmatrix} 0 & 0 & 0 \\\\ 1 & -2 & 1 \\\\ 0 & 0 & 0 \\end{bmatrix}  \n",
    "$$\n",
    "\n",
    "where the finite difference gradient of the function f will be given by the convolution with those kernels:\n",
    "\n",
    "$$ \n",
    "\\partial_x\\partial_y f = \\Delta_{22}\\ast f \\quad \\text{,} \\quad \\partial_x^2 f = \\Delta_{31} \\ast f \\quad \\text{,} \\quad \\partial_y^2 f = \\Delta_{13} \\ast f\n",
    "$$"
   ]
  },
  {
   "cell_type": "code",
   "execution_count": 348,
   "metadata": {},
   "outputs": [],
   "source": [
    "D_22 = np.array([[1,0,-1],[0, 0, 0], [-1 , 0 , +1]])\n",
    "D_13 = np.array([[0,-1,0],[0, 2, 0], [0 , -1 , 0]])\n",
    "D_31 = np.array([[0,0,0],[1, -2, 1], [0 , 0 , 0]])"
   ]
  },
  {
   "cell_type": "code",
   "execution_count": 349,
   "metadata": {},
   "outputs": [],
   "source": [
    "f_22 = convolve2d(f, D_22)\n",
    "f_13 = convolve2d(f, D_13)\n",
    "f_31 = convolve2d(f, D_31)"
   ]
  },
  {
   "cell_type": "code",
   "execution_count": 351,
   "metadata": {},
   "outputs": [
    {
     "data": {
      "text/plain": [
       "<matplotlib.image.AxesImage at 0x2b525da74b00>"
      ]
     },
     "execution_count": 351,
     "metadata": {},
     "output_type": "execute_result"
    },
    {
     "data": {
      "image/png": "[encoded data removed]",
      "text/plain": [
       "<Figure size 432x432 with 1 Axes>"
      ]
     },
     "metadata": {
      "needs_background": "light"
     },
     "output_type": "display_data"
    }
   ],
   "source": [
    "## D_xD_y\n",
    "plt.figure(figsize = (6,6))\n",
    "plt.axis(\"off\")\n",
    "plt.imshow(f_22, cmap=\"gray\")"
   ]
  },
  {
   "cell_type": "code",
   "execution_count": 353,
   "metadata": {},
   "outputs": [
    {
     "data": {
      "text/plain": [
       "<matplotlib.image.AxesImage at 0x2b525db158d0>"
      ]
     },
     "execution_count": 353,
     "metadata": {},
     "output_type": "execute_result"
    },
    {
     "data": {
      "image/png": "[encoded data removed]",
      "text/plain": [
       "<Figure size 432x432 with 1 Axes>"
      ]
     },
     "metadata": {
      "needs_background": "light"
     },
     "output_type": "display_data"
    }
   ],
   "source": [
    "## D_x^2\n",
    "plt.figure(figsize = (6,6))\n",
    "plt.axis(\"off\")\n",
    "plt.imshow(f_31, cmap=\"gray\")"
   ]
  },
  {
   "cell_type": "code",
   "execution_count": 354,
   "metadata": {},
   "outputs": [
    {
     "data": {
      "text/plain": [
       "<matplotlib.image.AxesImage at 0x2b525db5ff98>"
      ]
     },
     "execution_count": 354,
     "metadata": {},
     "output_type": "execute_result"
    },
    {
     "data": {
      "image/png": "[encoded data removed]",
      "text/plain": [
       "<Figure size 432x432 with 1 Axes>"
      ]
     },
     "metadata": {
      "needs_background": "light"
     },
     "output_type": "display_data"
    }
   ],
   "source": [
    "## D_y^2\n",
    "plt.figure(figsize = (6,6))\n",
    "plt.axis(\"off\")\n",
    "plt.imshow(f_13, cmap=\"gray\")"
   ]
  },
  {
   "cell_type": "markdown",
   "metadata": {},
   "source": [
    "## Third order matrices"
   ]
  },
  {
   "cell_type": "markdown",
   "metadata": {},
   "source": [
    "### Approximation with finite differences"
   ]
  },
  {
   "cell_type": "markdown",
   "metadata": {},
   "source": [
    "The third order derivation is done by using the convolutional kernels \n",
    "\n",
    "$$\n",
    "\\Delta_{23} = \\begin{bmatrix} 1 & -2 & 1 \\\\ 0 & 0 & 0 \\\\ -1 & 2 & -1 \\end{bmatrix} \\quad \\text{,} \\quad\n",
    "\\Delta_{32}= \\begin{bmatrix} 1 & 0 & -1 \\\\ -2 & 0 & 2 \\\\ 1 & 0 & -1 \\end{bmatrix} \n",
    "$$\n",
    "\n",
    "where the finite difference gradient of the function f will be given by the convolution with those kernels:\n",
    "\n",
    "$$ \n",
    "\\partial_x\\partial_y^2 f = \\Delta_{23}\\ast f \\quad \\text{,} \\quad \\partial_x^2\\partial_y f = \\Delta_{32} \\ast f \n",
    "$$"
   ]
  },
  {
   "cell_type": "code",
   "execution_count": 405,
   "metadata": {},
   "outputs": [],
   "source": [
    "D_23 = np.array([[1,-2,1],[0, 0, 0], [-1 , 2 , -1]])\n",
    "D_32 = np.array([[1,0,-1],[-2, 0, 2], [1 , 0 , -1]])"
   ]
  },
  {
   "cell_type": "code",
   "execution_count": 406,
   "metadata": {},
   "outputs": [],
   "source": [
    "f_23 = convolve2d(f, D_23)\n",
    "f_32 = convolve2d(f, D_32)"
   ]
  },
  {
   "cell_type": "code",
   "execution_count": 407,
   "metadata": {},
   "outputs": [
    {
     "data": {
      "text/plain": [
       "<matplotlib.image.AxesImage at 0x2b525e44fc18>"
      ]
     },
     "execution_count": 407,
     "metadata": {},
     "output_type": "execute_result"
    },
    {
     "data": {
      "image/png": "[encoded data removed]",
      "text/plain": [
       "<Figure size 432x432 with 1 Axes>"
      ]
     },
     "metadata": {
      "needs_background": "light"
     },
     "output_type": "display_data"
    }
   ],
   "source": [
    "## D_x^2D_y\n",
    "plt.figure(figsize = (6,6))\n",
    "plt.axis(\"off\")\n",
    "plt.imshow(f_32, cmap=\"gray\")"
   ]
  },
  {
   "cell_type": "code",
   "execution_count": 408,
   "metadata": {},
   "outputs": [
    {
     "data": {
      "text/plain": [
       "<matplotlib.image.AxesImage at 0x2b525e49fc50>"
      ]
     },
     "execution_count": 408,
     "metadata": {},
     "output_type": "execute_result"
    },
    {
     "data": {
      "image/png": "[encoded data removed]",
      "text/plain": [
       "<Figure size 432x432 with 1 Axes>"
      ]
     },
     "metadata": {
      "needs_background": "light"
     },
     "output_type": "display_data"
    }
   ],
   "source": [
    "## D_xD_y^2\n",
    "plt.figure(figsize = (6,6))\n",
    "plt.axis(\"off\")\n",
    "plt.imshow(f_23, cmap=\"gray\")"
   ]
  },
  {
   "cell_type": "markdown",
   "metadata": {},
   "source": [
    "## Fourth order matrix"
   ]
  },
  {
   "cell_type": "markdown",
   "metadata": {},
   "source": [
    "### Approximation with finite differences"
   ]
  },
  {
   "cell_type": "markdown",
   "metadata": {},
   "source": [
    "The fourth order derivation is done by using the convolutional kernels \n",
    "\n",
    "$$\n",
    "\\Delta_{33} = \\begin{bmatrix} -1 & 2 & -1 \\\\ 2 & -4 & 2 \\\\ -1 & 2 & -1 \\end{bmatrix}\n",
    "$$\n",
    "\n",
    "where the finite difference gradient of the function f will be given by the convolution with those kernels:\n",
    "\n",
    "$$ \n",
    "\\partial_x^2\\partial_y^2 f = \\Delta_{33}\\ast f\n",
    "$$"
   ]
  },
  {
   "cell_type": "code",
   "execution_count": 429,
   "metadata": {},
   "outputs": [],
   "source": [
    "D_33 = np.array([[-1,2,-1],[2, -4, 2], [-1 , 2 , -1]])"
   ]
  },
  {
   "cell_type": "code",
   "execution_count": 430,
   "metadata": {},
   "outputs": [],
   "source": [
    "f_33 = convolve2d(f, D_33)"
   ]
  },
  {
   "cell_type": "code",
   "execution_count": 431,
   "metadata": {},
   "outputs": [
    {
     "data": {
      "text/plain": [
       "<matplotlib.image.AxesImage at 0x2b525e7b4fd0>"
      ]
     },
     "execution_count": 431,
     "metadata": {},
     "output_type": "execute_result"
    },
    {
     "data": {
      "image/png": "[encoded data removed]",
      "text/plain": [
       "<Figure size 432x432 with 1 Axes>"
      ]
     },
     "metadata": {
      "needs_background": "light"
     },
     "output_type": "display_data"
    }
   ],
   "source": [
    "## D_x^2D_y^2\n",
    "plt.figure(figsize = (6,6))\n",
    "plt.axis(\"off\")\n",
    "plt.imshow(f_33, cmap=\"gray\")"
   ]
  },
  {
   "cell_type": "markdown",
   "metadata": {},
   "source": [
    "The linear combination of the above matrices of the form: \n",
    "\n",
    "$$\\begin{split}\n",
    "\\theta = \\theta(\\beta)\n",
    "  &= \\beta_{11}\\Delta_{11}\n",
    "  +\\frac{\\beta_{12}}{2h}\\Delta_{12}\n",
    "  +\\frac{\\beta_{21}}{2h}\\Delta_{21}\n",
    "  +\\frac{\\beta_{22}}{4h^2}\\Delta_{22}\n",
    "  +\\frac{\\beta_{13}}{h^2}\\Delta_{13}\n",
    "  \\\\ & \\phantom{=}\n",
    "  +\\frac{\\beta_{31}}{h^2}\\Delta_{31}\n",
    "  +\\frac{\\beta_{32}}{2h^3}\\Delta_{32}\n",
    "  +\\frac{\\beta_{23}}{2h^3}\\Delta_{23}\n",
    "  +\\frac{\\beta_{33}}{h^4}\\Delta_{33}\n",
    "\\end{split}\n",
    "$$\n",
    "\n",
    "are the discretization of the partial differential operator: \n",
    "\n",
    "$$\n",
    "\\begin{multline}\n",
    "\\mathcal{K}_{\\theta}(f) = \\theta\\ast f = \n",
    "\\beta_{11} f \n",
    "+\\beta_{12}\\partial_{2}f\n",
    "+\\beta_{21}\\partial_{1}f\n",
    "+\\beta_{22}\\partial_{1}\\partial_{2}f\n",
    "+\\beta_{13}\\partial_{2}^2f\n",
    "+\\beta_{31}\\partial_{1}^2f\n",
    "+\\beta_{23}\\partial_{2}^2\\partial_{1} f\n",
    "+\\beta_{32}\\partial_{1}^2\\partial_{2}f\n",
    "+\\beta_{33}\\partial_{1}^2\\partial_{2}^2f. \n",
    "\\end{multline}\n",
    "$$"
   ]
  },
  {
   "cell_type": "code",
   "execution_count": null,
   "metadata": {},
   "outputs": [],
   "source": []
  }
 ],
 "metadata": {
  "kernelspec": {
   "display_name": "Python 3",
   "language": "python",
   "name": "python3"
  },
  "language_info": {
   "codemirror_mode": {
    "name": "ipython",
    "version": 3
   },
   "file_extension": ".py",
   "mimetype": "text/x-python",
   "name": "python",
   "nbconvert_exporter": "python",
   "pygments_lexer": "ipython3",
   "version": "3.6.8"
  }
 },
 "nbformat": 4,
 "nbformat_minor": 2
}
