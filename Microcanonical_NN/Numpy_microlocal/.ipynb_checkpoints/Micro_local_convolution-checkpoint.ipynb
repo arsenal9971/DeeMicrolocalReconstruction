{
 "cells": [
  {
   "cell_type": "markdown",
   "metadata": {},
   "source": [
    "# <center> Microlocal analysis convolution </center>"
   ]
  },
  {
   "cell_type": "markdown",
   "metadata": {},
   "source": [
    "In this notebook we analyse the way to express a 3x3 convolutional kernel into a linear combination of the basis formed by the $\\Delta_{ij}$"
   ]
  },
  {
   "cell_type": "code",
   "execution_count": 1,
   "metadata": {},
   "outputs": [],
   "source": [
    "import sys\n",
    "sys.path.append(\"../WF_inpaint/\")"
   ]
  },
  {
   "cell_type": "markdown",
   "metadata": {},
   "source": [
    "## Load data"
   ]
  },
  {
   "cell_type": "code",
   "execution_count": 3,
   "metadata": {},
   "outputs": [],
   "source": [
    "import numpy as np\n",
    "import matplotlib.pyplot as plt\n",
    "%matplotlib inline\n",
    "import numpy.random as rnd\n",
    "from ellipse.ellipseWF_factory import random_ellipse, _ellipses_parameters, _ellipse_grad_gen, _ellipse_gen, plot_WF"
   ]
  },
  {
   "cell_type": "code",
   "execution_count": 4,
   "metadata": {},
   "outputs": [],
   "source": [
    "size = 256\n",
    "dirBias = 60"
   ]
  },
  {
   "cell_type": "code",
   "execution_count": 5,
   "metadata": {},
   "outputs": [],
   "source": [
    "center = [size/2,size/2]\n",
    "width = 50\n",
    "height = 70\n",
    "angle = 15\n",
    "opacity = 1\n",
    "grad_level = rnd.uniform(-2,2)\n",
    "if grad_level <= 0:\n",
    "    f = 1-_ellipse_gen(center, width, height, angle, size, opacity)\n",
    "else:\n",
    "    f = 1-_ellipse_grad_gen(center, width, height, angle, size, opacity, grad_level)"
   ]
  },
  {
   "cell_type": "code",
   "execution_count": 6,
   "metadata": {},
   "outputs": [
    {
     "data": {
      "text/plain": [
       "<matplotlib.image.AxesImage at 0x2b9676092710>"
      ]
     },
     "execution_count": 6,
     "metadata": {},
     "output_type": "execute_result"
    },
    {
     "data": {
      "image/png": "[encoded data removed]",
      "text/plain": [
       "<Figure size 432x432 with 1 Axes>"
      ]
     },
     "metadata": {
      "needs_background": "light"
     },
     "output_type": "display_data"
    }
   ],
   "source": [
    "plt.figure(figsize = (6,6))\n",
    "plt.axis(\"off\")\n",
    "plt.imshow(f, cmap=\"gray\")"
   ]
  },
  {
   "cell_type": "markdown",
   "metadata": {},
   "source": [
    "## Defining random 3x3 filter"
   ]
  },
  {
   "cell_type": "code",
   "execution_count": 43,
   "metadata": {},
   "outputs": [],
   "source": [
    "T = np.random.rand(3,3)"
   ]
  },
  {
   "cell_type": "code",
   "execution_count": 45,
   "metadata": {},
   "outputs": [
    {
     "data": {
      "text/plain": [
       "<matplotlib.image.AxesImage at 0x2b96f7b8ee80>"
      ]
     },
     "execution_count": 45,
     "metadata": {},
     "output_type": "execute_result"
    },
    {
     "data": {
      "image/png": "[encoded data removed]",
      "text/plain": [
       "<Figure size 432x432 with 1 Axes>"
      ]
     },
     "metadata": {
      "needs_background": "light"
     },
     "output_type": "display_data"
    }
   ],
   "source": [
    "plt.figure(figsize = (6,6))\n",
    "plt.axis(\"off\")\n",
    "plt.imshow(T)"
   ]
  },
  {
   "cell_type": "code",
   "execution_count": 47,
   "metadata": {},
   "outputs": [
    {
     "data": {
      "text/plain": [
       "<matplotlib.image.AxesImage at 0x2b96f7d0f7f0>"
      ]
     },
     "execution_count": 47,
     "metadata": {},
     "output_type": "execute_result"
    },
    {
     "data": {
      "image/png": "[encoded data removed]",
      "text/plain": [
       "<Figure size 432x432 with 1 Axes>"
      ]
     },
     "metadata": {
      "needs_background": "light"
     },
     "output_type": "display_data"
    }
   ],
   "source": [
    "plt.figure(figsize = (6,6))\n",
    "plt.axis(\"off\")\n",
    "plt.imshow(convolve2d(f,T), cmap=\"gray\")"
   ]
  },
  {
   "cell_type": "markdown",
   "metadata": {},
   "source": [
    "## Changing the basis with the matrices"
   ]
  },
  {
   "cell_type": "code",
   "execution_count": 48,
   "metadata": {},
   "outputs": [],
   "source": [
    "## Let us compute the convolution\n",
    "from scipy.signal import convolve2d"
   ]
  },
  {
   "cell_type": "code",
   "execution_count": 158,
   "metadata": {},
   "outputs": [],
   "source": [
    "D_11 = np.array([[0,0,0],[0, 1, 0], [0 , 0 , 0]])\n",
    "D_12 = np.array([[0,1,0],[0, 0, 0], [0 , -1 , 0]])\n",
    "D_21 = np.array([[0,0,0],[1, 0, -1], [0 , 0 , 0]])\n",
    "D_22 = np.array([[1,0,-1],[0, 0, 0], [-1 , 0 , 1]])\n",
    "D_13 = np.array([[0,-1,0],[0, 2, 0], [0 , -1 , 0]])\n",
    "D_31 = np.array([[0,0,0],[1, -2, 1], [0 , 0 , 0]])\n",
    "D_23 = np.array([[1,-2,1],[0, 0, 0], [-1 , 2 , -1]])\n",
    "D_32 = np.array([[1,0,-1],[-2, 0, 2], [1 , 0 , -1]])\n",
    "D_33 = np.array([[-1,2,-1],[2, -4, 2], [-1 , 2 , -1]])"
   ]
  },
  {
   "cell_type": "code",
   "execution_count": 203,
   "metadata": {},
   "outputs": [],
   "source": [
    "D = [D_11, D_12, D_13, D_21, D_22, D_23, D_31, D_32, D_33]"
   ]
  },
  {
   "cell_type": "markdown",
   "metadata": {},
   "source": [
    "In order to solve the matrix equation\n",
    "$$\\begin{split}\n",
    "\\theta = \\theta(\\beta)\n",
    "  &= \\beta_{11}\\Delta_{11}\n",
    "  +\\beta_{12}\\Delta_{12}\n",
    "  +\\beta_{21}\\Delta_{21}\n",
    "  +\\beta_{22}\\Delta_{22}\n",
    "  +\\beta_{13}\\Delta_{13}\n",
    "  \\\\ & \\phantom{=}\n",
    "  +\\beta_{31}\\Delta_{31}\n",
    "  +\\beta_{32}\\Delta_{32}\n",
    "  +\\beta_{23}\\Delta_{23}\n",
    "  +\\beta_{33}\\Delta_{33}\n",
    "\\end{split}\n",
    "$$\n",
    "\n",
    "we are going to solve the vectorized linear equation \n",
    "\n",
    "$$\n",
    "\\vec{\\theta} = \\mathbf{A}\\vec{\\beta}\n",
    "$$\n",
    "\n",
    "therefore the coefficients $\\beta{ij}$ are given by the equation\n",
    "\n",
    "$$\n",
    "\\vec{\\beta} = \\mathbf{A}^{-1}\\vec{\\theta}\n",
    "$$\n",
    "\n",
    "where \n",
    "\n",
    "$$\n",
    "A = \n",
    "\\begin{bmatrix}\n",
    "0 &  0 &  0 &  0 &  1 &  1 &  0 &  1 & -1 \\\\\n",
    "0 &  1 & -1 &  0 &  0 & -2 &  0 &  0 &  2 \\\\\n",
    "0 &  0 &  0 &  0 & -1 &  1 &  0 & -1 & -1 \\\\\n",
    "0 &  0 &  0 &  1 &  0 &  0 &  1 & -2 &  2 \\\\\n",
    "1 &  0 &  2 &  0 &  0 &  0 & -2 &  0 & -4 \\\\\n",
    "0 &  0 &  0 & -1 &  0 &  0 &  1 &  2 &  2 \\\\\n",
    "0 &  0 &  0 &  0 & -1 & -1 &  0 &  1 & -1 \\\\\n",
    "0 & -1 & -1 &  0 &  0 &  2 &  0 &  0 &  2 \\\\\n",
    "0 &  0 &  0 &  0 &  1 & -1 &  0 & -1 & -1 \n",
    "\\end{bmatrix}\n",
    "$$"
   ]
  },
  {
   "cell_type": "code",
   "execution_count": 163,
   "metadata": {},
   "outputs": [],
   "source": [
    "# Let us define the matrix for the change of coordinates\n",
    "\n",
    "A = np.array([\n",
    "    [0, 0, 0,  0, 1, 1, 0, 1, -1],\n",
    "    [0, 1, -1, 0, 0, -2, 0, 0, 2],\n",
    "    [0, 0, 0, 0, -1, 1, 0, -1, -1],\n",
    "    [0, 0, 0, 1, 0, 0, 1, -2, 2],\n",
    "    [1, 0, 2, 0, 0, 0, -2, 0, -4],\n",
    "    [0, 0, 0, -1, 0, 0, 1, 2, 2],\n",
    "    [0, 0, 0, 0, -1, -1, 0, 1, -1],\n",
    "    [0, -1, -1, 0, 0, 2, 0, 0, 2],\n",
    "    [0, 0, 0, 0, 1, -1, 0, -1, -1]\n",
    "])"
   ]
  },
  {
   "cell_type": "code",
   "execution_count": 202,
   "metadata": {},
   "outputs": [
    {
     "data": {
      "text/plain": [
       "array([[ 0,  0,  0,  0,  1,  1,  0,  1, -1],\n",
       "       [ 0,  1, -1,  0,  0, -2,  0,  0,  2],\n",
       "       [ 0,  0,  0,  0, -1,  1,  0, -1, -1],\n",
       "       [ 0,  0,  0,  1,  0,  0,  1, -2,  2],\n",
       "       [ 1,  0,  2,  0,  0,  0, -2,  0, -4],\n",
       "       [ 0,  0,  0, -1,  0,  0,  1,  2,  2],\n",
       "       [ 0,  0,  0,  0, -1, -1,  0,  1, -1],\n",
       "       [ 0, -1, -1,  0,  0,  2,  0,  0,  2],\n",
       "       [ 0,  0,  0,  0,  1, -1,  0, -1, -1]])"
      ]
     },
     "execution_count": 202,
     "metadata": {},
     "output_type": "execute_result"
    }
   ],
   "source": [
    "A"
   ]
  },
  {
   "cell_type": "code",
   "execution_count": 166,
   "metadata": {},
   "outputs": [
    {
     "data": {
      "text/plain": [
       "<matplotlib.image.AxesImage at 0x2b96f81e9dd8>"
      ]
     },
     "execution_count": 166,
     "metadata": {},
     "output_type": "execute_result"
    },
    {
     "data": {
      "image/png": "[encoded data removed]",
      "text/plain": [
       "<Figure size 432x432 with 1 Axes>"
      ]
     },
     "metadata": {
      "needs_background": "light"
     },
     "output_type": "display_data"
    }
   ],
   "source": [
    "plt.figure(figsize = (6,6))\n",
    "plt.axis(\"off\")\n",
    "plt.imshow(A)"
   ]
  },
  {
   "cell_type": "code",
   "execution_count": 174,
   "metadata": {},
   "outputs": [],
   "source": [
    "# Computing the inverse\n",
    "Ainv = np.linalg.inv(A)"
   ]
  },
  {
   "cell_type": "code",
   "execution_count": 180,
   "metadata": {},
   "outputs": [
    {
     "data": {
      "text/plain": [
       "<matplotlib.image.AxesImage at 0x2b96f85b6f28>"
      ]
     },
     "execution_count": 180,
     "metadata": {},
     "output_type": "execute_result"
    },
    {
     "data": {
      "image/png": "[encoded data removed]",
      "text/plain": [
       "<Figure size 432x432 with 1 Axes>"
      ]
     },
     "metadata": {
      "needs_background": "light"
     },
     "output_type": "display_data"
    }
   ],
   "source": [
    "plt.figure(figsize = (6,6))\n",
    "plt.axis(\"off\")\n",
    "plt.imshow(Ainv)"
   ]
  },
  {
   "cell_type": "code",
   "execution_count": 204,
   "metadata": {},
   "outputs": [],
   "source": [
    "# Let us compute the flatten version of beta\n",
    "Bflat = Ainv.dot(T.flatten())"
   ]
  },
  {
   "cell_type": "code",
   "execution_count": 205,
   "metadata": {},
   "outputs": [],
   "source": [
    "B = Bflat.reshape(3,3);"
   ]
  },
  {
   "cell_type": "code",
   "execution_count": 206,
   "metadata": {},
   "outputs": [
    {
     "data": {
      "text/plain": [
       "<matplotlib.image.AxesImage at 0x2b96f9401160>"
      ]
     },
     "execution_count": 206,
     "metadata": {},
     "output_type": "execute_result"
    },
    {
     "data": {
      "image/png": "[encoded data removed]",
      "text/plain": [
       "<Figure size 432x432 with 1 Axes>"
      ]
     },
     "metadata": {
      "needs_background": "light"
     },
     "output_type": "display_data"
    }
   ],
   "source": [
    "plt.figure(figsize = (6,6))\n",
    "plt.axis(\"off\")\n",
    "plt.imshow(B)"
   ]
  },
  {
   "cell_type": "markdown",
   "metadata": {},
   "source": [
    "Let us now check that the matix equation follows"
   ]
  },
  {
   "cell_type": "code",
   "execution_count": 207,
   "metadata": {},
   "outputs": [],
   "source": [
    "T_recon = sum([Bflat[i]*D[i] for i in range(len(D))])"
   ]
  },
  {
   "cell_type": "code",
   "execution_count": 208,
   "metadata": {},
   "outputs": [
    {
     "data": {
      "text/plain": [
       "<matplotlib.image.AxesImage at 0x2b96f8cf5a58>"
      ]
     },
     "execution_count": 208,
     "metadata": {},
     "output_type": "execute_result"
    },
    {
     "data": {
      "image/png": "[encoded data removed]",
      "text/plain": [
       "<Figure size 432x432 with 1 Axes>"
      ]
     },
     "metadata": {
      "needs_background": "light"
     },
     "output_type": "display_data"
    }
   ],
   "source": [
    "plt.figure(figsize = (6,6))\n",
    "plt.axis(\"off\")\n",
    "plt.imshow(T_recon)"
   ]
  },
  {
   "cell_type": "code",
   "execution_count": 212,
   "metadata": {},
   "outputs": [
    {
     "data": {
      "text/plain": [
       "<matplotlib.image.AxesImage at 0x2b96f828f4e0>"
      ]
     },
     "execution_count": 212,
     "metadata": {},
     "output_type": "execute_result"
    },
    {
     "data": {
      "image/png": "[encoded data removed]",
      "text/plain": [
       "<Figure size 432x432 with 1 Axes>"
      ]
     },
     "metadata": {
      "needs_background": "light"
     },
     "output_type": "display_data"
    }
   ],
   "source": [
    "plt.figure(figsize = (6,6))\n",
    "plt.axis(\"off\")\n",
    "plt.imshow(T_recon)"
   ]
  },
  {
   "cell_type": "markdown",
   "metadata": {},
   "source": [
    "## Check its application to the image"
   ]
  },
  {
   "cell_type": "markdown",
   "metadata": {},
   "source": [
    "Each of the coefficients represent the amound of smoothing done in such directions, for example $\\beta_11$ corresponding how much the signal is intesified or diminished, $\\beta_12$ representing the coefficient for $\\partial_2 f$ represent the amount of smoothing in the direction $x_2$"
   ]
  },
  {
   "cell_type": "code",
   "execution_count": 217,
   "metadata": {},
   "outputs": [
    {
     "data": {
      "text/plain": [
       "[<matplotlib.lines.Line2D at 0x2b96f8edf588>]"
      ]
     },
     "execution_count": 217,
     "metadata": {},
     "output_type": "execute_result"
    },
    {
     "data": {
      "image/png": "[encoded data removed]",
      "text/plain": [
       "<Figure size 432x288 with 1 Axes>"
      ]
     },
     "metadata": {
      "needs_background": "light"
     },
     "output_type": "display_data"
    }
   ],
   "source": [
    "plt.plot(Bflat)"
   ]
  },
  {
   "cell_type": "markdown",
   "metadata": {},
   "source": [
    "We can see from the plot that for this specific filter, there is a lot of smoothing of first order the $x$ and $y$ but not of second order\n"
   ]
  },
  {
   "cell_type": "markdown",
   "metadata": {},
   "source": [
    "## Ellipticity measure"
   ]
  },
  {
   "cell_type": "markdown",
   "metadata": {},
   "source": [
    "From the coefficients we can know wether or not the convolutional operator is elliptic (it does not vanish any singularity). In this case the operator is elliptic if the symbol polynomial: \n",
    "\n",
    "$$\n",
    "\\begin{aligned}\n",
    "p_{\\theta}(\\xi) =&\n",
    "\\beta_{11} \n",
    "+\\beta_{12}\\xi_2\n",
    "+\\beta_{21}\\xi_1\n",
    "+\\beta_{22}\\xi_1\\xi_2\\\\\n",
    "&+\\beta_{13}\\xi_2^2\n",
    "+\\beta_{31}\\xi_{1}^2\n",
    "+\\beta_{23}\\xi_{2}^2\\xi_{1}\n",
    "+\\beta_{32}\\xi_{1}^2\\xi_{2}\n",
    "+\\beta_{33}\\xi_1^2\\xi_{2}^2. \n",
    "\\end{aligned}\n",
    "$$\n",
    "\n",
    "does not vanish in the domain, in our case the grid domain $\\{0,\\ldots N\\}\\times \\{0,\\ldots N\\}$.\n",
    "\n",
    "Let us compute the symbol for this case"
   ]
  },
  {
   "cell_type": "code",
   "execution_count": 249,
   "metadata": {},
   "outputs": [],
   "source": [
    "def pT(B, Xi): \n",
    "    p = (B[0,0]+B[0,1]*Xi[1]+B[1,0]*Xi[0]+B[1,1]*Xi[0]*Xi[1]+\n",
    "        B[0,2]*Xi[1]**2+B[2,0]*Xi[1]**2+B[1,2]*Xi[0]*Xi[1]**2+\n",
    "        B[2,1]*Xi[1]*Xi[0]**2+B[2,2]*(Xi[1]**2)*Xi[0]**2)\n",
    "    return p"
   ]
  },
  {
   "cell_type": "markdown",
   "metadata": {},
   "source": [
    "Let us evaluate the symbol in the grid"
   ]
  },
  {
   "cell_type": "code",
   "execution_count": 256,
   "metadata": {},
   "outputs": [],
   "source": [
    "ellipt = np.array([pT(B,np.array([xi,yi])) for xi in range(size) for yi in range(size)]).reshape(size,size);"
   ]
  },
  {
   "cell_type": "code",
   "execution_count": 288,
   "metadata": {},
   "outputs": [
    {
     "data": {
      "text/plain": [
       "<matplotlib.image.AxesImage at 0x2b96f96cd6d8>"
      ]
     },
     "execution_count": 288,
     "metadata": {},
     "output_type": "execute_result"
    },
    {
     "data": {
      "image/png": "[encoded data removed]",
      "text/plain": [
       "<Figure size 432x288 with 1 Axes>"
      ]
     },
     "metadata": {
      "needs_background": "light"
     },
     "output_type": "display_data"
    }
   ],
   "source": [
    "# Notice that the symbol acting on the fourier domain is killing the high frequencies\n",
    "# meaning is smoothing out tha array\n",
    "plt.imshow(ellipt)"
   ]
  }
 ],
 "metadata": {
  "@webio": {
   "lastCommId": null,
   "lastKernelId": null
  },
  "kernelspec": {
   "display_name": "Python 3",
   "language": "python",
   "name": "python3"
  },
  "language_info": {
   "codemirror_mode": {
    "name": "ipython",
    "version": 3
   },
   "file_extension": ".py",
   "mimetype": "text/x-python",
   "name": "python",
   "nbconvert_exporter": "python",
   "pygments_lexer": "ipython3",
   "version": "3.6.8"
  }
 },
 "nbformat": 4,
 "nbformat_minor": 2
}
