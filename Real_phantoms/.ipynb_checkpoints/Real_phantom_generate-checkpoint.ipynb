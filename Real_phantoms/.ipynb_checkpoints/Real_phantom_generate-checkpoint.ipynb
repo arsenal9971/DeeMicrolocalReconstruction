{
 "cells": [
  {
   "cell_type": "markdown",
   "metadata": {},
   "source": [
    "# <center> Real phantom generation </center>"
   ]
  },
  {
   "cell_type": "markdown",
   "metadata": {},
   "source": [
    "This notebook works on the generation of realistic phantoms based on regions with piecewise polynomial boundary curves, using splines as generating functions for such curves."
   ]
  },
  {
   "cell_type": "code",
   "execution_count": 1400,
   "metadata": {},
   "outputs": [],
   "source": [
    "%matplotlib inline\n",
    "import os\n",
    "os.environ[\"CUDA_VISIBLE_DEVICES\"]=\"0\""
   ]
  },
  {
   "cell_type": "code",
   "execution_count": 1401,
   "metadata": {},
   "outputs": [],
   "source": [
    "import sys\n",
    "if not sys.warnoptions:\n",
    "    import warnings\n",
    "    warnings.simplefilter(\"ignore\")"
   ]
  },
  {
   "cell_type": "code",
   "execution_count": 1402,
   "metadata": {},
   "outputs": [],
   "source": [
    "import matplotlib\n",
    "matplotlib.use('Agg')\n",
    "\n",
    "import numpy as np\n",
    "import numpy.random as rnd\n",
    "import matplotlib.pyplot as plt\n",
    "from matplotlib.patches import Ellipse\n",
    "import cv2\n",
    "import math\n",
    "import cmocean"
   ]
  },
  {
   "cell_type": "code",
   "execution_count": 1403,
   "metadata": {},
   "outputs": [],
   "source": [
    "from ellipse.ellipseWF_factory import WFupdate, plot_WF,_fig2data"
   ]
  },
  {
   "cell_type": "code",
   "execution_count": 1404,
   "metadata": {},
   "outputs": [],
   "source": [
    "import matplotlib.patches as patches"
   ]
  },
  {
   "cell_type": "code",
   "execution_count": 1405,
   "metadata": {},
   "outputs": [],
   "source": [
    "import scipy.interpolate as interpolate"
   ]
  },
  {
   "cell_type": "code",
   "execution_count": 1406,
   "metadata": {},
   "outputs": [],
   "source": [
    "size = 256\n",
    "r = .7 # magnitude of the perturbation from the unit circle, \n",
    "center = [128,128]\n",
    "scale = 20"
   ]
  },
  {
   "cell_type": "code",
   "execution_count": 1441,
   "metadata": {},
   "outputs": [],
   "source": [
    "# Number of points\n",
    "npoints = 7\n",
    "angles = np.linspace(np.pi,-np.pi,npoints)"
   ]
  },
  {
   "cell_type": "code",
   "execution_count": 1442,
   "metadata": {},
   "outputs": [],
   "source": [
    "verts = np.stack((np.cos(angles),np.sin(angles))).T*(2*r*np.random.random(npoints)+1-r)[:,None]\n",
    "verts[-1,:] = verts[0,:]"
   ]
  },
  {
   "cell_type": "code",
   "execution_count": 1443,
   "metadata": {},
   "outputs": [],
   "source": [
    "# rescaling and translating vertices\n",
    "verts = scale*verts;\n",
    "verts = verts+center;"
   ]
  },
  {
   "cell_type": "code",
   "execution_count": 2101,
   "metadata": {},
   "outputs": [
    {
     "data": {
      "text/plain": [
       "[<matplotlib.lines.Line2D at 0x2af575cb89b0>,\n",
       " <matplotlib.lines.Line2D at 0x2af575cb8b70>]"
      ]
     },
     "execution_count": 2101,
     "metadata": {},
     "output_type": "execute_result"
    },
    {
     "data": {
      "image/png": "[encoded data removed]",
      "text/plain": [
       "<Figure size 432x432 with 1 Axes>"
      ]
     },
     "metadata": {
      "needs_background": "light"
     },
     "output_type": "display_data"
    }
   ],
   "source": [
    "i = 0\n",
    "fig = plt.figure(figsize = (6,6))\n",
    "ax = fig.add_subplot(111)\n",
    "ax.set_xlim(0, size)\n",
    "ax.set_ylim(0, size)\n",
    "fig.add_axes(ax)\n",
    "plt.axis(\"off\")\n",
    "plt.plot(verts[:,0],verts[:,-1], \"o\", verts[i,0],verts[i,-1], \"o\")"
   ]
  },
  {
   "cell_type": "markdown",
   "metadata": {},
   "source": [
    "## Smooth edge generation"
   ]
  },
  {
   "cell_type": "code",
   "execution_count": 2552,
   "metadata": {},
   "outputs": [],
   "source": [
    "def smooth_edge(x,y, k):\n",
    "    # Computing the spline\n",
    "    S = interpolate.UnivariateSpline(x, y, k=k)\n",
    "    xnew = np.linspace(x[0], x[-1], \n",
    "                       num=2*int((x[-1]-x[0])), endpoint=True)\n",
    "    ynew = S(xnew)\n",
    "    WFpoints = np.zeros((xnew.shape[0],2));\n",
    "    WFpoints[:,0] = xnew;\n",
    "    WFpoints[:,1] = ynew;\n",
    "    # Computing the classes\n",
    "    WFclasses = [np.array([(np.arctan(S.derivative(n=1)(xi))\n",
    "              *180/(np.pi)+90)%180+1]) for xi in xnew];\n",
    "    return WFpoints, WFclasses"
   ]
  },
  {
   "cell_type": "markdown",
   "metadata": {},
   "source": [
    "### Linear spline: 2 points"
   ]
  },
  {
   "cell_type": "code",
   "execution_count": 1449,
   "metadata": {},
   "outputs": [],
   "source": [
    "i = 5\n",
    "x1 = verts[i,:]\n",
    "x2 = verts[i+1,:]"
   ]
  },
  {
   "cell_type": "code",
   "execution_count": 1450,
   "metadata": {},
   "outputs": [
    {
     "data": {
      "text/plain": [
       "[<matplotlib.lines.Line2D at 0x2af567483320>,\n",
       " <matplotlib.lines.Line2D at 0x2af5674834e0>]"
      ]
     },
     "execution_count": 1450,
     "metadata": {},
     "output_type": "execute_result"
    },
    {
     "data": {
      "image/png": "[encoded data removed]",
      "text/plain": [
       "<Figure size 432x432 with 1 Axes>"
      ]
     },
     "metadata": {
      "needs_background": "light"
     },
     "output_type": "display_data"
    }
   ],
   "source": [
    "fig = plt.figure(figsize = (6,6))\n",
    "ax = fig.add_subplot(111)\n",
    "ax.set_xlim(0, size)\n",
    "ax.set_ylim(0, size)\n",
    "fig.add_axes(ax)\n",
    "plt.axis(\"off\")\n",
    "plt.plot(verts[:,0],verts[:,-1], \"o\", [x1[0],x2[0]],[x1[1],x2[1]],\"o\")"
   ]
  },
  {
   "cell_type": "code",
   "execution_count": 1451,
   "metadata": {},
   "outputs": [],
   "source": [
    "# Linear spline\n",
    "indices = np.argsort([x1[0], x2[0]])\n",
    "XY = np.concatenate((x1[np.newaxis,:],x2[np.newaxis,:]))[indices,:]\n",
    "x = XY[:,0]\n",
    "y = XY[:,1]\n",
    "k= 1"
   ]
  },
  {
   "cell_type": "code",
   "execution_count": 1452,
   "metadata": {},
   "outputs": [],
   "source": [
    "# Correcting order \n",
    "keep_index = (WFpoints[:,0] < size)*(WFpoints[:,1] < size) \n",
    "WFclasses = list(np.array(WFclasses)[keep_index])\n",
    "WFpoints = WFpoints[keep_index]\n",
    "#if indices[0] == 1:\n",
    "#    WFpoints = np.flip(WFpoints, axis=0)\n",
    "#    WFclasses.reverse()"
   ]
  },
  {
   "cell_type": "code",
   "execution_count": 1453,
   "metadata": {},
   "outputs": [],
   "source": [
    "WFimage = np.zeros((size,size))\n",
    "WFimage = WFupdate(WFpoints, WFclasses, WFimage)"
   ]
  },
  {
   "cell_type": "code",
   "execution_count": 1454,
   "metadata": {},
   "outputs": [
    {
     "data": {
      "text/plain": [
       "<matplotlib.image.AxesImage at 0x2af5674c6f60>"
      ]
     },
     "execution_count": 1454,
     "metadata": {},
     "output_type": "execute_result"
    },
    {
     "data": {
      "image/png": "[encoded data removed]",
      "text/plain": [
       "<Figure size 432x432 with 1 Axes>"
      ]
     },
     "metadata": {
      "needs_background": "light"
     },
     "output_type": "display_data"
    }
   ],
   "source": [
    "plt.figure(figsize = (6,6))\n",
    "plt.axis(\"off\")\n",
    "plot_WF(WFimage)"
   ]
  },
  {
   "cell_type": "markdown",
   "metadata": {},
   "source": [
    "### Quadratic spline: 3 points"
   ]
  },
  {
   "cell_type": "code",
   "execution_count": 1455,
   "metadata": {},
   "outputs": [],
   "source": [
    "i = 1\n",
    "x1 = verts[i,:]\n",
    "x2 = verts[i+1,:]\n",
    "x3 = verts[i+2,:]"
   ]
  },
  {
   "cell_type": "code",
   "execution_count": 1456,
   "metadata": {},
   "outputs": [
    {
     "data": {
      "text/plain": [
       "[<matplotlib.lines.Line2D at 0x2af567521438>,\n",
       " <matplotlib.lines.Line2D at 0x2af5675215f8>]"
      ]
     },
     "execution_count": 1456,
     "metadata": {},
     "output_type": "execute_result"
    },
    {
     "data": {
      "image/png": "[encoded data removed]",
      "text/plain": [
       "<Figure size 432x432 with 1 Axes>"
      ]
     },
     "metadata": {
      "needs_background": "light"
     },
     "output_type": "display_data"
    }
   ],
   "source": [
    "fig = plt.figure(figsize = (6,6))\n",
    "ax = fig.add_subplot(111)\n",
    "ax.set_xlim(0, size)\n",
    "ax.set_ylim(0, size)\n",
    "fig.add_axes(ax)\n",
    "plt.axis(\"off\")\n",
    "plt.plot(verts[:,0],verts[:,-1], \"o\", [x1[0], x2[0], x3[0]],\n",
    "         [x1[1], x2[1], x3[1]],\"o\")"
   ]
  },
  {
   "cell_type": "code",
   "execution_count": 1457,
   "metadata": {},
   "outputs": [],
   "source": [
    "indices = np.argsort([x1[0], x2[0], x3[0]])\n",
    "XY = np.concatenate((x1[np.newaxis,:],x2[np.newaxis,:],x3[np.newaxis,:] ))[indices,:]\n",
    "x = XY[:,0]\n",
    "y = XY[:,1]\n",
    "k= 2"
   ]
  },
  {
   "cell_type": "code",
   "execution_count": 1458,
   "metadata": {},
   "outputs": [],
   "source": [
    "WFpoints, WFclasses = smooth_edge(x,y, k)"
   ]
  },
  {
   "cell_type": "code",
   "execution_count": 1459,
   "metadata": {},
   "outputs": [],
   "source": [
    "# Correcting order \n",
    "keep_index = (WFpoints[:,0] < size)*(WFpoints[:,1] < size) \n",
    "WFclasses = list(np.array(WFclasses)[keep_index])\n",
    "WFpoints = WFpoints[keep_index]\n",
    "#if indices[0] == 1:\n",
    "#    WFpoints = np.flip(WFpoints, axis=0)\n",
    "#    WFclasses.reverse()"
   ]
  },
  {
   "cell_type": "code",
   "execution_count": 1460,
   "metadata": {},
   "outputs": [],
   "source": [
    "WFimage = np.zeros((size,size))\n",
    "WFimage = WFupdate(WFpoints, WFclasses, WFimage)"
   ]
  },
  {
   "cell_type": "code",
   "execution_count": 1461,
   "metadata": {
    "scrolled": true
   },
   "outputs": [
    {
     "data": {
      "text/plain": [
       "<matplotlib.image.AxesImage at 0x2af567567eb8>"
      ]
     },
     "execution_count": 1461,
     "metadata": {},
     "output_type": "execute_result"
    },
    {
     "data": {
      "image/png": "[encoded data removed]",
      "text/plain": [
       "<Figure size 432x432 with 1 Axes>"
      ]
     },
     "metadata": {
      "needs_background": "light"
     },
     "output_type": "display_data"
    }
   ],
   "source": [
    "plt.figure(figsize = (6,6))\n",
    "plt.axis(\"off\")\n",
    "plot_WF(WFimage)"
   ]
  },
  {
   "cell_type": "markdown",
   "metadata": {},
   "source": [
    "### Cubic spline: 4 points"
   ]
  },
  {
   "cell_type": "code",
   "execution_count": 2941,
   "metadata": {},
   "outputs": [],
   "source": [
    "i = 1\n",
    "x1 = verts[i,:]\n",
    "x2 = verts[i+1,:]\n",
    "x3 = verts[i+2,:]\n",
    "x4 = verts[i+3,:]"
   ]
  },
  {
   "cell_type": "code",
   "execution_count": 2942,
   "metadata": {},
   "outputs": [
    {
     "data": {
      "text/plain": [
       "[<matplotlib.lines.Line2D at 0x2af57968c748>,\n",
       " <matplotlib.lines.Line2D at 0x2af5796aca58>]"
      ]
     },
     "execution_count": 2942,
     "metadata": {},
     "output_type": "execute_result"
    },
    {
     "data": {
      "image/png": "[encoded data removed]",
      "text/plain": [
       "<Figure size 432x432 with 1 Axes>"
      ]
     },
     "metadata": {
      "needs_background": "light"
     },
     "output_type": "display_data"
    }
   ],
   "source": [
    "fig = plt.figure(figsize = (6,6))\n",
    "ax = fig.add_subplot(111)\n",
    "ax.set_xlim(0, size)\n",
    "ax.set_ylim(0, size)\n",
    "fig.add_axes(ax)\n",
    "plt.axis(\"off\")\n",
    "plt.plot(verts[:,0],verts[:,-1], \"o\", [x1[0], x2[0], x3[0], x4[0]],\n",
    "         [x1[1], x2[1], x3[1], x4[1]],\"o\")"
   ]
  },
  {
   "cell_type": "code",
   "execution_count": 2943,
   "metadata": {},
   "outputs": [],
   "source": [
    "indices = np.argsort([x1[0], x2[0], x3[0], x4[0]])\n",
    "XY = np.concatenate((x1[np.newaxis,:],x2[np.newaxis,:],x3[np.newaxis,:],x4[np.newaxis,:]))[indices,:]\n",
    "x = XY[:,0]\n",
    "y = XY[:,1]\n",
    "k = 3"
   ]
  },
  {
   "cell_type": "code",
   "execution_count": 2944,
   "metadata": {},
   "outputs": [],
   "source": [
    "WFpoints, WFclasses = smooth_edge(x,y, k)"
   ]
  },
  {
   "cell_type": "code",
   "execution_count": 2945,
   "metadata": {},
   "outputs": [],
   "source": [
    "# Correcting order \n",
    "keep_index = (WFpoints[:,0] < size)*(WFpoints[:,1] < size) \n",
    "WFclasses = list(np.array(WFclasses)[keep_index])\n",
    "WFpoints = WFpoints[keep_index]\n",
    "#if indices[0] == 1:\n",
    "#    WFpoints = np.flip(WFpoints, axis=0)\n",
    "#    WFclasses.reverse()"
   ]
  },
  {
   "cell_type": "code",
   "execution_count": 2946,
   "metadata": {},
   "outputs": [],
   "source": [
    "WFimage = np.zeros((size,size))\n",
    "WFimage = WFupdate(WFpoints, WFclasses, WFimage)"
   ]
  },
  {
   "cell_type": "code",
   "execution_count": 2947,
   "metadata": {
    "scrolled": true
   },
   "outputs": [
    {
     "data": {
      "text/plain": [
       "<matplotlib.image.AxesImage at 0x2af5796fb9e8>"
      ]
     },
     "execution_count": 2947,
     "metadata": {},
     "output_type": "execute_result"
    },
    {
     "data": {
      "image/png": "[encoded data removed]",
      "text/plain": [
       "<Figure size 432x432 with 1 Axes>"
      ]
     },
     "metadata": {
      "needs_background": "light"
     },
     "output_type": "display_data"
    }
   ],
   "source": [
    "plt.figure(figsize = (6,6))\n",
    "plt.axis(\"off\")\n",
    "plot_WF(WFimage)"
   ]
  },
  {
   "cell_type": "markdown",
   "metadata": {},
   "source": [
    "## Generate single region"
   ]
  },
  {
   "cell_type": "code",
   "execution_count": 2948,
   "metadata": {},
   "outputs": [],
   "source": [
    "def smooth_edge(x,y, k):\n",
    "    # Computing the spline\n",
    "    S = interpolate.UnivariateSpline(x, y, k=k)\n",
    "    xnew = np.linspace(x[0], x[-1], \n",
    "                       num=2*int((x[-1]-x[0])), endpoint=True)\n",
    "    ynew = S(xnew)\n",
    "    WFpoints = np.zeros((xnew.shape[0],2));\n",
    "    WFpoints[:,0] = xnew;\n",
    "    WFpoints[:,1] = ynew;\n",
    "    # Computing the classes\n",
    "    WFclasses = [np.array([(90-np.arctan(S.derivative(n=1)(xi))\n",
    "              *180/(np.pi))%180+1]) for xi in xnew];\n",
    "    return WFpoints, WFclasses"
   ]
  },
  {
   "cell_type": "code",
   "execution_count": 2949,
   "metadata": {},
   "outputs": [],
   "source": [
    "size = 256\n",
    "r = 0.1# magnitude of the perturbation from the unit circle, \n",
    "center = [128,128]\n",
    "scale = 50"
   ]
  },
  {
   "cell_type": "code",
   "execution_count": 2950,
   "metadata": {},
   "outputs": [],
   "source": [
    "# Number of points\n",
    "npoints = 10\n",
    "angles = np.linspace(np.pi,-np.pi,npoints)"
   ]
  },
  {
   "cell_type": "markdown",
   "metadata": {},
   "source": [
    "Generate vertices"
   ]
  },
  {
   "cell_type": "code",
   "execution_count": 2951,
   "metadata": {},
   "outputs": [],
   "source": [
    "verts = np.stack((np.cos(angles),np.sin(angles))).T*(2*r*np.random.random(npoints)+1-r)[:,None]\n",
    "verts[-1,:] = verts[0,:]\n",
    "# rescaling and translating vertices\n",
    "verts = scale*verts;\n",
    "verts = verts+center;"
   ]
  },
  {
   "cell_type": "code",
   "execution_count": 2952,
   "metadata": {},
   "outputs": [
    {
     "data": {
      "text/plain": [
       "[<matplotlib.lines.Line2D at 0x2af579731358>]"
      ]
     },
     "execution_count": 2952,
     "metadata": {},
     "output_type": "execute_result"
    },
    {
     "data": {
      "image/png": "[encoded data removed]",
      "text/plain": [
       "<Figure size 432x432 with 1 Axes>"
      ]
     },
     "metadata": {
      "needs_background": "light"
     },
     "output_type": "display_data"
    }
   ],
   "source": [
    "fig = plt.figure(figsize = (6,6))\n",
    "ax = fig.add_subplot(111)\n",
    "ax.set_xlim(0, size)\n",
    "ax.set_ylim(0, size)\n",
    "fig.add_axes(ax)\n",
    "plt.axis(\"off\")\n",
    "plt.plot(verts[:,0],verts[:,-1], \"-o\")"
   ]
  },
  {
   "cell_type": "code",
   "execution_count": 2953,
   "metadata": {},
   "outputs": [],
   "source": [
    "WFpoints_all = []\n",
    "WFclasses_all = []\n",
    "ks = []"
   ]
  },
  {
   "cell_type": "code",
   "execution_count": 2954,
   "metadata": {},
   "outputs": [],
   "source": [
    "i = 0"
   ]
  },
  {
   "cell_type": "code",
   "execution_count": 2955,
   "metadata": {},
   "outputs": [
    {
     "name": "stdout",
     "output_type": "stream",
     "text": [
      "1 3\n",
      "2 3\n",
      "3 3\n",
      "1 3\n",
      "2 3\n",
      "3 3\n",
      "1 3\n",
      "2 3\n",
      "3 3\n"
     ]
    }
   ],
   "source": [
    "while i<npoints-1:\n",
    "    XY = [verts[i,:]]\n",
    "    # Selection of degree\n",
    "    k = np.random.randint(1,4)\n",
    "    # Reducing the degree if there are no enough points to fit \n",
    "    while npoints-i-1 <= k-1:\n",
    "        k = k-1\n",
    "    j = 1\n",
    "    indices = np.array([0])\n",
    "    # Check repeated x-entries\n",
    "    xrep = (len(np.array(XY)[:,0]))== len(set(np.array(XY)[:,0]))  \n",
    "    while (j < k+1) and (((indices[0] == 0)or(indices[-1]==0))) and (xrep):\n",
    "        print(j,k)\n",
    "        XY += [verts[i+j,:]]\n",
    "        # Reordering the verticese\n",
    "        if (i+j+1)< npoints:\n",
    "            xnext = np.array(XY + [verts[i+j+1,:]])[:,0]\n",
    "            indices = np.argsort(xnext)\n",
    "            xrep = (len(list(xnext))== len(set(xnext)))\n",
    "        j+=1\n",
    "    ks += [k]\n",
    "    XY = np.array(XY)\n",
    "    indices = np.argsort(XY[:,0])\n",
    "    XY = XY[indices,:]\n",
    "    k = XY.shape[0]-1\n",
    "    # Getting the spline\n",
    "    x = XY[:,0]\n",
    "    y = XY[:,1]\n",
    "    WFpoints, WFclasses = smooth_edge(x,y, k)\n",
    "    # Correcting order \n",
    "    if indices[-1] == 0:\n",
    "        WFpoints = np.flip(WFpoints, axis=0)\n",
    "        WFclasses.reverse()\n",
    "    WFpoints_all+=list(WFpoints)\n",
    "    WFclasses_all += WFclasses\n",
    "    i += k"
   ]
  },
  {
   "cell_type": "code",
   "execution_count": 2956,
   "metadata": {},
   "outputs": [
    {
     "data": {
      "text/plain": [
       "array([[ 75.60660648, 128.        ],\n",
       "       [ 91.95007602,  97.75052208],\n",
       "       [119.19377758,  78.05743088],\n",
       "       [154.12520666,  82.74981471]])"
      ]
     },
     "execution_count": 2956,
     "metadata": {},
     "output_type": "execute_result"
    }
   ],
   "source": [
    "XY"
   ]
  },
  {
   "cell_type": "code",
   "execution_count": 2957,
   "metadata": {},
   "outputs": [
    {
     "data": {
      "text/plain": [
       "[3, 3, 3]"
      ]
     },
     "execution_count": 2957,
     "metadata": {},
     "output_type": "execute_result"
    }
   ],
   "source": [
    "ks"
   ]
  },
  {
   "cell_type": "code",
   "execution_count": 2958,
   "metadata": {},
   "outputs": [],
   "source": [
    "WFpoints_all = np.array(WFpoints_all)"
   ]
  },
  {
   "cell_type": "code",
   "execution_count": 2959,
   "metadata": {},
   "outputs": [],
   "source": [
    "keep_index = (WFpoints_all[:,0] < size)*(WFpoints_all[:,-1] < size) *(WFpoints_all[:,0] > 0)*(WFpoints_all[:,-1] > 0)\n",
    "WFclasses_all = list(np.array(WFclasses_all)[keep_index])\n",
    "WFpoints_all = WFpoints_all[keep_index]"
   ]
  },
  {
   "cell_type": "code",
   "execution_count": 2960,
   "metadata": {},
   "outputs": [],
   "source": [
    "WFimage = np.zeros((size,size))\n",
    "WFimage = WFupdate(WFpoints_all, WFclasses_all, WFimage)\n",
    "WFimage = WFimage"
   ]
  },
  {
   "cell_type": "code",
   "execution_count": 2961,
   "metadata": {},
   "outputs": [
    {
     "data": {
      "text/plain": [
       "[<matplotlib.lines.Line2D at 0x2af57977c0f0>]"
      ]
     },
     "execution_count": 2961,
     "metadata": {},
     "output_type": "execute_result"
    },
    {
     "data": {
      "image/png": "[encoded data removed]",
      "text/plain": [
       "<Figure size 432x432 with 1 Axes>"
      ]
     },
     "metadata": {
      "needs_background": "light"
     },
     "output_type": "display_data"
    }
   ],
   "source": [
    "fig = plt.figure(figsize = (6,6))\n",
    "ax = fig.add_subplot(111)\n",
    "ax.set_xlim(0, size)\n",
    "ax.set_ylim(0, size)\n",
    "fig.add_axes(ax)\n",
    "plt.axis(\"off\")\n",
    "plt.plot(verts[:,0],verts[:,-1], \"-o\")"
   ]
  },
  {
   "cell_type": "code",
   "execution_count": 2962,
   "metadata": {},
   "outputs": [
    {
     "data": {
      "text/plain": [
       "<matplotlib.image.AxesImage at 0x2af5797e7550>"
      ]
     },
     "execution_count": 2962,
     "metadata": {},
     "output_type": "execute_result"
    },
    {
     "data": {
      "image/png": "[encoded data removed]",
      "text/plain": [
       "<Figure size 432x432 with 1 Axes>"
      ]
     },
     "metadata": {
      "needs_background": "light"
     },
     "output_type": "display_data"
    }
   ],
   "source": [
    "plt.figure(figsize = (6,6))\n",
    "plt.axis(\"off\")\n",
    "plot_WF(WFimage)"
   ]
  },
  {
   "cell_type": "markdown",
   "metadata": {},
   "source": [
    "### Create phantom from wavefront set"
   ]
  },
  {
   "cell_type": "code",
   "execution_count": 2963,
   "metadata": {},
   "outputs": [],
   "source": [
    "from matplotlib.path import Path\n",
    "import matplotlib.patches as patches\n",
    "from scipy.ndimage import gaussian_filter"
   ]
  },
  {
   "cell_type": "code",
   "execution_count": 2964,
   "metadata": {},
   "outputs": [],
   "source": [
    "patch = plt.Polygon([[WFpoints_all[i,0], WFpoints_all[i,1]] for i in range(len(WFpoints_all))])"
   ]
  },
  {
   "cell_type": "code",
   "execution_count": 2965,
   "metadata": {},
   "outputs": [],
   "source": [
    "opacity = 0.5"
   ]
  },
  {
   "cell_type": "code",
   "execution_count": 2966,
   "metadata": {},
   "outputs": [],
   "source": [
    "fig = plt.figure(0, frameon=False, figsize=(1, 1), dpi=size)\n",
    "ax = plt.Axes(fig, [0., 0., 1., 1.])\n",
    "ax.set_axis_off()\n",
    "ax.add_patch(patch)\n",
    "patch.set_clip_box(ax.bbox)\n",
    "patch.set_alpha(None)\n",
    "patch.set_facecolor(np.zeros(3))\n",
    "\n",
    "ax.set_xlim(0, size)\n",
    "ax.set_ylim(0, size)\n",
    "fig.add_axes(ax)\n",
    "plt.axis('off')\n",
    "\n",
    "plt.close(fig)\n",
    "# Convert figure to data\n",
    "phantom = _fig2data(fig)\n",
    "plt.close(fig)\n",
    "# Take just the first color entry\n",
    "phantom = np.flip(phantom[:, :, 1], axis=0)\n",
    "# Normalize the data\n",
    "phantom = phantom/phantom.max();\n",
    "phantom = 1-(((phantom-1)*opacity)+1)"
   ]
  },
  {
   "cell_type": "code",
   "execution_count": 2967,
   "metadata": {},
   "outputs": [
    {
     "data": {
      "text/plain": [
       "<matplotlib.image.AxesImage at 0x2af57986b240>"
      ]
     },
     "execution_count": 2967,
     "metadata": {},
     "output_type": "execute_result"
    },
    {
     "data": {
      "image/png": "[encoded data removed]",
      "text/plain": [
       "<Figure size 432x288 with 1 Axes>"
      ]
     },
     "metadata": {
      "needs_background": "light"
     },
     "output_type": "display_data"
    }
   ],
   "source": [
    "### plt.figure(figsize = (6,6))\n",
    "plt.axis(\"off\")\n",
    "plt.imshow(phantom, cmap = 'gray')"
   ]
  },
  {
   "cell_type": "code",
   "execution_count": 2968,
   "metadata": {},
   "outputs": [
    {
     "data": {
      "text/plain": [
       "<matplotlib.image.AxesImage at 0x2af5798b9518>"
      ]
     },
     "execution_count": 2968,
     "metadata": {},
     "output_type": "execute_result"
    },
    {
     "data": {
      "image/png": "[encoded data removed]",
      "text/plain": [
       "<Figure size 432x432 with 1 Axes>"
      ]
     },
     "metadata": {
      "needs_background": "light"
     },
     "output_type": "display_data"
    }
   ],
   "source": [
    "plt.figure(figsize = (6,6))\n",
    "plt.axis(\"off\")\n",
    "plt.imshow(gaussian_filter(phantom, sigma = 5*0),cmap = \"gray\")"
   ]
  },
  {
   "cell_type": "code",
   "execution_count": 3028,
   "metadata": {},
   "outputs": [],
   "source": [
    "nClasses =3"
   ]
  },
  {
   "cell_type": "code",
   "execution_count": 3045,
   "metadata": {},
   "outputs": [],
   "source": [
    "newWFClasses = [np.array([(int(classe*nClasses/180)+1)])\n",
    "               for classe in WFclasses_all]"
   ]
  },
  {
   "cell_type": "code",
   "execution_count": 3046,
   "metadata": {},
   "outputs": [
    {
     "data": {
      "text/plain": [
       "140"
      ]
     },
     "execution_count": 3046,
     "metadata": {},
     "output_type": "execute_result"
    }
   ],
   "source": [
    "len(set([classe[0].astype(int) for classe in WFclasses_all]))"
   ]
  },
  {
   "cell_type": "code",
   "execution_count": 3047,
   "metadata": {},
   "outputs": [
    {
     "data": {
      "text/plain": [
       "{1, 2, 3, 4}"
      ]
     },
     "execution_count": 3047,
     "metadata": {},
     "output_type": "execute_result"
    }
   ],
   "source": [
    "set([classe[0] for classe in newWFClasses])"
   ]
  },
  {
   "cell_type": "code",
   "execution_count": 3048,
   "metadata": {},
   "outputs": [],
   "source": [
    "WFimage_new = np.zeros((size,size))\n",
    "WFimage_new = WFupdate(WFpoints_all, newWFClasses, WFimage)"
   ]
  },
  {
   "cell_type": "code",
   "execution_count": 3049,
   "metadata": {},
   "outputs": [
    {
     "data": {
      "text/plain": [
       "<matplotlib.image.AxesImage at 0x2af579b42908>"
      ]
     },
     "execution_count": 3049,
     "metadata": {},
     "output_type": "execute_result"
    },
    {
     "data": {
      "image/png": "[encoded data removed]",
      "text/plain": [
       "<Figure size 432x432 with 1 Axes>"
      ]
     },
     "metadata": {
      "needs_background": "light"
     },
     "output_type": "display_data"
    }
   ],
   "source": [
    "plt.figure(figsize = (6,6))\n",
    "plt.axis(\"off\")\n",
    "plot_WF(WFimage_new)"
   ]
  },
  {
   "cell_type": "code",
   "execution_count": null,
   "metadata": {},
   "outputs": [],
   "source": []
  }
 ],
 "metadata": {
  "kernelspec": {
   "display_name": "Python 3",
   "language": "python",
   "name": "python3"
  },
  "language_info": {
   "codemirror_mode": {
    "name": "ipython",
    "version": 3
   },
   "file_extension": ".py",
   "mimetype": "text/x-python",
   "name": "python",
   "nbconvert_exporter": "python",
   "pygments_lexer": "ipython3",
   "version": "3.6.8"
  }
 },
 "nbformat": 4,
 "nbformat_minor": 2
}
