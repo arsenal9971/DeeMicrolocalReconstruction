{
 "cells": [
  {
   "cell_type": "markdown",
   "metadata": {},
   "source": [
    "# <center> Real phantom multiple generation </center>"
   ]
  },
  {
   "cell_type": "code",
   "execution_count": 1,
   "metadata": {},
   "outputs": [],
   "source": [
    "%matplotlib inline\n",
    "\n",
    "import sys\n",
    "if not sys.warnoptions:\n",
    "    import warnings\n",
    "    warnings.simplefilter(\"ignore\")"
   ]
  },
  {
   "cell_type": "code",
   "execution_count": 2,
   "metadata": {},
   "outputs": [],
   "source": [
    "import matplotlib\n",
    "import matplotlib\n",
    "matplotlib.use('Agg')\n",
    "\n",
    "import numpy as np\n",
    "import numpy.random as rnd\n",
    "import matplotlib.pyplot as plt"
   ]
  },
  {
   "cell_type": "code",
   "execution_count": 3,
   "metadata": {},
   "outputs": [],
   "source": [
    "from ellipse.ellipseWF_factory import plot_WF\n",
    "from realphantom.realphantomWF_factory import _region_gen"
   ]
  },
  {
   "cell_type": "markdown",
   "metadata": {},
   "source": [
    "## Generate vertices"
   ]
  },
  {
   "cell_type": "code",
   "execution_count": 4,
   "metadata": {},
   "outputs": [],
   "source": [
    "size = 256\n",
    "r = 0.1# magnitude of the perturbation from the unit circle, \n",
    "center = [128,128]\n",
    "scale = 50\n",
    "# Number of points\n",
    "npoints = 10\n",
    "angles = np.linspace(np.pi,-np.pi,npoints)\n",
    "verts = np.stack((np.cos(angles),np.sin(angles))).T*(2*r*np.random.random(npoints)+1-r)[:,None]\n",
    "verts[-1,:] = verts[0,:]\n",
    "# rescaling and translating vertices\n",
    "verts = scale*verts;\n",
    "verts = verts+center;"
   ]
  },
  {
   "cell_type": "code",
   "execution_count": 5,
   "metadata": {},
   "outputs": [
    {
     "data": {
      "text/plain": [
       "[<matplotlib.lines.Line2D at 0x2b1d7a7d6c18>]"
      ]
     },
     "execution_count": 5,
     "metadata": {},
     "output_type": "execute_result"
    },
    {
     "data": {
      "image/png": "[encoded data removed]",
      "text/plain": [
       "<Figure size 432x432 with 1 Axes>"
      ]
     },
     "metadata": {
      "needs_background": "light"
     },
     "output_type": "display_data"
    }
   ],
   "source": [
    "fig = plt.figure(figsize = (6,6))\n",
    "ax = fig.add_subplot(111)\n",
    "ax.set_xlim(0, size)\n",
    "ax.set_ylim(0, size)\n",
    "fig.add_axes(ax)\n",
    "plt.axis(\"off\")\n",
    "plt.plot(verts[:,0],verts[:,-1], \"-o\")"
   ]
  },
  {
   "cell_type": "code",
   "execution_count": 10,
   "metadata": {},
   "outputs": [],
   "source": [
    "opacity = 0.5\n",
    "grad_level = -1\n",
    "nClasses = 180"
   ]
  },
  {
   "cell_type": "code",
   "execution_count": 11,
   "metadata": {},
   "outputs": [],
   "source": [
    "region, WFpoints, WFclasses, WFimage = _region_gen(size, verts, opacity, grad_level,nClasses)"
   ]
  },
  {
   "cell_type": "code",
   "execution_count": 12,
   "metadata": {},
   "outputs": [
    {
     "data": {
      "text/plain": [
       "<matplotlib.image.AxesImage at 0x2b1d7bd833c8>"
      ]
     },
     "execution_count": 12,
     "metadata": {},
     "output_type": "execute_result"
    },
    {
     "data": {
      "image/png": "[encoded data removed]",
      "text/plain": [
       "<Figure size 432x432 with 1 Axes>"
      ]
     },
     "metadata": {
      "needs_background": "light"
     },
     "output_type": "display_data"
    }
   ],
   "source": [
    "plt.figure(figsize = (6,6))\n",
    "plt.axis(\"off\")\n",
    "plt.imshow(region, cmap = 'gray')"
   ]
  },
  {
   "cell_type": "code",
   "execution_count": 13,
   "metadata": {},
   "outputs": [
    {
     "data": {
      "text/plain": [
       "<matplotlib.image.AxesImage at 0x2b1d7a8604a8>"
      ]
     },
     "execution_count": 13,
     "metadata": {},
     "output_type": "execute_result"
    },
    {
     "data": {
      "image/png": "[encoded data removed]",
      "text/plain": [
       "<Figure size 432x432 with 1 Axes>"
      ]
     },
     "metadata": {
      "needs_background": "light"
     },
     "output_type": "display_data"
    }
   ],
   "source": [
    "plt.figure(figsize = (6,6))\n",
    "plt.axis(\"off\")\n",
    "plot_WF(WFimage)"
   ]
  },
  {
   "cell_type": "markdown",
   "metadata": {},
   "source": [
    "## Generating multiple"
   ]
  },
  {
   "cell_type": "code",
   "execution_count": 24,
   "metadata": {},
   "outputs": [],
   "source": [
    "size = 256\n",
    "npoints_max = 8\n",
    "nRegions = 5\n",
    "nClasses = 180"
   ]
  },
  {
   "cell_type": "code",
   "execution_count": 62,
   "metadata": {},
   "outputs": [],
   "source": [
    "from ellipse.ellipseWF_factory import _opacity_gen, _center_origin_gen, WFupdate"
   ]
  },
  {
   "cell_type": "code",
   "execution_count": 44,
   "metadata": {},
   "outputs": [],
   "source": [
    "def _region_verts_gen(size, npoints_max = 15):\n",
    "    # magnitude of the perturbation from the unit circle,\n",
    "    r =  rnd.random()\n",
    "    scale = rnd.randint(low=10, high= int(size/4))\n",
    "    # Random parameters for the ellipse\n",
    "    center = _center_origin_gen(size)\n",
    "    # Number of points\n",
    "    npoints = rnd.randint(low=5, high= npoints_max)\n",
    "    # Generate the points\n",
    "    angles = np.linspace(np.pi,-np.pi,npoints)\n",
    "    verts = np.stack((np.cos(angles),np.sin(angles))).T*(2*r*np.random.random(npoints)+1-r)[:,None]\n",
    "    verts[-1,:] = verts[0,:]\n",
    "    # rescaling and translating vertices\n",
    "    verts = scale*verts;\n",
    "    verts = verts+center;\n",
    "    return verts"
   ]
  },
  {
   "cell_type": "code",
   "execution_count": 47,
   "metadata": {},
   "outputs": [],
   "source": [
    "verts = _region_verts_gen(size, npoints_max);"
   ]
  },
  {
   "cell_type": "code",
   "execution_count": 48,
   "metadata": {},
   "outputs": [
    {
     "data": {
      "text/plain": [
       "[<matplotlib.lines.Line2D at 0x2b1d84f4fe10>]"
      ]
     },
     "execution_count": 48,
     "metadata": {},
     "output_type": "execute_result"
    },
    {
     "data": {
      "image/png": "[encoded data removed]",
      "text/plain": [
       "<Figure size 432x432 with 1 Axes>"
      ]
     },
     "metadata": {
      "needs_background": "light"
     },
     "output_type": "display_data"
    }
   ],
   "source": [
    "fig = plt.figure(figsize = (6,6))\n",
    "ax = fig.add_subplot(111)\n",
    "ax.set_xlim(0, size)\n",
    "ax.set_ylim(0, size)\n",
    "fig.add_axes(ax)\n",
    "plt.axis(\"off\")\n",
    "plt.plot(verts[:,0],verts[:,-1], \"-o\")"
   ]
  },
  {
   "cell_type": "code",
   "execution_count": 50,
   "metadata": {},
   "outputs": [],
   "source": [
    "opacity = _opacity_gen()\n",
    "grad_level = rnd.uniform(-2,2)"
   ]
  },
  {
   "cell_type": "code",
   "execution_count": 51,
   "metadata": {},
   "outputs": [],
   "source": [
    "region, WFpoints, WFclasses, WFimage = _region_gen(size, verts, opacity, grad_level,nClasses)"
   ]
  },
  {
   "cell_type": "code",
   "execution_count": 57,
   "metadata": {},
   "outputs": [
    {
     "data": {
      "text/plain": [
       "<matplotlib.image.AxesImage at 0x2b1d8514e9b0>"
      ]
     },
     "execution_count": 57,
     "metadata": {},
     "output_type": "execute_result"
    },
    {
     "data": {
      "image/png": "[encoded data removed]",
      "text/plain": [
       "<Figure size 432x432 with 1 Axes>"
      ]
     },
     "metadata": {
      "needs_background": "light"
     },
     "output_type": "display_data"
    }
   ],
   "source": [
    "plt.figure(figsize = (6,6))\n",
    "plt.axis(\"off\")\n",
    "plt.imshow(region, cmap = 'gray')"
   ]
  },
  {
   "cell_type": "code",
   "execution_count": 56,
   "metadata": {},
   "outputs": [
    {
     "data": {
      "text/plain": [
       "<matplotlib.image.AxesImage at 0x2b1d851031d0>"
      ]
     },
     "execution_count": 56,
     "metadata": {},
     "output_type": "execute_result"
    },
    {
     "data": {
      "image/png": "[encoded data removed]",
      "text/plain": [
       "<Figure size 432x432 with 1 Axes>"
      ]
     },
     "metadata": {
      "needs_background": "light"
     },
     "output_type": "display_data"
    }
   ],
   "source": [
    "plt.figure(figsize = (6,6))\n",
    "plt.axis(\"off\")\n",
    "plot_WF(WFimage)"
   ]
  },
  {
   "cell_type": "code",
   "execution_count": 79,
   "metadata": {},
   "outputs": [],
   "source": [
    "def random_phantom(size, nRegions, npoints_max, nClasses):\n",
    "    \"\"\"Create a `size` x `size` image of a realphantom with  `nRegions` random\n",
    "    regions\n",
    "\n",
    "    Parameters\n",
    "    -----------\n",
    "    size : integer, size of image\n",
    "\n",
    "    nRegions : integer, the number of regions in the image\n",
    "\n",
    "    npoints_max : integer, the number of maximum points to generate regions\n",
    "    \n",
    "    nClasses : integer, the number of classes\n",
    "\n",
    "        Returns\n",
    "    -----------\n",
    "    realphantom : numpy array, `size` x `size` image with `nRegions`\n",
    "         phantom with random regions\n",
    "\n",
    "    WFpoints_all : numpy array, with the wavefront set point locaion\n",
    "    \n",
    "    WFclasses_all : list of numpya arrays, with the classes for each wavefront set point\n",
    "    \n",
    "    WFimage : numpy array, with the wavefront set image\n",
    "    \"\"\"\n",
    "    # Create the WFimage, WFpoints and WF_classes\n",
    "    WFimage = np.zeros((size,size))\n",
    "    WFpoints_all = []\n",
    "    WFclasses_all = []\n",
    "    realphantom = np.zeros((size,size))\n",
    "    \n",
    "    # Generate the regions\n",
    "    for i in range(nRegions):\n",
    "        verts = _region_verts_gen(size, npoints_max);\n",
    "        opacity = _opacity_gen()\n",
    "        grad_level = rnd.uniform(-2,2)\n",
    "        region, WFpoints, WFclasses, _ = _region_gen(size, verts, opacity, grad_level,nClasses)\n",
    "        \n",
    "        keep_index = (WFpoints[:,0] < size)*(WFpoints[:,1] < size) \n",
    "        WFclasses = list(np.array(WFclasses)[keep_index])\n",
    "        WFpoints = WFpoints[keep_index] \n",
    "    \n",
    "\n",
    "        WFpoints_all += list(WFpoints)\n",
    "        WFclasses_all += list(WFclasses)\n",
    "        WFimage = WFupdate(WFpoints, WFclasses, WFimage)\n",
    "        \n",
    "        realphantom += region;\n",
    "        \n",
    "    # Get the normalization of the total realphantom\n",
    "    realphantom = realphantom/realphantom.max()\n",
    "    realphantom = np.interp(realphantom, (realphantom.min(), realphantom.max()), (0, 1))\n",
    "    \n",
    "    return realphantom, np.array(WFpoints_all), WFclasses_all, WFimage"
   ]
  },
  {
   "cell_type": "code",
   "execution_count": 84,
   "metadata": {},
   "outputs": [],
   "source": [
    "size = 256\n",
    "npoints_max = 8\n",
    "nRegions = 5\n",
    "nClasses = 180"
   ]
  },
  {
   "cell_type": "code",
   "execution_count": 85,
   "metadata": {},
   "outputs": [],
   "source": [
    "realphantom, WFpoints, WFclasses, WFimage = random_phantom(size, nRegions, npoints_max, nClasses);"
   ]
  },
  {
   "cell_type": "code",
   "execution_count": 86,
   "metadata": {},
   "outputs": [
    {
     "data": {
      "text/plain": [
       "<matplotlib.image.AxesImage at 0x2b1d85a3d940>"
      ]
     },
     "execution_count": 86,
     "metadata": {},
     "output_type": "execute_result"
    },
    {
     "data": {
      "image/png": "[encoded data removed]",
      "text/plain": [
       "<Figure size 432x432 with 1 Axes>"
      ]
     },
     "metadata": {
      "needs_background": "light"
     },
     "output_type": "display_data"
    }
   ],
   "source": [
    "plt.figure(figsize = (6,6))\n",
    "plt.axis(\"off\")\n",
    "plt.imshow(realphantom, cmap = 'gray')"
   ]
  },
  {
   "cell_type": "code",
   "execution_count": 87,
   "metadata": {},
   "outputs": [
    {
     "data": {
      "text/plain": [
       "<matplotlib.image.AxesImage at 0x2b1d84f687f0>"
      ]
     },
     "execution_count": 87,
     "metadata": {},
     "output_type": "execute_result"
    },
    {
     "data": {
      "image/png": "[encoded data removed]",
      "text/plain": [
       "<Figure size 432x432 with 1 Axes>"
      ]
     },
     "metadata": {
      "needs_background": "light"
     },
     "output_type": "display_data"
    }
   ],
   "source": [
    "plt.figure(figsize = (6,6))\n",
    "plt.axis(\"off\")\n",
    "plot_WF(WFimage)"
   ]
  }
 ],
 "metadata": {
  "kernelspec": {
   "display_name": "Python 3",
   "language": "python",
   "name": "python3"
  },
  "language_info": {
   "codemirror_mode": {
    "name": "ipython",
    "version": 3
   },
   "file_extension": ".py",
   "mimetype": "text/x-python",
   "name": "python",
   "nbconvert_exporter": "python",
   "pygments_lexer": "ipython3",
   "version": "3.6.8"
  }
 },
 "nbformat": 4,
 "nbformat_minor": 2
}
