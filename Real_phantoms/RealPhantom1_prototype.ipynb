{
 "cells": [
  {
   "cell_type": "markdown",
   "metadata": {},
   "source": [
    "# <center> Real phantom: splines </center>"
   ]
  },
  {
   "cell_type": "markdown",
   "metadata": {},
   "source": [
    "In this paper we will develope an imaging techinque, to generate realistic phantom based on regions of interest with piecewise smooth boundary, using splines as the smooth boundary pieces. "
   ]
  },
  {
   "cell_type": "code",
   "execution_count": 1388,
   "metadata": {},
   "outputs": [],
   "source": [
    "%matplotlib inline\n",
    "import os\n",
    "os.environ[\"CUDA_VISIBLE_DEVICES\"]=\"0\""
   ]
  },
  {
   "cell_type": "code",
   "execution_count": 1389,
   "metadata": {},
   "outputs": [],
   "source": [
    "import sys\n",
    "if not sys.warnoptions:\n",
    "    import warnings\n",
    "    warnings.simplefilter(\"ignore\")"
   ]
  },
  {
   "cell_type": "code",
   "execution_count": 1390,
   "metadata": {},
   "outputs": [],
   "source": [
    "import matplotlib\n",
    "matplotlib.use('Agg')\n",
    "\n",
    "import numpy as np\n",
    "import numpy.random as rnd\n",
    "import matplotlib.pyplot as plt\n",
    "from matplotlib.patches import Ellipse\n",
    "import cv2\n",
    "import math\n",
    "import cmocean"
   ]
  },
  {
   "cell_type": "code",
   "execution_count": 1391,
   "metadata": {},
   "outputs": [],
   "source": [
    "def _fig2data(fig):\n",
    "    \"\"\"\n",
    "    @brief Convert a Matplotlib figure to a 4D numpy array with RGBA channels\n",
    "    and return it\n",
    "    @param fig a matplotlib figure\n",
    "    @return a numpy 3D array of RGBA values\n",
    "    \"\"\"\n",
    "    # draw the renderer\n",
    "    fig.canvas.draw()\n",
    "\n",
    "    # Get the RGBA buffer from the figure\n",
    "    w, h = fig.canvas.get_width_height()\n",
    "    buf = np.frombuffer(fig.canvas.tostring_argb(), dtype=np.uint8)\n",
    "    buf.shape = (w, h, 4)\n",
    "\n",
    "    # canvas.tostring_argb give pixmap in ARGB mode. Roll the ALPHA channel\n",
    "    # to have it in RGBA mode\n",
    "    buf = np.roll(buf, 3, axis=2)\n",
    "    return buf"
   ]
  },
  {
   "cell_type": "markdown",
   "metadata": {},
   "source": [
    "## Ellipses"
   ]
  },
  {
   "cell_type": "code",
   "execution_count": 1392,
   "metadata": {},
   "outputs": [],
   "source": [
    "from ellipse.ellipseWF_factory import WFupdate,Wavefrontset_ellipse_classes, plot_WF"
   ]
  },
  {
   "cell_type": "code",
   "execution_count": 1393,
   "metadata": {},
   "outputs": [],
   "source": [
    "def _ellipse_gen(center, width, height, angle, size, opacity=1):\n",
    "    \"\"\"Function that generates the data of the ellipse\n",
    "    \"\"\"\n",
    "    # Generate the Ellipse figure\n",
    "    fig = plt.figure(0, frameon=False, figsize=(1, 1), dpi=size)\n",
    "    ax = plt.Axes(fig, [0., 0., 1., 1.])\n",
    "    ax.set_axis_off()\n",
    "    e = Ellipse([center[0],size-center[1]], width, height, angle)\n",
    "    ax.add_artist(e)\n",
    "    e.set_clip_box(ax.bbox)\n",
    "    e.set_alpha(None)\n",
    "    e.set_facecolor(np.zeros(3))\n",
    "    ax.set_xlim(0, size)\n",
    "    ax.set_ylim(0, size)\n",
    "    fig.add_axes(ax)\n",
    "    plt.axis('off')\n",
    "    # Convert figure to data\n",
    "    data = _fig2data(fig)\n",
    "    plt.close(fig)\n",
    "    # Take just the first color entry\n",
    "    data = data[:, :, 1]\n",
    "    # Normalize the data\n",
    "    data = data/data.max()\n",
    "    # data = np.flip(data, 0)\n",
    "    return ((data-1)*opacity)+1"
   ]
  },
  {
   "cell_type": "code",
   "execution_count": 1394,
   "metadata": {},
   "outputs": [],
   "source": [
    "def _ellipse_grad_gen(center, width, height, angle, size, opacity, grad_level):\n",
    "    \"\"\"Function that generates the data of the ellipse with color gradient\n",
    "    \"\"\"\n",
    "    # Compute the needed parameters\n",
    "    h,k = center[0],center[1]\n",
    "    a,b = width/2, height/2\n",
    "    theta = -math.radians(angle)\n",
    "    # Precalculate constants\n",
    "    st, ct =  math.sin(theta), math.cos(theta)\n",
    "    aa, bb = a**2, b**2\n",
    "\n",
    "    # Generate (x,y) coordinate arrays\n",
    "    y,x = np.mgrid[-k:size-k,-h:size-h]\n",
    "    # Calculate the weight for each pixel\n",
    "    ellipse = (((x * ct + y * st) ** 2) / aa) + (((x * st - y * ct) ** 2) / bb)\n",
    "    ellipse = np.clip(1.0 - ellipse, 0,grad_level)*opacity/grad_level\n",
    "    return 1-ellipse"
   ]
  },
  {
   "cell_type": "code",
   "execution_count": 2154,
   "metadata": {},
   "outputs": [],
   "source": [
    "def _center_origin_gen(size):\n",
    "    return [rnd.randint(low=0+int(size/10), high=size-int(size/10)),\n",
    "            rnd.randint(low=0+int(size/10), high=size-int(size/10))]\n",
    "\n",
    "\n",
    "def _width_height_side_gen(size):\n",
    "    return [rnd.randint(low=10, high=int(size/3)),\n",
    "            rnd.randint(low=10, high=int(size/3))]\n",
    "\n",
    "\n",
    "def _angle_gen():\n",
    "    return rnd.randint(low=0, high=180)\n",
    "\n",
    "\n",
    "def _opacity_gen():\n",
    "    return rnd.uniform(0.2, 1.0)\n",
    "\n",
    "\n",
    "def _ellipses_parameters(size,dirBias):\n",
    "    # Random parameters for the ellipse\n",
    "    center = _center_origin_gen(size)\n",
    "    width, height = _width_height_side_gen(size)\n",
    "    angle = _angle_gen()\n",
    "    opacity = _opacity_gen()\n",
    "    return center, width, height, angle, opacity"
   ]
  },
  {
   "cell_type": "code",
   "execution_count": 2155,
   "metadata": {},
   "outputs": [],
   "source": [
    "def random_ellipse(size, nEllipses, dirBias, nClasses):\n",
    "    \"\"\"Create a `size` x `size` image with `nEllipses` phantom with random\n",
    "    ellipses\n",
    "\n",
    "    Parameters\n",
    "    -----------\n",
    "    size : integer, size of image\n",
    "\n",
    "    nEllipses : integer, the number of ellipses in the image\n",
    "\n",
    "    dirBias : integer, the center angle of the directional bias\n",
    "\n",
    "        Returns\n",
    "    -----------\n",
    "    phantom : numpy array, `size` x `size` image with `nEllipses`\n",
    "         phantom with random ellipses\n",
    "    \"\"\"\n",
    "    # Create the WFimage, WFpoints and WF_classes\n",
    "    WFimage = np.zeros((size,size))\n",
    "    WFpoints_all = []\n",
    "    WFclasses_all = []\n",
    "    ellipses = np.zeros((size,size))\n",
    "    \n",
    "    # Big ellipses\n",
    "    for i in range(nEllipses):\n",
    "        center, width, height, angle, opacity = _ellipses_parameters(size,dirBias)\n",
    "        grad_level = rnd.uniform(-2,2)\n",
    "        if grad_level <= 0:\n",
    "            ellipses += _ellipse_gen(center, width, height, angle, size, opacity)\n",
    "        else:\n",
    "            ellipses += _ellipse_grad_gen(center, width, height, angle, size, opacity, grad_level)\n",
    "        # Update WFimage\n",
    "        WFpoints, WFclasses = Wavefrontset_ellipse_classes(center, width, height, angle, nClasses)\n",
    "        \n",
    "        keep_index = (WFpoints[:,0] < size)*(WFpoints[:,1] < size) \n",
    "        WFclasses = list(np.array(WFclasses)[keep_index])\n",
    "        WFpoints = WFpoints[keep_index] \n",
    "        \n",
    "        \n",
    "        WFpoints_all += list(WFpoints)\n",
    "        WFclasses_all += list(WFclasses)\n",
    "        WFimage = WFupdate(WFpoints, WFclasses, WFimage)\n",
    "\n",
    "    # Sum the hull and the inner ellipses and normalize\n",
    "    ellipses = 1 - ellipses/ellipses.max()\n",
    "    ellipses = np.interp(ellipses, (ellipses.min(), ellipses.max()), (0, 1))\n",
    "\n",
    "    return ellipses, np.array(WFpoints_all), WFclasses_all, WFimage"
   ]
  },
  {
   "cell_type": "code",
   "execution_count": 2156,
   "metadata": {},
   "outputs": [],
   "source": [
    "size = 256;\n",
    "nEllipses = 1;\n",
    "dirBias = 60;\n",
    "nClasses = 180;"
   ]
  },
  {
   "cell_type": "code",
   "execution_count": 2157,
   "metadata": {},
   "outputs": [],
   "source": [
    "center, width, height, angle, opacity = _ellipses_parameters(size,dirBias)\n",
    "grad_level = rnd.uniform(-2,2)"
   ]
  },
  {
   "cell_type": "code",
   "execution_count": 2158,
   "metadata": {},
   "outputs": [],
   "source": [
    "ellipse = _ellipse_gen(center, width, height, angle, size, opacity);\n",
    "ellipse_grad = _ellipse_grad_gen(center, width, height, angle, size, opacity, grad_level);"
   ]
  },
  {
   "cell_type": "code",
   "execution_count": 2159,
   "metadata": {},
   "outputs": [
    {
     "data": {
      "text/plain": [
       "<matplotlib.image.AxesImage at 0x2b2525f85240>"
      ]
     },
     "execution_count": 2159,
     "metadata": {},
     "output_type": "execute_result"
    },
    {
     "data": {
      "image/png": "[encoded data removed]",
      "text/plain": [
       "<Figure size 432x432 with 1 Axes>"
      ]
     },
     "metadata": {
      "needs_background": "light"
     },
     "output_type": "display_data"
    }
   ],
   "source": [
    "plt.figure(figsize = (6,6))\n",
    "plt.axis(\"off\")\n",
    "plt.imshow(1-ellipse, cmap=\"gray\")"
   ]
  },
  {
   "cell_type": "code",
   "execution_count": 2160,
   "metadata": {},
   "outputs": [
    {
     "data": {
      "text/plain": [
       "<matplotlib.image.AxesImage at 0x2b2525fce978>"
      ]
     },
     "execution_count": 2160,
     "metadata": {},
     "output_type": "execute_result"
    },
    {
     "data": {
      "image/png": "[encoded data removed]",
      "text/plain": [
       "<Figure size 432x432 with 1 Axes>"
      ]
     },
     "metadata": {
      "needs_background": "light"
     },
     "output_type": "display_data"
    }
   ],
   "source": [
    "plt.figure(figsize = (6,6))\n",
    "plt.axis(\"off\")\n",
    "plt.imshow(1-ellipse_grad, cmap=\"gray\")"
   ]
  },
  {
   "cell_type": "code",
   "execution_count": 2161,
   "metadata": {},
   "outputs": [],
   "source": [
    "ellipse, WFpoints, WFclasses, WFimage = random_ellipse(size, nEllipses, dirBias, nClasses);"
   ]
  },
  {
   "cell_type": "code",
   "execution_count": 2162,
   "metadata": {},
   "outputs": [
    {
     "data": {
      "text/plain": [
       "<matplotlib.image.AxesImage at 0x2b252605a0f0>"
      ]
     },
     "execution_count": 2162,
     "metadata": {},
     "output_type": "execute_result"
    },
    {
     "data": {
      "image/png": "[encoded data removed]",
      "text/plain": [
       "<Figure size 432x432 with 1 Axes>"
      ]
     },
     "metadata": {
      "needs_background": "light"
     },
     "output_type": "display_data"
    }
   ],
   "source": [
    "plt.figure(figsize = (6,6))\n",
    "plt.axis(\"off\")\n",
    "plt.imshow(ellipse, cmap=\"gray\")"
   ]
  },
  {
   "cell_type": "code",
   "execution_count": 2165,
   "metadata": {},
   "outputs": [
    {
     "data": {
      "text/plain": [
       "[<matplotlib.lines.Line2D at 0x2b252614ac50>]"
      ]
     },
     "execution_count": 2165,
     "metadata": {},
     "output_type": "execute_result"
    },
    {
     "data": {
      "image/png": "[encoded data removed]",
      "text/plain": [
       "<Figure size 432x432 with 1 Axes>"
      ]
     },
     "metadata": {
      "needs_background": "light"
     },
     "output_type": "display_data"
    }
   ],
   "source": [
    "plt.figure(figsize = (6,6))\n",
    "plt.axis(\"off\")\n",
    "plt.imshow(ellipse, cmap = 'gray')\n",
    "plt.plot(WFpoints[:,0], WFpoints[:,1], 'bo', markersize = 0.5)"
   ]
  },
  {
   "cell_type": "code",
   "execution_count": 2164,
   "metadata": {},
   "outputs": [
    {
     "data": {
      "text/plain": [
       "<matplotlib.image.AxesImage at 0x2b2526103128>"
      ]
     },
     "execution_count": 2164,
     "metadata": {},
     "output_type": "execute_result"
    },
    {
     "data": {
      "image/png": "[encoded data removed]",
      "text/plain": [
       "<Figure size 432x432 with 1 Axes>"
      ]
     },
     "metadata": {
      "needs_background": "light"
     },
     "output_type": "display_data"
    }
   ],
   "source": [
    "plt.figure(figsize = (6,6))\n",
    "plt.axis(\"off\")\n",
    "plot_WF(WFimage)"
   ]
  },
  {
   "cell_type": "markdown",
   "metadata": {},
   "source": [
    "## Spline boundary"
   ]
  },
  {
   "cell_type": "code",
   "execution_count": 2171,
   "metadata": {},
   "outputs": [],
   "source": [
    "import matplotlib.patches as patches"
   ]
  },
  {
   "cell_type": "markdown",
   "metadata": {},
   "source": [
    "### Generate set of points"
   ]
  },
  {
   "cell_type": "code",
   "execution_count": 2836,
   "metadata": {},
   "outputs": [],
   "source": [
    "size = 256\n",
    "nedges = 4\n",
    "r = .7 # magnitude of the perturbation from the unit circle, \n",
    "center = [128,128]\n",
    "scale = 20"
   ]
  },
  {
   "cell_type": "code",
   "execution_count": 2837,
   "metadata": {},
   "outputs": [],
   "source": [
    "# Number of points\n",
    "N = nedges*3+1\n",
    "angles = np.linspace(0,2*np.pi,N)"
   ]
  },
  {
   "cell_type": "code",
   "execution_count": 2838,
   "metadata": {},
   "outputs": [],
   "source": [
    "verts = np.stack((np.cos(angles),np.sin(angles))).T*(2*r*np.random.random(N)+1-r)[:,None]\n",
    "verts[-1,:] = verts[0,:]"
   ]
  },
  {
   "cell_type": "code",
   "execution_count": 2839,
   "metadata": {},
   "outputs": [],
   "source": [
    "# rescaling and translating vertices\n",
    "verts = scale*verts;\n",
    "verts = verts+center;"
   ]
  },
  {
   "cell_type": "code",
   "execution_count": 2840,
   "metadata": {},
   "outputs": [
    {
     "data": {
      "text/plain": [
       "[<matplotlib.lines.Line2D at 0x2b252ba398d0>]"
      ]
     },
     "execution_count": 2840,
     "metadata": {},
     "output_type": "execute_result"
    },
    {
     "data": {
      "image/png": "[encoded data removed]",
      "text/plain": [
       "<Figure size 432x288 with 1 Axes>"
      ]
     },
     "metadata": {
      "needs_background": "light"
     },
     "output_type": "display_data"
    }
   ],
   "source": [
    "fig = plt.figure(0)\n",
    "ax = fig.add_subplot(111)\n",
    "patch.set_clip_box(ax.bbox)\n",
    "patch.set_alpha(None)\n",
    "patch.set_facecolor(np.zeros(3))\n",
    "\n",
    "ax.set_xlim(0, size)\n",
    "ax.set_ylim(0, size)\n",
    "fig.add_axes(ax)\n",
    "plt.plot(verts[:,0],verts[:,-1], \"o\")"
   ]
  },
  {
   "cell_type": "markdown",
   "metadata": {},
   "source": [
    "## Linear spline first segment"
   ]
  },
  {
   "cell_type": "code",
   "execution_count": 2841,
   "metadata": {},
   "outputs": [],
   "source": [
    "i = 0\n",
    "x1 = verts[i,:]\n",
    "x2 = verts[i+1,:]"
   ]
  },
  {
   "cell_type": "code",
   "execution_count": 2842,
   "metadata": {},
   "outputs": [
    {
     "data": {
      "text/plain": [
       "[<matplotlib.lines.Line2D at 0x2b252ba94208>,\n",
       " <matplotlib.lines.Line2D at 0x2b252baba7b8>]"
      ]
     },
     "execution_count": 2842,
     "metadata": {},
     "output_type": "execute_result"
    },
    {
     "data": {
      "image/png": "[encoded data removed]",
      "text/plain": [
       "<Figure size 432x288 with 1 Axes>"
      ]
     },
     "metadata": {
      "needs_background": "light"
     },
     "output_type": "display_data"
    }
   ],
   "source": [
    "fig = plt.figure(0)\n",
    "ax = fig.add_subplot(111)\n",
    "patch.set_clip_box(ax.bbox)\n",
    "patch.set_alpha(None)\n",
    "patch.set_facecolor(np.zeros(3))\n",
    "\n",
    "ax.set_xlim(0, size)\n",
    "ax.set_ylim(0, size)\n",
    "fig.add_axes(ax)\n",
    "plt.plot(verts[:,0],verts[:,-1], \"o\", [x1[0],x2[0]],[x1[1],x2[1]],\"o\")"
   ]
  },
  {
   "cell_type": "code",
   "execution_count": 2843,
   "metadata": {},
   "outputs": [],
   "source": [
    "indices = np.argsort([x1[0], x2[0]])\n",
    "XY = np.concatenate((x1[np.newaxis,:],x2[np.newaxis,:]))[indices,:]\n",
    "x = XY[:,0]\n",
    "y = XY[:,1]"
   ]
  },
  {
   "cell_type": "code",
   "execution_count": 2844,
   "metadata": {},
   "outputs": [],
   "source": [
    "import scipy.interpolate as interpolate"
   ]
  },
  {
   "cell_type": "code",
   "execution_count": 2845,
   "metadata": {},
   "outputs": [],
   "source": [
    "S = interpolate.UnivariateSpline(x, y, k=1)"
   ]
  },
  {
   "cell_type": "code",
   "execution_count": 2846,
   "metadata": {},
   "outputs": [],
   "source": [
    "xnew = np.linspace(x[0], x[-1], num=int((x[-1]-x[0])), endpoint=True)\n",
    "ynew = S(xnew)"
   ]
  },
  {
   "cell_type": "code",
   "execution_count": 2847,
   "metadata": {},
   "outputs": [
    {
     "data": {
      "text/plain": [
       "[<matplotlib.lines.Line2D at 0x2b252bae64e0>,\n",
       " <matplotlib.lines.Line2D at 0x2b252bb0de10>]"
      ]
     },
     "execution_count": 2847,
     "metadata": {},
     "output_type": "execute_result"
    },
    {
     "data": {
      "image/png": "[encoded data removed]",
      "text/plain": [
       "<Figure size 432x288 with 1 Axes>"
      ]
     },
     "metadata": {
      "needs_background": "light"
     },
     "output_type": "display_data"
    }
   ],
   "source": [
    "fig = plt.figure(0)\n",
    "ax = fig.add_subplot(111)\n",
    "patch.set_clip_box(ax.bbox)\n",
    "patch.set_alpha(None)\n",
    "patch.set_facecolor(np.zeros(3))\n",
    "\n",
    "ax.set_xlim(0, size)\n",
    "ax.set_ylim(0, size)\n",
    "fig.add_axes(ax)\n",
    "plt.plot(verts[:,0],verts[:,-1], \"o\", xnew, ynew, \"-\")"
   ]
  },
  {
   "cell_type": "code",
   "execution_count": 2848,
   "metadata": {},
   "outputs": [],
   "source": [
    "WFimage = np.zeros((size,size))\n",
    "WFpoints_all = []\n",
    "WFclasses_all = []"
   ]
  },
  {
   "cell_type": "code",
   "execution_count": 2849,
   "metadata": {},
   "outputs": [],
   "source": [
    "WFpoints = np.zeros((xnew.shape[0],2));\n",
    "WFpoints[:,0] = xnew;\n",
    "WFpoints[:,1] = ynew;"
   ]
  },
  {
   "cell_type": "code",
   "execution_count": 2850,
   "metadata": {},
   "outputs": [],
   "source": [
    "# Computing the classes\n",
    "WFclasses = [np.array([(np.arctan(S.derivative(n=1)(xi))\n",
    "              *180/(np.pi)+90)%180+1]) for xi in xnew];"
   ]
  },
  {
   "cell_type": "code",
   "execution_count": 2851,
   "metadata": {},
   "outputs": [],
   "source": [
    "keep_index = (WFpoints[:,0] < size)*(WFpoints[:,1] < size) \n",
    "WFclasses = list(np.array(WFclasses)[keep_index])\n",
    "WFpoints = WFpoints[keep_index]"
   ]
  },
  {
   "cell_type": "code",
   "execution_count": 2852,
   "metadata": {},
   "outputs": [],
   "source": [
    "if indices[0] == 1:\n",
    "    WFpoints = np.flip(WFpoints, axis=0)\n",
    "    WFclasses.reverse()"
   ]
  },
  {
   "cell_type": "code",
   "execution_count": 2853,
   "metadata": {},
   "outputs": [],
   "source": [
    "WFpoints_all+=list(WFpoints)\n",
    "WFclasses_all += WFclasses"
   ]
  },
  {
   "cell_type": "code",
   "execution_count": 2854,
   "metadata": {},
   "outputs": [],
   "source": [
    "WFimage = np.zeros((size,size))\n",
    "WFimage = WFupdate(WFpoints, WFclasses, WFimage)"
   ]
  },
  {
   "cell_type": "code",
   "execution_count": 2855,
   "metadata": {},
   "outputs": [
    {
     "data": {
      "text/plain": [
       "<matplotlib.image.AxesImage at 0x2b252bb61c88>"
      ]
     },
     "execution_count": 2855,
     "metadata": {},
     "output_type": "execute_result"
    },
    {
     "data": {
      "image/png": "[encoded data removed]",
      "text/plain": [
       "<Figure size 432x432 with 1 Axes>"
      ]
     },
     "metadata": {
      "needs_background": "light"
     },
     "output_type": "display_data"
    }
   ],
   "source": [
    "plt.figure(figsize = (6,6))\n",
    "plt.axis(\"off\")\n",
    "plot_WF(WFimage)"
   ]
  },
  {
   "cell_type": "markdown",
   "metadata": {},
   "source": [
    "## Quadratic spline"
   ]
  },
  {
   "cell_type": "code",
   "execution_count": 2856,
   "metadata": {},
   "outputs": [],
   "source": [
    "i = 1\n",
    "x1 = verts[i,:]\n",
    "x2 = verts[i+1,:]\n",
    "x3 = verts[i+2,:]"
   ]
  },
  {
   "cell_type": "code",
   "execution_count": 2857,
   "metadata": {},
   "outputs": [
    {
     "data": {
      "text/plain": [
       "[<matplotlib.lines.Line2D at 0x2b252bb9b8d0>,\n",
       " <matplotlib.lines.Line2D at 0x2b252bbb5c50>]"
      ]
     },
     "execution_count": 2857,
     "metadata": {},
     "output_type": "execute_result"
    },
    {
     "data": {
      "image/png": "[encoded data removed]",
      "text/plain": [
       "<Figure size 432x288 with 1 Axes>"
      ]
     },
     "metadata": {
      "needs_background": "light"
     },
     "output_type": "display_data"
    }
   ],
   "source": [
    "fig = plt.figure(0)\n",
    "ax = fig.add_subplot(111)\n",
    "patch.set_clip_box(ax.bbox)\n",
    "patch.set_alpha(None)\n",
    "patch.set_facecolor(np.zeros(3))\n",
    "\n",
    "ax.set_xlim(0, size)\n",
    "ax.set_ylim(0, size)\n",
    "fig.add_axes(ax)\n",
    "plt.plot(verts[:,0],verts[:,-1], \"o\", [x1[0],x2[0], x3[0]],[x1[1],x2[1],x3[1]],\"o\")"
   ]
  },
  {
   "cell_type": "code",
   "execution_count": 2858,
   "metadata": {},
   "outputs": [],
   "source": [
    "indices = np.argsort([x1[0], x2[0], x3[0]])\n",
    "XY = np.concatenate((x1[np.newaxis,:],x2[np.newaxis,:],x3[np.newaxis,:] ))[indices,:]\n",
    "x = XY[:,0]\n",
    "y = XY[:,1]"
   ]
  },
  {
   "cell_type": "code",
   "execution_count": 2859,
   "metadata": {},
   "outputs": [],
   "source": [
    "S = interpolate.UnivariateSpline(x, y, k=2)"
   ]
  },
  {
   "cell_type": "code",
   "execution_count": 2860,
   "metadata": {},
   "outputs": [],
   "source": [
    "xnew = np.linspace(x[0], x[-1], num=int((x[-1]-x[0])), endpoint=True)\n",
    "ynew = S(xnew)"
   ]
  },
  {
   "cell_type": "code",
   "execution_count": 2861,
   "metadata": {},
   "outputs": [
    {
     "data": {
      "text/plain": [
       "[<matplotlib.lines.Line2D at 0x2b252bbe2160>,\n",
       " <matplotlib.lines.Line2D at 0x2b252bc150f0>]"
      ]
     },
     "execution_count": 2861,
     "metadata": {},
     "output_type": "execute_result"
    },
    {
     "data": {
      "image/png": "[encoded data removed]",
      "text/plain": [
       "<Figure size 432x288 with 1 Axes>"
      ]
     },
     "metadata": {
      "needs_background": "light"
     },
     "output_type": "display_data"
    }
   ],
   "source": [
    "fig = plt.figure(0)\n",
    "ax = fig.add_subplot(111)\n",
    "patch.set_clip_box(ax.bbox)\n",
    "patch.set_alpha(None)\n",
    "patch.set_facecolor(np.zeros(3))\n",
    "\n",
    "ax.set_xlim(0, size)\n",
    "ax.set_ylim(0, size)\n",
    "fig.add_axes(ax)\n",
    "plt.plot(verts[:,0],verts[:,-1], \"o\", xnew, ynew, \"-\")"
   ]
  },
  {
   "cell_type": "code",
   "execution_count": 2862,
   "metadata": {},
   "outputs": [],
   "source": [
    "WFpoints = np.zeros((xnew.shape[0],2));\n",
    "WFpoints[:,0] = xnew;\n",
    "WFpoints[:,1] = ynew;"
   ]
  },
  {
   "cell_type": "code",
   "execution_count": 2863,
   "metadata": {},
   "outputs": [],
   "source": [
    "# Computing the classes\n",
    "WFclasses = [np.array([(np.arctan(S.derivative(n=1)(xi))\n",
    "              *180/(np.pi)+90)%180+1]) for xi in xnew];"
   ]
  },
  {
   "cell_type": "code",
   "execution_count": 2864,
   "metadata": {},
   "outputs": [],
   "source": [
    "keep_index = (WFpoints[:,0] < size)*(WFpoints[:,1] < size) \n",
    "WFclasses = list(np.array(WFclasses)[keep_index])\n",
    "WFpoints = WFpoints[keep_index]"
   ]
  },
  {
   "cell_type": "code",
   "execution_count": 2865,
   "metadata": {},
   "outputs": [],
   "source": [
    "if indices[0] == 1:\n",
    "    WFpoints = np.flip(WFpoints, axis=0)\n",
    "    WFclasses.reverse()"
   ]
  },
  {
   "cell_type": "code",
   "execution_count": 2866,
   "metadata": {},
   "outputs": [],
   "source": [
    "WFpoints_all+=list(WFpoints)\n",
    "WFclasses_all += WFclasses"
   ]
  },
  {
   "cell_type": "code",
   "execution_count": 2867,
   "metadata": {},
   "outputs": [],
   "source": [
    "WFimage = np.zeros((size,size))\n",
    "WFimage = WFupdate(WFpoints, WFclasses, WFimage)"
   ]
  },
  {
   "cell_type": "code",
   "execution_count": 2868,
   "metadata": {
    "scrolled": false
   },
   "outputs": [
    {
     "data": {
      "text/plain": [
       "<matplotlib.image.AxesImage at 0x2b252bc6b0f0>"
      ]
     },
     "execution_count": 2868,
     "metadata": {},
     "output_type": "execute_result"
    },
    {
     "data": {
      "image/png": "[encoded data removed]",
      "text/plain": [
       "<Figure size 432x432 with 1 Axes>"
      ]
     },
     "metadata": {
      "needs_background": "light"
     },
     "output_type": "display_data"
    }
   ],
   "source": [
    "plt.figure(figsize = (6,6))\n",
    "plt.axis(\"off\")\n",
    "plot_WF(WFimage)"
   ]
  },
  {
   "cell_type": "markdown",
   "metadata": {},
   "source": [
    "## Cubic spline"
   ]
  },
  {
   "cell_type": "code",
   "execution_count": 2869,
   "metadata": {},
   "outputs": [],
   "source": [
    "i = 3\n",
    "x1 = verts[i,:]\n",
    "x2 = verts[i+1,:]\n",
    "x3 = verts[i+2,:]\n",
    "x4 = verts[i+3,:]"
   ]
  },
  {
   "cell_type": "code",
   "execution_count": 2870,
   "metadata": {},
   "outputs": [
    {
     "data": {
      "text/plain": [
       "[<matplotlib.lines.Line2D at 0x2b252bc96ef0>,\n",
       " <matplotlib.lines.Line2D at 0x2b252bcbe2e8>]"
      ]
     },
     "execution_count": 2870,
     "metadata": {},
     "output_type": "execute_result"
    },
    {
     "data": {
      "image/png": "[encoded data removed]",
      "text/plain": [
       "<Figure size 432x288 with 1 Axes>"
      ]
     },
     "metadata": {
      "needs_background": "light"
     },
     "output_type": "display_data"
    }
   ],
   "source": [
    "fig = plt.figure(0)\n",
    "ax = fig.add_subplot(111)\n",
    "patch.set_clip_box(ax.bbox)\n",
    "patch.set_alpha(None)\n",
    "patch.set_facecolor(np.zeros(3))\n",
    "\n",
    "ax.set_xlim(0, size)\n",
    "ax.set_ylim(0, size)\n",
    "fig.add_axes(ax)\n",
    "plt.plot(verts[:,0],verts[:,-1], \"o\", [x1[0],x2[0], x3[0], x4[0]],[x1[1],x2[1],x3[1], x4[1]],\"o\")"
   ]
  },
  {
   "cell_type": "code",
   "execution_count": 2871,
   "metadata": {},
   "outputs": [],
   "source": [
    "indices = np.argsort([x1[0], x2[0], x3[0], x4[0]])\n",
    "XY = np.concatenate((x1[np.newaxis,:],x2[np.newaxis,:],x3[np.newaxis,:],x4[np.newaxis,:]))[indices,:]\n",
    "x = XY[:,0]\n",
    "y = XY[:,1]"
   ]
  },
  {
   "cell_type": "code",
   "execution_count": 2872,
   "metadata": {},
   "outputs": [],
   "source": [
    "S = interpolate.UnivariateSpline(x, y, k=3)"
   ]
  },
  {
   "cell_type": "code",
   "execution_count": 2873,
   "metadata": {},
   "outputs": [],
   "source": [
    "xnew = np.linspace(x[0], x[-1], num=int((x[-1]-x[0])), endpoint=True)\n",
    "ynew = S(xnew)"
   ]
  },
  {
   "cell_type": "code",
   "execution_count": 2874,
   "metadata": {},
   "outputs": [
    {
     "data": {
      "text/plain": [
       "[<matplotlib.lines.Line2D at 0x2b252b6e5b38>,\n",
       " <matplotlib.lines.Line2D at 0x2b252b6e5978>]"
      ]
     },
     "execution_count": 2874,
     "metadata": {},
     "output_type": "execute_result"
    },
    {
     "data": {
      "image/png": "[encoded data removed]",
      "text/plain": [
       "<Figure size 432x288 with 1 Axes>"
      ]
     },
     "metadata": {
      "needs_background": "light"
     },
     "output_type": "display_data"
    }
   ],
   "source": [
    "fig = plt.figure(0)\n",
    "ax = fig.add_subplot(111)\n",
    "patch.set_clip_box(ax.bbox)\n",
    "patch.set_alpha(None)\n",
    "patch.set_facecolor(np.zeros(3))\n",
    "\n",
    "ax.set_xlim(0, size)\n",
    "ax.set_ylim(0, size)\n",
    "fig.add_axes(ax)\n",
    "plt.plot(verts[:,0],verts[:,-1], \"o\", xnew, ynew, \"-\")"
   ]
  },
  {
   "cell_type": "code",
   "execution_count": 2875,
   "metadata": {},
   "outputs": [],
   "source": [
    "WFpoints = np.zeros((xnew.shape[0],2));\n",
    "WFpoints[:,0] = xnew;\n",
    "WFpoints[:,1] = ynew;"
   ]
  },
  {
   "cell_type": "code",
   "execution_count": 2876,
   "metadata": {},
   "outputs": [],
   "source": [
    "# Computing the classes\n",
    "WFclasses = [np.array([(np.arctan(S.derivative(n=1)(xi))\n",
    "              *180/(np.pi)+90)%180+1]) for xi in xnew];"
   ]
  },
  {
   "cell_type": "code",
   "execution_count": 2877,
   "metadata": {},
   "outputs": [],
   "source": [
    "keep_index = (WFpoints[:,0] < size)*(WFpoints[:,1] < size) \n",
    "WFclasses = list(np.array(WFclasses)[keep_index])\n",
    "WFpoints = WFpoints[keep_index]"
   ]
  },
  {
   "cell_type": "code",
   "execution_count": 2878,
   "metadata": {},
   "outputs": [],
   "source": [
    "if indices[0] == 1:\n",
    "    WFpoints = np.flip(WFpoints, axis=0)\n",
    "    WFclasses.reverse()"
   ]
  },
  {
   "cell_type": "code",
   "execution_count": 2879,
   "metadata": {},
   "outputs": [],
   "source": [
    "WFpoints_all+=list(WFpoints)\n",
    "WFclasses_all += WFclasses"
   ]
  },
  {
   "cell_type": "code",
   "execution_count": 2880,
   "metadata": {},
   "outputs": [],
   "source": [
    "WFimage = np.zeros((size,size))\n",
    "WFimage = WFupdate(WFpoints, WFclasses, WFimage)"
   ]
  },
  {
   "cell_type": "code",
   "execution_count": 2881,
   "metadata": {
    "scrolled": false
   },
   "outputs": [
    {
     "data": {
      "text/plain": [
       "<matplotlib.image.AxesImage at 0x2b252b10a940>"
      ]
     },
     "execution_count": 2881,
     "metadata": {},
     "output_type": "execute_result"
    },
    {
     "data": {
      "image/png": "[encoded data removed]",
      "text/plain": [
       "<Figure size 432x432 with 1 Axes>"
      ]
     },
     "metadata": {
      "needs_background": "light"
     },
     "output_type": "display_data"
    }
   ],
   "source": [
    "plt.figure(figsize = (6,6))\n",
    "plt.axis(\"off\")\n",
    "plot_WF(WFimage)"
   ]
  },
  {
   "cell_type": "markdown",
   "metadata": {},
   "source": [
    "## Wavefront set total"
   ]
  },
  {
   "cell_type": "code",
   "execution_count": 2882,
   "metadata": {},
   "outputs": [],
   "source": [
    "WFpoints_all = np.array(WFpoints_all)"
   ]
  },
  {
   "cell_type": "code",
   "execution_count": 2229,
   "metadata": {},
   "outputs": [],
   "source": [
    "WFimage = np.zeros((size,size))\n",
    "WFimage = WFupdate(WFpoints_all, WFclasses_all, WFimage)\n",
    "WFimage = WFimage"
   ]
  },
  {
   "cell_type": "code",
   "execution_count": 2230,
   "metadata": {},
   "outputs": [
    {
     "data": {
      "text/plain": [
       "<matplotlib.image.AxesImage at 0x2b25266eaf28>"
      ]
     },
     "execution_count": 2230,
     "metadata": {},
     "output_type": "execute_result"
    },
    {
     "data": {
      "image/png": "[encoded data removed]",
      "text/plain": [
       "<Figure size 432x432 with 1 Axes>"
      ]
     },
     "metadata": {
      "needs_background": "light"
     },
     "output_type": "display_data"
    }
   ],
   "source": [
    "plt.figure(figsize = (6,6))\n",
    "plt.axis(\"off\")\n",
    "plot_WF(WFimage)"
   ]
  },
  {
   "cell_type": "markdown",
   "metadata": {},
   "source": [
    "## Spline image generation"
   ]
  },
  {
   "cell_type": "code",
   "execution_count": 2478,
   "metadata": {},
   "outputs": [],
   "source": [
    "from matplotlib.path import Path\n",
    "import matplotlib.patches as patches"
   ]
  },
  {
   "cell_type": "code",
   "execution_count": 2479,
   "metadata": {},
   "outputs": [],
   "source": [
    "patch = plt.Polygon([[WFpoints_all[i,0], WFpoints_all[i,1]] for i in range(len(WFpoints_all))])"
   ]
  },
  {
   "cell_type": "code",
   "execution_count": 2480,
   "metadata": {},
   "outputs": [],
   "source": [
    "plt.close(fig)"
   ]
  },
  {
   "cell_type": "code",
   "execution_count": 2481,
   "metadata": {},
   "outputs": [],
   "source": [
    "opacity = 0.5"
   ]
  },
  {
   "cell_type": "code",
   "execution_count": 2482,
   "metadata": {},
   "outputs": [],
   "source": [
    "fig = plt.figure(0, frameon=False, figsize=(1, 1), dpi=size)\n",
    "ax = plt.Axes(fig, [0., 0., 1., 1.])\n",
    "ax.set_axis_off()\n",
    "ax.add_patch(patch)\n",
    "patch.set_clip_box(ax.bbox)\n",
    "patch.set_alpha(None)\n",
    "patch.set_facecolor(np.zeros(3))\n",
    "\n",
    "ax.set_xlim(0, size)\n",
    "ax.set_ylim(0, size)\n",
    "fig.add_axes(ax)\n",
    "plt.axis('off')\n",
    "\n",
    "plt.close(fig)\n",
    "# Convert figure to data\n",
    "phantom = _fig2data(fig)\n",
    "plt.close(fig)\n",
    "# Take just the first color entry\n",
    "phantom = np.flip(phantom[:, :, 1], axis=0)\n",
    "# Normalize the data\n",
    "phantom = phantom/phantom.max();\n",
    "phantom = 1-(((phantom-1)*opacity)+1)"
   ]
  },
  {
   "cell_type": "code",
   "execution_count": 2483,
   "metadata": {},
   "outputs": [
    {
     "data": {
      "text/plain": [
       "<matplotlib.image.AxesImage at 0x2b252837eb38>"
      ]
     },
     "execution_count": 2483,
     "metadata": {},
     "output_type": "execute_result"
    },
    {
     "data": {
      "image/png": "[encoded data removed]",
      "text/plain": [
       "<Figure size 432x432 with 1 Axes>"
      ]
     },
     "metadata": {
      "needs_background": "light"
     },
     "output_type": "display_data"
    }
   ],
   "source": [
    "plt.figure(figsize = (6,6))\n",
    "plt.axis(\"off\")\n",
    "plot_WF(WFimage)"
   ]
  },
  {
   "cell_type": "code",
   "execution_count": 2484,
   "metadata": {},
   "outputs": [
    {
     "data": {
      "text/plain": [
       "[<matplotlib.lines.Line2D at 0x2b25283d50b8>]"
      ]
     },
     "execution_count": 2484,
     "metadata": {},
     "output_type": "execute_result"
    },
    {
     "data": {
      "image/png": "[encoded data removed]",
      "text/plain": [
       "<Figure size 432x432 with 1 Axes>"
      ]
     },
     "metadata": {
      "needs_background": "light"
     },
     "output_type": "display_data"
    }
   ],
   "source": [
    "plt.figure(figsize = (6,6))\n",
    "plt.axis(\"off\")\n",
    "plt.imshow(phantom, cmap = 'gray')\n",
    "plt.plot(WFpoints_all[:,0], WFpoints_all[:,1], 'bo', markersize = 1)"
   ]
  },
  {
   "cell_type": "markdown",
   "metadata": {},
   "source": [
    "## Adding gradient to phantom"
   ]
  },
  {
   "cell_type": "code",
   "execution_count": 2620,
   "metadata": {},
   "outputs": [
    {
     "data": {
      "text/plain": [
       "<matplotlib.image.AxesImage at 0x2b252a62a6a0>"
      ]
     },
     "execution_count": 2620,
     "metadata": {},
     "output_type": "execute_result"
    },
    {
     "data": {
      "image/png": "[encoded data removed]",
      "text/plain": [
       "<Figure size 432x432 with 1 Axes>"
      ]
     },
     "metadata": {
      "needs_background": "light"
     },
     "output_type": "display_data"
    }
   ],
   "source": [
    "plt.figure(figsize = (6,6))\n",
    "plt.axis(\"off\")\n",
    "plt.imshow(phantom, cmap = \"gray\")"
   ]
  },
  {
   "cell_type": "code",
   "execution_count": 2883,
   "metadata": {},
   "outputs": [],
   "source": [
    "grad_level = 2"
   ]
  },
  {
   "cell_type": "code",
   "execution_count": 2884,
   "metadata": {},
   "outputs": [
    {
     "data": {
      "text/plain": [
       "<matplotlib.image.AxesImage at 0x2b252a8ddac8>"
      ]
     },
     "execution_count": 2884,
     "metadata": {},
     "output_type": "execute_result"
    },
    {
     "data": {
      "image/png": "[encoded data removed]",
      "text/plain": [
       "<Figure size 432x432 with 1 Axes>"
      ]
     },
     "metadata": {
      "needs_background": "light"
     },
     "output_type": "display_data"
    }
   ],
   "source": [
    "plt.figure(figsize = (6,6))\n",
    "plt.axis(\"off\")\n",
    "plt.imshow(gaussian_filter(phantom, sigma = 5*grad_level),cmap = \"gray\")"
   ]
  },
  {
   "cell_type": "code",
   "execution_count": null,
   "metadata": {},
   "outputs": [],
   "source": []
  }
 ],
 "metadata": {
  "kernelspec": {
   "display_name": "Python 3",
   "language": "python",
   "name": "python3"
  },
  "language_info": {
   "codemirror_mode": {
    "name": "ipython",
    "version": 3
   },
   "file_extension": ".py",
   "mimetype": "text/x-python",
   "name": "python",
   "nbconvert_exporter": "python",
   "pygments_lexer": "ipython3",
   "version": "3.6.8"
  }
 },
 "nbformat": 4,
 "nbformat_minor": 2
}
