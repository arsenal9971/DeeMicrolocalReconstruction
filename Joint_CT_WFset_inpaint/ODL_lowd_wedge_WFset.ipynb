{
 "cells": [
  {
   "cell_type": "markdown",
   "metadata": {},
   "source": [
    "# <center> WFset lowd and wedge Wavefront set </center>"
   ]
  },
  {
   "cell_type": "markdown",
   "metadata": {},
   "source": [
    "## Utilitary libraries"
   ]
  },
  {
   "cell_type": "code",
   "execution_count": 1,
   "metadata": {},
   "outputs": [],
   "source": [
    "import numpy as np\n",
    "import odl\n",
    "import odl.contrib.tensorflow\n",
    "import math"
   ]
  },
  {
   "cell_type": "markdown",
   "metadata": {},
   "source": [
    "## Phantom data module"
   ]
  },
  {
   "cell_type": "code",
   "execution_count": 5,
   "metadata": {},
   "outputs": [],
   "source": [
    "import sys\n",
    "sys.path.append(\"../WF_inpaint/\")"
   ]
  },
  {
   "cell_type": "code",
   "execution_count": 11,
   "metadata": {},
   "outputs": [],
   "source": [
    "# Import the needed modules\n",
    "from data.data_factory import random_realphantom, random_phantom\n",
    "from ellipse.ellipseWF_factory import plot_WF, WFupdate, WFupdate_sino\n",
    "\n",
    "%matplotlib inline\n",
    "import matplotlib.pyplot as plt\n",
    "import numpy.random as rnd\n",
    "import numpy as np\n",
    "import odl\n",
    "import matplotlib.pyplot as plt"
   ]
  },
  {
   "cell_type": "markdown",
   "metadata": {},
   "source": [
    "### Real phantom with WFset generation full and low dose"
   ]
  },
  {
   "cell_type": "code",
   "execution_count": 12,
   "metadata": {},
   "outputs": [],
   "source": [
    "size = 256\n",
    "nClasses = 180\n",
    "lowd = 40\n",
    "wedge = 40"
   ]
  },
  {
   "cell_type": "code",
   "execution_count": 13,
   "metadata": {},
   "outputs": [],
   "source": [
    "nRegions = np.random.randint(5,10)\n",
    "npoints_max = np.random.randint(8,15)\n",
    "realphantom, WFpoints, WFclasses,  WFimage = random_realphantom(size, nRegions, npoints_max, nClasses)"
   ]
  },
  {
   "cell_type": "code",
   "execution_count": 14,
   "metadata": {},
   "outputs": [
    {
     "data": {
      "text/plain": [
       "<matplotlib.image.AxesImage at 0x2b36bc1d3080>"
      ]
     },
     "execution_count": 14,
     "metadata": {},
     "output_type": "execute_result"
    },
    {
     "data": {
      "image/png": "[encoded data removed]",
      "text/plain": [
       "<Figure size 432x432 with 1 Axes>"
      ]
     },
     "metadata": {
      "needs_background": "light"
     },
     "output_type": "display_data"
    }
   ],
   "source": [
    "plt.figure(figsize = (6,6))\n",
    "plt.axis(\"off\")\n",
    "plt.imshow(realphantom, cmap=\"gray\")"
   ]
  },
  {
   "cell_type": "code",
   "execution_count": 15,
   "metadata": {},
   "outputs": [
    {
     "data": {
      "text/plain": [
       "<matplotlib.image.AxesImage at 0x2b36bc219ba8>"
      ]
     },
     "execution_count": 15,
     "metadata": {},
     "output_type": "execute_result"
    },
    {
     "data": {
      "image/png": "[encoded data removed]",
      "text/plain": [
       "<Figure size 432x432 with 1 Axes>"
      ]
     },
     "metadata": {
      "needs_background": "light"
     },
     "output_type": "display_data"
    }
   ],
   "source": [
    "plt.figure(figsize = (6,6))\n",
    "plt.axis(\"off\")\n",
    "plot_WF(WFimage)"
   ]
  },
  {
   "cell_type": "markdown",
   "metadata": {},
   "source": [
    "### Sinogram of real phantom with WFset generation with full and lowd"
   ]
  },
  {
   "cell_type": "code",
   "execution_count": 16,
   "metadata": {},
   "outputs": [],
   "source": [
    "from ray_transform.canon_relation import (point_img2sino, class_img2sino, CanRel_img2sino, \n",
    "                                         point_sino2img, CanRel_sino2img)"
   ]
  },
  {
   "cell_type": "code",
   "execution_count": 17,
   "metadata": {},
   "outputs": [],
   "source": [
    "# Create ODL data structures\n",
    "space = odl.uniform_discr([-int(size/2), -int(size/2)], [int(size/2), int(size/2)], [size, size],\n",
    "                          dtype='float32')"
   ]
  },
  {
   "cell_type": "code",
   "execution_count": 18,
   "metadata": {},
   "outputs": [],
   "source": [
    "size = 256\n",
    "detector_sample = size\n",
    "impl = 'astra_cuda'"
   ]
  },
  {
   "cell_type": "code",
   "execution_count": 19,
   "metadata": {},
   "outputs": [],
   "source": [
    "angle_partition_lowd = odl.uniform_partition(0,np.pi,lowd,nodes_on_bdry=True)\n",
    "angle_partition = odl.uniform_partition(0,np.pi,180,nodes_on_bdry=True)"
   ]
  },
  {
   "cell_type": "code",
   "execution_count": 20,
   "metadata": {},
   "outputs": [],
   "source": [
    "detector_partition = odl.uniform_partition(-int(size/2),int(size/2),\n",
    "                                               detector_sample,\n",
    "                                               nodes_on_bdry=True)"
   ]
  },
  {
   "cell_type": "code",
   "execution_count": 21,
   "metadata": {},
   "outputs": [],
   "source": [
    "geometry = odl.tomo.Parallel2dGeometry(angle_partition, detector_partition)\n",
    "geometry_lowd = odl.tomo.Parallel2dGeometry(angle_partition_lowd, detector_partition)\n"
   ]
  },
  {
   "cell_type": "code",
   "execution_count": 22,
   "metadata": {},
   "outputs": [],
   "source": [
    "operator = odl.tomo.RayTransform(space, geometry, impl=impl)"
   ]
  },
  {
   "cell_type": "code",
   "execution_count": 23,
   "metadata": {},
   "outputs": [],
   "source": [
    "n_angles = int((180 - 2 * wedge))\n",
    "n_angles = math.floor(n_angles)"
   ]
  },
  {
   "cell_type": "code",
   "execution_count": 24,
   "metadata": {},
   "outputs": [],
   "source": [
    "wedge_pi = wedge * np.pi/180"
   ]
  },
  {
   "cell_type": "code",
   "execution_count": 25,
   "metadata": {},
   "outputs": [],
   "source": [
    "angle_partition_wedge = odl.uniform_partition(wedge_pi, np.pi-wedge_pi,n_angles, nodes_on_bdry=True)"
   ]
  },
  {
   "cell_type": "code",
   "execution_count": 26,
   "metadata": {},
   "outputs": [],
   "source": [
    "geometry_wedge = odl.tomo.Parallel2dGeometry(angle_partition_wedge, detector_partition)"
   ]
  },
  {
   "cell_type": "code",
   "execution_count": 27,
   "metadata": {},
   "outputs": [],
   "source": [
    "operator_wedge = odl.tomo.RayTransform(space, geometry_wedge, impl=impl)"
   ]
  },
  {
   "cell_type": "code",
   "execution_count": 28,
   "metadata": {},
   "outputs": [],
   "source": [
    "operator_lowd = odl.tomo.RayTransform(space, geometry_lowd, impl=impl)"
   ]
  },
  {
   "cell_type": "code",
   "execution_count": 29,
   "metadata": {},
   "outputs": [],
   "source": [
    "batch_size = 5\n",
    "n_iter = 10\n",
    "n_primal = 5\n",
    "n_dual = 5"
   ]
  },
  {
   "cell_type": "code",
   "execution_count": 30,
   "metadata": {},
   "outputs": [],
   "source": [
    "def generate_data_CT_lima(validation=False):\n",
    "    \"\"\"Generate a set of random data.\"\"\"\n",
    "    if validation:\n",
    "        n_generate = 1\n",
    "    else: \n",
    "        n_generate = batch_size\n",
    "\n",
    "    y_arr = np.empty((n_generate, operator_wedge.range.shape[0], operator_wedge.range.shape[1], 1), dtype='float32')\n",
    "    x_true_arr = np.empty((n_generate, space.shape[0], space.shape[1], 1), dtype='float32')\n",
    "\n",
    "    for i in range(n_generate):\n",
    "        if validation:\n",
    "            phantom = odl.phantom.shepp_logan(space, True)\n",
    "        else:\n",
    "            phantom, _, _,  _ = random_realphantom(size, nRegions, npoints_max, nClasses)\n",
    "        data = operator_wedge(phantom)\n",
    "        noisy_data = data + odl.phantom.white_noise(operator_wedge.range) * np.mean(np.abs(data)) * 0.05\n",
    "\n",
    "        x_true_arr[i, ..., 0] = phantom\n",
    "        y_arr[i, ..., 0] = noisy_data\n",
    "\n",
    "    return y_arr, x_true_arr"
   ]
  },
  {
   "cell_type": "code",
   "execution_count": 31,
   "metadata": {},
   "outputs": [],
   "source": [
    "def generate_data_CT_lowd(validation=False):\n",
    "    \"\"\"Generate a set of random data.\"\"\"\n",
    "    if validation:\n",
    "        n_generate = 1\n",
    "    else: \n",
    "        n_generate = batch_size\n",
    "\n",
    "    y_arr = np.empty((n_generate, operator_lowd.range.shape[0], operator_lowd.range.shape[1], 1), dtype='float32')\n",
    "    x_true_arr = np.empty((n_generate, space.shape[0], space.shape[1], 1), dtype='float32')\n",
    "\n",
    "    for i in range(n_generate):\n",
    "        if validation:\n",
    "            phantom = odl.phantom.shepp_logan(space, True)\n",
    "        else:\n",
    "            phantom, _, _,  _ = random_realphantom(size, nRegions, npoints_max, nClasses)\n",
    "        data = operator_lowd(phantom)\n",
    "        noisy_data = data + odl.phantom.white_noise(operator_lowd.range) * np.mean(np.abs(data)) * 0.05\n",
    "\n",
    "        x_true_arr[i, ..., 0] = phantom\n",
    "        y_arr[i, ..., 0] = noisy_data\n",
    "\n",
    "    return y_arr, x_true_arr"
   ]
  },
  {
   "cell_type": "markdown",
   "metadata": {},
   "source": [
    "### Wavefront set lowd"
   ]
  },
  {
   "cell_type": "code",
   "execution_count": 35,
   "metadata": {},
   "outputs": [],
   "source": [
    "nRegions = np.random.randint(5,10)\n",
    "npoints_max = np.random.randint(8,15)\n",
    "realphantom, WFpoints, WFclasses,  WFimage = random_realphantom(size, nRegions, npoints_max, nClasses)"
   ]
  },
  {
   "cell_type": "code",
   "execution_count": 36,
   "metadata": {},
   "outputs": [],
   "source": [
    "# Compute low dose WF image\n",
    "angles_lowd = np.array([i for i in range(0,180,int(180/lowd))])\n",
    "# Extracting the wavefront set orientations in the low dose\n",
    "angles_gt = (np.array(WFclasses).astype(int)[:,0]-1)\n",
    "angles_gt_lowd = np.array([angle in angles_lowd for angle in angles_gt])\n",
    "# Generating the new WFpoints and classes\n",
    "WFpoints_lowd = WFpoints[angles_gt_lowd]\n",
    "WFclasses_lowd = list(np.array(WFclasses)[angles_gt_lowd])\n",
    "# Generating the low dose WFimage\n",
    "WFimage_lowd = np.zeros([size,size])\n",
    "WFimage_lowd = WFupdate(WFpoints_lowd, WFclasses_lowd, WFimage_lowd)"
   ]
  },
  {
   "cell_type": "code",
   "execution_count": 37,
   "metadata": {},
   "outputs": [
    {
     "data": {
      "text/plain": [
       "<matplotlib.image.AxesImage at 0x2b36be8d1208>"
      ]
     },
     "execution_count": 37,
     "metadata": {},
     "output_type": "execute_result"
    },
    {
     "data": {
      "image/png": "[encoded data removed]",
      "text/plain": [
       "<Figure size 432x432 with 1 Axes>"
      ]
     },
     "metadata": {
      "needs_background": "light"
     },
     "output_type": "display_data"
    }
   ],
   "source": [
    "plt.figure(figsize = (6,6))\n",
    "plt.axis(\"off\")\n",
    "plot_WF(WFimage_lowd)"
   ]
  },
  {
   "cell_type": "markdown",
   "metadata": {},
   "source": [
    "### Wavefront set wedge"
   ]
  },
  {
   "cell_type": "code",
   "execution_count": 55,
   "metadata": {},
   "outputs": [],
   "source": [
    "# Compute low dose WF image\n",
    "angles_wedge = np.array([i for i in range(wedge,180-wedge)])\n",
    "# Extracting the wavefront set orientations in the low dose\n",
    "angles_gt = (np.array(WFclasses).astype(int)[:,0]-1)\n",
    "angles_gt_wedge = np.array([angle in angles_wedge for angle in angles_gt])\n",
    "# Generating the new WFpoints and classes\n",
    "WFpoints_wedge = WFpoints[angles_gt_wedge]\n",
    "WFclasses_wedge = list(np.array(WFclasses)[angles_gt_wedge])\n",
    "# Generating the low dose WFimage\n",
    "WFimage_wedge = np.zeros([size,size])\n",
    "WFimage_wedge = WFupdate(WFpoints_wedge, WFclasses_wedge, WFimage_wedge)"
   ]
  },
  {
   "cell_type": "code",
   "execution_count": 1,
   "metadata": {},
   "outputs": [
    {
     "ename": "NameError",
     "evalue": "name 'plt' is not defined",
     "output_type": "error",
     "traceback": [
      "\u001b[0;31m---------------------------------------------------------------------------\u001b[0m",
      "\u001b[0;31mNameError\u001b[0m                                 Traceback (most recent call last)",
      "\u001b[0;32m<ipython-input-1-97289b604f6c>\u001b[0m in \u001b[0;36m<module>\u001b[0;34m\u001b[0m\n\u001b[0;32m----> 1\u001b[0;31m \u001b[0mplt\u001b[0m\u001b[0;34m.\u001b[0m\u001b[0mfigure\u001b[0m\u001b[0;34m(\u001b[0m\u001b[0mfigsize\u001b[0m \u001b[0;34m=\u001b[0m \u001b[0;34m(\u001b[0m\u001b[0;36m6\u001b[0m\u001b[0;34m,\u001b[0m\u001b[0;36m6\u001b[0m\u001b[0;34m)\u001b[0m\u001b[0;34m)\u001b[0m\u001b[0;34m\u001b[0m\u001b[0;34m\u001b[0m\u001b[0m\n\u001b[0m\u001b[1;32m      2\u001b[0m \u001b[0mplt\u001b[0m\u001b[0;34m.\u001b[0m\u001b[0maxis\u001b[0m\u001b[0;34m(\u001b[0m\u001b[0;34m\"off\"\u001b[0m\u001b[0;34m)\u001b[0m\u001b[0;34m\u001b[0m\u001b[0;34m\u001b[0m\u001b[0m\n\u001b[1;32m      3\u001b[0m \u001b[0mplot_WF\u001b[0m\u001b[0;34m(\u001b[0m\u001b[0mWFimage_wedge\u001b[0m\u001b[0;34m)\u001b[0m\u001b[0;34m\u001b[0m\u001b[0;34m\u001b[0m\u001b[0m\n",
      "\u001b[0;31mNameError\u001b[0m: name 'plt' is not defined"
     ]
    }
   ],
   "source": [
    "plt.figure(figsize = (6,6))\n",
    "plt.axis(\"off\")\n",
    "plot_WF(WFimage_wedge)"
   ]
  },
  {
   "cell_type": "code",
   "execution_count": null,
   "metadata": {},
   "outputs": [],
   "source": []
  },
  {
   "cell_type": "code",
   "execution_count": null,
   "metadata": {},
   "outputs": [],
   "source": []
  }
 ],
 "metadata": {
  "@webio": {
   "lastCommId": null,
   "lastKernelId": null
  },
  "kernelspec": {
   "display_name": "Python 3",
   "language": "python",
   "name": "python3"
  },
  "language_info": {
   "codemirror_mode": {
    "name": "ipython",
    "version": 3
   },
   "file_extension": ".py",
   "mimetype": "text/x-python",
   "name": "python",
   "nbconvert_exporter": "python",
   "pygments_lexer": "ipython3",
   "version": "3.6.8"
  }
 },
 "nbformat": 4,
 "nbformat_minor": 2
}
