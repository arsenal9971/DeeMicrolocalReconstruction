{
 "cells": [
  {
   "cell_type": "markdown",
   "metadata": {},
   "source": [
    "# <center> Joint learned primal-dual and Wavefront set inpainting </center>"
   ]
  },
  {
   "cell_type": "markdown",
   "metadata": {},
   "source": [
    "In this notebook we present our approach to a joint learned-primal dual and Wavefront set inpainting"
   ]
  },
  {
   "cell_type": "markdown",
   "metadata": {},
   "source": [
    "## Utilitary libraries"
   ]
  },
  {
   "cell_type": "code",
   "execution_count": 1,
   "metadata": {},
   "outputs": [],
   "source": [
    "%matplotlib inline\n",
    "import os\n",
    "os.environ[\"CUDA_VISIBLE_DEVICES\"]=\"0\""
   ]
  },
  {
   "cell_type": "code",
   "execution_count": 2,
   "metadata": {},
   "outputs": [
    {
     "name": "stdout",
     "output_type": "stream",
     "text": [
      "Picking GPU 0\n"
     ]
    }
   ],
   "source": [
    "import os\n",
    "import adler\n",
    "adler.util.gpu.setup_one_gpu(0)"
   ]
  },
  {
   "cell_type": "code",
   "execution_count": 3,
   "metadata": {},
   "outputs": [],
   "source": [
    "from adler.odl.phantom import random_phantom as random_phantom_jonas\n",
    "from adler.tensorflow import prelu, cosine_decay"
   ]
  },
  {
   "cell_type": "code",
   "execution_count": 4,
   "metadata": {},
   "outputs": [],
   "source": [
    "import tensorflow as tf\n",
    "import numpy as np\n",
    "import odl\n",
    "import odl.contrib.tensorflow\n",
    "import math"
   ]
  },
  {
   "cell_type": "code",
   "execution_count": 5,
   "metadata": {},
   "outputs": [],
   "source": [
    "np.random.seed(0)\n",
    "#name = os.path.splitext(os.path.basename(__file__))[0]\n",
    "name = os.path.splitext(os.getcwd())[0]+'/checkpoints'"
   ]
  },
  {
   "cell_type": "code",
   "execution_count": 6,
   "metadata": {},
   "outputs": [
    {
     "name": "stdout",
     "output_type": "stream",
     "text": [
      "Creation of the directory /store/kepler/datastore/andrade/GitHub_repos/Joint_CTWF_Recon/Joint_CT_WFset_inpaint/checkpoints failed\n"
     ]
    }
   ],
   "source": [
    "# Creating checkpoints directory\n",
    "try:\n",
    "    os.mkdir(name)\n",
    "except OSError:\n",
    "    print (\"Creation of the directory %s failed\" % name)\n",
    "else:\n",
    "    print (\"Successfully created the directory %s \" % name)"
   ]
  },
  {
   "cell_type": "code",
   "execution_count": 7,
   "metadata": {},
   "outputs": [],
   "source": [
    "sess = tf.InteractiveSession()"
   ]
  },
  {
   "cell_type": "markdown",
   "metadata": {},
   "source": [
    "## Phantom data module"
   ]
  },
  {
   "cell_type": "code",
   "execution_count": 8,
   "metadata": {},
   "outputs": [],
   "source": [
    "import sys\n",
    "sys.path.append(\"../WF_inpaint/\")"
   ]
  },
  {
   "cell_type": "code",
   "execution_count": 9,
   "metadata": {},
   "outputs": [
    {
     "name": "stderr",
     "output_type": "stream",
     "text": [
      "../WF_inpaint/data/data_factory.py:7: UserWarning: \n",
      "This call to matplotlib.use() has no effect because the backend has already\n",
      "been chosen; matplotlib.use() must be called *before* pylab, matplotlib.pyplot,\n",
      "or matplotlib.backends is imported for the first time.\n",
      "\n",
      "The backend was *originally* set to 'module://ipykernel.pylab.backend_inline' by the following code:\n",
      "  File \"/homes/extern/andrade/store/miniconda3/envs/tf_gpu/lib/python3.6/runpy.py\", line 193, in _run_module_as_main\n",
      "    \"__main__\", mod_spec)\n",
      "  File \"/homes/extern/andrade/store/miniconda3/envs/tf_gpu/lib/python3.6/runpy.py\", line 85, in _run_code\n",
      "    exec(code, run_globals)\n",
      "  File \"/homes/extern/andrade/store/miniconda3/envs/tf_gpu/lib/python3.6/site-packages/ipykernel_launcher.py\", line 16, in <module>\n",
      "    app.launch_new_instance()\n",
      "  File \"/homes/extern/andrade/store/miniconda3/envs/tf_gpu/lib/python3.6/site-packages/traitlets/config/application.py\", line 658, in launch_instance\n",
      "    app.start()\n",
      "  File \"/homes/extern/andrade/store/miniconda3/envs/tf_gpu/lib/python3.6/site-packages/ipykernel/kernelapp.py\", line 505, in start\n",
      "    self.io_loop.start()\n",
      "  File \"/homes/extern/andrade/store/miniconda3/envs/tf_gpu/lib/python3.6/site-packages/tornado/platform/asyncio.py\", line 132, in start\n",
      "    self.asyncio_loop.run_forever()\n",
      "  File \"/homes/extern/andrade/store/miniconda3/envs/tf_gpu/lib/python3.6/asyncio/base_events.py\", line 438, in run_forever\n",
      "    self._run_once()\n",
      "  File \"/homes/extern/andrade/store/miniconda3/envs/tf_gpu/lib/python3.6/asyncio/base_events.py\", line 1451, in _run_once\n",
      "    handle._run()\n",
      "  File \"/homes/extern/andrade/store/miniconda3/envs/tf_gpu/lib/python3.6/asyncio/events.py\", line 145, in _run\n",
      "    self._callback(*self._args)\n",
      "  File \"/homes/extern/andrade/store/miniconda3/envs/tf_gpu/lib/python3.6/site-packages/tornado/ioloop.py\", line 758, in _run_callback\n",
      "    ret = callback()\n",
      "  File \"/homes/extern/andrade/store/miniconda3/envs/tf_gpu/lib/python3.6/site-packages/tornado/stack_context.py\", line 300, in null_wrapper\n",
      "    return fn(*args, **kwargs)\n",
      "  File \"/homes/extern/andrade/store/miniconda3/envs/tf_gpu/lib/python3.6/site-packages/tornado/gen.py\", line 1233, in inner\n",
      "    self.run()\n",
      "  File \"/homes/extern/andrade/store/miniconda3/envs/tf_gpu/lib/python3.6/site-packages/tornado/gen.py\", line 1147, in run\n",
      "    yielded = self.gen.send(value)\n",
      "  File \"/homes/extern/andrade/store/miniconda3/envs/tf_gpu/lib/python3.6/site-packages/ipykernel/kernelbase.py\", line 357, in process_one\n",
      "    yield gen.maybe_future(dispatch(*args))\n",
      "  File \"/homes/extern/andrade/store/miniconda3/envs/tf_gpu/lib/python3.6/site-packages/tornado/gen.py\", line 326, in wrapper\n",
      "    yielded = next(result)\n",
      "  File \"/homes/extern/andrade/store/miniconda3/envs/tf_gpu/lib/python3.6/site-packages/ipykernel/kernelbase.py\", line 267, in dispatch_shell\n",
      "    yield gen.maybe_future(handler(stream, idents, msg))\n",
      "  File \"/homes/extern/andrade/store/miniconda3/envs/tf_gpu/lib/python3.6/site-packages/tornado/gen.py\", line 326, in wrapper\n",
      "    yielded = next(result)\n",
      "  File \"/homes/extern/andrade/store/miniconda3/envs/tf_gpu/lib/python3.6/site-packages/ipykernel/kernelbase.py\", line 534, in execute_request\n",
      "    user_expressions, allow_stdin,\n",
      "  File \"/homes/extern/andrade/store/miniconda3/envs/tf_gpu/lib/python3.6/site-packages/tornado/gen.py\", line 326, in wrapper\n",
      "    yielded = next(result)\n",
      "  File \"/homes/extern/andrade/store/miniconda3/envs/tf_gpu/lib/python3.6/site-packages/ipykernel/ipkernel.py\", line 294, in do_execute\n",
      "    res = shell.run_cell(code, store_history=store_history, silent=silent)\n",
      "  File \"/homes/extern/andrade/store/miniconda3/envs/tf_gpu/lib/python3.6/site-packages/ipykernel/zmqshell.py\", line 536, in run_cell\n",
      "    return super(ZMQInteractiveShell, self).run_cell(*args, **kwargs)\n",
      "  File \"/homes/extern/andrade/store/miniconda3/envs/tf_gpu/lib/python3.6/site-packages/IPython/core/interactiveshell.py\", line 2823, in run_cell\n",
      "    self.events.trigger('post_run_cell', result)\n",
      "  File \"/homes/extern/andrade/store/miniconda3/envs/tf_gpu/lib/python3.6/site-packages/IPython/core/events.py\", line 88, in trigger\n",
      "    func(*args, **kwargs)\n",
      "  File \"/homes/extern/andrade/store/miniconda3/envs/tf_gpu/lib/python3.6/site-packages/ipykernel/pylab/backend_inline.py\", line 164, in configure_once\n",
      "    activate_matplotlib(backend)\n",
      "  File \"/homes/extern/andrade/store/miniconda3/envs/tf_gpu/lib/python3.6/site-packages/IPython/core/pylabtools.py\", line 314, in activate_matplotlib\n",
      "    matplotlib.pyplot.switch_backend(backend)\n",
      "  File \"/homes/extern/andrade/store/miniconda3/envs/tf_gpu/lib/python3.6/site-packages/matplotlib/pyplot.py\", line 231, in switch_backend\n",
      "    matplotlib.use(newbackend, warn=False, force=True)\n",
      "  File \"/homes/extern/andrade/store/miniconda3/envs/tf_gpu/lib/python3.6/site-packages/matplotlib/__init__.py\", line 1410, in use\n",
      "    reload(sys.modules['matplotlib.backends'])\n",
      "  File \"/homes/extern/andrade/store/miniconda3/envs/tf_gpu/lib/python3.6/importlib/__init__.py\", line 166, in reload\n",
      "    _bootstrap._exec(spec, module)\n",
      "  File \"/homes/extern/andrade/store/miniconda3/envs/tf_gpu/lib/python3.6/site-packages/matplotlib/backends/__init__.py\", line 16, in <module>\n",
      "    line for line in traceback.format_stack()\n",
      "\n",
      "\n",
      "  matplotlib.use('Agg')\n",
      "../WF_inpaint/ellipse/ellipseWF_factory.py:9: UserWarning: \n",
      "This call to matplotlib.use() has no effect because the backend has already\n",
      "been chosen; matplotlib.use() must be called *before* pylab, matplotlib.pyplot,\n",
      "or matplotlib.backends is imported for the first time.\n",
      "\n",
      "The backend was *originally* set to 'module://ipykernel.pylab.backend_inline' by the following code:\n",
      "  File \"/homes/extern/andrade/store/miniconda3/envs/tf_gpu/lib/python3.6/runpy.py\", line 193, in _run_module_as_main\n",
      "    \"__main__\", mod_spec)\n",
      "  File \"/homes/extern/andrade/store/miniconda3/envs/tf_gpu/lib/python3.6/runpy.py\", line 85, in _run_code\n",
      "    exec(code, run_globals)\n",
      "  File \"/homes/extern/andrade/store/miniconda3/envs/tf_gpu/lib/python3.6/site-packages/ipykernel_launcher.py\", line 16, in <module>\n",
      "    app.launch_new_instance()\n",
      "  File \"/homes/extern/andrade/store/miniconda3/envs/tf_gpu/lib/python3.6/site-packages/traitlets/config/application.py\", line 658, in launch_instance\n",
      "    app.start()\n",
      "  File \"/homes/extern/andrade/store/miniconda3/envs/tf_gpu/lib/python3.6/site-packages/ipykernel/kernelapp.py\", line 505, in start\n",
      "    self.io_loop.start()\n",
      "  File \"/homes/extern/andrade/store/miniconda3/envs/tf_gpu/lib/python3.6/site-packages/tornado/platform/asyncio.py\", line 132, in start\n",
      "    self.asyncio_loop.run_forever()\n",
      "  File \"/homes/extern/andrade/store/miniconda3/envs/tf_gpu/lib/python3.6/asyncio/base_events.py\", line 438, in run_forever\n",
      "    self._run_once()\n",
      "  File \"/homes/extern/andrade/store/miniconda3/envs/tf_gpu/lib/python3.6/asyncio/base_events.py\", line 1451, in _run_once\n",
      "    handle._run()\n",
      "  File \"/homes/extern/andrade/store/miniconda3/envs/tf_gpu/lib/python3.6/asyncio/events.py\", line 145, in _run\n",
      "    self._callback(*self._args)\n",
      "  File \"/homes/extern/andrade/store/miniconda3/envs/tf_gpu/lib/python3.6/site-packages/tornado/ioloop.py\", line 758, in _run_callback\n",
      "    ret = callback()\n",
      "  File \"/homes/extern/andrade/store/miniconda3/envs/tf_gpu/lib/python3.6/site-packages/tornado/stack_context.py\", line 300, in null_wrapper\n",
      "    return fn(*args, **kwargs)\n",
      "  File \"/homes/extern/andrade/store/miniconda3/envs/tf_gpu/lib/python3.6/site-packages/tornado/gen.py\", line 1233, in inner\n",
      "    self.run()\n",
      "  File \"/homes/extern/andrade/store/miniconda3/envs/tf_gpu/lib/python3.6/site-packages/tornado/gen.py\", line 1147, in run\n",
      "    yielded = self.gen.send(value)\n",
      "  File \"/homes/extern/andrade/store/miniconda3/envs/tf_gpu/lib/python3.6/site-packages/ipykernel/kernelbase.py\", line 357, in process_one\n",
      "    yield gen.maybe_future(dispatch(*args))\n",
      "  File \"/homes/extern/andrade/store/miniconda3/envs/tf_gpu/lib/python3.6/site-packages/tornado/gen.py\", line 326, in wrapper\n",
      "    yielded = next(result)\n",
      "  File \"/homes/extern/andrade/store/miniconda3/envs/tf_gpu/lib/python3.6/site-packages/ipykernel/kernelbase.py\", line 267, in dispatch_shell\n",
      "    yield gen.maybe_future(handler(stream, idents, msg))\n",
      "  File \"/homes/extern/andrade/store/miniconda3/envs/tf_gpu/lib/python3.6/site-packages/tornado/gen.py\", line 326, in wrapper\n",
      "    yielded = next(result)\n",
      "  File \"/homes/extern/andrade/store/miniconda3/envs/tf_gpu/lib/python3.6/site-packages/ipykernel/kernelbase.py\", line 534, in execute_request\n",
      "    user_expressions, allow_stdin,\n",
      "  File \"/homes/extern/andrade/store/miniconda3/envs/tf_gpu/lib/python3.6/site-packages/tornado/gen.py\", line 326, in wrapper\n",
      "    yielded = next(result)\n",
      "  File \"/homes/extern/andrade/store/miniconda3/envs/tf_gpu/lib/python3.6/site-packages/ipykernel/ipkernel.py\", line 294, in do_execute\n",
      "    res = shell.run_cell(code, store_history=store_history, silent=silent)\n",
      "  File \"/homes/extern/andrade/store/miniconda3/envs/tf_gpu/lib/python3.6/site-packages/ipykernel/zmqshell.py\", line 536, in run_cell\n",
      "    return super(ZMQInteractiveShell, self).run_cell(*args, **kwargs)\n",
      "  File \"/homes/extern/andrade/store/miniconda3/envs/tf_gpu/lib/python3.6/site-packages/IPython/core/interactiveshell.py\", line 2823, in run_cell\n",
      "    self.events.trigger('post_run_cell', result)\n",
      "  File \"/homes/extern/andrade/store/miniconda3/envs/tf_gpu/lib/python3.6/site-packages/IPython/core/events.py\", line 88, in trigger\n",
      "    func(*args, **kwargs)\n",
      "  File \"/homes/extern/andrade/store/miniconda3/envs/tf_gpu/lib/python3.6/site-packages/ipykernel/pylab/backend_inline.py\", line 164, in configure_once\n",
      "    activate_matplotlib(backend)\n",
      "  File \"/homes/extern/andrade/store/miniconda3/envs/tf_gpu/lib/python3.6/site-packages/IPython/core/pylabtools.py\", line 314, in activate_matplotlib\n",
      "    matplotlib.pyplot.switch_backend(backend)\n",
      "  File \"/homes/extern/andrade/store/miniconda3/envs/tf_gpu/lib/python3.6/site-packages/matplotlib/pyplot.py\", line 231, in switch_backend\n",
      "    matplotlib.use(newbackend, warn=False, force=True)\n",
      "  File \"/homes/extern/andrade/store/miniconda3/envs/tf_gpu/lib/python3.6/site-packages/matplotlib/__init__.py\", line 1410, in use\n",
      "    reload(sys.modules['matplotlib.backends'])\n",
      "  File \"/homes/extern/andrade/store/miniconda3/envs/tf_gpu/lib/python3.6/importlib/__init__.py\", line 166, in reload\n",
      "    _bootstrap._exec(spec, module)\n",
      "  File \"/homes/extern/andrade/store/miniconda3/envs/tf_gpu/lib/python3.6/site-packages/matplotlib/backends/__init__.py\", line 16, in <module>\n",
      "    line for line in traceback.format_stack()\n",
      "\n",
      "\n",
      "  matplotlib.use('Agg')\n"
     ]
    },
    {
     "name": "stderr",
     "output_type": "stream",
     "text": [
      "../WF_inpaint/realphantom/realphantomWF_factory.py:9: UserWarning: \n",
      "This call to matplotlib.use() has no effect because the backend has already\n",
      "been chosen; matplotlib.use() must be called *before* pylab, matplotlib.pyplot,\n",
      "or matplotlib.backends is imported for the first time.\n",
      "\n",
      "The backend was *originally* set to 'module://ipykernel.pylab.backend_inline' by the following code:\n",
      "  File \"/homes/extern/andrade/store/miniconda3/envs/tf_gpu/lib/python3.6/runpy.py\", line 193, in _run_module_as_main\n",
      "    \"__main__\", mod_spec)\n",
      "  File \"/homes/extern/andrade/store/miniconda3/envs/tf_gpu/lib/python3.6/runpy.py\", line 85, in _run_code\n",
      "    exec(code, run_globals)\n",
      "  File \"/homes/extern/andrade/store/miniconda3/envs/tf_gpu/lib/python3.6/site-packages/ipykernel_launcher.py\", line 16, in <module>\n",
      "    app.launch_new_instance()\n",
      "  File \"/homes/extern/andrade/store/miniconda3/envs/tf_gpu/lib/python3.6/site-packages/traitlets/config/application.py\", line 658, in launch_instance\n",
      "    app.start()\n",
      "  File \"/homes/extern/andrade/store/miniconda3/envs/tf_gpu/lib/python3.6/site-packages/ipykernel/kernelapp.py\", line 505, in start\n",
      "    self.io_loop.start()\n",
      "  File \"/homes/extern/andrade/store/miniconda3/envs/tf_gpu/lib/python3.6/site-packages/tornado/platform/asyncio.py\", line 132, in start\n",
      "    self.asyncio_loop.run_forever()\n",
      "  File \"/homes/extern/andrade/store/miniconda3/envs/tf_gpu/lib/python3.6/asyncio/base_events.py\", line 438, in run_forever\n",
      "    self._run_once()\n",
      "  File \"/homes/extern/andrade/store/miniconda3/envs/tf_gpu/lib/python3.6/asyncio/base_events.py\", line 1451, in _run_once\n",
      "    handle._run()\n",
      "  File \"/homes/extern/andrade/store/miniconda3/envs/tf_gpu/lib/python3.6/asyncio/events.py\", line 145, in _run\n",
      "    self._callback(*self._args)\n",
      "  File \"/homes/extern/andrade/store/miniconda3/envs/tf_gpu/lib/python3.6/site-packages/tornado/ioloop.py\", line 758, in _run_callback\n",
      "    ret = callback()\n",
      "  File \"/homes/extern/andrade/store/miniconda3/envs/tf_gpu/lib/python3.6/site-packages/tornado/stack_context.py\", line 300, in null_wrapper\n",
      "    return fn(*args, **kwargs)\n",
      "  File \"/homes/extern/andrade/store/miniconda3/envs/tf_gpu/lib/python3.6/site-packages/tornado/gen.py\", line 1233, in inner\n",
      "    self.run()\n",
      "  File \"/homes/extern/andrade/store/miniconda3/envs/tf_gpu/lib/python3.6/site-packages/tornado/gen.py\", line 1147, in run\n",
      "    yielded = self.gen.send(value)\n",
      "  File \"/homes/extern/andrade/store/miniconda3/envs/tf_gpu/lib/python3.6/site-packages/ipykernel/kernelbase.py\", line 357, in process_one\n",
      "    yield gen.maybe_future(dispatch(*args))\n",
      "  File \"/homes/extern/andrade/store/miniconda3/envs/tf_gpu/lib/python3.6/site-packages/tornado/gen.py\", line 326, in wrapper\n",
      "    yielded = next(result)\n",
      "  File \"/homes/extern/andrade/store/miniconda3/envs/tf_gpu/lib/python3.6/site-packages/ipykernel/kernelbase.py\", line 267, in dispatch_shell\n",
      "    yield gen.maybe_future(handler(stream, idents, msg))\n",
      "  File \"/homes/extern/andrade/store/miniconda3/envs/tf_gpu/lib/python3.6/site-packages/tornado/gen.py\", line 326, in wrapper\n",
      "    yielded = next(result)\n",
      "  File \"/homes/extern/andrade/store/miniconda3/envs/tf_gpu/lib/python3.6/site-packages/ipykernel/kernelbase.py\", line 534, in execute_request\n",
      "    user_expressions, allow_stdin,\n",
      "  File \"/homes/extern/andrade/store/miniconda3/envs/tf_gpu/lib/python3.6/site-packages/tornado/gen.py\", line 326, in wrapper\n",
      "    yielded = next(result)\n",
      "  File \"/homes/extern/andrade/store/miniconda3/envs/tf_gpu/lib/python3.6/site-packages/ipykernel/ipkernel.py\", line 294, in do_execute\n",
      "    res = shell.run_cell(code, store_history=store_history, silent=silent)\n",
      "  File \"/homes/extern/andrade/store/miniconda3/envs/tf_gpu/lib/python3.6/site-packages/ipykernel/zmqshell.py\", line 536, in run_cell\n",
      "    return super(ZMQInteractiveShell, self).run_cell(*args, **kwargs)\n",
      "  File \"/homes/extern/andrade/store/miniconda3/envs/tf_gpu/lib/python3.6/site-packages/IPython/core/interactiveshell.py\", line 2823, in run_cell\n",
      "    self.events.trigger('post_run_cell', result)\n",
      "  File \"/homes/extern/andrade/store/miniconda3/envs/tf_gpu/lib/python3.6/site-packages/IPython/core/events.py\", line 88, in trigger\n",
      "    func(*args, **kwargs)\n",
      "  File \"/homes/extern/andrade/store/miniconda3/envs/tf_gpu/lib/python3.6/site-packages/ipykernel/pylab/backend_inline.py\", line 164, in configure_once\n",
      "    activate_matplotlib(backend)\n",
      "  File \"/homes/extern/andrade/store/miniconda3/envs/tf_gpu/lib/python3.6/site-packages/IPython/core/pylabtools.py\", line 314, in activate_matplotlib\n",
      "    matplotlib.pyplot.switch_backend(backend)\n",
      "  File \"/homes/extern/andrade/store/miniconda3/envs/tf_gpu/lib/python3.6/site-packages/matplotlib/pyplot.py\", line 231, in switch_backend\n",
      "    matplotlib.use(newbackend, warn=False, force=True)\n",
      "  File \"/homes/extern/andrade/store/miniconda3/envs/tf_gpu/lib/python3.6/site-packages/matplotlib/__init__.py\", line 1410, in use\n",
      "    reload(sys.modules['matplotlib.backends'])\n",
      "  File \"/homes/extern/andrade/store/miniconda3/envs/tf_gpu/lib/python3.6/importlib/__init__.py\", line 166, in reload\n",
      "    _bootstrap._exec(spec, module)\n",
      "  File \"/homes/extern/andrade/store/miniconda3/envs/tf_gpu/lib/python3.6/site-packages/matplotlib/backends/__init__.py\", line 16, in <module>\n",
      "    line for line in traceback.format_stack()\n",
      "\n",
      "\n",
      "  matplotlib.use('Agg')\n"
     ]
    }
   ],
   "source": [
    "# Import the needed modules\n",
    "from data.data_factory import random_realphantom\n",
    "from ellipse.ellipseWF_factory import plot_WF, WFupdate, WFupdate_sino\n",
    "\n",
    "import matplotlib.pyplot as plt\n",
    "import numpy.random as rnd\n",
    "import numpy as np\n",
    "import odl\n",
    "import matplotlib.pyplot as plt"
   ]
  },
  {
   "cell_type": "markdown",
   "metadata": {},
   "source": [
    "### Real phantom with WFset generation full and low dose"
   ]
  },
  {
   "cell_type": "code",
   "execution_count": 10,
   "metadata": {},
   "outputs": [],
   "source": [
    "size = 256\n",
    "nClasses = 180\n",
    "lowd = 180\n",
    "wedge = 40"
   ]
  },
  {
   "cell_type": "code",
   "execution_count": 11,
   "metadata": {},
   "outputs": [],
   "source": [
    "nRegions = np.random.randint(5,10)\n",
    "npoints_max = np.random.randint(8,15)\n",
    "realphantom, WFpoints, WFclasses,  WFimage = random_realphantom(size, nRegions, npoints_max, nClasses)\n",
    "\n",
    "# Compute low dose WF image\n",
    "angles_lowd = np.array([i for i in range(0,180,int(180/lowd))])\n",
    "# Extracting the wavefront set orientations in the low dose\n",
    "angles_gt = (np.array(WFclasses).astype(int)[:,0]-1)\n",
    "angles_gt_lowd = np.array([angle in angles_lowd for angle in angles_gt])\n",
    "# Generating the new WFpoints and classes\n",
    "WFpoints_lowd = WFpoints[angles_gt_lowd]\n",
    "WFclasses_lowd = list(np.array(WFclasses)[angles_gt_lowd])\n",
    "# Generating the low dose WFimage\n",
    "WFimage_lowd = np.zeros([size,size])\n",
    "WFimage_lowd = WFupdate(WFpoints_lowd, WFclasses_lowd, WFimage_lowd)"
   ]
  },
  {
   "cell_type": "code",
   "execution_count": 12,
   "metadata": {},
   "outputs": [
    {
     "data": {
      "text/plain": [
       "<matplotlib.image.AxesImage at 0x2b56e6ae1c88>"
      ]
     },
     "execution_count": 12,
     "metadata": {},
     "output_type": "execute_result"
    },
    {
     "data": {
      "image/png": "[encoded data removed]",
      "text/plain": [
       "<Figure size 432x432 with 1 Axes>"
      ]
     },
     "metadata": {
      "needs_background": "light"
     },
     "output_type": "display_data"
    }
   ],
   "source": [
    "plt.figure(figsize = (6,6))\n",
    "plt.axis(\"off\")\n",
    "plt.imshow(realphantom, cmap=\"gray\")"
   ]
  },
  {
   "cell_type": "code",
   "execution_count": 13,
   "metadata": {},
   "outputs": [
    {
     "data": {
      "text/plain": [
       "<matplotlib.image.AxesImage at 0x2b56e6884908>"
      ]
     },
     "execution_count": 13,
     "metadata": {},
     "output_type": "execute_result"
    },
    {
     "data": {
      "image/png": "[encoded data removed]",
      "text/plain": [
       "<Figure size 432x432 with 1 Axes>"
      ]
     },
     "metadata": {
      "needs_background": "light"
     },
     "output_type": "display_data"
    }
   ],
   "source": [
    "plt.figure(figsize = (6,6))\n",
    "plt.axis(\"off\")\n",
    "plot_WF(WFimage)"
   ]
  },
  {
   "cell_type": "code",
   "execution_count": 14,
   "metadata": {},
   "outputs": [
    {
     "data": {
      "text/plain": [
       "<matplotlib.image.AxesImage at 0x2b56e68cdac8>"
      ]
     },
     "execution_count": 14,
     "metadata": {},
     "output_type": "execute_result"
    },
    {
     "data": {
      "image/png": "[encoded data removed]",
      "text/plain": [
       "<Figure size 432x432 with 1 Axes>"
      ]
     },
     "metadata": {
      "needs_background": "light"
     },
     "output_type": "display_data"
    }
   ],
   "source": [
    "plt.figure(figsize = (6,6))\n",
    "plt.axis(\"off\")\n",
    "plot_WF(WFimage_lowd)"
   ]
  },
  {
   "cell_type": "markdown",
   "metadata": {},
   "source": [
    "### Sinogram of real phantom with WFset generation with full and lowd"
   ]
  },
  {
   "cell_type": "code",
   "execution_count": 15,
   "metadata": {},
   "outputs": [],
   "source": [
    "from ray_transform.canon_relation import (point_img2sino, class_img2sino, CanRel_img2sino, \n",
    "                                         point_sino2img, CanRel_sino2img)"
   ]
  },
  {
   "cell_type": "code",
   "execution_count": 16,
   "metadata": {},
   "outputs": [],
   "source": [
    "# Create ODL data structures\n",
    "space = odl.uniform_discr([-int(size/2), -int(size/2)], [int(size/2), int(size/2)], [size, size],\n",
    "                          dtype='float32')"
   ]
  },
  {
   "cell_type": "code",
   "execution_count": 17,
   "metadata": {},
   "outputs": [],
   "source": [
    "size = 256\n",
    "detector_sample = size\n",
    "impl = 'astra_cuda'"
   ]
  },
  {
   "cell_type": "code",
   "execution_count": 18,
   "metadata": {},
   "outputs": [],
   "source": [
    "angle_partition_lowd = odl.uniform_partition(0,np.pi,lowd,nodes_on_bdry=True)\n",
    "angle_partition = odl.uniform_partition(0,np.pi,180,nodes_on_bdry=True)"
   ]
  },
  {
   "cell_type": "code",
   "execution_count": null,
   "metadata": {},
   "outputs": [],
   "source": [
    "n_angles = int((180 - 2 * wedge))\n",
    "n_angles = math.floor(n_angles)"
   ]
  },
  {
   "cell_type": "code",
   "execution_count": null,
   "metadata": {},
   "outputs": [],
   "source": [
    "wedge_pi = wedge * np.pi/180"
   ]
  },
  {
   "cell_type": "code",
   "execution_count": null,
   "metadata": {},
   "outputs": [],
   "source": [
    "angle_partition_wedge = odl.uniform_partition(wedge_pi, np.pi-wedge_pi,n_angles, nodes_on_bdry=True)\n",
    "\n",
    "angle_partition = odl.uniform_partition(0,np.pi,180,nodes_on_bdry=True)"
   ]
  },
  {
   "cell_type": "code",
   "execution_count": null,
   "metadata": {},
   "outputs": [],
   "source": [
    "detector_partition = odl.uniform_partition(-int(size/2),int(size/2),\n",
    "                                               detector_sample,\n",
    "                                               nodes_on_bdry=True)"
   ]
  },
  {
   "cell_type": "code",
   "execution_count": null,
   "metadata": {},
   "outputs": [],
   "source": [
    "geometry = odl.tomo.Parallel2dGeometry(angle_partition, detector_partition)\n",
    "geometry_wedge = odl.tomo.Parallel2dGeometry(angle_partition_wedge, detector_partition)\n"
   ]
  },
  {
   "cell_type": "code",
   "execution_count": null,
   "metadata": {},
   "outputs": [],
   "source": [
    "operator = odl.tomo.RayTransform(space, geometry, impl=impl)\n",
    "opnorm = odl.power_method_opnorm(operator)\n",
    "operator = (1 / opnorm) * operator"
   ]
  },
  {
   "cell_type": "code",
   "execution_count": null,
   "metadata": {},
   "outputs": [],
   "source": [
    "operator_wedge = odl.tomo.RayTransform(space, geometry_wedge, impl=impl)\n",
    "opnorm_wedge = odl.power_method_opnorm(operator_wedge)\n",
    "operator_wedge = (1 / opnorm_wedge) * operator_wedge"
   ]
  },
  {
   "cell_type": "code",
   "execution_count": null,
   "metadata": {},
   "outputs": [],
   "source": [
    "# Full dose sinogram\n",
    "sinogram = np.array(operator(space.element(realphantom)))"
   ]
  },
  {
   "cell_type": "code",
   "execution_count": null,
   "metadata": {},
   "outputs": [],
   "source": [
    "# Low dose sinogram\n",
    "sinogram_wedge= np.array(operator_wedge(space.element(realphantom)))"
   ]
  },
  {
   "cell_type": "code",
   "execution_count": null,
   "metadata": {},
   "outputs": [
    {
     "data": {
      "text/plain": [
       "<matplotlib.image.AxesImage at 0x2b56e6a90f98>"
      ]
     },
     "execution_count": 28,
     "metadata": {},
     "output_type": "execute_result"
    },
    {
     "data": {
      "image/png": "[encoded data removed]",
      "text/plain": [
       "<Figure size 432x432 with 1 Axes>"
      ]
     },
     "metadata": {
      "needs_background": "light"
     },
     "output_type": "display_data"
    }
   ],
   "source": [
    "plt.figure(figsize = (6,6))\n",
    "plt.axis(\"off\")\n",
    "plt.imshow(sinogram , cmap=\"gray\")"
   ]
  },
  {
   "cell_type": "code",
   "execution_count": null,
   "metadata": {},
   "outputs": [
    {
     "data": {
      "text/plain": [
       "<matplotlib.image.AxesImage at 0x2b56e69cb7b8>"
      ]
     },
     "execution_count": 29,
     "metadata": {},
     "output_type": "execute_result"
    },
    {
     "data": {
      "image/png": "[encoded data removed]",
      "text/plain": [
       "<Figure size 432x432 with 1 Axes>"
      ]
     },
     "metadata": {
      "needs_background": "light"
     },
     "output_type": "display_data"
    }
   ],
   "source": [
    "plt.figure(figsize = (6,6))\n",
    "plt.axis(\"off\")\n",
    "plt.imshow(sinogram_wedge , cmap=\"gray\")"
   ]
  },
  {
   "cell_type": "markdown",
   "metadata": {},
   "source": [
    "## Learned primal dual"
   ]
  },
  {
   "cell_type": "code",
   "execution_count": null,
   "metadata": {},
   "outputs": [],
   "source": [
    "# Create tensorflow layer from odl operator\n",
    "odl_op_layer = odl.contrib.tensorflow.as_tensorflow_layer(operator,\n",
    "                                                          'RayTransform')\n",
    "odl_op_layer_adjoint = odl.contrib.tensorflow.as_tensorflow_layer(operator.adjoint,\n",
    "                                                                  'RayTransformAdjoint')"
   ]
  },
  {
   "cell_type": "code",
   "execution_count": null,
   "metadata": {},
   "outputs": [],
   "source": [
    "# User selected paramters\n",
    "n_data = 5\n",
    "n_iter = 10\n",
    "n_primal = 5\n",
    "n_dual = 5"
   ]
  },
  {
   "cell_type": "markdown",
   "metadata": {},
   "source": [
    "## Data generator for CT recon"
   ]
  },
  {
   "cell_type": "code",
   "execution_count": null,
   "metadata": {},
   "outputs": [],
   "source": [
    "size = 256\n",
    "nClasses = 180\n",
    "lowd = 0\n",
    "wedge = 40\n",
    "nRegions = np.random.randint(5,10)\n",
    "npoints_max = np.random.randint(8,15)"
   ]
  },
  {
   "cell_type": "code",
   "execution_count": null,
   "metadata": {},
   "outputs": [],
   "source": [
    "batch_size = 5\n",
    "n_iter = 10\n",
    "n_primal = 5\n",
    "n_dual = 5"
   ]
  },
  {
   "cell_type": "code",
   "execution_count": null,
   "metadata": {},
   "outputs": [],
   "source": [
    "def generate_data_CT(validation=False):\n",
    "    \"\"\"Generate a set of random data.\"\"\"\n",
    "    if validation:\n",
    "        n_generate = 1\n",
    "    else: \n",
    "        n_generate = batch_size\n",
    "\n",
    "    y_arr = np.empty((n_generate, operator_wedge.range.shape[0], operator_wedge.range.shape[1], 1), dtype='float32')\n",
    "    x_true_arr = np.empty((n_generate, space.shape[0], space.shape[1], 1), dtype='float32')\n",
    "\n",
    "    for i in range(n_generate):\n",
    "        if validation:\n",
    "            phantom = odl.phantom.shepp_logan(space, True)\n",
    "        else:\n",
    "            phantom, _, _,  _ = random_realphantom(size, nRegions, npoints_max, nClasses)\n",
    "        data = operator_wedge(phantom)\n",
    "        noisy_data = data + odl.phantom.white_noise(operator_wedge.range) * np.mean(np.abs(data)) * 0.05\n",
    "\n",
    "        x_true_arr[i, ..., 0] = phantom\n",
    "        y_arr[i, ..., 0] = noisy_data\n",
    "\n",
    "    return y_arr, x_true_arr"
   ]
  },
  {
   "cell_type": "code",
   "execution_count": null,
   "metadata": {},
   "outputs": [],
   "source": [
    "y_arr, x_true_arr = generate_data_CT()"
   ]
  },
  {
   "cell_type": "code",
   "execution_count": null,
   "metadata": {},
   "outputs": [
    {
     "data": {
      "text/plain": [
       "<matplotlib.image.AxesImage at 0x2b56f5354908>"
      ]
     },
     "execution_count": 36,
     "metadata": {},
     "output_type": "execute_result"
    },
    {
     "data": {
      "image/png": "[encoded data removed]",
      "text/plain": [
       "<Figure size 432x432 with 1 Axes>"
      ]
     },
     "metadata": {
      "needs_background": "light"
     },
     "output_type": "display_data"
    }
   ],
   "source": [
    "plt.figure(figsize = (6,6))\n",
    "plt.axis(\"off\")\n",
    "plt.imshow(y_arr[0,:,:,0], cmap=\"gray\")"
   ]
  },
  {
   "cell_type": "code",
   "execution_count": null,
   "metadata": {},
   "outputs": [
    {
     "data": {
      "text/plain": [
       "<matplotlib.image.AxesImage at 0x2b56f5398668>"
      ]
     },
     "execution_count": 37,
     "metadata": {},
     "output_type": "execute_result"
    },
    {
     "data": {
      "image/png": "[encoded data removed]",
      "text/plain": [
       "<Figure size 432x432 with 1 Axes>"
      ]
     },
     "metadata": {
      "needs_background": "light"
     },
     "output_type": "display_data"
    }
   ],
   "source": [
    "plt.figure(figsize = (6,6))\n",
    "plt.axis(\"off\")\n",
    "plt.imshow(x_true_arr[0,:,:,0], cmap=\"gray\")"
   ]
  },
  {
   "cell_type": "markdown",
   "metadata": {},
   "source": [
    "## Learned primal dual model"
   ]
  },
  {
   "cell_type": "code",
   "execution_count": null,
   "metadata": {},
   "outputs": [],
   "source": [
    "# Create tensorflow layer from odl operator\n",
    "odl_op_layer = odl.contrib.tensorflow.as_tensorflow_layer(operator_wedge,\n",
    "                                                          'RayTransform')\n",
    "odl_op_layer_adjoint = odl.contrib.tensorflow.as_tensorflow_layer(operator_wedge.adjoint,\n",
    "                                                                  'RayTransformAdjoint')"
   ]
  },
  {
   "cell_type": "code",
   "execution_count": null,
   "metadata": {},
   "outputs": [],
   "source": [
    "with tf.name_scope('placeholders'):\n",
    "    x_true = tf.placeholder(tf.float32, shape=[None, size, size, 1], name=\"x_true\")\n",
    "    y_rt = tf.placeholder(tf.float32, shape=[None, operator_wedge.range.shape[0], operator_wedge.range.shape[1], 1], name=\"y_rt\")\n",
    "    is_training = tf.placeholder(tf.bool, shape=(), name='is_training')"
   ]
  },
  {
   "cell_type": "code",
   "execution_count": null,
   "metadata": {},
   "outputs": [],
   "source": [
    "def apply_conv(x, filters=32):\n",
    "    return tf.layers.conv2d(x, filters=filters, kernel_size=3, padding='SAME',\n",
    "                            kernel_initializer=tf.contrib.layers.xavier_initializer(), use_bias=False)"
   ]
  },
  {
   "cell_type": "code",
   "execution_count": null,
   "metadata": {},
   "outputs": [],
   "source": [
    "relu = tf.nn.relu"
   ]
  },
  {
   "cell_type": "code",
   "execution_count": null,
   "metadata": {},
   "outputs": [],
   "source": [
    "with tf.name_scope('tomography'):\n",
    "    with tf.name_scope('initial_values'):\n",
    "        primal = tf.concat([tf.zeros_like(x_true)] * n_primal, axis=-1)\n",
    "        dual = tf.concat([tf.zeros_like(y_rt)] * n_dual, axis=-1)\n",
    "\n",
    "    for i in range(n_iter):\n",
    "        with tf.variable_scope('dual_iterate_{}'.format(i)):\n",
    "            evalop = odl_op_layer(primal[..., 1:2])\n",
    "            update = tf.concat([dual, evalop, y_rt], axis=-1)\n",
    "\n",
    "            #update = prelu(apply_conv(update), name='prelu_1')\n",
    "            #update = prelu(apply_conv(update), name='prelu_2')\n",
    "            update = relu(apply_conv(update), name='relu_1')\n",
    "            update = relu(apply_conv(update), name='relu_2')            \n",
    "            update = apply_conv(update, filters=n_dual)\n",
    "            dual = dual + update\n",
    "\n",
    "        with tf.variable_scope('primal_iterate_{}'.format(i)):\n",
    "            evalop = odl_op_layer_adjoint(dual[..., 0:1])\n",
    "            update = tf.concat([primal, evalop], axis=-1)\n",
    "\n",
    "            update = relu(apply_conv(update), name='relu_1')\n",
    "            update = relu(apply_conv(update), name='relu_2')\n",
    "            update = apply_conv(update, filters=n_primal)\n",
    "            primal = primal + update\n",
    "\n",
    "    x_result = primal[..., 0:1]"
   ]
  },
  {
   "cell_type": "markdown",
   "metadata": {},
   "source": [
    "### Wavefront set microlocal propagation"
   ]
  },
  {
   "cell_type": "code",
   "execution_count": null,
   "metadata": {},
   "outputs": [],
   "source": [
    "# Get access to the graph\n",
    "gr = tf.get_default_graph()"
   ]
  },
  {
   "cell_type": "code",
   "execution_count": null,
   "metadata": {},
   "outputs": [],
   "source": [
    "names_variables = [variable.name for variable in tf.global_variables()]"
   ]
  },
  {
   "cell_type": "code",
   "execution_count": null,
   "metadata": {},
   "outputs": [],
   "source": [
    "iterate = 0\n",
    "conv_layer = 0\n",
    "dual_layer = True"
   ]
  },
  {
   "cell_type": "code",
   "execution_count": null,
   "metadata": {},
   "outputs": [],
   "source": [
    "## Defining intial values\n",
    "sinogram_wedge_tf = tf.constant(sinogram_wedge[np.newaxis, :,:, np.newaxis],\n",
    "                              dtype = tf.float32)\n",
    "realphantom_tf = tf.constant(realphantom[np.newaxis, :,:, np.newaxis],\n",
    "                              dtype = tf.float32);\n",
    "\n",
    "# Initial values of the recon and data\n",
    "x_true = realphantom_tf \n",
    "y_rt = sinogram_lowd_tf;\n",
    "\n",
    "# Initial value of the primal, dual, update, evalop\n",
    "primal = tf.concat([tf.zeros_like(x_true)] * n_primal, axis=-1)\n",
    "dual = tf.concat([tf.zeros_like(y_rt)] * n_dual, axis=-1)\n",
    "evalop = odl_op_layer(primal[..., 1:2])\n",
    "update = tf.concat([dual, evalop, y_rt], axis=-1)\n",
    "\n",
    "# Initial value of WFset\n",
    "WFset = WFimage_sino_lowd"
   ]
  },
  {
   "cell_type": "code",
   "execution_count": null,
   "metadata": {},
   "outputs": [],
   "source": [
    "radon = operator_lowd\n",
    "n_batch = update.shape[0]\n",
    "n_channels =  32\n",
    "WFset_f = np.repeat(WFset[np.newaxis,:,:],n_batch, axis=0)\n",
    "WFset_f = np.repeat(WFset_f[:,:,:, np.newaxis],n_channels, axis=3)"
   ]
  },
  {
   "cell_type": "code",
   "execution_count": null,
   "metadata": {},
   "outputs": [],
   "source": [
    "for iterate in range(10)\n",
    "    name_kernel, conv_relu_1, WFset_ReLUf_1 = ReLU_microlocal(update, radon, WFset_f, gr, iterate, conv_layer, dual_layer)\n",
    "    WFset = (WFset_ReLUf_1[0,:,:,0])\n",
    "    WFclasses_sino = [np.array([int(round(WFset[WFpoints_sino[i,1],WFpoints_sino[i,0]]))]) \n",
    "                      for i in range(WFpoints_sino.shape[0])]\n",
    "\n",
    "    ## Upscaling WFpoints_sino_lowd\n",
    "    WFpoints_sino_up = WFpoints_sino.copy()\n",
    "    WFpoints_sino_up[:,1] = WFpoints_sino_up[:,1]*180/lowd\n",
    "    WFclasses_sino_up = WFclasses_sino\n",
    "    WFpoints_canon, WFclasses_canon = CanRel_sino2img(WFpoints_sino_up, WFclasses_sino_up, size, (180,sinogram_shape[1]) , num_angles = lowd)\n",
    "    WFpoints_canon = WFpoints_canon.astype(int)\n",
    "    indxs_inside = ((WFpoints_canon[:,0]<=size)*(WFpoints_canon[:,1]<=size)\n",
    "               *(WFpoints_canon[:,0]>0)*(WFpoints_canon[:,1]>0))\n",
    "    WFpoints_canon = WFpoints_canon[indxs_inside]\n",
    "    WFclases_canon = list(np.array(WFclasses_canon)[indxs_inside])\n",
    "    WFimage_canon = np.zeros([size,size])\n",
    "    WFimage_canon = WFupdate(WFpoints_canon, WFclasses_canon, WFimage_canon)"
   ]
  },
  {
   "cell_type": "markdown",
   "metadata": {},
   "source": [
    "### UNet wavefront set inpainting"
   ]
  },
  {
   "cell_type": "code",
   "execution_count": null,
   "metadata": {},
   "outputs": [],
   "source": [
    "# Import model and custom losses\n",
    "from models.unet import UNet\n",
    "from models.losses import CUSTOM_OBJECTS"
   ]
  },
  {
   "cell_type": "code",
   "execution_count": null,
   "metadata": {},
   "outputs": [],
   "source": [
    "# Parameters for the training\n",
    "learning_rate = 1e-3\n",
    "loss = 'mae'\n",
    "batch_size = 50\n",
    "epoches = 10000"
   ]
  },
  {
   "cell_type": "code",
   "execution_count": null,
   "metadata": {},
   "outputs": [],
   "source": [
    "pretrained = 1\n",
    "path_to_model_dir = '../WF_inpaint/models/unets_realphantom_WFinpaint/training_5'"
   ]
  },
  {
   "cell_type": "code",
   "execution_count": null,
   "metadata": {},
   "outputs": [],
   "source": [
    "# Data generator\n",
    "size = 256\n",
    "nClasses = 180\n",
    "wedge = 40\n",
    "train_gen = DataGenerator_realphantom_WFinpaint(batch_size, size, nClasses, lowd)\n",
    "val_gen = DataGenerator_realphantom_WFinpaint(batch_size, size, nClasses, lowd)"
   ]
  },
  {
   "cell_type": "code",
   "execution_count": null,
   "metadata": {},
   "outputs": [],
   "source": [
    "if pretrained==0:\n",
    "    # Create a fresh model\n",
    "    print(\"Create a fresh model\")\n",
    "    unet = UNet()\n",
    "    inpainter = unet.create_model( img_shape = (size, size, 1) , loss = loss, learning_rate = learning_rate)\n",
    "    path_to_training = create_increasing_dir('../models/unets_realphantom_WFinpaint', 'training')\n",
    "    print(\"Save training in {}\".format(path_to_training))\n",
    "    path_to_model_dir = path_to_training\n",
    "    \n",
    "else: \n",
    "    print(\"Use trained model as initialization:\")\n",
    "    print(path_to_model_dir+\"/weights.hdf5\")\n",
    "    inpainter = load_model(path_to_model_dir+\"/weights.hdf5\",\n",
    "                       custom_objects=CUSTOM_OBJECTS)\n",
    "    path_to_training = path_to_model_dir"
   ]
  },
  {
   "cell_type": "markdown",
   "metadata": {},
   "source": [
    "### Training the joint model"
   ]
  },
  {
   "cell_type": "code",
   "execution_count": null,
   "metadata": {},
   "outputs": [],
   "source": [
    "with tf.name_scope('loss'):\n",
    "    residual = x_result - x_true\n",
    "    squared_error = residual ** 2\n",
    "    loss = 0.5*tf.reduce_mean(squared_error)+0.5*tf.reduce_mean(inpainter(WFimage_canon),WFimage)"
   ]
  },
  {
   "cell_type": "code",
   "execution_count": null,
   "metadata": {},
   "outputs": [],
   "source": [
    "with tf.name_scope('optimizer'):\n",
    "    # Learning rate\n",
    "    global_step = tf.Variable(0, trainable=False)\n",
    "    maximum_steps = 100001\n",
    "    starter_learning_rate = 1e-3\n",
    "    learning_rate = cosine_decay(starter_learning_rate,\n",
    "                                 global_step,\n",
    "                                 maximum_steps,\n",
    "                                 name='learning_rate')\n",
    "\n",
    "    update_ops = tf.get_collection(tf.GraphKeys.UPDATE_OPS)\n",
    "    with tf.control_dependencies(update_ops):\n",
    "        opt_func = tf.train.AdamOptimizer(learning_rate=learning_rate,\n",
    "                                          beta2=0.99)\n",
    "\n",
    "        tvars = tf.trainable_variables()\n",
    "        grads, _ = tf.clip_by_global_norm(tf.gradients(loss, tvars), 1)\n",
    "        optimizer = opt_func.apply_gradients(zip(grads, tvars),\n",
    "                                             global_step=global_step)"
   ]
  },
  {
   "cell_type": "code",
   "execution_count": null,
   "metadata": {},
   "outputs": [],
   "source": [
    "ckp_name = name+'_ds'+str(detector_sample)+'_wedge'+str(wedge)+'/checkpoints'"
   ]
  },
  {
   "cell_type": "code",
   "execution_count": null,
   "metadata": {},
   "outputs": [
    {
     "data": {
      "text/plain": [
       "'/store/kepler/datastore/andrade/GitHub_repos/Joint_CTWF_Recon/Joint_CT_WFset_inpaint/checkpoints_ds256_wedge20/checkpoints'"
      ]
     },
     "execution_count": 46,
     "metadata": {},
     "output_type": "execute_result"
    }
   ],
   "source": [
    "adler.tensorflow.util.default_tensorboard_dir(ckp_name)"
   ]
  },
  {
   "cell_type": "code",
   "execution_count": null,
   "metadata": {},
   "outputs": [],
   "source": [
    "# Summaries\n",
    "# tensorboard --logdir=...\n",
    "\n",
    "with tf.name_scope('summaries'):\n",
    "    tf.summary.scalar('loss', loss)\n",
    "    tf.summary.scalar('psnr', -10 * tf.log(loss) / tf.log(10.0))\n",
    "\n",
    "    tf.summary.image('x_result', x_result)\n",
    "    tf.summary.image('x_true', x_true)\n",
    "    tf.summary.image('squared_error', squared_error)\n",
    "    tf.summary.image('residual', residual)\n",
    "\n",
    "    merged_summary = tf.summary.merge_all()\n",
    "    test_summary_writer = tf.summary.FileWriter(adler.tensorflow.util.default_tensorboard_dir(ckp_name) + '/test',\n",
    "                                                sess.graph)\n",
    "    train_summary_writer = tf.summary.FileWriter(adler.tensorflow.util.default_tensorboard_dir(ckp_name) + '/train')"
   ]
  },
  {
   "cell_type": "code",
   "execution_count": null,
   "metadata": {},
   "outputs": [],
   "source": [
    "# Initialize all TF variables\n",
    "sess.run(tf.global_variables_initializer())"
   ]
  },
  {
   "cell_type": "code",
   "execution_count": null,
   "metadata": {},
   "outputs": [],
   "source": [
    "# Generate validation data\n",
    "y_arr_validate, x_true_arr_validate = generate_data_CT(validation=True)"
   ]
  },
  {
   "cell_type": "code",
   "execution_count": null,
   "metadata": {},
   "outputs": [],
   "source": [
    "# Add op to save and restore\n",
    "saver = tf.train.Saver()"
   ]
  },
  {
   "cell_type": "code",
   "execution_count": null,
   "metadata": {},
   "outputs": [],
   "source": [
    "if 1:\n",
    "    saver.restore(sess,\n",
    "                  adler.tensorflow.util.default_checkpoint_path(ckp_name))"
   ]
  },
  {
   "cell_type": "markdown",
   "metadata": {},
   "source": [
    "Train the network"
   ]
  },
  {
   "cell_type": "code",
   "execution_count": null,
   "metadata": {},
   "outputs": [
    {
     "name": "stdout",
     "output_type": "stream",
     "text": [
      "iter=39012, loss=0.006564710754901171\n",
      "iter=39022, loss=0.006493696942925453\n",
      "iter=39032, loss=0.00628089252859354\n",
      "iter=39042, loss=0.006089935079216957\n",
      "iter=39052, loss=0.006228002719581127\n",
      "iter=39062, loss=0.006138068623840809\n",
      "iter=39072, loss=0.00629973690956831\n",
      "iter=39082, loss=0.006259249523282051\n",
      "iter=39092, loss=0.006273040547966957\n",
      "iter=39102, loss=0.006205106154084206\n",
      "iter=39112, loss=0.00617645587772131\n",
      "iter=39122, loss=0.006131378933787346\n",
      "iter=39132, loss=0.006151085719466209\n",
      "iter=39142, loss=0.0061602238565683365\n",
      "iter=39152, loss=0.006257812492549419\n",
      "iter=39162, loss=0.006290004588663578\n",
      "iter=39172, loss=0.006271878723055124\n",
      "iter=39182, loss=0.006014942657202482\n",
      "iter=39192, loss=0.005917376838624477\n",
      "iter=39202, loss=0.006017561070621014\n",
      "iter=39212, loss=0.005954340100288391\n",
      "iter=39222, loss=0.005817890632897615\n",
      "iter=39232, loss=0.005854737013578415\n",
      "iter=39242, loss=0.005890253931283951\n",
      "iter=39252, loss=0.00594533234834671\n",
      "iter=39262, loss=0.005997614935040474\n",
      "iter=39272, loss=0.005965896416455507\n",
      "iter=39282, loss=0.005949466954916716\n",
      "iter=39292, loss=0.006004756782203913\n",
      "iter=39302, loss=0.0058972835540771484\n",
      "iter=39312, loss=0.0058061289601027966\n",
      "iter=39322, loss=0.005898849107325077\n",
      "iter=39332, loss=0.006000639870762825\n",
      "iter=39342, loss=0.0059549687430262566\n",
      "iter=39352, loss=0.005946007557213306\n",
      "iter=39362, loss=0.005951486993581057\n",
      "iter=39372, loss=0.006214987952262163\n",
      "iter=39382, loss=0.005956349428743124\n",
      "iter=39392, loss=0.005685899406671524\n",
      "iter=39402, loss=0.005708654411137104\n",
      "iter=39412, loss=0.005673866719007492\n",
      "iter=39422, loss=0.005894246511161327\n",
      "iter=39432, loss=0.006017937324941158\n",
      "iter=39442, loss=0.00575721450150013\n",
      "iter=39452, loss=0.006487359292805195\n",
      "iter=39462, loss=0.006148127838969231\n",
      "iter=39472, loss=0.005976772867143154\n",
      "iter=39482, loss=0.005683353170752525\n",
      "iter=39492, loss=0.005444054491817951\n",
      "iter=39502, loss=0.005420275032520294\n",
      "iter=39512, loss=0.005454519763588905\n",
      "iter=39522, loss=0.005595250520855188\n",
      "iter=39532, loss=0.0055511221289634705\n",
      "iter=39542, loss=0.005626843310892582\n",
      "iter=39552, loss=0.005735909100621939\n",
      "iter=39562, loss=0.005879298318177462\n",
      "iter=39572, loss=0.005934590939432383\n",
      "iter=39582, loss=0.005937092937529087\n",
      "iter=39592, loss=0.00583575339987874\n",
      "iter=39602, loss=0.0057544284500181675\n",
      "iter=39612, loss=0.005733715370297432\n",
      "iter=39622, loss=0.005635095294564962\n",
      "iter=39632, loss=0.005528363864868879\n",
      "iter=39642, loss=0.005541191436350346\n",
      "iter=39652, loss=0.005687523167580366\n",
      "iter=39662, loss=0.0059386505745351315\n",
      "iter=39672, loss=0.005708920769393444\n",
      "iter=39682, loss=0.005707257892936468\n",
      "iter=39692, loss=0.005759223829954863\n",
      "iter=39702, loss=0.005783571861684322\n",
      "iter=39712, loss=0.005812840536236763\n",
      "iter=39722, loss=0.005876557435840368\n",
      "iter=39732, loss=0.005982640199363232\n",
      "iter=39742, loss=0.006033200770616531\n",
      "iter=39752, loss=0.005939440801739693\n",
      "iter=39762, loss=0.005734930280596018\n",
      "iter=39772, loss=0.005886885803192854\n",
      "iter=39782, loss=0.005814326927065849\n",
      "iter=39792, loss=0.00592401996254921\n",
      "iter=39802, loss=0.005913642235100269\n",
      "iter=39812, loss=0.006003360729664564\n",
      "iter=39822, loss=0.0060455333441495895\n",
      "iter=39832, loss=0.005952011793851852\n",
      "iter=39842, loss=0.0059358966536819935\n",
      "iter=39852, loss=0.005963432602584362\n",
      "iter=39862, loss=0.005822972394526005\n",
      "iter=39872, loss=0.005755324847996235\n",
      "iter=39882, loss=0.005730634555220604\n",
      "iter=39892, loss=0.005681069567799568\n",
      "iter=39902, loss=0.005747268907725811\n",
      "iter=39912, loss=0.005973488092422485\n",
      "iter=39922, loss=0.005901637487113476\n",
      "iter=39932, loss=0.005742659326642752\n",
      "iter=39942, loss=0.005668883211910725\n",
      "iter=39952, loss=0.0056433966383337975\n",
      "iter=39962, loss=0.005621282383799553\n",
      "iter=39972, loss=0.005623539909720421\n",
      "iter=39982, loss=0.005786546505987644\n",
      "iter=39992, loss=0.00576563086360693\n",
      "iter=40002, loss=0.005803821608424187\n",
      "iter=40012, loss=0.005855051800608635\n",
      "iter=40022, loss=0.005993709899485111\n",
      "iter=40032, loss=0.005868071690201759\n",
      "iter=40042, loss=0.005743158981204033\n",
      "iter=40052, loss=0.005552652757614851\n",
      "iter=40062, loss=0.005663570016622543\n",
      "iter=40072, loss=0.005672609433531761\n",
      "iter=40082, loss=0.0057355365715920925\n",
      "iter=40092, loss=0.005720602348446846\n",
      "iter=40102, loss=0.005784326232969761\n",
      "iter=40112, loss=0.005757705308496952\n",
      "iter=40122, loss=0.005729475058615208\n",
      "iter=40132, loss=0.005700009409338236\n",
      "iter=40142, loss=0.005708071868866682\n",
      "iter=40152, loss=0.006406489759683609\n",
      "iter=40162, loss=0.0063502672128379345\n",
      "iter=40172, loss=0.006212498992681503\n",
      "iter=40182, loss=0.006044645793735981\n",
      "iter=40192, loss=0.005988328251987696\n",
      "iter=40202, loss=0.005880877375602722\n",
      "iter=40212, loss=0.005773339886218309\n",
      "iter=40222, loss=0.005905567668378353\n",
      "iter=40232, loss=0.00589683698490262\n",
      "iter=40242, loss=0.0058851586654782295\n",
      "iter=40252, loss=0.005838844925165176\n",
      "iter=40262, loss=0.005818112287670374\n",
      "iter=40272, loss=0.00589750986546278\n",
      "iter=40282, loss=0.006044676061719656\n",
      "iter=40292, loss=0.005870474502444267\n",
      "iter=40302, loss=0.0057667335495352745\n",
      "iter=40312, loss=0.0056873708963394165\n",
      "iter=40322, loss=0.005732415709644556\n",
      "iter=40332, loss=0.005702056922018528\n",
      "iter=40342, loss=0.00557555491104722\n",
      "iter=40352, loss=0.005639862734824419\n",
      "iter=40362, loss=0.005565452389419079\n",
      "iter=40372, loss=0.00555041991174221\n",
      "iter=40382, loss=0.005583828315138817\n",
      "iter=40392, loss=0.005725390277802944\n",
      "iter=40402, loss=0.0055593932047486305\n",
      "iter=40412, loss=0.005668191239237785\n",
      "iter=40422, loss=0.005621626507490873\n",
      "iter=40432, loss=0.005614164285361767\n",
      "iter=40442, loss=0.005629281513392925\n",
      "iter=40452, loss=0.00574194360524416\n",
      "iter=40462, loss=0.0056538088247179985\n",
      "iter=40472, loss=0.005693905986845493\n",
      "iter=40482, loss=0.00573541596531868\n",
      "iter=40492, loss=0.006039846688508987\n",
      "iter=40502, loss=0.006063693203032017\n",
      "iter=40512, loss=0.005725387018173933\n",
      "iter=40522, loss=0.005620630457997322\n",
      "iter=40532, loss=0.005737106315791607\n",
      "iter=40542, loss=0.005866211839020252\n",
      "iter=40552, loss=0.005682091228663921\n",
      "iter=40562, loss=0.00585275050252676\n",
      "iter=40572, loss=0.005946997553110123\n",
      "iter=40582, loss=0.005869817920029163\n",
      "iter=40592, loss=0.005844234488904476\n",
      "iter=40602, loss=0.005821106024086475\n",
      "iter=40612, loss=0.0059023452922701836\n",
      "iter=40622, loss=0.005959599278867245\n",
      "iter=40632, loss=0.005936771165579557\n",
      "iter=40642, loss=0.005986456759274006\n",
      "iter=40652, loss=0.005930349230766296\n",
      "iter=40662, loss=0.005791237577795982\n",
      "iter=40672, loss=0.005919272545725107\n",
      "iter=40682, loss=0.005829081870615482\n",
      "iter=40692, loss=0.005833019968122244\n",
      "iter=40702, loss=0.005624506622552872\n",
      "iter=40712, loss=0.005645275115966797\n",
      "iter=40722, loss=0.00580335408449173\n",
      "iter=40732, loss=0.005875357426702976\n",
      "iter=40742, loss=0.00592285580933094\n",
      "iter=40752, loss=0.005820991471409798\n",
      "iter=40762, loss=0.005663023330271244\n",
      "iter=40772, loss=0.005697497166693211\n",
      "iter=40782, loss=0.005677204579114914\n",
      "iter=40792, loss=0.005641015246510506\n",
      "iter=40802, loss=0.005582114681601524\n",
      "iter=40812, loss=0.00564743485301733\n",
      "iter=40822, loss=0.005943111144006252\n",
      "iter=40832, loss=0.005760772153735161\n",
      "iter=40842, loss=0.005746746435761452\n",
      "iter=40852, loss=0.00580151192843914\n",
      "iter=40862, loss=0.005937535315752029\n",
      "iter=40872, loss=0.005894539877772331\n",
      "iter=40882, loss=0.005590551067143679\n",
      "iter=40892, loss=0.005640222690999508\n",
      "iter=40902, loss=0.00580910500138998\n",
      "iter=40912, loss=0.005719657056033611\n",
      "iter=40922, loss=0.005688559263944626\n",
      "iter=40932, loss=0.006241106893867254\n",
      "iter=40942, loss=0.006146684288978577\n",
      "iter=40952, loss=0.006036560051143169\n",
      "iter=40962, loss=0.005991521291434765\n",
      "iter=40972, loss=0.005930761341005564\n",
      "iter=40982, loss=0.005947220604866743\n",
      "iter=40992, loss=0.006078108213841915\n",
      "iter=41002, loss=0.006088137626647949\n",
      "iter=41012, loss=0.006068098358809948\n",
      "iter=41022, loss=0.006007079035043716\n",
      "iter=41032, loss=0.006105194799602032\n",
      "iter=41042, loss=0.005931817926466465\n",
      "iter=41052, loss=0.005952756851911545\n",
      "iter=41062, loss=0.005950155667960644\n",
      "iter=41072, loss=0.005845632404088974\n",
      "iter=41082, loss=0.005927545949816704\n",
      "iter=41092, loss=0.006018330343067646\n",
      "iter=41102, loss=0.005808488465845585\n",
      "iter=41112, loss=0.005929356906563044\n",
      "iter=41122, loss=0.00584821030497551\n",
      "iter=41132, loss=0.005841787438839674\n",
      "iter=41142, loss=0.005908654071390629\n",
      "iter=41152, loss=0.005985080264508724\n",
      "iter=41162, loss=0.00597837520763278\n"
     ]
    },
    {
     "name": "stdout",
     "output_type": "stream",
     "text": [
      "iter=41172, loss=0.005830809473991394\n",
      "iter=41182, loss=0.005722925066947937\n",
      "iter=41192, loss=0.0057518864050507545\n",
      "iter=41202, loss=0.005713679827749729\n",
      "iter=41212, loss=0.00646955706179142\n",
      "iter=41222, loss=0.006836123764514923\n",
      "iter=41232, loss=0.006312662735581398\n",
      "iter=41242, loss=0.006349213887006044\n",
      "iter=41252, loss=0.006139333359897137\n",
      "iter=41262, loss=0.006087142508476973\n",
      "iter=41272, loss=0.006116811186075211\n",
      "iter=41282, loss=0.006132159382104874\n",
      "iter=41292, loss=0.006309079006314278\n",
      "iter=41302, loss=0.006276481784880161\n",
      "iter=41312, loss=0.006262781098484993\n",
      "iter=41322, loss=0.0061576394364237785\n",
      "iter=41332, loss=0.005919783376157284\n",
      "iter=41342, loss=0.0059692393988370895\n",
      "iter=41352, loss=0.0058343117125332355\n",
      "iter=41362, loss=0.005894322879612446\n",
      "iter=41372, loss=0.005851055029779673\n",
      "iter=41382, loss=0.005761974025517702\n",
      "iter=41392, loss=0.005658669862896204\n",
      "iter=41402, loss=0.005715962033718824\n",
      "iter=41412, loss=0.005788231268525124\n",
      "iter=41422, loss=0.0057258810847997665\n",
      "iter=41432, loss=0.005761950742453337\n",
      "iter=41442, loss=0.005838216282427311\n",
      "iter=41452, loss=0.005845061503350735\n",
      "iter=41462, loss=0.005817750468850136\n",
      "iter=41472, loss=0.005874332971870899\n",
      "iter=41482, loss=0.0059059737250208855\n",
      "iter=41492, loss=0.005773767828941345\n",
      "iter=41502, loss=0.005704089067876339\n",
      "iter=41512, loss=0.00580411683768034\n",
      "iter=41522, loss=0.006009431555867195\n",
      "iter=41532, loss=0.006007674150168896\n",
      "iter=41542, loss=0.005843593738973141\n",
      "iter=41552, loss=0.005914905108511448\n",
      "iter=41562, loss=0.0059217242524027824\n",
      "iter=41572, loss=0.00582633912563324\n",
      "iter=41582, loss=0.005935649387538433\n",
      "iter=41592, loss=0.0059137968346476555\n",
      "iter=41602, loss=0.005879516247659922\n",
      "iter=41612, loss=0.005656645633280277\n",
      "iter=41622, loss=0.005804233718663454\n",
      "iter=41632, loss=0.005836859345436096\n",
      "iter=41642, loss=0.005985786207020283\n",
      "iter=41652, loss=0.005856878124177456\n",
      "iter=41662, loss=0.005713684484362602\n",
      "iter=41672, loss=0.005679442081600428\n",
      "iter=41682, loss=0.005738277919590473\n",
      "iter=41692, loss=0.005749295931309462\n",
      "iter=41702, loss=0.00557885505259037\n",
      "iter=41712, loss=0.005506700836122036\n",
      "iter=41722, loss=0.0057580373249948025\n",
      "iter=41732, loss=0.005883949343115091\n",
      "iter=41742, loss=0.005789164919406176\n",
      "iter=41752, loss=0.005793399177491665\n",
      "iter=41762, loss=0.005854989401996136\n",
      "iter=41772, loss=0.00613672100007534\n",
      "iter=41782, loss=0.005812166258692741\n",
      "iter=41792, loss=0.005725895054638386\n",
      "iter=41802, loss=0.005788411013782024\n",
      "iter=41812, loss=0.0058213528245687485\n",
      "iter=41822, loss=0.005956028122454882\n",
      "iter=41832, loss=0.005772041156888008\n"
     ]
    }
   ],
   "source": [
    "# Train the network\n",
    "for i in range(0, maximum_steps):\n",
    "    if i%10 == 0:\n",
    "        y_arr, x_true_arr = generate_data_CT()\n",
    "\n",
    "    _, merged_summary_result_train, global_step_result = sess.run([optimizer, merged_summary, global_step],\n",
    "                              feed_dict={x_true: x_true_arr,\n",
    "                                         y_rt: y_arr,\n",
    "                                         is_training: True})\n",
    "    \n",
    "    if i>0 and i%10 == 0:\n",
    "        loss_result, merged_summary_result, global_step_result = sess.run([loss, merged_summary, global_step],\n",
    "                              feed_dict={x_true: x_true_arr_validate,\n",
    "                                         y_rt: y_arr_validate,\n",
    "                                         is_training: False})\n",
    "\n",
    "        train_summary_writer.add_summary(merged_summary_result_train, global_step_result)\n",
    "        test_summary_writer.add_summary(merged_summary_result, global_step_result)\n",
    "\n",
    "        print('iter={}, loss={}'.format(global_step_result, loss_result))\n",
    "\n",
    "    if i>0 and i%1000 == 0:\n",
    "        saver.save(sess,\n",
    "                   adler.tensorflow.util.default_checkpoint_path(ckp_name))"
   ]
  },
  {
   "cell_type": "code",
   "execution_count": null,
   "metadata": {},
   "outputs": [],
   "source": []
  }
 ],
 "metadata": {
  "@webio": {
   "lastCommId": null,
   "lastKernelId": null
  },
  "kernelspec": {
   "display_name": "Python 3 (ipykernel)",
   "language": "python",
   "name": "python3"
  },
  "language_info": {
   "codemirror_mode": {
    "name": "ipython",
    "version": 3
   },
   "file_extension": ".py",
   "mimetype": "text/x-python",
   "name": "python",
   "nbconvert_exporter": "python",
   "pygments_lexer": "ipython3",
   "version": "3.8.12"
  }
 },
 "nbformat": 4,
 "nbformat_minor": 2
}
